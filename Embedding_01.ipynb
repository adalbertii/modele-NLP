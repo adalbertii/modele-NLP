{
  "nbformat": 4,
  "nbformat_minor": 0,
  "metadata": {
    "colab": {
      "provenance": [],
      "mount_file_id": "https://github.com/adalbertii/modele-NLP/blob/main/Embedding_01.ipynb",
      "authorship_tag": "ABX9TyNzWvv4JBIYmmUmL+O7htVQ",
      "include_colab_link": true
    },
    "kernelspec": {
      "name": "python3",
      "display_name": "Python 3"
    },
    "language_info": {
      "name": "python"
    }
  },
  "cells": [
    {
      "cell_type": "markdown",
      "metadata": {
        "id": "view-in-github",
        "colab_type": "text"
      },
      "source": [
        "<a href=\"https://colab.research.google.com/github/adalbertii/modele-NLP/blob/main/Embedding_01.ipynb\" target=\"_parent\"><img src=\"https://colab.research.google.com/assets/colab-badge.svg\" alt=\"Open In Colab\"/></a>"
      ]
    },
    {
      "cell_type": "code",
      "execution_count": 53,
      "metadata": {
        "id": "3D8Zm0MLH15R"
      },
      "outputs": [],
      "source": [
        "from tensorflow.keras.models import Sequential\n",
        "from tensorflow.keras.layers import Embedding\n",
        "import numpy as np"
      ]
    },
    {
      "cell_type": "markdown",
      "source": [
        "**Budowanie warstwy Embedding dla słownika składającego się z 10 cyfr**\n",
        "\n",
        "Bez procesu uczenia"
      ],
      "metadata": {
        "id": "mz06_Mqv_t_N"
      }
    },
    {
      "cell_type": "code",
      "source": [
        "# utworzenie prostego modelu z warstwą Embedding\n",
        "model = Sequential()\n",
        "embedding_layer = Embedding(input_dim=10,output_dim=4,input_length=2)\n",
        "model.add(embedding_layer)\n",
        "model.compile('adam','mse')\n",
        "\n",
        "# input_dim - rozmiar słownika\n",
        "# output_dim - długość wektora dla  każdego słowa\n",
        "# input_length - maksymalna długość sekwencji\n",
        "\n",
        "# W powyższym przykładzie ustawiamy 10 jako rozmiar słownictwa, ponieważ będziemy kodować liczby od 0 do 9.\n",
        "# Chcemy, aby długość wektora słów wynosiła 4, stąd output_dim jest ustawione na 4.\n",
        "# Długość sekwencji wejściowej do warstwy osadzania będzie wynosić 2 (będziemy podawać na wejściu sieci dwie cyfry)"
      ],
      "metadata": {
        "id": "POU5qXfQIKfF"
      },
      "execution_count": 54,
      "outputs": []
    },
    {
      "cell_type": "code",
      "source": [
        "model.summary()"
      ],
      "metadata": {
        "colab": {
          "base_uri": "https://localhost:8080/"
        },
        "id": "05FrbPgKAK1-",
        "outputId": "1e75e3b1-3e6c-4b35-98b3-37dc383133cf"
      },
      "execution_count": 55,
      "outputs": [
        {
          "output_type": "stream",
          "name": "stdout",
          "text": [
            "Model: \"sequential_7\"\n",
            "_________________________________________________________________\n",
            " Layer (type)                Output Shape              Param #   \n",
            "=================================================================\n",
            " embedding_2 (Embedding)     (None, 2, 4)              40        \n",
            "                                                                 \n",
            "=================================================================\n",
            "Total params: 40 (160.00 Byte)\n",
            "Trainable params: 40 (160.00 Byte)\n",
            "Non-trainable params: 0 (0.00 Byte)\n",
            "_________________________________________________________________\n"
          ]
        }
      ]
    },
    {
      "cell_type": "code",
      "source": [
        "# wydruk wspólczynników wagowych warstwy Embedding\n",
        "# Poniewaćż nie inicjujemy procesu uczenia wartości wag są losowe\n",
        "\n",
        "print(model.weights)"
      ],
      "metadata": {
        "colab": {
          "base_uri": "https://localhost:8080/"
        },
        "id": "YJlcJUGRAUXQ",
        "outputId": "26143e10-db2a-4364-e38b-7b08999bf5af"
      },
      "execution_count": 56,
      "outputs": [
        {
          "output_type": "stream",
          "name": "stdout",
          "text": [
            "[<tf.Variable 'embedding_2/embeddings:0' shape=(10, 4) dtype=float32, numpy=\n",
            "array([[ 0.0070874 ,  0.01542639, -0.02990096, -0.00173855],\n",
            "       [ 0.03871619,  0.02744397, -0.00228531, -0.01004197],\n",
            "       [-0.04073387,  0.04737893, -0.02221308,  0.03183004],\n",
            "       [ 0.01618054, -0.0470539 ,  0.02320994, -0.01348228],\n",
            "       [ 0.0445953 ,  0.00771563,  0.01308477, -0.04099916],\n",
            "       [ 0.01475361,  0.02525814, -0.01983148, -0.02798603],\n",
            "       [-0.01811845,  0.01470834,  0.00140035, -0.04337794],\n",
            "       [ 0.04006534,  0.01242418,  0.03421808, -0.01974478],\n",
            "       [ 0.00072106,  0.03471018, -0.01679941, -0.00634446],\n",
            "       [-0.04031066,  0.01384619,  0.0187091 ,  0.01152953]],\n",
            "      dtype=float32)>]\n"
          ]
        }
      ]
    },
    {
      "cell_type": "markdown",
      "source": [
        "Te wagi są reprezentacjami wektorowymi słów w słownictwie.\n",
        "Tabela wag o rozmiarze 10 x 4, dla słów od 0 do 9.\n"
      ],
      "metadata": {
        "id": "I-AX-B2SEHm5"
      }
    },
    {
      "cell_type": "code",
      "source": [
        "# Teraz przekażmy przykładowe dane wejściowe do  modelu i zobaczmy wyniki.\n",
        "input_data = np.array([[1,2]])\n",
        "pred = model.predict(input_data)\n",
        "print(\"-----------------------------------------------------------------\")\n",
        "print(\"Dane wejściowe modelu:\", input_data.shape)\n",
        "\n",
        "print(\"-----------------------------------------------------------------\")\n",
        "print(\"\")\n",
        "print(\"Wartości wag warstwy Embedding dla podanych na wejsciu danych:\")\n",
        "print(pred)"
      ],
      "metadata": {
        "colab": {
          "base_uri": "https://localhost:8080/"
        },
        "id": "Dy4pcRPlJXEA",
        "outputId": "13b0bfbe-35f9-4f9a-e350-2118298d39c6"
      },
      "execution_count": 57,
      "outputs": [
        {
          "output_type": "stream",
          "name": "stdout",
          "text": [
            "1/1 [==============================] - 0s 243ms/step\n",
            "-----------------------------------------------------------------\n",
            "Dane wejściowe modelu: (1, 2)\n",
            "-----------------------------------------------------------------\n",
            "\n",
            "Wartości wag warstwy Embedding dla podanych na wejsciu danych:\n",
            "[[[ 0.03871619  0.02744397 -0.00228531 -0.01004197]\n",
            "  [-0.04073387  0.04737893 -0.02221308  0.03183004]]]\n"
          ]
        }
      ]
    },
    {
      "cell_type": "markdown",
      "source": [
        "Jak widać, każde słowo (1 i 2) jest reprezentowane przez wektor o długości 4."
      ],
      "metadata": {
        "id": "40b5QDksJuXB"
      }
    },
    {
      "cell_type": "markdown",
      "source": [
        "W tym przykładzie nie wytrenowaliśmy warstwy osadzania. Wagi przypisane do wektorów słów są inicjowane losowo."
      ],
      "metadata": {
        "id": "iiYcMjV0K2U2"
      }
    },
    {
      "cell_type": "markdown",
      "source": [
        "**Klasyfikacja recenzji restauracji**\n",
        "\n",
        "\n",
        "Tok działań:    \n",
        "*   Tokenizacja zdań na słowa.\n",
        "*   Utwórzenie zakodowanego wektor \"one-hot\" dla każdego słowa.\n",
        "*   Użycie funkcji \"Padding\", w celu ujednolicenia rozmiaru sekekwencji wejściowej modelu (upewnienia się, że wszystkie sekwencje mają tę samą długość).\n",
        "*   Przekazanie wypełnionych sekwencji jako danych wejściowwych do warstwy Embedding.\n",
        "*   Spłaszczennie danych do wktora i zastostosowanie  warstwę Dense, aby przewidywać etykietę\n",
        "\n",
        "    \n",
        "    "
      ],
      "metadata": {
        "id": "OZAUMIRlVF3O"
      }
    },
    {
      "cell_type": "code",
      "source": [
        "from numpy import array\n",
        "from tensorflow.keras.preprocessing.text import one_hot\n",
        "from tensorflow.keras.preprocessing.sequence import pad_sequences\n",
        "from tensorflow.keras.models import Sequential\n",
        "from tensorflow.keras.layers import Flatten,Embedding,Dense"
      ],
      "metadata": {
        "id": "SGtqray1K1fP"
      },
      "execution_count": 58,
      "outputs": []
    },
    {
      "cell_type": "markdown",
      "source": [
        "Aby to uprościć, użyjemy łącznie tylko  10 przykładowych, prostych  recenzji. Połowa z nich jest pozytywna, reprezentowana przez 0, a druga połowa jest negatywna, reprezentowana przez 1."
      ],
      "metadata": {
        "id": "pEjyX81-WjuG"
      }
    },
    {
      "cell_type": "code",
      "source": [
        "#definicja 10 recencji\n",
        "reviews =[\n",
        "          'Never coming back!',\n",
        "          'horrible service',\n",
        "          'rude waitress',\n",
        "          'cold food',\n",
        "          'horrible food!',\n",
        "          'awesome',\n",
        "          'awesome services!',\n",
        "          'rocks',\n",
        "          'poor work',\n",
        "          'couldn\\'t have done better'\n",
        "]\n",
        "\n",
        "#definicja etykiet (1-negatywane, 0-pozytywna)\n",
        "labels = array([1,1,1,1,1,0,0,0,0,0])"
      ],
      "metadata": {
        "id": "OiQT-Ga8WaZi"
      },
      "execution_count": 59,
      "outputs": []
    },
    {
      "cell_type": "markdown",
      "source": [
        "Przyjmiemy rozmiar słownictwa jako 50 i zakodujemy słowa za pomocą funkcji \"one_hot\" z Keras."
      ],
      "metadata": {
        "id": "y9ViQAMNu_0b"
      }
    },
    {
      "cell_type": "code",
      "source": [
        "Vocab_size = 50\n",
        "encoded_reviews = [one_hot(d,Vocab_size) for d in reviews]\n",
        "print(f'encoded reviews: {encoded_reviews}')"
      ],
      "metadata": {
        "colab": {
          "base_uri": "https://localhost:8080/"
        },
        "id": "Up1N-FAjW2em",
        "outputId": "7038a3c4-ec7d-4fcb-b982-371c47780bf2"
      },
      "execution_count": 60,
      "outputs": [
        {
          "output_type": "stream",
          "name": "stdout",
          "text": [
            "encoded reviews: [[36, 48, 19], [36, 48], [8, 4], [40, 49], [36, 49], [12], [12, 9], [48], [17, 45], [10, 28, 7, 10]]\n"
          ]
        }
      ]
    },
    {
      "cell_type": "markdown",
      "source": [
        "Widać, że długość każdej zakodowanej recenzji jest równa liczbie słów w tej recenzji. Keras one_hot  konwertuje każde słowo na zakodowany indeks one-hot.\n",
        "\n",
        "Teraz musimy zastosować \"padding\", aby wszystkie zakodowane recenzje miały tę samą długość.\n",
        "\n",
        "Zdefiniujmy 4 jako maksymalną długość i wypełnijmy zakodowane wektory zerami na końcu."
      ],
      "metadata": {
        "id": "KlAF6u8JvnEZ"
      }
    },
    {
      "cell_type": "code",
      "source": [
        "max_length = 4\n",
        "padded_reviews = pad_sequences(encoded_reviews,maxlen=max_length,padding='post')\n",
        "print(padded_reviews)\n",
        "\n",
        "#Wypełnione i zakodowane recenzje będą wyglądać następująco:"
      ],
      "metadata": {
        "colab": {
          "base_uri": "https://localhost:8080/"
        },
        "id": "eCsGqQn7v0Ug",
        "outputId": "ed5cbe64-9fba-4844-fbe8-414df974eb31"
      },
      "execution_count": 61,
      "outputs": [
        {
          "output_type": "stream",
          "name": "stdout",
          "text": [
            "[[36 48 19  0]\n",
            " [36 48  0  0]\n",
            " [ 8  4  0  0]\n",
            " [40 49  0  0]\n",
            " [36 49  0  0]\n",
            " [12  0  0  0]\n",
            " [12  9  0  0]\n",
            " [48  0  0  0]\n",
            " [17 45  0  0]\n",
            " [10 28  7 10]]\n"
          ]
        }
      ]
    },
    {
      "cell_type": "markdown",
      "source": [
        "Po utworzeniu ujednoliconej pod względem rozmiaru, zakodowanje  reprezentacji recenzji, jesteśmy gotowi do przekazania jej jako danych wejściowych do warstwy osadzania.\n",
        "\n",
        "W poniższym fragmencie kodu tworzymy prosty model Keras.\n",
        "\n",
        "Ustalimy arbitralnie długość osadzonych wektorów dla każdego słowa na 8, a długość wejściowa będzie maksymalną długością, którą już zdefiniowaliśmy jako 4."
      ],
      "metadata": {
        "id": "tORfLAZlwWjJ"
      }
    },
    {
      "cell_type": "code",
      "source": [
        "embedding_layer = Embedding(input_dim=Vocab_size,output_dim=8,input_length=max_length, name=\"wmi-embedding\")"
      ],
      "metadata": {
        "id": "ZMpvLiokGPWc"
      },
      "execution_count": 84,
      "outputs": []
    },
    {
      "cell_type": "code",
      "source": [
        "model = Sequential()\n",
        "model.add(embedding_layer)\n",
        "model.add(Flatten())\n",
        "model.add(Dense(1,activation='sigmoid'))\n",
        "model.compile(optimizer='adam',loss='binary_crossentropy',metrics=['accuracy'])"
      ],
      "metadata": {
        "id": "12Tn92XCwlM3"
      },
      "execution_count": 85,
      "outputs": []
    },
    {
      "cell_type": "code",
      "source": [
        "print(model.summary())"
      ],
      "metadata": {
        "colab": {
          "base_uri": "https://localhost:8080/"
        },
        "id": "NcIRcE_swypf",
        "outputId": "b54f8a1e-7e5a-40b7-ef5a-35e4e722418f"
      },
      "execution_count": 86,
      "outputs": [
        {
          "output_type": "stream",
          "name": "stdout",
          "text": [
            "Model: \"sequential_10\"\n",
            "_________________________________________________________________\n",
            " Layer (type)                Output Shape              Param #   \n",
            "=================================================================\n",
            " wmi-embedding (Embedding)   (None, 4, 8)              400       \n",
            "                                                                 \n",
            " flatten_8 (Flatten)         (None, 32)                0         \n",
            "                                                                 \n",
            " dense_8 (Dense)             (None, 1)                 33        \n",
            "                                                                 \n",
            "=================================================================\n",
            "Total params: 433 (1.69 KB)\n",
            "Trainable params: 433 (1.69 KB)\n",
            "Non-trainable params: 0 (0.00 Byte)\n",
            "_________________________________________________________________\n",
            "None\n"
          ]
        }
      ]
    },
    {
      "cell_type": "code",
      "source": [
        "# współczynniki wagowe przed procesem uczenia\n",
        "\n",
        "weights = model.get_layer('wmi-embedding').get_weights()[0]\n",
        "weights"
      ],
      "metadata": {
        "id": "C_v6bD0Uk7kQ",
        "outputId": "65c92c04-de43-4f8d-d3c0-db01ee01aff4",
        "colab": {
          "base_uri": "https://localhost:8080/"
        }
      },
      "execution_count": 87,
      "outputs": [
        {
          "output_type": "execute_result",
          "data": {
            "text/plain": [
              "array([[ 0.00358281, -0.03014585, -0.03511206, -0.04963252,  0.04356351,\n",
              "        -0.03387401,  0.01025762, -0.04581777],\n",
              "       [ 0.0417138 ,  0.01123955, -0.01737588, -0.03280519,  0.04588029,\n",
              "        -0.00351821,  0.03554149,  0.04691703],\n",
              "       [-0.0214067 ,  0.01541693,  0.03646597,  0.03071595,  0.04026718,\n",
              "        -0.04059844,  0.00501544,  0.00899556],\n",
              "       [-0.01651039, -0.03761987,  0.00359764,  0.02344361, -0.02609607,\n",
              "        -0.0022776 ,  0.00073147,  0.03229395],\n",
              "       [-0.00483123,  0.01679428,  0.01294551,  0.02385231, -0.04411525,\n",
              "         0.03806443, -0.03634312, -0.01387234],\n",
              "       [ 0.02511512, -0.04346913,  0.04522497,  0.04209776,  0.04661024,\n",
              "         0.01686683,  0.01317214, -0.01263122],\n",
              "       [ 0.04619172, -0.01010969,  0.01751605,  0.04461259, -0.03740158,\n",
              "         0.00170625, -0.01517193, -0.00234194],\n",
              "       [-0.0399608 ,  0.01731069,  0.01192365,  0.00116571, -0.00273571,\n",
              "         0.04260765, -0.04947268,  0.04886539],\n",
              "       [ 0.04154228, -0.00769194, -0.038898  , -0.04353614,  0.03322131,\n",
              "        -0.02707372, -0.02689747, -0.01975407],\n",
              "       [-0.00854373, -0.04868351, -0.03845867,  0.03009943,  0.03683431,\n",
              "         0.00700323, -0.00198979, -0.01455899],\n",
              "       [-0.04435877, -0.03438444, -0.03735601, -0.01797976, -0.04173224,\n",
              "        -0.01965116, -0.00818538, -0.02018235],\n",
              "       [-0.04746998,  0.03644918,  0.00083857,  0.00645431,  0.01682616,\n",
              "        -0.02979279,  0.04457123,  0.01072884],\n",
              "       [-0.00650983, -0.04024816,  0.02874647,  0.04955217,  0.01625642,\n",
              "         0.0369444 , -0.01766554, -0.00851554],\n",
              "       [-0.03593181, -0.01130981,  0.04489938, -0.03323048, -0.02006687,\n",
              "         0.04268862,  0.04959155,  0.04820672],\n",
              "       [ 0.04180643,  0.03403529,  0.0406737 , -0.0469721 ,  0.01784346,\n",
              "         0.04060204, -0.03399515, -0.04946821],\n",
              "       [ 0.01149415,  0.00987837,  0.00874178, -0.03886107, -0.00031953,\n",
              "         0.01974476, -0.02063645, -0.03295349],\n",
              "       [ 0.01344017, -0.03595494, -0.01594102, -0.00250987,  0.0323766 ,\n",
              "         0.00170188,  0.01889194, -0.03836422],\n",
              "       [ 0.02587885, -0.01355953,  0.01280059, -0.00900712, -0.04899351,\n",
              "         0.04415417,  0.00666738,  0.02954179],\n",
              "       [-0.01285386, -0.00148729, -0.03160236, -0.04067229,  0.04228127,\n",
              "         0.03329643,  0.03802926,  0.0251431 ],\n",
              "       [-0.01872165, -0.04509891, -0.00603216, -0.02630042,  0.01318462,\n",
              "        -0.00795555,  0.02907325, -0.04196689],\n",
              "       [ 0.02387257, -0.02256064, -0.03488032,  0.03414452, -0.009734  ,\n",
              "         0.02201276, -0.0442795 ,  0.01869908],\n",
              "       [ 0.00539066, -0.04152016,  0.01152094, -0.031982  ,  0.04497993,\n",
              "        -0.03394767, -0.00522209, -0.03587287],\n",
              "       [-0.01730373,  0.03772701,  0.03388553,  0.03249661,  0.03506278,\n",
              "         0.03633453, -0.03295403,  0.03155235],\n",
              "       [-0.03910754, -0.04426333, -0.00133254, -0.03982911, -0.02335916,\n",
              "         0.00583794,  0.04695835, -0.03580978],\n",
              "       [-0.04133672, -0.02833449, -0.00755346,  0.01706839, -0.03530669,\n",
              "        -0.00727659,  0.01382175, -0.00072123],\n",
              "       [ 0.0331751 , -0.02013962, -0.01901075,  0.00839491,  0.03954889,\n",
              "         0.01040652, -0.02396956,  0.02824736],\n",
              "       [ 0.04700271, -0.02727211,  0.03834942, -0.03529322,  0.0334011 ,\n",
              "         0.04079354, -0.00945522, -0.03714986],\n",
              "       [ 0.04631914, -0.0229437 , -0.03276684,  0.02824159, -0.03878497,\n",
              "         0.03556422,  0.03599409,  0.00479618],\n",
              "       [-0.01959373, -0.036499  ,  0.03704578, -0.03539001, -0.00772369,\n",
              "         0.01489501,  0.04587981, -0.03410902],\n",
              "       [ 0.02001217, -0.03231958,  0.01276525,  0.0455601 ,  0.04897534,\n",
              "         0.04320976,  0.02828479, -0.00080623],\n",
              "       [ 0.03236183, -0.02965977,  0.02950435,  0.0390255 ,  0.01641122,\n",
              "        -0.01958578,  0.00106206,  0.02179028],\n",
              "       [-0.04725204, -0.00264578, -0.004206  ,  0.00360373,  0.03238459,\n",
              "         0.02904801,  0.00610666,  0.04164866],\n",
              "       [ 0.04839449,  0.02490368,  0.04910758,  0.0301661 , -0.03329904,\n",
              "        -0.03585305,  0.00913893,  0.01176207],\n",
              "       [-0.00864602, -0.02694166,  0.00089204, -0.04907783,  0.01045134,\n",
              "         0.00271082,  0.03965762,  0.0393624 ],\n",
              "       [ 0.0415904 , -0.0232736 , -0.04839488, -0.03202375,  0.01985189,\n",
              "        -0.0236856 , -0.00192776,  0.0202088 ],\n",
              "       [ 0.04755516, -0.01716973,  0.04808993,  0.03585878,  0.01072848,\n",
              "        -0.03659863,  0.00244738,  0.03831022],\n",
              "       [ 0.00023649,  0.02247832, -0.00213198, -0.00586269,  0.02709298,\n",
              "         0.01232445, -0.04690555,  0.02385155],\n",
              "       [ 0.0491805 ,  0.04019529, -0.02673994,  0.01408413, -0.02017387,\n",
              "         0.02531941,  0.00289746, -0.0249666 ],\n",
              "       [-0.0447353 , -0.02457541, -0.03035526,  0.03708911, -0.03759481,\n",
              "        -0.01506096,  0.01424492, -0.01585488],\n",
              "       [-0.01608364, -0.01826445,  0.01939673, -0.02802895,  0.01420664,\n",
              "         0.01278117, -0.0163232 ,  0.04803038],\n",
              "       [-0.0383338 ,  0.01311431,  0.02681429,  0.02449639, -0.02335919,\n",
              "        -0.04642956,  0.04716745, -0.01225808],\n",
              "       [-0.01484217,  0.02408764,  0.04808568, -0.02787167,  0.04679694,\n",
              "        -0.034781  , -0.03203497,  0.03121975],\n",
              "       [ 0.02034923,  0.01528505,  0.00730048,  0.04970083, -0.02645012,\n",
              "        -0.00772461,  0.01960563, -0.01929327],\n",
              "       [ 0.01490483,  0.00096991,  0.00728571, -0.03555015, -0.02836508,\n",
              "         0.03974027, -0.02265433,  0.04692625],\n",
              "       [ 0.01362726,  0.02872575, -0.01150481,  0.01179345,  0.02783098,\n",
              "         0.02484847,  0.01471675,  0.03234819],\n",
              "       [-0.03018825,  0.03100762,  0.00858798, -0.02258688,  0.04418883,\n",
              "         0.0430303 , -0.04681766,  0.02684201],\n",
              "       [ 0.03901407,  0.00550356,  0.01980585,  0.03604582,  0.04425044,\n",
              "        -0.00767819,  0.02179832,  0.02028738],\n",
              "       [-0.00413924,  0.02691081,  0.00806878,  0.04351132,  0.03917971,\n",
              "         0.02843353,  0.03196031,  0.04901279],\n",
              "       [-0.00092219,  0.04998625,  0.03462898,  0.01623115,  0.02368578,\n",
              "        -0.01787614, -0.01850203,  0.0218018 ],\n",
              "       [ 0.02148985, -0.02574732,  0.01094328, -0.00047074,  0.01202668,\n",
              "        -0.04926306,  0.03286782, -0.00962424]], dtype=float32)"
            ]
          },
          "metadata": {},
          "execution_count": 87
        }
      ]
    },
    {
      "cell_type": "code",
      "source": [
        "em_before = embedding_layer.get_weights()[0][0]"
      ],
      "metadata": {
        "id": "seVudGrGl_mt"
      },
      "execution_count": 88,
      "outputs": []
    },
    {
      "cell_type": "markdown",
      "source": [
        "**Proces uczenia zdefiniowanego modelu**"
      ],
      "metadata": {
        "id": "PL6nM8R5w6PI"
      }
    },
    {
      "cell_type": "code",
      "source": [
        "history = model.fit(padded_reviews,labels,epochs=30,verbose=1)"
      ],
      "metadata": {
        "colab": {
          "base_uri": "https://localhost:8080/"
        },
        "id": "n8foLJOqw_Ez",
        "outputId": "eaf8da60-2f6d-4bed-8f25-24c10f2bd4af"
      },
      "execution_count": 89,
      "outputs": [
        {
          "output_type": "stream",
          "name": "stdout",
          "text": [
            "Epoch 1/30\n",
            "1/1 [==============================] - 1s 648ms/step - loss: 0.6979 - accuracy: 0.3000\n",
            "Epoch 2/30\n",
            "1/1 [==============================] - 0s 15ms/step - loss: 0.6957 - accuracy: 0.3000\n",
            "Epoch 3/30\n",
            "1/1 [==============================] - 0s 12ms/step - loss: 0.6936 - accuracy: 0.4000\n",
            "Epoch 4/30\n",
            "1/1 [==============================] - 0s 12ms/step - loss: 0.6915 - accuracy: 0.5000\n",
            "Epoch 5/30\n",
            "1/1 [==============================] - 0s 16ms/step - loss: 0.6895 - accuracy: 0.6000\n",
            "Epoch 6/30\n",
            "1/1 [==============================] - 0s 18ms/step - loss: 0.6874 - accuracy: 0.7000\n",
            "Epoch 7/30\n",
            "1/1 [==============================] - 0s 16ms/step - loss: 0.6853 - accuracy: 0.8000\n",
            "Epoch 8/30\n",
            "1/1 [==============================] - 0s 12ms/step - loss: 0.6832 - accuracy: 0.9000\n",
            "Epoch 9/30\n",
            "1/1 [==============================] - 0s 12ms/step - loss: 0.6812 - accuracy: 0.9000\n",
            "Epoch 10/30\n",
            "1/1 [==============================] - 0s 12ms/step - loss: 0.6791 - accuracy: 0.9000\n",
            "Epoch 11/30\n",
            "1/1 [==============================] - 0s 12ms/step - loss: 0.6771 - accuracy: 0.9000\n",
            "Epoch 12/30\n",
            "1/1 [==============================] - 0s 14ms/step - loss: 0.6750 - accuracy: 1.0000\n",
            "Epoch 13/30\n",
            "1/1 [==============================] - 0s 12ms/step - loss: 0.6730 - accuracy: 1.0000\n",
            "Epoch 14/30\n",
            "1/1 [==============================] - 0s 16ms/step - loss: 0.6709 - accuracy: 1.0000\n",
            "Epoch 15/30\n",
            "1/1 [==============================] - 0s 18ms/step - loss: 0.6689 - accuracy: 1.0000\n",
            "Epoch 16/30\n",
            "1/1 [==============================] - 0s 20ms/step - loss: 0.6668 - accuracy: 1.0000\n",
            "Epoch 17/30\n",
            "1/1 [==============================] - 0s 17ms/step - loss: 0.6648 - accuracy: 1.0000\n",
            "Epoch 18/30\n",
            "1/1 [==============================] - 0s 14ms/step - loss: 0.6627 - accuracy: 1.0000\n",
            "Epoch 19/30\n",
            "1/1 [==============================] - 0s 13ms/step - loss: 0.6606 - accuracy: 1.0000\n",
            "Epoch 20/30\n",
            "1/1 [==============================] - 0s 12ms/step - loss: 0.6586 - accuracy: 1.0000\n",
            "Epoch 21/30\n",
            "1/1 [==============================] - 0s 12ms/step - loss: 0.6565 - accuracy: 1.0000\n",
            "Epoch 22/30\n",
            "1/1 [==============================] - 0s 13ms/step - loss: 0.6544 - accuracy: 1.0000\n",
            "Epoch 23/30\n",
            "1/1 [==============================] - 0s 16ms/step - loss: 0.6523 - accuracy: 1.0000\n",
            "Epoch 24/30\n",
            "1/1 [==============================] - 0s 12ms/step - loss: 0.6502 - accuracy: 1.0000\n",
            "Epoch 25/30\n",
            "1/1 [==============================] - 0s 13ms/step - loss: 0.6481 - accuracy: 1.0000\n",
            "Epoch 26/30\n",
            "1/1 [==============================] - 0s 12ms/step - loss: 0.6460 - accuracy: 1.0000\n",
            "Epoch 27/30\n",
            "1/1 [==============================] - 0s 11ms/step - loss: 0.6439 - accuracy: 1.0000\n",
            "Epoch 28/30\n",
            "1/1 [==============================] - 0s 12ms/step - loss: 0.6417 - accuracy: 1.0000\n",
            "Epoch 29/30\n",
            "1/1 [==============================] - 0s 11ms/step - loss: 0.6396 - accuracy: 1.0000\n",
            "Epoch 30/30\n",
            "1/1 [==============================] - 0s 12ms/step - loss: 0.6374 - accuracy: 1.0000\n"
          ]
        }
      ]
    },
    {
      "cell_type": "code",
      "source": [
        "import matplotlib.pyplot as plt\n",
        "%matplotlib inline\n",
        "\n",
        "plt.plot(history.history['accuracy'])\n",
        "\n",
        "plt.title('Model accuracy')\n",
        "plt.ylabel('Accuracy')\n",
        "plt.xlabel('Epoch')\n",
        "plt.legend(['Train', 'Validation'], loc='upper left')\n",
        "plt.show()"
      ],
      "metadata": {
        "id": "EsYE9GIhertO",
        "outputId": "9ec04c7b-9a45-4cb1-f2c8-2ebba2aa253a",
        "colab": {
          "base_uri": "https://localhost:8080/",
          "height": 472
        }
      },
      "execution_count": 90,
      "outputs": [
        {
          "output_type": "display_data",
          "data": {
            "text/plain": [
              "<Figure size 640x480 with 1 Axes>"
            ],
            "image/png": "[encoded data removed]"
          },
          "metadata": {}
        }
      ]
    },
    {
      "cell_type": "markdown",
      "source": [
        "Po zakończeniu treningu warstwa osadzania nauczyła się wag, które są niczym innym jak reprezentacjami wektorowymi każdego słowa. Sprawdźmy kształt macierzy wag."
      ],
      "metadata": {
        "id": "iqvL6jc9xJTg"
      }
    },
    {
      "cell_type": "code",
      "source": [
        "print(embedding_layer.get_weights()[0].shape)"
      ],
      "metadata": {
        "colab": {
          "base_uri": "https://localhost:8080/"
        },
        "id": "RI_6y1jVxOU0",
        "outputId": "03929563-ae6f-4493-edeb-8a3d2ebcb804"
      },
      "execution_count": 91,
      "outputs": [
        {
          "output_type": "stream",
          "name": "stdout",
          "text": [
            "(50, 8)\n"
          ]
        }
      ]
    },
    {
      "cell_type": "code",
      "source": [
        "# Jeśli sprawdzimy osadzenie dla pierwszego słowa, otrzymamy następujący wektor.\n",
        "em_after = embedding_layer.get_weights()[0][0]\n"
      ],
      "metadata": {
        "id": "TLvMro9ExWI7"
      },
      "execution_count": 92,
      "outputs": []
    },
    {
      "cell_type": "code",
      "source": [
        "# współczynniki wagowe po procesie uczenia\n",
        "weights = model.get_layer('wmi-embedding').get_weights()[0]\n",
        "weights"
      ],
      "metadata": {
        "colab": {
          "base_uri": "https://localhost:8080/"
        },
        "id": "PgY1F_1lYjYG",
        "outputId": "c25e6b58-31ce-44c3-d1ac-251a28c505bd"
      },
      "execution_count": 93,
      "outputs": [
        {
          "output_type": "execute_result",
          "data": {
            "text/plain": [
              "array([[-1.41706038e-03, -2.24239193e-04, -5.13517391e-03,\n",
              "        -7.96323642e-02,  7.38082454e-02, -6.39319345e-02,\n",
              "         4.04599383e-02, -1.63888410e-02],\n",
              "       [ 4.17138003e-02,  1.12395510e-02, -1.73758753e-02,\n",
              "        -3.28051932e-02,  4.58802916e-02, -3.51821259e-03,\n",
              "         3.55414860e-02,  4.69170325e-02],\n",
              "       [-2.14066990e-02,  1.54169314e-02,  3.64659689e-02,\n",
              "         3.07159461e-02,  4.02671807e-02, -4.05984409e-02,\n",
              "         5.01544401e-03,  8.99555534e-03],\n",
              "       [-1.65103897e-02, -3.76198664e-02,  3.59763950e-03,\n",
              "         2.34436132e-02, -2.60960702e-02, -2.27760151e-03,\n",
              "         7.31468201e-04,  3.22939493e-02],\n",
              "       [-3.43755558e-02, -1.28784254e-02, -1.66873615e-02,\n",
              "         5.39252646e-02, -7.47383088e-02,  6.76676631e-02,\n",
              "        -6.63801208e-02, -4.34279367e-02],\n",
              "       [ 2.51151212e-02, -4.34691310e-02,  4.52249683e-02,\n",
              "         4.20977585e-02,  4.66102399e-02,  1.68668292e-02,\n",
              "         1.31721385e-02, -1.26312152e-02],\n",
              "       [ 4.61917184e-02, -1.01096854e-02,  1.75160505e-02,\n",
              "         4.46125902e-02, -3.74015793e-02,  1.70625374e-03,\n",
              "        -1.51719339e-02, -2.34193727e-03],\n",
              "       [-1.05329184e-02,  4.84260172e-02, -1.76908989e-02,\n",
              "        -2.49816664e-02,  2.69304924e-02,  1.32575547e-02,\n",
              "        -2.14798767e-02,  1.94374789e-02],\n",
              "       [ 1.15071274e-02, -3.69988568e-02, -9.83286835e-03,\n",
              "        -7.42794573e-02,  6.32716641e-02, -5.72140105e-02,\n",
              "         2.93134036e-03,  1.02824066e-02],\n",
              "       [ 2.10563689e-02, -1.89569108e-02, -8.77142884e-03,\n",
              "        -2.35676998e-05,  6.75018579e-02, -2.26566587e-02,\n",
              "         2.80976165e-02,  1.50524098e-02],\n",
              "       [-1.47645585e-02, -5.22115920e-03, -7.79851060e-03,\n",
              "         1.20489746e-02, -7.16490373e-02,  1.05479714e-02,\n",
              "        -3.82129401e-02, -4.99299243e-02],\n",
              "       [-4.74699847e-02,  3.64491828e-02,  8.38566571e-04,\n",
              "         6.45431131e-03,  1.68261565e-02, -2.97927856e-02,\n",
              "         4.45712321e-02,  1.07288361e-02],\n",
              "       [ 2.35841926e-02, -1.08797643e-02, -3.89083463e-04,\n",
              "         8.03439543e-02, -1.38466088e-02,  6.71368539e-02,\n",
              "        -4.75513153e-02, -3.86047661e-02],\n",
              "       [-3.59318145e-02, -1.13098137e-02,  4.48993780e-02,\n",
              "        -3.32304835e-02, -2.00668704e-02,  4.26886193e-02,\n",
              "         4.95915525e-02,  4.82067205e-02],\n",
              "       [ 4.18064259e-02,  3.40352915e-02,  4.06736992e-02,\n",
              "        -4.69720960e-02,  1.78434588e-02,  4.06020395e-02,\n",
              "        -3.39951515e-02, -4.94682081e-02],\n",
              "       [ 1.14941485e-02,  9.87837464e-03,  8.74178484e-03,\n",
              "        -3.88610736e-02, -3.19529325e-04,  1.97447576e-02,\n",
              "        -2.06364524e-02, -3.29534896e-02],\n",
              "       [ 1.34401657e-02, -3.59549411e-02, -1.59410238e-02,\n",
              "        -2.50986964e-03,  3.23765986e-02,  1.70188025e-03,\n",
              "         1.88919418e-02, -3.83642204e-02],\n",
              "       [ 5.59699573e-02,  1.58066675e-02, -1.63295045e-02,\n",
              "         2.17806324e-02, -7.90958405e-02,  7.43455440e-02,\n",
              "        -2.32172180e-02, -5.46819880e-04],\n",
              "       [-1.28538609e-02, -1.48729235e-03, -3.16023603e-02,\n",
              "        -4.06722911e-02,  4.22812738e-02,  3.32964323e-02,\n",
              "         3.80292647e-02,  2.51430981e-02],\n",
              "       [-4.82283682e-02, -7.62794614e-02,  2.36601159e-02,\n",
              "        -7.19393720e-05, -1.65589675e-02,  2.14731228e-02,\n",
              "         1.00059970e-03, -1.24607794e-02],\n",
              "       [ 2.38725655e-02, -2.25606449e-02, -3.48803177e-02,\n",
              "         3.41445245e-02, -9.73399729e-03,  2.20127590e-02,\n",
              "        -4.42795046e-02,  1.86990760e-02],\n",
              "       [ 5.39065525e-03, -4.15201560e-02,  1.15209445e-02,\n",
              "        -3.19820046e-02,  4.49799336e-02, -3.39476690e-02,\n",
              "        -5.22209331e-03, -3.58728655e-02],\n",
              "       [-1.73037276e-02,  3.77270095e-02,  3.38855274e-02,\n",
              "         3.24966051e-02,  3.50627787e-02,  3.63345258e-02,\n",
              "        -3.29540260e-02,  3.15523483e-02],\n",
              "       [-3.91075388e-02, -4.42633294e-02, -1.33254379e-03,\n",
              "        -3.98291126e-02, -2.33591553e-02,  5.83793968e-03,\n",
              "         4.69583534e-02, -3.58097777e-02],\n",
              "       [-4.13367152e-02, -2.83344872e-02, -7.55345821e-03,\n",
              "         1.70683898e-02, -3.53066921e-02, -7.27659464e-03,\n",
              "         1.38217472e-02, -7.21227378e-04],\n",
              "       [ 3.31750996e-02, -2.01396234e-02, -1.90107469e-02,\n",
              "         8.39490816e-03,  3.95488851e-02,  1.04065165e-02,\n",
              "        -2.39695553e-02,  2.82473601e-02],\n",
              "       [ 4.70027067e-02, -2.72721052e-02,  3.83494236e-02,\n",
              "        -3.52932215e-02,  3.34010981e-02,  4.07935418e-02,\n",
              "        -9.45521519e-03, -3.71498577e-02],\n",
              "       [ 4.63191383e-02, -2.29436997e-02, -3.27668414e-02,\n",
              "         2.82415859e-02, -3.87849696e-02,  3.55642177e-02,\n",
              "         3.59940864e-02,  4.79618460e-03],\n",
              "       [ 9.81647801e-03, -6.95853122e-03,  6.65459484e-02,\n",
              "        -6.53352514e-02,  2.27796901e-02, -1.45737082e-02,\n",
              "         7.57886469e-02, -4.68751974e-03],\n",
              "       [ 2.00121664e-02, -3.23195830e-02,  1.27652548e-02,\n",
              "         4.55600955e-02,  4.89753373e-02,  4.32097577e-02,\n",
              "         2.82847919e-02, -8.06234777e-04],\n",
              "       [ 3.23618315e-02, -2.96597723e-02,  2.95043476e-02,\n",
              "         3.90254967e-02,  1.64112188e-02, -1.95857771e-02,\n",
              "         1.06205791e-03,  2.17902772e-02],\n",
              "       [-4.72520366e-02, -2.64577940e-03, -4.20600176e-03,\n",
              "         3.60373408e-03,  3.23845856e-02,  2.90480144e-02,\n",
              "         6.10666350e-03,  4.16486599e-02],\n",
              "       [ 4.83944900e-02,  2.49036811e-02,  4.91075777e-02,\n",
              "         3.01661007e-02, -3.32990438e-02, -3.58530506e-02,\n",
              "         9.13893059e-03,  1.17620714e-02],\n",
              "       [-8.64602253e-03, -2.69416571e-02,  8.92043114e-04,\n",
              "        -4.90778349e-02,  1.04513392e-02,  2.71081924e-03,\n",
              "         3.96576189e-02,  3.93623970e-02],\n",
              "       [ 4.15904038e-02, -2.32736003e-02, -4.83948849e-02,\n",
              "        -3.20237502e-02,  1.98518895e-02, -2.36855987e-02,\n",
              "        -1.92775577e-03,  2.02088021e-02],\n",
              "       [ 4.75551598e-02, -1.71697251e-02,  4.80899327e-02,\n",
              "         3.58587764e-02,  1.07284784e-02, -3.65986340e-02,\n",
              "         2.44737789e-03,  3.83102186e-02],\n",
              "       [-2.97903325e-02, -6.81868941e-03,  2.69268714e-02,\n",
              "        -3.66006568e-02,  5.71323968e-02, -1.78055335e-02,\n",
              "        -1.70875043e-02,  5.38769662e-02],\n",
              "       [ 4.91804965e-02,  4.01952900e-02, -2.67399438e-02,\n",
              "         1.40841268e-02, -2.01738719e-02,  2.53194086e-02,\n",
              "         2.89746374e-03, -2.49665976e-02],\n",
              "       [-4.47353013e-02, -2.45754123e-02, -3.03552635e-02,\n",
              "         3.70891131e-02, -3.75948064e-02, -1.50609612e-02,\n",
              "         1.42449178e-02, -1.58548839e-02],\n",
              "       [-1.60836354e-02, -1.82644501e-02,  1.93967260e-02,\n",
              "        -2.80289538e-02,  1.42066367e-02,  1.27811693e-02,\n",
              "        -1.63231976e-02,  4.80303802e-02],\n",
              "       [-6.83807954e-02, -1.62050724e-02,  5.58927692e-02,\n",
              "        -6.25711121e-03,  6.70248689e-03, -7.65810460e-02,\n",
              "         7.70081505e-02,  1.77897457e-02],\n",
              "       [-1.48421749e-02,  2.40876414e-02,  4.80856784e-02,\n",
              "        -2.78716683e-02,  4.67969440e-02, -3.47810015e-02,\n",
              "        -3.20349708e-02,  3.12197469e-02],\n",
              "       [ 2.03492306e-02,  1.52850486e-02,  7.30048493e-03,\n",
              "         4.97008301e-02, -2.64501218e-02, -7.72460550e-03,\n",
              "         1.96056254e-02, -1.92932729e-02],\n",
              "       [ 1.49048306e-02,  9.69909132e-04,  7.28571415e-03,\n",
              "        -3.55501547e-02, -2.83650756e-02,  3.97402681e-02,\n",
              "        -2.26543304e-02,  4.69262488e-02],\n",
              "       [ 1.36272646e-02,  2.87257470e-02, -1.15048066e-02,\n",
              "         1.17934458e-02,  2.78309844e-02,  2.48484723e-02,\n",
              "         1.47167481e-02,  3.23481895e-02],\n",
              "       [-5.86289156e-04,  6.07360750e-02,  3.82770672e-02,\n",
              "        -5.27115688e-02,  7.48577490e-02,  1.33685647e-02,\n",
              "        -1.67285241e-02,  5.64552806e-02],\n",
              "       [ 3.90140750e-02,  5.50355762e-03,  1.98058523e-02,\n",
              "         3.60458232e-02,  4.42504399e-02, -7.67818838e-03,\n",
              "         2.17983238e-02,  2.02873833e-02],\n",
              "       [-4.13924456e-03,  2.69108079e-02,  8.06877762e-03,\n",
              "         4.35113199e-02,  3.91797088e-02,  2.84335278e-02,\n",
              "         3.19603123e-02,  4.90127914e-02],\n",
              "       [-3.01748086e-02,  2.02908535e-02,  5.05159236e-03,\n",
              "         4.63751107e-02, -6.61342079e-03,  1.20411851e-02,\n",
              "        -4.84942570e-02, -8.04894976e-03],\n",
              "       [-8.06732103e-03, -5.54316752e-02, -1.87015161e-02,\n",
              "         2.96135619e-02, -1.86095107e-02, -1.96461137e-02,\n",
              "         2.81958096e-03, -3.91927399e-02]], dtype=float32)"
            ]
          },
          "metadata": {},
          "execution_count": 93
        }
      ]
    },
    {
      "cell_type": "code",
      "source": [
        "em_before"
      ],
      "metadata": {
        "id": "gTMJQYPkmI6N",
        "outputId": "219ecd88-7847-4863-fd01-3d936b066061",
        "colab": {
          "base_uri": "https://localhost:8080/"
        }
      },
      "execution_count": 94,
      "outputs": [
        {
          "output_type": "execute_result",
          "data": {
            "text/plain": [
              "array([ 0.00358281, -0.03014585, -0.03511206, -0.04963252,  0.04356351,\n",
              "       -0.03387401,  0.01025762, -0.04581777], dtype=float32)"
            ]
          },
          "metadata": {},
          "execution_count": 94
        }
      ]
    },
    {
      "cell_type": "code",
      "source": [
        "em_after"
      ],
      "metadata": {
        "id": "IyLmnw8qmLrb",
        "outputId": "f5b2a4db-ac1c-4f2b-99b0-d0f3fc522b0c",
        "colab": {
          "base_uri": "https://localhost:8080/"
        }
      },
      "execution_count": 95,
      "outputs": [
        {
          "output_type": "execute_result",
          "data": {
            "text/plain": [
              "array([-0.00141706, -0.00022424, -0.00513517, -0.07963236,  0.07380825,\n",
              "       -0.06393193,  0.04045994, -0.01638884], dtype=float32)"
            ]
          },
          "metadata": {},
          "execution_count": 95
        }
      ]
    },
    {
      "cell_type": "markdown",
      "source": [
        "**Przygotowanie danych do prezentacji współczynników wagowych wyuczonej warstwy Embedding  na platformie Embedding Projector**"
      ],
      "metadata": {
        "id": "PCFQGE5RfhCJ"
      }
    },
    {
      "cell_type": "code",
      "source": [
        "# definicja funkcji standaryzującej\n",
        "\n",
        "import tensorflow as tf\n",
        "\n",
        "def custom_standardization(input_data):\n",
        "  lowercase = tf.strings.lower(input_data)\n",
        "\n",
        "  return lowercase\n"
      ],
      "metadata": {
        "id": "0M4KdkbWbWAv"
      },
      "execution_count": 69,
      "outputs": []
    },
    {
      "cell_type": "code",
      "source": [
        "from tensorflow.keras.layers import TextVectorization\n",
        "\n",
        "vectorize_layer = TextVectorization(\n",
        "    standardize=custom_standardization,\n",
        "    max_tokens=Vocab_size,\n",
        "    output_mode='int',\n",
        "    output_sequence_length=max_length)\n",
        "\n"
      ],
      "metadata": {
        "id": "eUsE_KndZtqR"
      },
      "execution_count": 70,
      "outputs": []
    },
    {
      "cell_type": "code",
      "source": [
        "vectorize_layer.adapt(reviews)"
      ],
      "metadata": {
        "id": "-yvo1prcbiwf"
      },
      "execution_count": 71,
      "outputs": []
    },
    {
      "cell_type": "code",
      "source": [
        "vocab = vectorize_layer.get_vocabulary()\n"
      ],
      "metadata": {
        "id": "CyMVoCj_b_9Y"
      },
      "execution_count": 72,
      "outputs": []
    },
    {
      "cell_type": "code",
      "source": [
        "vocab"
      ],
      "metadata": {
        "colab": {
          "base_uri": "https://localhost:8080/"
        },
        "id": "RmhB8uYncBZx",
        "outputId": "44e5494d-eaf1-40b0-a2aa-4924162e8145"
      },
      "execution_count": 73,
      "outputs": [
        {
          "output_type": "execute_result",
          "data": {
            "text/plain": [
              "['',\n",
              " '[UNK]',\n",
              " 'horrible',\n",
              " 'awesome',\n",
              " 'work',\n",
              " 'waitress',\n",
              " 'services!',\n",
              " 'service',\n",
              " 'rude',\n",
              " 'rocks',\n",
              " 'poor',\n",
              " 'never',\n",
              " 'have',\n",
              " 'food!',\n",
              " 'food',\n",
              " 'done',\n",
              " \"couldn't\",\n",
              " 'coming',\n",
              " 'cold',\n",
              " 'better',\n",
              " 'back!']"
            ]
          },
          "metadata": {},
          "execution_count": 73
        }
      ]
    },
    {
      "cell_type": "code",
      "source": [
        "import io\n",
        "import os\n",
        "out_v = io.open('/content/drive/MyDrive/dane/embeddings/vectors01.tsv', 'w', encoding='utf-8')\n",
        "out_m = io.open('/content/drive/MyDrive/dane/embeddings/metadata01.tsv', 'w', encoding='utf-8')\n",
        "\n",
        "for index, word in enumerate(vocab):\n",
        "  if index == 0:\n",
        "    continue  # pomijając 0, bo jest to wypełnienie.\n",
        "  vec = weights[index]\n",
        "  out_v.write('\\t'.join([str(x) for x in vec]) + \"\\n\")\n",
        "  out_m.write(word + \"\\n\")\n",
        "out_v.close()\n",
        "out_m.close()"
      ],
      "metadata": {
        "id": "k8a0FeNKcLQc"
      },
      "execution_count": null,
      "outputs": []
    },
    {
      "cell_type": "markdown",
      "source": [
        " http://projector.tensorflow.org/?_gl=1*rggcgk*_ga*NzAyNjA5OTg4LjE2OTQ1MDIxMDc.*_ga_W0YLR4190T*MTcwMDgyODU5Ny44LjEuMTcwMDgzMDA3MS4wLjAuMA..\n"
      ],
      "metadata": {
        "id": "0u7rcXMEdbec"
      }
    }
  ]
}