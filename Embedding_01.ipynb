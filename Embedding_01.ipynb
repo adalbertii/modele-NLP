{
  "nbformat": 4,
  "nbformat_minor": 0,
  "metadata": {
    "colab": {
      "provenance": [],
      "mount_file_id": "https://github.com/adalbertii/modele-NLP/blob/main/Embedding_01.ipynb",
      "authorship_tag": "ABX9TyM8++uuFK+m8JW6tIb/jAAi",
      "include_colab_link": true
    },
    "kernelspec": {
      "name": "python3",
      "display_name": "Python 3"
    },
    "language_info": {
      "name": "python"
    }
  },
  "cells": [
    {
      "cell_type": "markdown",
      "metadata": {
        "id": "view-in-github",
        "colab_type": "text"
      },
      "source": [
        "<a href=\"https://colab.research.google.com/github/adalbertii/modele-NLP/blob/main/Embedding_01.ipynb\" target=\"_parent\"><img src=\"https://colab.research.google.com/assets/colab-badge.svg\" alt=\"Open In Colab\"/></a>"
      ]
    },
    {
      "cell_type": "markdown",
      "source": [
        "**Tok działań:**\n",
        "- budowa modelu z warstwą Embedding (nie uczymy modelu)\n",
        "- analiza współczynników wagowych modelu dla korpusu 10 znakowego\n",
        "- budowa i proces uczenia modelu klasyfikcyjnego (analiza wag warstwy embedding przed i po procesie uczenia)\n",
        "- prezentacja współczynników wagowych wyuczonej warstwy Embedding na platformie Embedding Projector"
      ],
      "metadata": {
        "id": "4TIv59gcwD9Q"
      }
    },
    {
      "cell_type": "code",
      "execution_count": 2,
      "metadata": {
        "id": "3D8Zm0MLH15R"
      },
      "outputs": [],
      "source": [
        "from tensorflow.keras.models import Sequential\n",
        "from tensorflow.keras.layers import Embedding\n",
        "import numpy as np\n",
        "\n",
        "np.set_printoptions(linewidth=200)    # domyślnie = 75"
      ]
    },
    {
      "cell_type": "markdown",
      "source": [
        "**Budowanie warstwy Embedding dla słownika składającego się z 10 cyfr**\n",
        "\n",
        "Bez procesu uczenia"
      ],
      "metadata": {
        "id": "mz06_Mqv_t_N"
      }
    },
    {
      "cell_type": "code",
      "source": [
        "# utworzenie prostego modelu z warstwą Embedding\n",
        "model = Sequential()\n",
        "embedding_layer = Embedding(input_dim=10,output_dim=4,input_length=2)\n",
        "model.add(embedding_layer)\n",
        "model.compile('adam','mse')\n",
        "\n",
        "# input_dim - rozmiar słownika\n",
        "# output_dim - wyjściowa długość wektora dla  każdego słowa (wynik warstwy Embedding)\n",
        "# input_length - maksymalna długość sekwencji wejściowej do warstwy embedding\n",
        "\n",
        "# W powyższym przykładzie ustawiamy 10 jako rozmiar słownictwa, ponieważ będziemy kodować cyfry od 0 do 9.\n",
        "# Chcemy, aby długość wektora słów wynosiła 4, stąd output_dim jest ustawione na 4.\n",
        "# Długość sekwencji wejściowej do warstwy osadzania będzie wynosić 2 (będziemy podawać na wejściu sieci dwie cyfry)"
      ],
      "metadata": {
        "id": "POU5qXfQIKfF"
      },
      "execution_count": 3,
      "outputs": []
    },
    {
      "cell_type": "code",
      "source": [
        "model.summary()"
      ],
      "metadata": {
        "colab": {
          "base_uri": "https://localhost:8080/"
        },
        "id": "05FrbPgKAK1-",
        "outputId": "be901f0d-199e-4815-edfc-5353e95279ec"
      },
      "execution_count": 4,
      "outputs": [
        {
          "output_type": "stream",
          "name": "stdout",
          "text": [
            "Model: \"sequential\"\n",
            "_________________________________________________________________\n",
            " Layer (type)                Output Shape              Param #   \n",
            "=================================================================\n",
            " embedding (Embedding)       (None, 2, 4)              40        \n",
            "                                                                 \n",
            "=================================================================\n",
            "Total params: 40 (160.00 Byte)\n",
            "Trainable params: 40 (160.00 Byte)\n",
            "Non-trainable params: 0 (0.00 Byte)\n",
            "_________________________________________________________________\n"
          ]
        }
      ]
    },
    {
      "cell_type": "code",
      "source": [
        "# wydruk wspólczynników wagowych warstwy Embedding\n",
        "# Poniewaćż nie inicjujemy procesu uczenia wartości wag są losowe\n",
        "\n",
        "print(model.weights)"
      ],
      "metadata": {
        "colab": {
          "base_uri": "https://localhost:8080/"
        },
        "id": "YJlcJUGRAUXQ",
        "outputId": "8e825c88-0db3-47fd-bbdd-c5b744046b7f"
      },
      "execution_count": 5,
      "outputs": [
        {
          "output_type": "stream",
          "name": "stdout",
          "text": [
            "[<tf.Variable 'embedding/embeddings:0' shape=(10, 4) dtype=float32, numpy=\n",
            "array([[ 0.04808488,  0.02212631,  0.02375375, -0.00623684],\n",
            "       [ 0.02111823,  0.03673354,  0.02956099,  0.03811948],\n",
            "       [-0.03303921,  0.03905984,  0.03869611,  0.00622224],\n",
            "       [ 0.02140529,  0.04294666, -0.00206393, -0.00314479],\n",
            "       [-0.00348148, -0.02223055, -0.03311323,  0.04332617],\n",
            "       [-0.00820049, -0.03944954,  0.04772456, -0.01817784],\n",
            "       [-0.00454676,  0.01938707, -0.02309471,  0.03446538],\n",
            "       [ 0.04738634, -0.01438775,  0.02316779, -0.03435685],\n",
            "       [-0.04260924,  0.02915472, -0.04225699,  0.010361  ],\n",
            "       [ 0.02127396,  0.02919975, -0.0430803 , -0.00974698]], dtype=float32)>]\n"
          ]
        }
      ]
    },
    {
      "cell_type": "markdown",
      "source": [
        "Te wagi są reprezentacjami wektorowymi słów w słownictwie.\n",
        "Tabela wag o rozmiarze 10 x 4, dla słów od 0 do 9.\n"
      ],
      "metadata": {
        "id": "I-AX-B2SEHm5"
      }
    },
    {
      "cell_type": "code",
      "source": [
        "# Teraz przekażmy przykładowe dane wejściowe do  modelu i zobaczmy wyniki.\n",
        "input_data = np.array([[1,2]])\n",
        "pred = model.predict(input_data)\n",
        "print(\"-----------------------------------------------------------------\")\n",
        "print(\"Dane wejściowe modelu:\", input_data.shape)\n",
        "\n",
        "print(\"-----------------------------------------------------------------\")\n",
        "print(\"\")\n",
        "print(\"Wartości wag warstwy Embedding dla podanych na wejsciu danych:\")\n",
        "print(pred)"
      ],
      "metadata": {
        "colab": {
          "base_uri": "https://localhost:8080/"
        },
        "id": "Dy4pcRPlJXEA",
        "outputId": "ac07f140-740c-4351-cca7-ae810b7a785e"
      },
      "execution_count": 6,
      "outputs": [
        {
          "output_type": "stream",
          "name": "stdout",
          "text": [
            "1/1 [==============================] - 0s 82ms/step\n",
            "-----------------------------------------------------------------\n",
            "Dane wejściowe modelu: (1, 2)\n",
            "-----------------------------------------------------------------\n",
            "\n",
            "Wartości wag warstwy Embedding dla podanych na wejsciu danych:\n",
            "[[[ 0.02111823  0.03673354  0.02956099  0.03811948]\n",
            "  [-0.03303921  0.03905984  0.03869611  0.00622224]]]\n"
          ]
        }
      ]
    },
    {
      "cell_type": "markdown",
      "source": [
        "Jak widać, każde słowo (1 i 2) jest reprezentowane przez wektor o długości 4."
      ],
      "metadata": {
        "id": "40b5QDksJuXB"
      }
    },
    {
      "cell_type": "markdown",
      "source": [
        "W tym przykładzie nie wytrenowaliśmy warstwy osadzania. Wagi przypisane do wektorów słów są zainicjowane losowo."
      ],
      "metadata": {
        "id": "iiYcMjV0K2U2"
      }
    },
    {
      "cell_type": "markdown",
      "source": [
        "------------------------------------------------------------------\n",
        "\n",
        "**Klasyfikacja recenzji restauracji**\n",
        "\n",
        "\n",
        "Tok działań:    \n",
        "*   Tokenizacja zdań na słowa.\n",
        "*   Utwórzenie zakodowanego wektor \"one-hot\" dla każdego słowa.\n",
        "*   Użycie funkcji \"Padding\", w celu ujednolicenia rozmiaru sekekwencji wejściowej modelu (upewnienia się, że wszystkie sekwencje mają tę samą długość).\n",
        "*   Przekazanie wypełnionych sekwencji jako danych wejściowych do warstwy Embedding.\n",
        "*   Spłaszczennie danych do wktora i zastostosowanie  warstwę Dense, aby przewidywać etykietę\n",
        "\n",
        "    \n",
        "    "
      ],
      "metadata": {
        "id": "OZAUMIRlVF3O"
      }
    },
    {
      "cell_type": "code",
      "source": [
        "from numpy import array\n",
        "from tensorflow.keras.preprocessing.text import one_hot\n",
        "from tensorflow.keras.preprocessing.sequence import pad_sequences\n",
        "from tensorflow.keras.models import Sequential\n",
        "from tensorflow.keras.layers import Flatten,Embedding,Dense"
      ],
      "metadata": {
        "id": "SGtqray1K1fP"
      },
      "execution_count": 7,
      "outputs": []
    },
    {
      "cell_type": "markdown",
      "source": [
        "Aby to uprościć, użyjemy łącznie tylko  10 przykładowych, prostych  recenzji. Połowa z nich jest pozytywna, reprezentowana przez 0, a druga połowa jest negatywna, reprezentowana przez 1."
      ],
      "metadata": {
        "id": "pEjyX81-WjuG"
      }
    },
    {
      "cell_type": "code",
      "source": [
        "#definicja 10 recencji\n",
        "reviews =[\n",
        "          'Never coming back!',\n",
        "          'horrible service',\n",
        "          'rude waitress',\n",
        "          'cold food',\n",
        "          'horrible food!',\n",
        "          'awesome',\n",
        "          'awesome services!',\n",
        "          'rocks',\n",
        "          'poor work',\n",
        "          'couldn\\'t have done better'\n",
        "]\n",
        "\n",
        "#definicja etykiet (1-negatywane, 0-pozytywna)\n",
        "labels = array([1,1,1,1,1,0,0,0,0,0])"
      ],
      "metadata": {
        "id": "OiQT-Ga8WaZi"
      },
      "execution_count": 8,
      "outputs": []
    },
    {
      "cell_type": "markdown",
      "source": [
        "Przyjmiemy rozmiar słownictwa jako 50 i zakodujemy słowa za pomocą funkcji \"one_hot\" z Keras."
      ],
      "metadata": {
        "id": "y9ViQAMNu_0b"
      }
    },
    {
      "cell_type": "code",
      "source": [
        "Vocab_size = 50\n",
        "encoded_reviews = [one_hot(d,Vocab_size) for d in reviews]\n",
        "#print(f'encoded reviews: {encoded_reviews}')\n",
        "print(encoded_reviews)"
      ],
      "metadata": {
        "colab": {
          "base_uri": "https://localhost:8080/"
        },
        "id": "Up1N-FAjW2em",
        "outputId": "4e8887cc-855a-4f6f-8b07-f8e0d1d42b7d"
      },
      "execution_count": 10,
      "outputs": [
        {
          "output_type": "stream",
          "name": "stdout",
          "text": [
            "[[35, 37, 31], [18, 20], [40, 21], [12, 41], [18, 41], [10], [10, 34], [38], [6, 11], [37, 9, 46, 34]]\n"
          ]
        }
      ]
    },
    {
      "cell_type": "markdown",
      "source": [
        "Widać, że długość każdej zakodowanej recenzji jest równa liczbie słów w tej recenzji. Keras one_hot  konwertuje każde słowo na zakodowany indeks one-hot.\n",
        "\n",
        "Teraz musimy zastosować \"padding\", aby wszystkie zakodowane recenzje miały tę samą długość.\n",
        "\n",
        "Zdefiniujmy 4 jako maksymalną długość i wypełnijmy zakodowane wektory zerami na końcu."
      ],
      "metadata": {
        "id": "KlAF6u8JvnEZ"
      }
    },
    {
      "cell_type": "code",
      "source": [
        "max_length = 4\n",
        "padded_reviews = pad_sequences(encoded_reviews,maxlen=max_length,padding='post')\n",
        "print(padded_reviews)\n",
        "\n",
        "#Wypełnione i zakodowane recenzje będą wyglądać następująco:"
      ],
      "metadata": {
        "colab": {
          "base_uri": "https://localhost:8080/"
        },
        "id": "eCsGqQn7v0Ug",
        "outputId": "0128c6f5-6913-4da3-bf10-76ae2e7de3dd"
      },
      "execution_count": 11,
      "outputs": [
        {
          "output_type": "stream",
          "name": "stdout",
          "text": [
            "[[35 37 31  0]\n",
            " [18 20  0  0]\n",
            " [40 21  0  0]\n",
            " [12 41  0  0]\n",
            " [18 41  0  0]\n",
            " [10  0  0  0]\n",
            " [10 34  0  0]\n",
            " [38  0  0  0]\n",
            " [ 6 11  0  0]\n",
            " [37  9 46 34]]\n"
          ]
        }
      ]
    },
    {
      "cell_type": "markdown",
      "source": [
        "Po utworzeniu ujednoliconej pod względem rozmiaru, zakodowanje  reprezentacji recenzji, jesteśmy gotowi do przekazania jej jako danych wejściowych do warstwy osadzania.\n",
        "\n",
        "W poniższym fragmencie kodu tworzymy prosty model Keras.\n",
        "\n",
        "Ustalimy arbitralnie długość osadzonych wektorów dla każdego słowa na 8, a długość wektora wejściowego będzie maksymalną długością, którą już zdefiniowaliśmy jako 4."
      ],
      "metadata": {
        "id": "tORfLAZlwWjJ"
      }
    },
    {
      "cell_type": "code",
      "source": [
        "embedding_layer = Embedding(input_dim=Vocab_size,output_dim=8,input_length=max_length, name=\"wmi-embedding\")"
      ],
      "metadata": {
        "id": "ZMpvLiokGPWc"
      },
      "execution_count": 12,
      "outputs": []
    },
    {
      "cell_type": "code",
      "source": [
        "model = Sequential()\n",
        "model.add(embedding_layer)\n",
        "model.add(Flatten())\n",
        "model.add(Dense(1,activation='sigmoid'))\n",
        "model.compile(optimizer='adam',loss='binary_crossentropy',metrics=['accuracy'])"
      ],
      "metadata": {
        "id": "12Tn92XCwlM3"
      },
      "execution_count": 13,
      "outputs": []
    },
    {
      "cell_type": "code",
      "source": [
        "print(model.summary())"
      ],
      "metadata": {
        "colab": {
          "base_uri": "https://localhost:8080/"
        },
        "id": "NcIRcE_swypf",
        "outputId": "324a11be-cbcf-429e-b3dc-88d0e7d36d4b"
      },
      "execution_count": 14,
      "outputs": [
        {
          "output_type": "stream",
          "name": "stdout",
          "text": [
            "Model: \"sequential_1\"\n",
            "_________________________________________________________________\n",
            " Layer (type)                Output Shape              Param #   \n",
            "=================================================================\n",
            " wmi-embedding (Embedding)   (None, 4, 8)              400       \n",
            "                                                                 \n",
            " flatten (Flatten)           (None, 32)                0         \n",
            "                                                                 \n",
            " dense (Dense)               (None, 1)                 33        \n",
            "                                                                 \n",
            "=================================================================\n",
            "Total params: 433 (1.69 KB)\n",
            "Trainable params: 433 (1.69 KB)\n",
            "Non-trainable params: 0 (0.00 Byte)\n",
            "_________________________________________________________________\n",
            "None\n"
          ]
        }
      ]
    },
    {
      "cell_type": "code",
      "source": [
        "# współczynniki wagowe przed procesem uczenia\n",
        "\n",
        "weights = model.get_layer('wmi-embedding').get_weights()[0]\n",
        "weights"
      ],
      "metadata": {
        "id": "C_v6bD0Uk7kQ",
        "outputId": "5045a022-c4a2-4a23-d875-1e7aff3213f6",
        "colab": {
          "base_uri": "https://localhost:8080/"
        }
      },
      "execution_count": 15,
      "outputs": [
        {
          "output_type": "execute_result",
          "data": {
            "text/plain": [
              "array([[-0.0419511 , -0.03908299,  0.04004708,  0.02502891, -0.02521975,  0.01234521, -0.03626658, -0.00020619],\n",
              "       [ 0.04763052, -0.04823155,  0.02261137, -0.01256844, -0.0029161 , -0.04878147,  0.02084836, -0.04064719],\n",
              "       [-0.04801153, -0.02494357, -0.01177223,  0.04566591, -0.00452286,  0.03875289,  0.03002458,  0.00791993],\n",
              "       [ 0.04504495,  0.04011748, -0.03543152, -0.02798506, -0.02060809,  0.04943073,  0.00635544,  0.00505408],\n",
              "       [-0.00028249, -0.0186724 ,  0.02809239,  0.01999566,  0.00810785,  0.01212832,  0.02312529,  0.0381322 ],\n",
              "       [ 0.03482474, -0.02079005,  0.04581055,  0.00727286, -0.00506257, -0.03989236,  0.02831067, -0.03932198],\n",
              "       [ 0.03268132,  0.00537076,  0.03818336,  0.04869941, -0.01759704,  0.00416144, -0.01395352,  0.01041398],\n",
              "       [-0.0095186 , -0.02644819,  0.0065698 , -0.02194588, -0.02471144, -0.02824371,  0.03733552,  0.04996787],\n",
              "       [-0.04765875, -0.04798825, -0.00621372, -0.04674224,  0.03407266,  0.0366099 , -0.03625141, -0.03902074],\n",
              "       [ 0.04548847, -0.00822363,  0.02715652,  0.01364856,  0.0389916 ,  0.03341687, -0.03375418, -0.01193215],\n",
              "       [ 0.02620352, -0.00318625,  0.0039501 , -0.03042097, -0.0222389 ,  0.0208611 ,  0.03324581,  0.02967658],\n",
              "       [ 0.0047162 , -0.03410475,  0.03639415,  0.04404051, -0.01055189, -0.03298517, -0.00672884, -0.01788487],\n",
              "       [-0.01531336, -0.02257342, -0.02308542,  0.03491565, -0.04605655, -0.04236958,  0.04076148, -0.00095419],\n",
              "       [ 0.03112909,  0.01800214, -0.04489055, -0.03407133,  0.00950073, -0.02228035, -0.02446553,  0.00631686],\n",
              "       [ 0.01602414,  0.01851103,  0.0320694 ,  0.02470997,  0.02218093,  0.01022658,  0.01881156,  0.01445598],\n",
              "       [ 0.00691813,  0.01623322,  0.01275406,  0.00271164,  0.00426309,  0.00744593, -0.0090592 ,  0.04940193],\n",
              "       [ 0.01610054,  0.04449994, -0.04794031,  0.02245202, -0.03585942,  0.04313082,  0.04647401,  0.02358912],\n",
              "       [-0.03220572, -0.00646125,  0.01018958, -0.01582698, -0.04784106, -0.0341236 ,  0.04057078, -0.02357092],\n",
              "       [-0.0065909 ,  0.0311123 , -0.02943232, -0.04609385, -0.00196987, -0.02366172,  0.01586558,  0.01126573],\n",
              "       [-0.03567799,  0.04100522, -0.00954352,  0.01943112, -0.01467104,  0.01530888,  0.0242321 ,  0.03174568],\n",
              "       [-0.01750087,  0.03550419, -0.03365188,  0.01723121,  0.04564664,  0.01099777, -0.02649304, -0.00038475],\n",
              "       [-0.02047842, -0.0467114 , -0.01810062,  0.01752957, -0.0499683 ,  0.01631771, -0.0200832 , -0.01114432],\n",
              "       [-0.01376396,  0.03018596,  0.03550167,  0.0324945 ,  0.04110029,  0.01072101, -0.01051731,  0.04689686],\n",
              "       [-0.04418889, -0.02521079, -0.01094469, -0.03932198,  0.02892817,  0.01084528, -0.03325333,  0.00683995],\n",
              "       [ 0.03411946,  0.0332771 ,  0.00729614, -0.01837514, -0.0362434 ,  0.04997895, -0.03929948,  0.03270099],\n",
              "       [ 0.02478606,  0.00215417,  0.02743191,  0.00897682,  0.04052093, -0.0131381 , -0.02381412,  0.03544637],\n",
              "       [-0.00689739,  0.03964745, -0.03304066,  0.01776791,  0.01675474, -0.03180384,  0.03233222,  0.04568953],\n",
              "       [-0.02418231, -0.01717647,  0.03499409, -0.04824519, -0.00478287,  0.00808666, -0.04348285, -0.04699222],\n",
              "       [-0.00980816,  0.02317436, -0.02572967,  0.0390177 , -0.0346295 ,  0.03057523, -0.00869633,  0.00972772],\n",
              "       [-0.02783357,  0.03142408, -0.04423432,  0.03463647, -0.02984322,  0.03119336,  0.01888585, -0.0192981 ],\n",
              "       [-0.03237221, -0.03246975, -0.04201704, -0.00411029, -0.01010614, -0.00029048,  0.01883459,  0.03990593],\n",
              "       [-0.03805827, -0.01977032,  0.00774021,  0.04992935,  0.01956636, -0.02375118, -0.00754691,  0.03976022],\n",
              "       [ 0.03027136, -0.04910452, -0.00090171,  0.01668051,  0.00197905, -0.02106614,  0.03539683, -0.00577828],\n",
              "       [ 0.04903171, -0.04476387, -0.00752164,  0.03485752,  0.03030673,  0.00732794,  0.04496205, -0.02874294],\n",
              "       [-0.00225107, -0.02542058,  0.00185143,  0.00069933, -0.00627746,  0.00650892, -0.03686386, -0.00373205],\n",
              "       [-0.04431031, -0.02743824, -0.02620924,  0.03167262,  0.04984628, -0.0133589 ,  0.00754417, -0.02132548],\n",
              "       [-0.02532388,  0.04233903, -0.02526486,  0.01061461,  0.02589123, -0.0364603 , -0.03010894, -0.04520006],\n",
              "       [ 0.04117591, -0.01405966,  0.04750674, -0.04035865, -0.03849554, -0.03837291, -0.02692736, -0.01595441],\n",
              "       [ 0.0486696 , -0.02989141,  0.04092792,  0.00961403, -0.02169267,  0.00823091,  0.0340385 ,  0.00382746],\n",
              "       [-0.02861052,  0.04567691,  0.02075281, -0.04793724,  0.00605292, -0.03186321,  0.03593132,  0.00239811],\n",
              "       [-0.00964084,  0.03227753, -0.04201392, -0.0102431 ,  0.03479781,  0.00802185, -0.01964377,  0.04768062],\n",
              "       [-0.03426422, -0.03438213, -0.03096794, -0.0088603 , -0.03319806, -0.00698191, -0.02906965, -0.04192585],\n",
              "       [-0.04739671, -0.01028745, -0.00140222,  0.0041543 ,  0.02567755,  0.02459078,  0.01823434, -0.03807561],\n",
              "       [-0.01995169,  0.04371141,  0.04415157, -0.00539871, -0.02892637, -0.03745396,  0.00853132,  0.01624134],\n",
              "       [ 0.01135243,  0.02004084, -0.01072364,  0.03049899, -0.00143064, -0.04825001,  0.00047528,  0.04784122],\n",
              "       [ 0.00690802,  0.02166562,  0.02681043, -0.04173794,  0.03551603, -0.04756563,  0.04518736,  0.04695456],\n",
              "       [ 0.00436955, -0.03610887, -0.02610234, -0.00800884, -0.01120242, -0.0457218 , -0.00928301,  0.01398503],\n",
              "       [ 0.03872781, -0.045988  , -0.02083102,  0.01357516,  0.03123755, -0.01653788,  0.03720962,  0.03927263],\n",
              "       [ 0.02653226,  0.01849494, -0.00259821,  0.0469554 ,  0.00186241,  0.02917458,  0.01967901,  0.01261686],\n",
              "       [-0.03535568, -0.02988728,  0.0250545 ,  0.00876778,  0.01194752,  0.03761886, -0.04487168,  0.03814281]], dtype=float32)"
            ]
          },
          "metadata": {},
          "execution_count": 15
        }
      ]
    },
    {
      "cell_type": "code",
      "source": [
        "## Jeśli sprawdzimy osadzenie dla pierwszego słowa, otrzymamy następujący wektor.\n",
        "em_before = embedding_layer.get_weights()[0][0]\n",
        "em_before"
      ],
      "metadata": {
        "id": "seVudGrGl_mt",
        "outputId": "be879c1f-39a5-4def-8730-c1917446cf14",
        "colab": {
          "base_uri": "https://localhost:8080/"
        }
      },
      "execution_count": 16,
      "outputs": [
        {
          "output_type": "execute_result",
          "data": {
            "text/plain": [
              "array([-0.0419511 , -0.03908299,  0.04004708,  0.02502891, -0.02521975,  0.01234521, -0.03626658, -0.00020619], dtype=float32)"
            ]
          },
          "metadata": {},
          "execution_count": 16
        }
      ]
    },
    {
      "cell_type": "markdown",
      "source": [
        "**Proces uczenia zdefiniowanego modelu**"
      ],
      "metadata": {
        "id": "PL6nM8R5w6PI"
      }
    },
    {
      "cell_type": "code",
      "source": [
        "history = model.fit(padded_reviews,labels,epochs=15,verbose=1)"
      ],
      "metadata": {
        "colab": {
          "base_uri": "https://localhost:8080/"
        },
        "id": "n8foLJOqw_Ez",
        "outputId": "dc405c41-db31-406b-91c3-0ee2658b6412"
      },
      "execution_count": 17,
      "outputs": [
        {
          "output_type": "stream",
          "name": "stdout",
          "text": [
            "Epoch 1/15\n",
            "1/1 [==============================] - 1s 511ms/step - loss: 0.6969 - accuracy: 0.5000\n",
            "Epoch 2/15\n",
            "1/1 [==============================] - 0s 8ms/step - loss: 0.6950 - accuracy: 0.5000\n",
            "Epoch 3/15\n",
            "1/1 [==============================] - 0s 8ms/step - loss: 0.6931 - accuracy: 0.5000\n",
            "Epoch 4/15\n",
            "1/1 [==============================] - 0s 9ms/step - loss: 0.6912 - accuracy: 0.6000\n",
            "Epoch 5/15\n",
            "1/1 [==============================] - 0s 7ms/step - loss: 0.6894 - accuracy: 0.7000\n",
            "Epoch 6/15\n",
            "1/1 [==============================] - 0s 11ms/step - loss: 0.6875 - accuracy: 0.8000\n",
            "Epoch 7/15\n",
            "1/1 [==============================] - 0s 11ms/step - loss: 0.6856 - accuracy: 0.8000\n",
            "Epoch 8/15\n",
            "1/1 [==============================] - 0s 9ms/step - loss: 0.6838 - accuracy: 0.9000\n",
            "Epoch 9/15\n",
            "1/1 [==============================] - 0s 10ms/step - loss: 0.6819 - accuracy: 1.0000\n",
            "Epoch 10/15\n",
            "1/1 [==============================] - 0s 8ms/step - loss: 0.6800 - accuracy: 1.0000\n",
            "Epoch 11/15\n",
            "1/1 [==============================] - 0s 8ms/step - loss: 0.6782 - accuracy: 1.0000\n",
            "Epoch 12/15\n",
            "1/1 [==============================] - 0s 7ms/step - loss: 0.6763 - accuracy: 1.0000\n",
            "Epoch 13/15\n",
            "1/1 [==============================] - 0s 7ms/step - loss: 0.6744 - accuracy: 1.0000\n",
            "Epoch 14/15\n",
            "1/1 [==============================] - 0s 7ms/step - loss: 0.6725 - accuracy: 1.0000\n",
            "Epoch 15/15\n",
            "1/1 [==============================] - 0s 7ms/step - loss: 0.6707 - accuracy: 1.0000\n"
          ]
        }
      ]
    },
    {
      "cell_type": "code",
      "source": [
        "import matplotlib.pyplot as plt\n",
        "%matplotlib inline\n",
        "\n",
        "plt.plot(history.history['accuracy'])\n",
        "\n",
        "plt.title('Model accuracy')\n",
        "plt.ylabel('Accuracy')\n",
        "plt.xlabel('Epoch')\n",
        "plt.legend(['Train', 'Validation'], loc='upper left')\n",
        "plt.show()"
      ],
      "metadata": {
        "id": "EsYE9GIhertO",
        "outputId": "4dc355d4-de24-4729-99db-6485a476ec22",
        "colab": {
          "base_uri": "https://localhost:8080/",
          "height": 472
        }
      },
      "execution_count": 18,
      "outputs": [
        {
          "output_type": "display_data",
          "data": {
            "text/plain": [
              "<Figure size 640x480 with 1 Axes>"
            ],
            "image/png": "[encoded data removed]"
          },
          "metadata": {}
        }
      ]
    },
    {
      "cell_type": "markdown",
      "source": [
        "Po zakończeniu treningu warstwa osadzania nauczyła się wag, które są niczym innym jak reprezentacjami wektorowymi każdego słowa. Sprawdźmy kształt macierzy wag."
      ],
      "metadata": {
        "id": "iqvL6jc9xJTg"
      }
    },
    {
      "cell_type": "code",
      "source": [
        "# rozmiar słownika (korpusu) = 50\n",
        "# ustalony arbitralnie rozmiar wektora embedding = 8\n",
        "\n",
        "print(embedding_layer.get_weights()[0].shape)"
      ],
      "metadata": {
        "colab": {
          "base_uri": "https://localhost:8080/"
        },
        "id": "RI_6y1jVxOU0",
        "outputId": "b2ff1393-5e02-4ed0-81da-7c933664cb17"
      },
      "execution_count": 19,
      "outputs": [
        {
          "output_type": "stream",
          "name": "stdout",
          "text": [
            "(50, 8)\n"
          ]
        }
      ]
    },
    {
      "cell_type": "code",
      "source": [
        "# Jeśli sprawdzimy osadzenie dla pierwszego słowa, otrzymamy następujący wektor.\n",
        "em_after = embedding_layer.get_weights()[0][0]\n"
      ],
      "metadata": {
        "id": "TLvMro9ExWI7"
      },
      "execution_count": 20,
      "outputs": []
    },
    {
      "cell_type": "code",
      "source": [
        "em_after"
      ],
      "metadata": {
        "id": "UIjDGeRp_CCX",
        "outputId": "3ccfa88e-91a0-4ff0-c19e-a1e8aa4d35b9",
        "colab": {
          "base_uri": "https://localhost:8080/"
        }
      },
      "execution_count": 21,
      "outputs": [
        {
          "output_type": "execute_result",
          "data": {
            "text/plain": [
              "array([-0.02690884, -0.02422262,  0.05507443,  0.01022518, -0.04024628,  0.02737164, -0.02125562, -0.0151292 ], dtype=float32)"
            ]
          },
          "metadata": {},
          "execution_count": 21
        }
      ]
    },
    {
      "cell_type": "code",
      "source": [
        "# współczynniki wagowe po procesie uczenia\n",
        "weights = model.get_layer('wmi-embedding').get_weights()[0]\n",
        "weights"
      ],
      "metadata": {
        "colab": {
          "base_uri": "https://localhost:8080/"
        },
        "id": "PgY1F_1lYjYG",
        "outputId": "6ea405e3-52f9-4057-e942-91267a9d35a1"
      },
      "execution_count": 22,
      "outputs": [
        {
          "output_type": "execute_result",
          "data": {
            "text/plain": [
              "array([[-0.02690884, -0.02422262,  0.05507443,  0.01022518, -0.04024628,  0.02737164, -0.02125562, -0.0151292 ],\n",
              "       [ 0.04763052, -0.04823155,  0.02261137, -0.01256844, -0.0029161 , -0.04878147,  0.02084836, -0.04064719],\n",
              "       [-0.04801153, -0.02494357, -0.01177223,  0.04566591, -0.00452286,  0.03875289,  0.03002458,  0.00791993],\n",
              "       [ 0.04504495,  0.04011748, -0.03543152, -0.02798506, -0.02060809,  0.04943073,  0.00635544,  0.00505408],\n",
              "       [-0.00028249, -0.0186724 ,  0.02809239,  0.01999566,  0.00810785,  0.01212832,  0.02312529,  0.0381322 ],\n",
              "       [ 0.03482474, -0.02079005,  0.04581055,  0.00727286, -0.00506257, -0.03989236,  0.02831067, -0.03932198],\n",
              "       [ 0.04783882,  0.02030855,  0.02323614,  0.03366464, -0.03266615,  0.01919073,  0.00108555, -0.00458878],\n",
              "       [-0.0095186 , -0.02644819,  0.0065698 , -0.02194588, -0.02471144, -0.02824371,  0.03733552,  0.04996787],\n",
              "       [-0.04765875, -0.04798825, -0.00621372, -0.04674224,  0.03407266,  0.0366099 , -0.03625141, -0.03902074],\n",
              "       [ 0.06088899,  0.00645188,  0.04216203, -0.00119442,  0.02404167,  0.04849498, -0.01877469, -0.02687391],\n",
              "       [ 0.04136567,  0.01175341, -0.01099869, -0.04545753, -0.03731051,  0.03589204,  0.0482871 ,  0.01467242],\n",
              "       [ 0.02012132, -0.01941328,  0.05141252,  0.029183  , -0.02551534, -0.0178952 ,  0.00826388, -0.03284024],\n",
              "       [-0.03046306, -0.03750112, -0.0081482 ,  0.04994122, -0.03099627, -0.05738962,  0.0257316 ,  0.01403902],\n",
              "       [ 0.03112909,  0.01800214, -0.04489055, -0.03407133,  0.00950073, -0.02228035, -0.02446553,  0.00631686],\n",
              "       [ 0.01602414,  0.01851103,  0.0320694 ,  0.02470997,  0.02218093,  0.01022658,  0.01881156,  0.01445598],\n",
              "       [ 0.00691813,  0.01623322,  0.01275406,  0.00271164,  0.00426309,  0.00744593, -0.0090592 ,  0.04940193],\n",
              "       [ 0.01610054,  0.04449994, -0.04794031,  0.02245202, -0.03585942,  0.04313082,  0.04647401,  0.02358912],\n",
              "       [-0.03220572, -0.00646125,  0.01018958, -0.01582698, -0.04784106, -0.0341236 ,  0.04057078, -0.02357092],\n",
              "       [-0.02174474,  0.01618339, -0.01449418, -0.03106709,  0.01309233, -0.0386828 ,  0.00083408,  0.02625972],\n",
              "       [-0.03567799,  0.04100522, -0.00954352,  0.01943112, -0.01467104,  0.01530888,  0.0242321 ,  0.03174568],\n",
              "       [-0.03290239,  0.02082449, -0.0486611 ,  0.03207822,  0.06060043, -0.00408373, -0.04147632,  0.01456089],\n",
              "       [-0.03588026, -0.06139096, -0.03310961,  0.03237638, -0.03501474,  0.00123637, -0.03506626,  0.00380109],\n",
              "       [-0.01376396,  0.03018596,  0.03550167,  0.0324945 ,  0.04110029,  0.01072101, -0.01051731,  0.04689686],\n",
              "       [-0.04418889, -0.02521079, -0.01094469, -0.03932198,  0.02892817,  0.01084528, -0.03325333,  0.00683995],\n",
              "       [ 0.03411946,  0.0332771 ,  0.00729614, -0.01837514, -0.0362434 ,  0.04997895, -0.03929948,  0.03270099],\n",
              "       [ 0.02478606,  0.00215417,  0.02743191,  0.00897682,  0.04052093, -0.0131381 , -0.02381412,  0.03544637],\n",
              "       [-0.00689739,  0.03964745, -0.03304066,  0.01776791,  0.01675474, -0.03180384,  0.03233222,  0.04568953],\n",
              "       [-0.02418231, -0.01717647,  0.03499409, -0.04824519, -0.00478287,  0.00808666, -0.04348285, -0.04699222],\n",
              "       [-0.00980816,  0.02317436, -0.02572967,  0.0390177 , -0.0346295 ,  0.03057523, -0.00869633,  0.00972772],\n",
              "       [-0.02783357,  0.03142408, -0.04423432,  0.03463647, -0.02984322,  0.03119336,  0.01888585, -0.0192981 ],\n",
              "       [-0.03237221, -0.03246975, -0.04201704, -0.00411029, -0.01010614, -0.00029048,  0.01883459,  0.03990593],\n",
              "       [-0.05305621, -0.03468368, -0.00716988,  0.0350002 ,  0.0345625 , -0.03865765, -0.02254898,  0.02483481],\n",
              "       [ 0.03027136, -0.04910452, -0.00090171,  0.01668051,  0.00197905, -0.02106614,  0.03539683, -0.00577828],\n",
              "       [ 0.04903171, -0.04476387, -0.00752164,  0.03485752,  0.03030673,  0.00732794,  0.04496205, -0.02874294],\n",
              "       [-0.01709257, -0.04039381,  0.01684854,  0.01560599, -0.02122967, -0.00845684, -0.02186956, -0.01878597],\n",
              "       [-0.05945191, -0.04235563, -0.01128224,  0.04668872,  0.06489746, -0.02836942, -0.00747626, -0.00634206],\n",
              "       [-0.02532388,  0.04233903, -0.02526486,  0.01061461,  0.02589123, -0.0364603 , -0.03010894, -0.04520006],\n",
              "       [ 0.05614195,  0.00091168,  0.03253656, -0.0554959 , -0.02360735, -0.02339724, -0.0418661 , -0.03127174],\n",
              "       [ 0.06382651, -0.01495433,  0.02598142, -0.00542007, -0.03676114,  0.02325954,  0.04907691, -0.01117462],\n",
              "       [-0.02861052,  0.04567691,  0.02075281, -0.04793724,  0.00605292, -0.03186321,  0.03593132,  0.00239811],\n",
              "       [-0.02479053,  0.01734984, -0.02707673,  0.00478245,  0.04985808, -0.00699817, -0.03467363,  0.06267381],\n",
              "       [-0.04968134, -0.04906714, -0.04597765,  0.00598888, -0.01824389, -0.02206557, -0.04405332, -0.0269797 ],\n",
              "       [-0.04739671, -0.01028745, -0.00140222,  0.0041543 ,  0.02567755,  0.02459078,  0.01823434, -0.03807561],\n",
              "       [-0.01995169,  0.04371141,  0.04415157, -0.00539871, -0.02892637, -0.03745396,  0.00853132,  0.01624134],\n",
              "       [ 0.01135243,  0.02004084, -0.01072364,  0.03049899, -0.00143064, -0.04825001,  0.00047528,  0.04784122],\n",
              "       [ 0.00690802,  0.02166562,  0.02681043, -0.04173794,  0.03551603, -0.04756563,  0.04518736,  0.04695456],\n",
              "       [ 0.01937362, -0.02118888, -0.01118561,  0.00692684, -0.02620469, -0.03080866,  0.00572519,  0.02891699],\n",
              "       [ 0.03872781, -0.045988  , -0.02083102,  0.01357516,  0.03123755, -0.01653788,  0.03720962,  0.03927263],\n",
              "       [ 0.02653226,  0.01849494, -0.00259821,  0.0469554 ,  0.00186241,  0.02917458,  0.01967901,  0.01261686],\n",
              "       [-0.03535568, -0.02988728,  0.0250545 ,  0.00876778,  0.01194752,  0.03761886, -0.04487168,  0.03814281]], dtype=float32)"
            ]
          },
          "metadata": {},
          "execution_count": 22
        }
      ]
    },
    {
      "cell_type": "code",
      "source": [
        "print(\"before :\",em_before )\n",
        "\n",
        "print(\"after  :\", em_after)"
      ],
      "metadata": {
        "id": "gTMJQYPkmI6N",
        "outputId": "b80db660-699f-4317-81c9-678037b47d32",
        "colab": {
          "base_uri": "https://localhost:8080/"
        }
      },
      "execution_count": 33,
      "outputs": [
        {
          "output_type": "stream",
          "name": "stdout",
          "text": [
            "before : [-0.0419511  -0.03908299  0.04004708  0.02502891 -0.02521975  0.01234521 -0.03626658 -0.00020619]\n",
            "after  : [-0.02690884 -0.02422262  0.05507443  0.01022518 -0.04024628  0.02737164 -0.02125562 -0.0151292 ]\n"
          ]
        }
      ]
    },
    {
      "cell_type": "markdown",
      "source": [
        "**Przygotowanie danych do prezentacji współczynników wagowych wyuczonej warstwy Embedding  na platformie Embedding Projector**"
      ],
      "metadata": {
        "id": "PCFQGE5RfhCJ"
      }
    },
    {
      "cell_type": "code",
      "source": [
        "# definicja funkcji standaryzującej\n",
        "\n",
        "import tensorflow as tf\n",
        "\n",
        "def custom_standardization(input_data):\n",
        "  lowercase = tf.strings.lower(input_data)\n",
        "\n",
        "  return lowercase\n"
      ],
      "metadata": {
        "id": "0M4KdkbWbWAv"
      },
      "execution_count": 34,
      "outputs": []
    },
    {
      "cell_type": "code",
      "source": [
        "from tensorflow.keras.layers import TextVectorization\n",
        "\n",
        "vectorize_layer = TextVectorization(\n",
        "    standardize=custom_standardization,\n",
        "    max_tokens=Vocab_size,\n",
        "    output_mode='int',\n",
        "    output_sequence_length=max_length)\n",
        "\n"
      ],
      "metadata": {
        "id": "eUsE_KndZtqR"
      },
      "execution_count": 35,
      "outputs": []
    },
    {
      "cell_type": "code",
      "source": [
        "vectorize_layer.adapt(reviews)"
      ],
      "metadata": {
        "id": "-yvo1prcbiwf"
      },
      "execution_count": 36,
      "outputs": []
    },
    {
      "cell_type": "code",
      "source": [
        "vocab = vectorize_layer.get_vocabulary()\n"
      ],
      "metadata": {
        "id": "CyMVoCj_b_9Y"
      },
      "execution_count": 37,
      "outputs": []
    },
    {
      "cell_type": "code",
      "source": [
        "vocab"
      ],
      "metadata": {
        "colab": {
          "base_uri": "https://localhost:8080/"
        },
        "id": "RmhB8uYncBZx",
        "outputId": "53209a08-874c-4d85-c9f6-950866142813"
      },
      "execution_count": 38,
      "outputs": [
        {
          "output_type": "execute_result",
          "data": {
            "text/plain": [
              "['',\n",
              " '[UNK]',\n",
              " 'horrible',\n",
              " 'awesome',\n",
              " 'work',\n",
              " 'waitress',\n",
              " 'services!',\n",
              " 'service',\n",
              " 'rude',\n",
              " 'rocks',\n",
              " 'poor',\n",
              " 'never',\n",
              " 'have',\n",
              " 'food!',\n",
              " 'food',\n",
              " 'done',\n",
              " \"couldn't\",\n",
              " 'coming',\n",
              " 'cold',\n",
              " 'better',\n",
              " 'back!']"
            ]
          },
          "metadata": {},
          "execution_count": 38
        }
      ]
    },
    {
      "cell_type": "code",
      "source": [
        "import io\n",
        "import os\n",
        "out_v = io.open('/content/drive/MyDrive/dane/modele/vectors01.tsv', 'w', encoding='utf-8')\n",
        "out_m = io.open('/content/drive/MyDrive/dane/modele/metadata01.tsv', 'w', encoding='utf-8')\n",
        "\n",
        "for index, word in enumerate(vocab):\n",
        "  if index == 0:\n",
        "    continue  # pomijając 0, bo jest to wypełnienie.\n",
        "  vec = weights[index]\n",
        "  out_v.write('\\t'.join([str(x) for x in vec]) + \"\\n\")\n",
        "  out_m.write(word + \"\\n\")\n",
        "out_v.close()\n",
        "out_m.close()"
      ],
      "metadata": {
        "id": "k8a0FeNKcLQc"
      },
      "execution_count": 39,
      "outputs": []
    },
    {
      "cell_type": "code",
      "source": [
        "try:\n",
        "  from google.colab import files\n",
        "  files.download('/content/drive/MyDrive/dane/modele/vectors01.tsv')\n",
        "  files.download('/content/drive/MyDrive/dane/modele/metadata01.tsv')\n",
        "except Exception:\n",
        "  pass"
      ],
      "metadata": {
        "id": "F1dCRzkD_r7f",
        "outputId": "15dc8eea-1d7c-477a-d34d-1c024f726a7b",
        "colab": {
          "base_uri": "https://localhost:8080/",
          "height": 17
        }
      },
      "execution_count": 40,
      "outputs": [
        {
          "output_type": "display_data",
          "data": {
            "text/plain": [
              "<IPython.core.display.Javascript object>"
            ],
            "application/javascript": [
              "\n",
              "    async function download(id, filename, size) {\n",
              "      if (!google.colab.kernel.accessAllowed) {\n",
              "        return;\n",
              "      }\n",
              "      const div = document.createElement('div');\n",
              "      const label = document.createElement('label');\n",
              "      label.textContent = `Downloading \"${filename}\": `;\n",
              "      div.appendChild(label);\n",
              "      const progress = document.createElement('progress');\n",
              "      progress.max = size;\n",
              "      div.appendChild(progress);\n",
              "      document.body.appendChild(div);\n",
              "\n",
              "      const buffers = [];\n",
              "      let downloaded = 0;\n",
              "\n",
              "      const channel = await google.colab.kernel.comms.open(id);\n",
              "      // Send a message to notify the kernel that we're ready.\n",
              "      channel.send({})\n",
              "\n",
              "      for await (const message of channel.messages) {\n",
              "        // Send a message to notify the kernel that we're ready.\n",
              "        channel.send({})\n",
              "        if (message.buffers) {\n",
              "          for (const buffer of message.buffers) {\n",
              "            buffers.push(buffer);\n",
              "            downloaded += buffer.byteLength;\n",
              "            progress.value = downloaded;\n",
              "          }\n",
              "        }\n",
              "      }\n",
              "      const blob = new Blob(buffers, {type: 'application/binary'});\n",
              "      const a = document.createElement('a');\n",
              "      a.href = window.URL.createObjectURL(blob);\n",
              "      a.download = filename;\n",
              "      div.appendChild(a);\n",
              "      a.click();\n",
              "      div.remove();\n",
              "    }\n",
              "  "
            ]
          },
          "metadata": {}
        },
        {
          "output_type": "display_data",
          "data": {
            "text/plain": [
              "<IPython.core.display.Javascript object>"
            ],
            "application/javascript": [
              "download(\"download_25ed6e32-bae4-4fb1-b1dd-283eb2f82541\", \"vectors01.tsv\", 1963)"
            ]
          },
          "metadata": {}
        },
        {
          "output_type": "display_data",
          "data": {
            "text/plain": [
              "<IPython.core.display.Javascript object>"
            ],
            "application/javascript": [
              "\n",
              "    async function download(id, filename, size) {\n",
              "      if (!google.colab.kernel.accessAllowed) {\n",
              "        return;\n",
              "      }\n",
              "      const div = document.createElement('div');\n",
              "      const label = document.createElement('label');\n",
              "      label.textContent = `Downloading \"${filename}\": `;\n",
              "      div.appendChild(label);\n",
              "      const progress = document.createElement('progress');\n",
              "      progress.max = size;\n",
              "      div.appendChild(progress);\n",
              "      document.body.appendChild(div);\n",
              "\n",
              "      const buffers = [];\n",
              "      let downloaded = 0;\n",
              "\n",
              "      const channel = await google.colab.kernel.comms.open(id);\n",
              "      // Send a message to notify the kernel that we're ready.\n",
              "      channel.send({})\n",
              "\n",
              "      for await (const message of channel.messages) {\n",
              "        // Send a message to notify the kernel that we're ready.\n",
              "        channel.send({})\n",
              "        if (message.buffers) {\n",
              "          for (const buffer of message.buffers) {\n",
              "            buffers.push(buffer);\n",
              "            downloaded += buffer.byteLength;\n",
              "            progress.value = downloaded;\n",
              "          }\n",
              "        }\n",
              "      }\n",
              "      const blob = new Blob(buffers, {type: 'application/binary'});\n",
              "      const a = document.createElement('a');\n",
              "      a.href = window.URL.createObjectURL(blob);\n",
              "      a.download = filename;\n",
              "      div.appendChild(a);\n",
              "      a.click();\n",
              "      div.remove();\n",
              "    }\n",
              "  "
            ]
          },
          "metadata": {}
        },
        {
          "output_type": "display_data",
          "data": {
            "text/plain": [
              "<IPython.core.display.Javascript object>"
            ],
            "application/javascript": [
              "download(\"download_d146c2e4-a48c-41ce-be4e-6ddbd393655c\", \"metadata01.tsv\", 132)"
            ]
          },
          "metadata": {}
        }
      ]
    },
    {
      "cell_type": "markdown",
      "source": [
        "Zapisać dane do katalogu: C:\\_T\n",
        "\n",
        "!!! analiza relacji do słowa : awesom"
      ],
      "metadata": {
        "id": "lgusdxDT0Uvx"
      }
    },
    {
      "cell_type": "markdown",
      "source": [
        " http://projector.tensorflow.org/?_gl=1*rggcgk*_ga*NzAyNjA5OTg4LjE2OTQ1MDIxMDc.*_ga_W0YLR4190T*MTcwMDgyODU5Ny44LjEuMTcwMDgzMDA3MS4wLjAuMA..\n"
      ],
      "metadata": {
        "id": "0u7rcXMEdbec"
      }
    },
    {
      "cell_type": "markdown",
      "source": [],
      "metadata": {
        "id": "U1eWb3dt0HNy"
      }
    }
  ]
}