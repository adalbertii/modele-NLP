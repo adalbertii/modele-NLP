{
  "nbformat": 4,
  "nbformat_minor": 0,
  "metadata": {
    "colab": {
      "provenance": [],
      "mount_file_id": "https://github.com/adalbertii/modele-NLP/blob/main/Embedding_01.ipynb",
      "authorship_tag": "ABX9TyMwCE02J4Lmk7wwYdOedbhe",
      "include_colab_link": true
    },
    "kernelspec": {
      "name": "python3",
      "display_name": "Python 3"
    },
    "language_info": {
      "name": "python"
    }
  },
  "cells": [
    {
      "cell_type": "markdown",
      "metadata": {
        "id": "view-in-github",
        "colab_type": "text"
      },
      "source": [
        "<a href=\"https://colab.research.google.com/github/adalbertii/modele-NLP/blob/main/Embedding_01.ipynb\" target=\"_parent\"><img src=\"https://colab.research.google.com/assets/colab-badge.svg\" alt=\"Open In Colab\"/></a>"
      ]
    },
    {
      "cell_type": "markdown",
      "source": [
        "**Tok działań:**\n",
        "- budowa modelu z warstwą Embedding (nie uczymy modelu)\n",
        "- analiza współczynników wagowych modelu dla korpusu 10 znakowego\n",
        "- budowa i proces uczenia modelu klasyfikcyjnego (analiza wag warstwy embedding przed i po procesie uczenia)\n",
        "- prezentacja współczynników wagowych wyuczonej warstwy Embedding na platformie Embedding Projector"
      ],
      "metadata": {
        "id": "4TIv59gcwD9Q"
      }
    },
    {
      "cell_type": "code",
      "execution_count": 2,
      "metadata": {
        "id": "3D8Zm0MLH15R"
      },
      "outputs": [],
      "source": [
        "from tensorflow.keras.models import Sequential\n",
        "from tensorflow.keras.layers import Embedding\n",
        "import numpy as np"
      ]
    },
    {
      "cell_type": "markdown",
      "source": [
        "**Budowanie warstwy Embedding dla słownika składającego się z 10 cyfr**\n",
        "\n",
        "Bez procesu uczenia"
      ],
      "metadata": {
        "id": "mz06_Mqv_t_N"
      }
    },
    {
      "cell_type": "code",
      "source": [
        "# utworzenie prostego modelu z warstwą Embedding\n",
        "model = Sequential()\n",
        "embedding_layer = Embedding(input_dim=10,output_dim=4,input_length=2)\n",
        "model.add(embedding_layer)\n",
        "model.compile('adam','mse')\n",
        "\n",
        "# input_dim - rozmiar słownika\n",
        "# output_dim - długość wektora dla  każdego słowa\n",
        "# input_length - maksymalna długość sekwencji\n",
        "\n",
        "# W powyższym przykładzie ustawiamy 10 jako rozmiar słownictwa, ponieważ będziemy kodować liczby od 0 do 9.\n",
        "# Chcemy, aby długość wektora słów wynosiła 4, stąd output_dim jest ustawione na 4.\n",
        "# Długość sekwencji wejściowej do warstwy osadzania będzie wynosić 2 (będziemy podawać na wejściu sieci dwie cyfry)"
      ],
      "metadata": {
        "id": "POU5qXfQIKfF"
      },
      "execution_count": 3,
      "outputs": []
    },
    {
      "cell_type": "code",
      "source": [
        "model.summary()"
      ],
      "metadata": {
        "colab": {
          "base_uri": "https://localhost:8080/"
        },
        "id": "05FrbPgKAK1-",
        "outputId": "25a5e0e5-d469-4828-aaec-417e646966c6"
      },
      "execution_count": 4,
      "outputs": [
        {
          "output_type": "stream",
          "name": "stdout",
          "text": [
            "Model: \"sequential\"\n",
            "_________________________________________________________________\n",
            " Layer (type)                Output Shape              Param #   \n",
            "=================================================================\n",
            " embedding (Embedding)       (None, 2, 4)              40        \n",
            "                                                                 \n",
            "=================================================================\n",
            "Total params: 40 (160.00 Byte)\n",
            "Trainable params: 40 (160.00 Byte)\n",
            "Non-trainable params: 0 (0.00 Byte)\n",
            "_________________________________________________________________\n"
          ]
        }
      ]
    },
    {
      "cell_type": "code",
      "source": [
        "# wydruk wspólczynników wagowych warstwy Embedding\n",
        "# Poniewaćż nie inicjujemy procesu uczenia wartości wag są losowe\n",
        "\n",
        "print(model.weights)"
      ],
      "metadata": {
        "colab": {
          "base_uri": "https://localhost:8080/"
        },
        "id": "YJlcJUGRAUXQ",
        "outputId": "140653c4-159b-4cfe-ecc9-b97cee152865"
      },
      "execution_count": 5,
      "outputs": [
        {
          "output_type": "stream",
          "name": "stdout",
          "text": [
            "[<tf.Variable 'embedding/embeddings:0' shape=(10, 4) dtype=float32, numpy=\n",
            "array([[-0.04065062,  0.02567525,  0.02369883, -0.02545043],\n",
            "       [ 0.0125103 ,  0.03824475, -0.00220535,  0.01908772],\n",
            "       [-0.01047853,  0.0128063 ,  0.02208764, -0.03534303],\n",
            "       [-0.03864514,  0.00396743, -0.03262756, -0.00030172],\n",
            "       [ 0.0456609 , -0.03369216, -0.0005679 , -0.03281411],\n",
            "       [-0.0228444 , -0.04250279,  0.00198102, -0.02722756],\n",
            "       [ 0.01264839, -0.04353664,  0.01681871, -0.03511165],\n",
            "       [ 0.04199961,  0.04039571,  0.03804877, -0.00347849],\n",
            "       [-0.01276988,  0.02494067, -0.00902639,  0.02631925],\n",
            "       [ 0.02812321,  0.00451074,  0.04290397,  0.02852769]],\n",
            "      dtype=float32)>]\n"
          ]
        }
      ]
    },
    {
      "cell_type": "markdown",
      "source": [
        "Te wagi są reprezentacjami wektorowymi słów w słownictwie.\n",
        "Tabela wag o rozmiarze 10 x 4, dla słów od 0 do 9.\n"
      ],
      "metadata": {
        "id": "I-AX-B2SEHm5"
      }
    },
    {
      "cell_type": "code",
      "source": [
        "# Teraz przekażmy przykładowe dane wejściowe do  modelu i zobaczmy wyniki.\n",
        "input_data = np.array([[1,2]])\n",
        "pred = model.predict(input_data)\n",
        "print(\"-----------------------------------------------------------------\")\n",
        "print(\"Dane wejściowe modelu:\", input_data.shape)\n",
        "\n",
        "print(\"-----------------------------------------------------------------\")\n",
        "print(\"\")\n",
        "print(\"Wartości wag warstwy Embedding dla podanych na wejsciu danych:\")\n",
        "print(pred)"
      ],
      "metadata": {
        "colab": {
          "base_uri": "https://localhost:8080/"
        },
        "id": "Dy4pcRPlJXEA",
        "outputId": "7d3338c5-5560-4ba9-e092-5000413d2fda"
      },
      "execution_count": 6,
      "outputs": [
        {
          "output_type": "stream",
          "name": "stdout",
          "text": [
            "1/1 [==============================] - 0s 163ms/step\n",
            "-----------------------------------------------------------------\n",
            "Dane wejściowe modelu: (1, 2)\n",
            "-----------------------------------------------------------------\n",
            "\n",
            "Wartości wag warstwy Embedding dla podanych na wejsciu danych:\n",
            "[[[ 0.0125103   0.03824475 -0.00220535  0.01908772]\n",
            "  [-0.01047853  0.0128063   0.02208764 -0.03534303]]]\n"
          ]
        }
      ]
    },
    {
      "cell_type": "markdown",
      "source": [
        "Jak widać, każde słowo (1 i 2) jest reprezentowane przez wektor o długości 4."
      ],
      "metadata": {
        "id": "40b5QDksJuXB"
      }
    },
    {
      "cell_type": "markdown",
      "source": [
        "W tym przykładzie nie wytrenowaliśmy warstwy osadzania. Wagi przypisane do wektorów słów są inicjowane losowo."
      ],
      "metadata": {
        "id": "iiYcMjV0K2U2"
      }
    },
    {
      "cell_type": "markdown",
      "source": [
        "------------------------------------------------------------------\n",
        "\n",
        "**Klasyfikacja recenzji restauracji**\n",
        "\n",
        "\n",
        "Tok działań:    \n",
        "*   Tokenizacja zdań na słowa.\n",
        "*   Utwórzenie zakodowanego wektor \"one-hot\" dla każdego słowa.\n",
        "*   Użycie funkcji \"Padding\", w celu ujednolicenia rozmiaru sekekwencji wejściowej modelu (upewnienia się, że wszystkie sekwencje mają tę samą długość).\n",
        "*   Przekazanie wypełnionych sekwencji jako danych wejściowych do warstwy Embedding.\n",
        "*   Spłaszczennie danych do wktora i zastostosowanie  warstwę Dense, aby przewidywać etykietę\n",
        "\n",
        "    \n",
        "    "
      ],
      "metadata": {
        "id": "OZAUMIRlVF3O"
      }
    },
    {
      "cell_type": "code",
      "source": [
        "from numpy import array\n",
        "from tensorflow.keras.preprocessing.text import one_hot\n",
        "from tensorflow.keras.preprocessing.sequence import pad_sequences\n",
        "from tensorflow.keras.models import Sequential\n",
        "from tensorflow.keras.layers import Flatten,Embedding,Dense"
      ],
      "metadata": {
        "id": "SGtqray1K1fP"
      },
      "execution_count": 7,
      "outputs": []
    },
    {
      "cell_type": "markdown",
      "source": [
        "Aby to uprościć, użyjemy łącznie tylko  10 przykładowych, prostych  recenzji. Połowa z nich jest pozytywna, reprezentowana przez 0, a druga połowa jest negatywna, reprezentowana przez 1."
      ],
      "metadata": {
        "id": "pEjyX81-WjuG"
      }
    },
    {
      "cell_type": "code",
      "source": [
        "#definicja 10 recencji\n",
        "reviews =[\n",
        "          'Never coming back!',\n",
        "          'horrible service',\n",
        "          'rude waitress',\n",
        "          'cold food',\n",
        "          'horrible food!',\n",
        "          'awesome',\n",
        "          'awesome services!',\n",
        "          'rocks',\n",
        "          'poor work',\n",
        "          'couldn\\'t have done better'\n",
        "]\n",
        "\n",
        "#definicja etykiet (1-negatywane, 0-pozytywna)\n",
        "labels = array([1,1,1,1,1,0,0,0,0,0])"
      ],
      "metadata": {
        "id": "OiQT-Ga8WaZi"
      },
      "execution_count": 8,
      "outputs": []
    },
    {
      "cell_type": "markdown",
      "source": [
        "Przyjmiemy rozmiar słownictwa jako 50 i zakodujemy słowa za pomocą funkcji \"one_hot\" z Keras."
      ],
      "metadata": {
        "id": "y9ViQAMNu_0b"
      }
    },
    {
      "cell_type": "code",
      "source": [
        "Vocab_size = 50\n",
        "encoded_reviews = [one_hot(d,Vocab_size) for d in reviews]\n",
        "print(f'encoded reviews: {encoded_reviews}')"
      ],
      "metadata": {
        "colab": {
          "base_uri": "https://localhost:8080/"
        },
        "id": "Up1N-FAjW2em",
        "outputId": "ba86f705-d443-4b3e-f917-ad186a404ed2"
      },
      "execution_count": 9,
      "outputs": [
        {
          "output_type": "stream",
          "name": "stdout",
          "text": [
            "encoded reviews: [[24, 42, 7], [47, 30], [30, 49], [47, 32], [47, 32], [24], [24, 43], [2], [24, 8], [49, 42, 16, 27]]\n"
          ]
        }
      ]
    },
    {
      "cell_type": "markdown",
      "source": [
        "Widać, że długość każdej zakodowanej recenzji jest równa liczbie słów w tej recenzji. Keras one_hot  konwertuje każde słowo na zakodowany indeks one-hot.\n",
        "\n",
        "Teraz musimy zastosować \"padding\", aby wszystkie zakodowane recenzje miały tę samą długość.\n",
        "\n",
        "Zdefiniujmy 4 jako maksymalną długość i wypełnijmy zakodowane wektory zerami na końcu."
      ],
      "metadata": {
        "id": "KlAF6u8JvnEZ"
      }
    },
    {
      "cell_type": "code",
      "source": [
        "max_length = 4\n",
        "padded_reviews = pad_sequences(encoded_reviews,maxlen=max_length,padding='post')\n",
        "print(padded_reviews)\n",
        "\n",
        "#Wypełnione i zakodowane recenzje będą wyglądać następująco:"
      ],
      "metadata": {
        "colab": {
          "base_uri": "https://localhost:8080/"
        },
        "id": "eCsGqQn7v0Ug",
        "outputId": "e3a1763d-83d6-45d3-fae7-c34f11c17fe0"
      },
      "execution_count": 10,
      "outputs": [
        {
          "output_type": "stream",
          "name": "stdout",
          "text": [
            "[[24 42  7  0]\n",
            " [47 30  0  0]\n",
            " [30 49  0  0]\n",
            " [47 32  0  0]\n",
            " [47 32  0  0]\n",
            " [24  0  0  0]\n",
            " [24 43  0  0]\n",
            " [ 2  0  0  0]\n",
            " [24  8  0  0]\n",
            " [49 42 16 27]]\n"
          ]
        }
      ]
    },
    {
      "cell_type": "markdown",
      "source": [
        "Po utworzeniu ujednoliconej pod względem rozmiaru, zakodowanje  reprezentacji recenzji, jesteśmy gotowi do przekazania jej jako danych wejściowych do warstwy osadzania.\n",
        "\n",
        "W poniższym fragmencie kodu tworzymy prosty model Keras.\n",
        "\n",
        "Ustalimy arbitralnie długość osadzonych wektorów dla każdego słowa na 8, a długość wektora wejściowego będzie maksymalną długością, którą już zdefiniowaliśmy jako 4."
      ],
      "metadata": {
        "id": "tORfLAZlwWjJ"
      }
    },
    {
      "cell_type": "code",
      "source": [
        "embedding_layer = Embedding(input_dim=Vocab_size,output_dim=8,input_length=max_length, name=\"wmi-embedding\")"
      ],
      "metadata": {
        "id": "ZMpvLiokGPWc"
      },
      "execution_count": 11,
      "outputs": []
    },
    {
      "cell_type": "code",
      "source": [
        "model = Sequential()\n",
        "model.add(embedding_layer)\n",
        "model.add(Flatten())\n",
        "model.add(Dense(1,activation='sigmoid'))\n",
        "model.compile(optimizer='adam',loss='binary_crossentropy',metrics=['accuracy'])"
      ],
      "metadata": {
        "id": "12Tn92XCwlM3"
      },
      "execution_count": 12,
      "outputs": []
    },
    {
      "cell_type": "code",
      "source": [
        "print(model.summary())"
      ],
      "metadata": {
        "colab": {
          "base_uri": "https://localhost:8080/"
        },
        "id": "NcIRcE_swypf",
        "outputId": "ce228f19-7ab1-4869-c32b-9b7d32f97af8"
      },
      "execution_count": 13,
      "outputs": [
        {
          "output_type": "stream",
          "name": "stdout",
          "text": [
            "Model: \"sequential_1\"\n",
            "_________________________________________________________________\n",
            " Layer (type)                Output Shape              Param #   \n",
            "=================================================================\n",
            " wmi-embedding (Embedding)   (None, 4, 8)              400       \n",
            "                                                                 \n",
            " flatten (Flatten)           (None, 32)                0         \n",
            "                                                                 \n",
            " dense (Dense)               (None, 1)                 33        \n",
            "                                                                 \n",
            "=================================================================\n",
            "Total params: 433 (1.69 KB)\n",
            "Trainable params: 433 (1.69 KB)\n",
            "Non-trainable params: 0 (0.00 Byte)\n",
            "_________________________________________________________________\n",
            "None\n"
          ]
        }
      ]
    },
    {
      "cell_type": "code",
      "source": [
        "# współczynniki wagowe przed procesem uczenia\n",
        "\n",
        "weights = model.get_layer('wmi-embedding').get_weights()[0]\n",
        "weights"
      ],
      "metadata": {
        "id": "C_v6bD0Uk7kQ",
        "outputId": "5192b839-92d2-4556-f689-95ab385c32a8",
        "colab": {
          "base_uri": "https://localhost:8080/"
        }
      },
      "execution_count": 14,
      "outputs": [
        {
          "output_type": "execute_result",
          "data": {
            "text/plain": [
              "array([[-0.04692316,  0.03691537,  0.01898643,  0.02760127, -0.0225871 ,\n",
              "         0.02980559, -0.03139632, -0.04057325],\n",
              "       [ 0.04780779,  0.01866927, -0.01517338,  0.0474566 , -0.04753056,\n",
              "        -0.04874801,  0.01003518, -0.020298  ],\n",
              "       [-0.02158872, -0.03731651,  0.03925413, -0.01456163,  0.0186323 ,\n",
              "         0.01220224, -0.02295525,  0.02455831],\n",
              "       [ 0.01949206, -0.02562584,  0.04789329,  0.02962397,  0.04451748,\n",
              "        -0.04485197,  0.02345509,  0.03001783],\n",
              "       [-0.03496599, -0.0405298 , -0.01518898,  0.0150204 , -0.01180304,\n",
              "         0.02273586, -0.04610524,  0.02301871],\n",
              "       [ 0.01405657, -0.00314373,  0.01091803, -0.00497147, -0.03666028,\n",
              "         0.00109256,  0.01824944, -0.01573936],\n",
              "       [ 0.00141234, -0.01665816,  0.04875544, -0.04627434,  0.04579525,\n",
              "         0.01822212,  0.01562356, -0.04077601],\n",
              "       [ 0.01496768, -0.02058599,  0.03677702, -0.01129104, -0.03348564,\n",
              "        -0.03455776, -0.04875747, -0.02502893],\n",
              "       [ 0.0264536 , -0.01773218,  0.03327838, -0.00456899,  0.00142795,\n",
              "        -0.00963927, -0.02955482, -0.03485882],\n",
              "       [-0.00368538,  0.02952686,  0.04547462,  0.02187058,  0.01696445,\n",
              "        -0.04534807, -0.00651263, -0.00739245],\n",
              "       [ 0.01237296, -0.04372281, -0.00250567, -0.01742227, -0.03735844,\n",
              "        -0.03545574, -0.02475162, -0.01974398],\n",
              "       [ 0.0045123 ,  0.03831668,  0.00986407,  0.03071499, -0.01630001,\n",
              "        -0.02809496,  0.01538761, -0.04994611],\n",
              "       [-0.00197108, -0.04147591, -0.01792787, -0.01351796, -0.00560317,\n",
              "        -0.04857409, -0.01428906,  0.04289487],\n",
              "       [-0.02736638, -0.02817303, -0.03551586,  0.00069939,  0.00222912,\n",
              "         0.02285613, -0.02403056, -0.02161672],\n",
              "       [ 0.0170317 , -0.04257734, -0.04513253, -0.0474501 , -0.03464154,\n",
              "         0.0257594 , -0.04144005, -0.00619204],\n",
              "       [-0.03877736, -0.02825913, -0.00766309,  0.04320933, -0.00126459,\n",
              "         0.04574803,  0.01312316,  0.03905935],\n",
              "       [-0.00992575,  0.00149374, -0.01321406, -0.02566067,  0.01592083,\n",
              "        -0.03776848, -0.00203194, -0.003614  ],\n",
              "       [-0.01082508,  0.04577035,  0.02250266, -0.02682022, -0.02557075,\n",
              "         0.00957795,  0.01083205, -0.00380909],\n",
              "       [ 0.0168586 , -0.02154604,  0.03377649,  0.03376213, -0.01690286,\n",
              "         0.035752  , -0.00743092,  0.01369076],\n",
              "       [-0.00883295,  0.01754231,  0.00306292, -0.02993864,  0.02505955,\n",
              "        -0.01015864, -0.00110773,  0.02471061],\n",
              "       [ 0.00678754, -0.01160083,  0.04561362, -0.00584207, -0.00042001,\n",
              "         0.02996406,  0.04456847, -0.03153212],\n",
              "       [-0.04546177, -0.02708825, -0.00935682,  0.00238831, -0.04300362,\n",
              "        -0.027644  ,  0.0224571 ,  0.04406226],\n",
              "       [ 0.00667249,  0.01157634,  0.03072634,  0.00416602,  0.04901068,\n",
              "         0.00339327, -0.00653989,  0.01780564],\n",
              "       [ 0.0349333 ,  0.04727531,  0.02535756, -0.00643699,  0.00291734,\n",
              "         0.03449594, -0.03091819, -0.03181886],\n",
              "       [-0.04599977, -0.01166262,  0.03383963,  0.01011001,  0.02738661,\n",
              "         0.01576159, -0.01227475, -0.03405874],\n",
              "       [ 0.04997924,  0.04544692,  0.02739395,  0.00556723,  0.03249414,\n",
              "        -0.03979812,  0.01080291,  0.02632952],\n",
              "       [ 0.04652182, -0.02510399,  0.02510845,  0.00825728, -0.01410837,\n",
              "         0.04883547,  0.00911709, -0.02992596],\n",
              "       [ 0.04166231, -0.03982184, -0.03436972, -0.01894253,  0.03391382,\n",
              "        -0.04150052, -0.023783  , -0.04425582],\n",
              "       [ 0.00778659, -0.0397926 ,  0.00701996,  0.0256939 , -0.04433006,\n",
              "         0.02260132,  0.00403764, -0.04903675],\n",
              "       [-0.01970683, -0.00668107, -0.00437925, -0.03622961, -0.02610682,\n",
              "        -0.01857858,  0.0374856 ,  0.04254201],\n",
              "       [-0.03941748,  0.04176823,  0.03308235, -0.02787673,  0.00581844,\n",
              "        -0.03051424,  0.01974589,  0.03897376],\n",
              "       [-0.00821074, -0.02604551, -0.04597507,  0.00244529, -0.03923542,\n",
              "         0.04170975, -0.00689013, -0.00317948],\n",
              "       [-0.00247613,  0.01513653, -0.03239346, -0.01989   ,  0.04299002,\n",
              "         0.02125199,  0.00919481, -0.00131696],\n",
              "       [ 0.00068895, -0.03709351, -0.02436156,  0.00853509, -0.01735168,\n",
              "        -0.00111207, -0.01797688,  0.02489413],\n",
              "       [-0.04833522,  0.01666602, -0.00010859,  0.00073808, -0.00728587,\n",
              "         0.02647388, -0.04909752, -0.03076241],\n",
              "       [-0.01507881,  0.0080119 , -0.01531969, -0.04080594,  0.04503537,\n",
              "        -0.02400119,  0.01372916,  0.03068579],\n",
              "       [ 0.01722164,  0.04923536, -0.00099468,  0.01518999,  0.04373736,\n",
              "         0.0147591 ,  0.02076207, -0.03506585],\n",
              "       [-0.04205818,  0.02618549, -0.02704823,  0.03913916, -0.01757034,\n",
              "        -0.02992762, -0.01606538,  0.04443917],\n",
              "       [ 0.02146175,  0.01691424,  0.01287897, -0.03886708,  0.02952519,\n",
              "         0.02361691,  0.03303211, -0.00222655],\n",
              "       [-0.04936974,  0.01093132, -0.00154529, -0.04457838,  0.01275757,\n",
              "         0.02859651, -0.00882908,  0.04591104],\n",
              "       [ 0.04883778,  0.03228687,  0.01117085, -0.02015501, -0.01659171,\n",
              "        -0.02339897,  0.01923939, -0.03213652],\n",
              "       [-0.01391057,  0.03648745,  0.02900504,  0.01148915, -0.02019546,\n",
              "         0.04274911,  0.01659076, -0.0025848 ],\n",
              "       [ 0.01944584,  0.01568165, -0.00406323,  0.02560283,  0.00173893,\n",
              "        -0.04009708, -0.03599067,  0.03214964],\n",
              "       [ 0.00783498, -0.04779334, -0.02233312,  0.00510857, -0.04545512,\n",
              "        -0.00475918,  0.03099177,  0.03920343],\n",
              "       [ 0.00197365,  0.00842985,  0.03520453,  0.00359757, -0.04864202,\n",
              "         0.00440431, -0.04119967, -0.03633013],\n",
              "       [-0.04036974,  0.01867629, -0.01239313, -0.01151609,  0.01332426,\n",
              "        -0.00882024,  0.03501823, -0.02203896],\n",
              "       [-0.0404126 ,  0.03496741,  0.03968978,  0.00380185,  0.01266721,\n",
              "        -0.01811119,  0.04880324,  0.04703455],\n",
              "       [ 0.01560379, -0.01774477,  0.04606001, -0.0056718 ,  0.02849891,\n",
              "        -0.00748466, -0.04690648, -0.0243873 ],\n",
              "       [-0.02336161, -0.04656985, -0.0288777 , -0.03089871, -0.00811346,\n",
              "        -0.04866177, -0.04068353,  0.00174611],\n",
              "       [-0.01036595, -0.01843895, -0.02424221,  0.00498752,  0.0365186 ,\n",
              "         0.01202039, -0.01496912, -0.04831438]], dtype=float32)"
            ]
          },
          "metadata": {},
          "execution_count": 14
        }
      ]
    },
    {
      "cell_type": "code",
      "source": [
        "## Jeśli sprawdzimy osadzenie dla pierwszego słowa, otrzymamy następujący wektor.\n",
        "em_before = embedding_layer.get_weights()[0][0]\n",
        "em_before"
      ],
      "metadata": {
        "id": "seVudGrGl_mt",
        "outputId": "2523f8e4-89d4-475b-914f-9feaa1f530f2",
        "colab": {
          "base_uri": "https://localhost:8080/"
        }
      },
      "execution_count": 21,
      "outputs": [
        {
          "output_type": "execute_result",
          "data": {
            "text/plain": [
              "array([-0.06196029,  0.05189197,  0.03404605,  0.01266391, -0.03766111,\n",
              "        0.0149563 , -0.01642964, -0.05556491], dtype=float32)"
            ]
          },
          "metadata": {},
          "execution_count": 21
        }
      ]
    },
    {
      "cell_type": "markdown",
      "source": [
        "**Proces uczenia zdefiniowanego modelu**"
      ],
      "metadata": {
        "id": "PL6nM8R5w6PI"
      }
    },
    {
      "cell_type": "code",
      "source": [
        "history = model.fit(padded_reviews,labels,epochs=15,verbose=1)"
      ],
      "metadata": {
        "colab": {
          "base_uri": "https://localhost:8080/"
        },
        "id": "n8foLJOqw_Ez",
        "outputId": "070aa353-5e29-4c04-de6c-d6eade02d427"
      },
      "execution_count": 16,
      "outputs": [
        {
          "output_type": "stream",
          "name": "stdout",
          "text": [
            "Epoch 1/15\n",
            "1/1 [==============================] - 1s 773ms/step - loss: 0.6925 - accuracy: 0.5000\n",
            "Epoch 2/15\n",
            "1/1 [==============================] - 0s 11ms/step - loss: 0.6908 - accuracy: 0.6000\n",
            "Epoch 3/15\n",
            "1/1 [==============================] - 0s 11ms/step - loss: 0.6890 - accuracy: 0.6000\n",
            "Epoch 4/15\n",
            "1/1 [==============================] - 0s 13ms/step - loss: 0.6873 - accuracy: 0.6000\n",
            "Epoch 5/15\n",
            "1/1 [==============================] - 0s 12ms/step - loss: 0.6856 - accuracy: 0.7000\n",
            "Epoch 6/15\n",
            "1/1 [==============================] - 0s 12ms/step - loss: 0.6839 - accuracy: 0.7000\n",
            "Epoch 7/15\n",
            "1/1 [==============================] - 0s 12ms/step - loss: 0.6822 - accuracy: 0.8000\n",
            "Epoch 8/15\n",
            "1/1 [==============================] - 0s 12ms/step - loss: 0.6805 - accuracy: 0.9000\n",
            "Epoch 9/15\n",
            "1/1 [==============================] - 0s 15ms/step - loss: 0.6788 - accuracy: 0.9000\n",
            "Epoch 10/15\n",
            "1/1 [==============================] - 0s 10ms/step - loss: 0.6771 - accuracy: 0.9000\n",
            "Epoch 11/15\n",
            "1/1 [==============================] - 0s 12ms/step - loss: 0.6754 - accuracy: 0.9000\n",
            "Epoch 12/15\n",
            "1/1 [==============================] - 0s 10ms/step - loss: 0.6737 - accuracy: 0.9000\n",
            "Epoch 13/15\n",
            "1/1 [==============================] - 0s 9ms/step - loss: 0.6720 - accuracy: 1.0000\n",
            "Epoch 14/15\n",
            "1/1 [==============================] - 0s 10ms/step - loss: 0.6703 - accuracy: 1.0000\n",
            "Epoch 15/15\n",
            "1/1 [==============================] - 0s 10ms/step - loss: 0.6686 - accuracy: 1.0000\n"
          ]
        }
      ]
    },
    {
      "cell_type": "code",
      "source": [
        "import matplotlib.pyplot as plt\n",
        "%matplotlib inline\n",
        "\n",
        "plt.plot(history.history['accuracy'])\n",
        "\n",
        "plt.title('Model accuracy')\n",
        "plt.ylabel('Accuracy')\n",
        "plt.xlabel('Epoch')\n",
        "plt.legend(['Train', 'Validation'], loc='upper left')\n",
        "plt.show()"
      ],
      "metadata": {
        "id": "EsYE9GIhertO",
        "outputId": "0ed8e9f9-df60-4fa2-96b3-357b23bf50fb",
        "colab": {
          "base_uri": "https://localhost:8080/",
          "height": 472
        }
      },
      "execution_count": 17,
      "outputs": [
        {
          "output_type": "display_data",
          "data": {
            "text/plain": [
              "<Figure size 640x480 with 1 Axes>"
            ],
            "image/png": "[encoded data removed]"
          },
          "metadata": {}
        }
      ]
    },
    {
      "cell_type": "markdown",
      "source": [
        "Po zakończeniu treningu warstwa osadzania nauczyła się wag, które są niczym innym jak reprezentacjami wektorowymi każdego słowa. Sprawdźmy kształt macierzy wag."
      ],
      "metadata": {
        "id": "iqvL6jc9xJTg"
      }
    },
    {
      "cell_type": "code",
      "source": [
        "# rozmiar słownika (korpusu) = 50\n",
        "# ustalony arbitralnie rozmiar wektora embedding = 8\n",
        "\n",
        "print(embedding_layer.get_weights()[0].shape)"
      ],
      "metadata": {
        "colab": {
          "base_uri": "https://localhost:8080/"
        },
        "id": "RI_6y1jVxOU0",
        "outputId": "47406f70-2c25-4aac-c8fc-b9561ccec36b"
      },
      "execution_count": 18,
      "outputs": [
        {
          "output_type": "stream",
          "name": "stdout",
          "text": [
            "(50, 8)\n"
          ]
        }
      ]
    },
    {
      "cell_type": "code",
      "source": [
        "# Jeśli sprawdzimy osadzenie dla pierwszego słowa, otrzymamy następujący wektor.\n",
        "em_after = embedding_layer.get_weights()[0][0]\n"
      ],
      "metadata": {
        "id": "TLvMro9ExWI7"
      },
      "execution_count": 19,
      "outputs": []
    },
    {
      "cell_type": "code",
      "source": [
        "em_after"
      ],
      "metadata": {
        "id": "UIjDGeRp_CCX",
        "outputId": "c658eb2b-055c-4331-dd36-c2704e6ab7b3",
        "colab": {
          "base_uri": "https://localhost:8080/"
        }
      },
      "execution_count": 20,
      "outputs": [
        {
          "output_type": "execute_result",
          "data": {
            "text/plain": [
              "array([-0.06196029,  0.05189197,  0.03404605,  0.01266391, -0.03766111,\n",
              "        0.0149563 , -0.01642964, -0.05556491], dtype=float32)"
            ]
          },
          "metadata": {},
          "execution_count": 20
        }
      ]
    },
    {
      "cell_type": "code",
      "source": [
        "# współczynniki wagowe po procesie uczenia\n",
        "weights = model.get_layer('wmi-embedding').get_weights()[0]\n",
        "weights"
      ],
      "metadata": {
        "colab": {
          "base_uri": "https://localhost:8080/"
        },
        "id": "PgY1F_1lYjYG",
        "outputId": "bca91cc7-0203-4aa7-dd20-6698d23bf0e4"
      },
      "execution_count": null,
      "outputs": [
        {
          "output_type": "execute_result",
          "data": {
            "text/plain": [
              "array([[-0.03009913, -0.00630149,  0.0342323 ,  0.01805471,  0.06167956,\n",
              "         0.00113893,  0.02289555, -0.02222595],\n",
              "       [-0.01105039, -0.04499513, -0.03836181,  0.03077323, -0.03992243,\n",
              "         0.0205842 ,  0.03690166,  0.01182785],\n",
              "       [ 0.03931007,  0.0332411 , -0.02449536,  0.04234358, -0.02865002,\n",
              "        -0.02046877, -0.04550374,  0.0124355 ],\n",
              "       [ 0.03039586, -0.01549249, -0.06457781, -0.04556405,  0.05187008,\n",
              "        -0.00945957,  0.01318602,  0.00998955],\n",
              "       [-0.03129976, -0.04079033,  0.00189749, -0.00822543, -0.01110489,\n",
              "         0.03223442, -0.03374512,  0.04087931],\n",
              "       [ 0.00985133, -0.02279192, -0.01687478, -0.01793376, -0.04266423,\n",
              "        -0.00629946,  0.00442138,  0.0423224 ],\n",
              "       [ 0.05824323, -0.04865115, -0.06101409,  0.06110463, -0.03932475,\n",
              "        -0.01994795, -0.00240081,  0.02697068],\n",
              "       [-0.00622816,  0.04052174,  0.03413934, -0.00963069, -0.00119922,\n",
              "        -0.01906306, -0.02322131, -0.02563559],\n",
              "       [-0.03091912, -0.03826197,  0.03231089, -0.04153037, -0.00300818,\n",
              "        -0.00077502, -0.04807448, -0.02675071],\n",
              "       [-0.01889624, -0.05293043, -0.03730579, -0.06427313,  0.02048223,\n",
              "        -0.05312172, -0.0162063 ,  0.05417044],\n",
              "       [-0.01393424, -0.03588765, -0.02593997, -0.03166169, -0.0316993 ,\n",
              "         0.00920903, -0.03724004, -0.03943235],\n",
              "       [ 0.02611289,  0.00550929,  0.02308566,  0.02387592,  0.04792864,\n",
              "        -0.03249586, -0.02425538,  0.02527553],\n",
              "       [ 0.04538517, -0.03370275, -0.03182483,  0.0085959 , -0.01299221,\n",
              "        -0.02690336, -0.01711172,  0.04444827],\n",
              "       [-0.03547437, -0.038284  , -0.03073012,  0.00113694,  0.02366705,\n",
              "         0.00548368, -0.0382485 ,  0.04746607],\n",
              "       [ 0.0026721 ,  0.00716252,  0.01942338,  0.00805057,  0.02776637,\n",
              "         0.04586283,  0.00185182,  0.01770658],\n",
              "       [-0.00854937, -0.03861558, -0.00027876, -0.01766967,  0.01463356,\n",
              "        -0.00533907,  0.02410189, -0.03954315],\n",
              "       [-0.04074144,  0.02886948, -0.02446743, -0.02790551, -0.02862395,\n",
              "        -0.03017635,  0.03661897,  0.02490382],\n",
              "       [ 0.02076766,  0.04277538,  0.03525878,  0.02260586,  0.03001019,\n",
              "         0.04230485,  0.03409651,  0.00312556],\n",
              "       [-0.04907067,  0.04881244,  0.03943838,  0.00546638, -0.04366922,\n",
              "         0.04140807,  0.03805855,  0.04623942],\n",
              "       [ 0.02777067, -0.05815253, -0.03205901, -0.03047882, -0.02758796,\n",
              "         0.01354245, -0.03015187,  0.00818389],\n",
              "       [-0.02289808, -0.01716096,  0.01199786, -0.00190925, -0.06134892,\n",
              "         0.0086099 ,  0.01147896, -0.01602098],\n",
              "       [ 0.01209998,  0.02525046, -0.04281208, -0.03999019, -0.0322996 ,\n",
              "        -0.01436663, -0.010087  ,  0.0043255 ],\n",
              "       [-0.02366785, -0.04306623,  0.0305717 ,  0.02978066, -0.03738502,\n",
              "        -0.00533078, -0.03287537, -0.03338492],\n",
              "       [ 0.01778161, -0.01631891, -0.01821108, -0.02917477, -0.05369677,\n",
              "         0.00583481,  0.01064171, -0.0089508 ],\n",
              "       [-0.04296001, -0.01734372,  0.02625776,  0.01461634, -0.02470598,\n",
              "        -0.01930195, -0.00997838,  0.02474654],\n",
              "       [-0.03301773,  0.00389197, -0.03759861,  0.01980976, -0.01036765,\n",
              "         0.04690797, -0.027789  , -0.01766715],\n",
              "       [-0.04877131, -0.02792235,  0.03048558,  0.03127667,  0.03020135,\n",
              "         0.02176155,  0.02517735, -0.00356483],\n",
              "       [ 0.02824892,  0.02432298, -0.05385323,  0.0223917 ,  0.05383173,\n",
              "         0.00029686,  0.00719528,  0.01373331],\n",
              "       [-0.03786093, -0.04141948, -0.01108301, -0.04220359,  0.02036388,\n",
              "        -0.03021479, -0.01967194, -0.04540139],\n",
              "       [ 0.04588735, -0.04372058,  0.02029682,  0.01715031,  0.02341891,\n",
              "        -0.01056087,  0.00811173, -0.03263372],\n",
              "       [ 0.05494939, -0.022076  , -0.02764204, -0.01610115, -0.02888934,\n",
              "         0.04263815,  0.00501736, -0.00972661],\n",
              "       [ 0.02828372,  0.02031418, -0.02624087,  0.03015276,  0.03324933,\n",
              "         0.02430553, -0.0084855 , -0.00047551],\n",
              "       [ 0.03403039,  0.00138159,  0.01643368, -0.03222535,  0.03859894,\n",
              "        -0.02988282, -0.03713883, -0.00903558],\n",
              "       [ 0.00166281,  0.01122928,  0.01601669,  0.0167122 , -0.03211391,\n",
              "         0.01756286, -0.04032375, -0.01084073],\n",
              "       [-0.01156603, -0.00584706,  0.00416813, -0.02447762,  0.00184725,\n",
              "         0.02442606,  0.05998112,  0.03062968],\n",
              "       [ 0.03794018, -0.02621156,  0.03942521, -0.03907083, -0.01989326,\n",
              "         0.009552  ,  0.04432282, -0.03631976],\n",
              "       [ 0.02809298,  0.03457626, -0.01294266,  0.02168388,  0.04586243,\n",
              "         0.01464386, -0.01893159, -0.04207019],\n",
              "       [-0.05579909,  0.00621145, -0.0108909 , -0.05185451, -0.0038792 ,\n",
              "        -0.05800541, -0.03897976, -0.03256416],\n",
              "       [ 0.05564129, -0.02671155,  0.02317773,  0.02291272,  0.04456298,\n",
              "         0.03737268, -0.0263662 ,  0.04781132],\n",
              "       [ 0.00112293, -0.03203535,  0.03001701, -0.01255659, -0.02232736,\n",
              "        -0.03831363,  0.03064791,  0.00286362],\n",
              "       [-0.03046702, -0.01228498,  0.03831314,  0.02687771, -0.02262273,\n",
              "         0.03102101,  0.03775413, -0.01142903],\n",
              "       [-0.01986565,  0.00088105,  0.02871624, -0.0379135 ,  0.04005476,\n",
              "        -0.03111467, -0.00449194, -0.04207156],\n",
              "       [-0.03074848, -0.03023846,  0.00154166, -0.01003977, -0.03298718,\n",
              "        -0.00904014,  0.04294384,  0.02551268],\n",
              "       [-0.02521471,  0.01021826, -0.00619928,  0.01987866, -0.03923151,\n",
              "         0.02679934, -0.0289766 , -0.02995199],\n",
              "       [ 0.04737285,  0.04490144,  0.02039145,  0.03918282,  0.0090789 ,\n",
              "         0.00286344,  0.00281423, -0.00717366],\n",
              "       [-0.02157156, -0.02988846, -0.02128855, -0.01752361, -0.02897755,\n",
              "         0.04246083,  0.02175901, -0.00209975],\n",
              "       [ 0.02141101, -0.03705601,  0.0453755 , -0.04699892,  0.03566476,\n",
              "        -0.03811115, -0.03217019, -0.01531062],\n",
              "       [ 0.03647541, -0.04647538,  0.00254878, -0.04894053, -0.0202883 ,\n",
              "         0.01895342,  0.04947672,  0.04260382],\n",
              "       [-0.04939618, -0.0244723 , -0.03209107,  0.03301983, -0.03187815,\n",
              "        -0.01968796, -0.00077571,  0.00411898],\n",
              "       [ 0.04007271,  0.0346345 ,  0.00291514,  0.04785872, -0.00252356,\n",
              "         0.0021171 , -0.04808753, -0.02094792]], dtype=float32)"
            ]
          },
          "metadata": {},
          "execution_count": 27
        }
      ]
    },
    {
      "cell_type": "code",
      "source": [
        "em_before"
      ],
      "metadata": {
        "id": "gTMJQYPkmI6N",
        "outputId": "eed9df84-5394-44af-81a7-0fe01c26143c",
        "colab": {
          "base_uri": "https://localhost:8080/"
        }
      },
      "execution_count": null,
      "outputs": [
        {
          "output_type": "execute_result",
          "data": {
            "text/plain": [
              "array([-0.03778084, -0.02177254,  0.04917517,  0.0027841 ,  0.04664195,\n",
              "        0.01617683,  0.03783524, -0.03718925], dtype=float32)"
            ]
          },
          "metadata": {},
          "execution_count": 28
        }
      ]
    },
    {
      "cell_type": "code",
      "source": [
        "em_after"
      ],
      "metadata": {
        "id": "IyLmnw8qmLrb",
        "outputId": "7f30669c-093b-4136-9b6c-06a53ee67f2f",
        "colab": {
          "base_uri": "https://localhost:8080/"
        }
      },
      "execution_count": null,
      "outputs": [
        {
          "output_type": "execute_result",
          "data": {
            "text/plain": [
              "array([-0.03009913, -0.00630149,  0.0342323 ,  0.01805471,  0.06167956,\n",
              "        0.00113893,  0.02289555, -0.02222595], dtype=float32)"
            ]
          },
          "metadata": {},
          "execution_count": 29
        }
      ]
    },
    {
      "cell_type": "markdown",
      "source": [
        "**Przygotowanie danych do prezentacji współczynników wagowych wyuczonej warstwy Embedding  na platformie Embedding Projector**"
      ],
      "metadata": {
        "id": "PCFQGE5RfhCJ"
      }
    },
    {
      "cell_type": "code",
      "source": [
        "# definicja funkcji standaryzującej\n",
        "\n",
        "import tensorflow as tf\n",
        "\n",
        "def custom_standardization(input_data):\n",
        "  lowercase = tf.strings.lower(input_data)\n",
        "\n",
        "  return lowercase\n"
      ],
      "metadata": {
        "id": "0M4KdkbWbWAv"
      },
      "execution_count": 23,
      "outputs": []
    },
    {
      "cell_type": "code",
      "source": [
        "from tensorflow.keras.layers import TextVectorization\n",
        "\n",
        "vectorize_layer = TextVectorization(\n",
        "    standardize=custom_standardization,\n",
        "    max_tokens=Vocab_size,\n",
        "    output_mode='int',\n",
        "    output_sequence_length=max_length)\n",
        "\n"
      ],
      "metadata": {
        "id": "eUsE_KndZtqR"
      },
      "execution_count": 24,
      "outputs": []
    },
    {
      "cell_type": "code",
      "source": [
        "vectorize_layer.adapt(reviews)"
      ],
      "metadata": {
        "id": "-yvo1prcbiwf"
      },
      "execution_count": 25,
      "outputs": []
    },
    {
      "cell_type": "code",
      "source": [
        "vocab = vectorize_layer.get_vocabulary()\n"
      ],
      "metadata": {
        "id": "CyMVoCj_b_9Y"
      },
      "execution_count": 26,
      "outputs": []
    },
    {
      "cell_type": "code",
      "source": [
        "vocab"
      ],
      "metadata": {
        "colab": {
          "base_uri": "https://localhost:8080/"
        },
        "id": "RmhB8uYncBZx",
        "outputId": "536a83a3-ac2a-4cb3-fd94-6cdf87602b91"
      },
      "execution_count": 29,
      "outputs": [
        {
          "output_type": "execute_result",
          "data": {
            "text/plain": [
              "['',\n",
              " '[UNK]',\n",
              " 'horrible',\n",
              " 'awesome',\n",
              " 'work',\n",
              " 'waitress',\n",
              " 'services!',\n",
              " 'service',\n",
              " 'rude',\n",
              " 'rocks',\n",
              " 'poor',\n",
              " 'never',\n",
              " 'have',\n",
              " 'food!',\n",
              " 'food',\n",
              " 'done',\n",
              " \"couldn't\",\n",
              " 'coming',\n",
              " 'cold',\n",
              " 'better',\n",
              " 'back!']"
            ]
          },
          "metadata": {},
          "execution_count": 29
        }
      ]
    },
    {
      "cell_type": "code",
      "source": [
        "import io\n",
        "import os\n",
        "out_v = io.open('/content/drive/MyDrive/dane/modele/vectors01.tsv', 'w', encoding='utf-8')\n",
        "out_m = io.open('/content/drive/MyDrive/dane/modele/metadata01.tsv', 'w', encoding='utf-8')\n",
        "\n",
        "for index, word in enumerate(vocab):\n",
        "  if index == 0:\n",
        "    continue  # pomijając 0, bo jest to wypełnienie.\n",
        "  vec = weights[index]\n",
        "  out_v.write('\\t'.join([str(x) for x in vec]) + \"\\n\")\n",
        "  out_m.write(word + \"\\n\")\n",
        "out_v.close()\n",
        "out_m.close()"
      ],
      "metadata": {
        "id": "k8a0FeNKcLQc"
      },
      "execution_count": 31,
      "outputs": []
    },
    {
      "cell_type": "code",
      "source": [
        "try:\n",
        "  from google.colab import files\n",
        "  files.download('/content/drive/MyDrive/dane/modele/vectors01.tsv')\n",
        "  files.download('/content/drive/MyDrive/dane/modele/metadata01.tsv')\n",
        "except Exception:\n",
        "  pass"
      ],
      "metadata": {
        "id": "F1dCRzkD_r7f",
        "outputId": "e9c380b5-3465-4f78-b419-07cbcfd21f9f",
        "colab": {
          "base_uri": "https://localhost:8080/",
          "height": 17
        }
      },
      "execution_count": 32,
      "outputs": [
        {
          "output_type": "display_data",
          "data": {
            "text/plain": [
              "<IPython.core.display.Javascript object>"
            ],
            "application/javascript": [
              "\n",
              "    async function download(id, filename, size) {\n",
              "      if (!google.colab.kernel.accessAllowed) {\n",
              "        return;\n",
              "      }\n",
              "      const div = document.createElement('div');\n",
              "      const label = document.createElement('label');\n",
              "      label.textContent = `Downloading \"${filename}\": `;\n",
              "      div.appendChild(label);\n",
              "      const progress = document.createElement('progress');\n",
              "      progress.max = size;\n",
              "      div.appendChild(progress);\n",
              "      document.body.appendChild(div);\n",
              "\n",
              "      const buffers = [];\n",
              "      let downloaded = 0;\n",
              "\n",
              "      const channel = await google.colab.kernel.comms.open(id);\n",
              "      // Send a message to notify the kernel that we're ready.\n",
              "      channel.send({})\n",
              "\n",
              "      for await (const message of channel.messages) {\n",
              "        // Send a message to notify the kernel that we're ready.\n",
              "        channel.send({})\n",
              "        if (message.buffers) {\n",
              "          for (const buffer of message.buffers) {\n",
              "            buffers.push(buffer);\n",
              "            downloaded += buffer.byteLength;\n",
              "            progress.value = downloaded;\n",
              "          }\n",
              "        }\n",
              "      }\n",
              "      const blob = new Blob(buffers, {type: 'application/binary'});\n",
              "      const a = document.createElement('a');\n",
              "      a.href = window.URL.createObjectURL(blob);\n",
              "      a.download = filename;\n",
              "      div.appendChild(a);\n",
              "      a.click();\n",
              "      div.remove();\n",
              "    }\n",
              "  "
            ]
          },
          "metadata": {}
        },
        {
          "output_type": "display_data",
          "data": {
            "text/plain": [
              "<IPython.core.display.Javascript object>"
            ],
            "application/javascript": [
              "download(\"download_76ff14dd-f3ab-4f69-8cf9-e0dea91664ee\", \"vectors01.tsv\", 1997)"
            ]
          },
          "metadata": {}
        },
        {
          "output_type": "display_data",
          "data": {
            "text/plain": [
              "<IPython.core.display.Javascript object>"
            ],
            "application/javascript": [
              "\n",
              "    async function download(id, filename, size) {\n",
              "      if (!google.colab.kernel.accessAllowed) {\n",
              "        return;\n",
              "      }\n",
              "      const div = document.createElement('div');\n",
              "      const label = document.createElement('label');\n",
              "      label.textContent = `Downloading \"${filename}\": `;\n",
              "      div.appendChild(label);\n",
              "      const progress = document.createElement('progress');\n",
              "      progress.max = size;\n",
              "      div.appendChild(progress);\n",
              "      document.body.appendChild(div);\n",
              "\n",
              "      const buffers = [];\n",
              "      let downloaded = 0;\n",
              "\n",
              "      const channel = await google.colab.kernel.comms.open(id);\n",
              "      // Send a message to notify the kernel that we're ready.\n",
              "      channel.send({})\n",
              "\n",
              "      for await (const message of channel.messages) {\n",
              "        // Send a message to notify the kernel that we're ready.\n",
              "        channel.send({})\n",
              "        if (message.buffers) {\n",
              "          for (const buffer of message.buffers) {\n",
              "            buffers.push(buffer);\n",
              "            downloaded += buffer.byteLength;\n",
              "            progress.value = downloaded;\n",
              "          }\n",
              "        }\n",
              "      }\n",
              "      const blob = new Blob(buffers, {type: 'application/binary'});\n",
              "      const a = document.createElement('a');\n",
              "      a.href = window.URL.createObjectURL(blob);\n",
              "      a.download = filename;\n",
              "      div.appendChild(a);\n",
              "      a.click();\n",
              "      div.remove();\n",
              "    }\n",
              "  "
            ]
          },
          "metadata": {}
        },
        {
          "output_type": "display_data",
          "data": {
            "text/plain": [
              "<IPython.core.display.Javascript object>"
            ],
            "application/javascript": [
              "download(\"download_b490d048-a2cc-46df-8af7-45fdcc5d0277\", \"metadata01.tsv\", 132)"
            ]
          },
          "metadata": {}
        }
      ]
    },
    {
      "cell_type": "markdown",
      "source": [
        "Zapisać dane do katalogu: C:\\_T\n",
        "\n",
        "!!! analiza relacji do słowa : awesom"
      ],
      "metadata": {
        "id": "lgusdxDT0Uvx"
      }
    },
    {
      "cell_type": "markdown",
      "source": [
        " http://projector.tensorflow.org/?_gl=1*rggcgk*_ga*NzAyNjA5OTg4LjE2OTQ1MDIxMDc.*_ga_W0YLR4190T*MTcwMDgyODU5Ny44LjEuMTcwMDgzMDA3MS4wLjAuMA..\n"
      ],
      "metadata": {
        "id": "0u7rcXMEdbec"
      }
    },
    {
      "cell_type": "markdown",
      "source": [],
      "metadata": {
        "id": "U1eWb3dt0HNy"
      }
    }
  ]
}