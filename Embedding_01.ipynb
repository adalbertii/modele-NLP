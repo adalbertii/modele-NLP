{
  "nbformat": 4,
  "nbformat_minor": 0,
  "metadata": {
    "colab": {
      "provenance": [],
      "mount_file_id": "https://github.com/adalbertii/modele-NLP/blob/main/Embedding_01.ipynb",
      "authorship_tag": "ABX9TyOAJv9xTFjcrVpxSuDtt81H",
      "include_colab_link": true
    },
    "kernelspec": {
      "name": "python3",
      "display_name": "Python 3"
    },
    "language_info": {
      "name": "python"
    }
  },
  "cells": [
    {
      "cell_type": "markdown",
      "metadata": {
        "id": "view-in-github",
        "colab_type": "text"
      },
      "source": [
        "<a href=\"https://colab.research.google.com/github/adalbertii/modele-NLP/blob/main/Embedding_01.ipynb\" target=\"_parent\"><img src=\"https://colab.research.google.com/assets/colab-badge.svg\" alt=\"Open In Colab\"/></a>"
      ]
    },
    {
      "cell_type": "code",
      "execution_count": 1,
      "metadata": {
        "id": "3D8Zm0MLH15R"
      },
      "outputs": [],
      "source": [
        "from tensorflow.keras.models import Sequential\n",
        "from tensorflow.keras.layers import Embedding\n",
        "import numpy as np"
      ]
    },
    {
      "cell_type": "markdown",
      "source": [
        "**Budowanie warstwy Embedding dla słownika składającego się z 10 cyfr**\n",
        "\n",
        "Bez procesu uczenia"
      ],
      "metadata": {
        "id": "mz06_Mqv_t_N"
      }
    },
    {
      "cell_type": "code",
      "source": [
        "# utworzenie prostego modelu z warstwą Embedding\n",
        "model = Sequential()\n",
        "embedding_layer = Embedding(input_dim=10,output_dim=4,input_length=2)\n",
        "model.add(embedding_layer)\n",
        "model.compile('adam','mse')\n",
        "\n",
        "# input_dim - rozmiar słownika\n",
        "# output_dim - długość wektora dla  każdego słowa\n",
        "# input_length - maksymalna długość sekwencji\n",
        "\n",
        "# W powyższym przykładzie ustawiamy 10 jako rozmiar słownictwa, ponieważ będziemy kodować liczby od 0 do 9.\n",
        "# Chcemy, aby długość wektora słów wynosiła 4, stąd output_dim jest ustawione na 4.\n",
        "# Długość sekwencji wejściowej do warstwy osadzania będzie wynosić 2 (będziemy podawać na wejściu sieci dwie cyfry)"
      ],
      "metadata": {
        "id": "POU5qXfQIKfF"
      },
      "execution_count": 2,
      "outputs": []
    },
    {
      "cell_type": "code",
      "source": [
        "model.summary()"
      ],
      "metadata": {
        "colab": {
          "base_uri": "https://localhost:8080/"
        },
        "id": "05FrbPgKAK1-",
        "outputId": "7e182aed-9364-4f1a-df4a-5be005c0afeb"
      },
      "execution_count": 3,
      "outputs": [
        {
          "output_type": "stream",
          "name": "stdout",
          "text": [
            "Model: \"sequential\"\n",
            "_________________________________________________________________\n",
            " Layer (type)                Output Shape              Param #   \n",
            "=================================================================\n",
            " embedding (Embedding)       (None, 2, 4)              40        \n",
            "                                                                 \n",
            "=================================================================\n",
            "Total params: 40 (160.00 Byte)\n",
            "Trainable params: 40 (160.00 Byte)\n",
            "Non-trainable params: 0 (0.00 Byte)\n",
            "_________________________________________________________________\n"
          ]
        }
      ]
    },
    {
      "cell_type": "code",
      "source": [
        "# wydruk wspólczynników wagowych warstwy Embedding\n",
        "# Poniewaćż nie inicjujemy procesu uczenia wartości wag są losowe\n",
        "\n",
        "print(model.weights)"
      ],
      "metadata": {
        "colab": {
          "base_uri": "https://localhost:8080/"
        },
        "id": "YJlcJUGRAUXQ",
        "outputId": "74bc02af-4b86-4e98-fab3-5677a51b8310"
      },
      "execution_count": 4,
      "outputs": [
        {
          "output_type": "stream",
          "name": "stdout",
          "text": [
            "[<tf.Variable 'embedding/embeddings:0' shape=(10, 4) dtype=float32, numpy=\n",
            "array([[ 0.00021958,  0.03717602, -0.01824671, -0.04940697],\n",
            "       [-0.02323859, -0.00219614, -0.0175126 ,  0.03960763],\n",
            "       [ 0.00586162,  0.04871941,  0.04747292,  0.04445548],\n",
            "       [ 0.04390179, -0.01627582, -0.03789159, -0.03464413],\n",
            "       [-0.04100555, -0.02270778, -0.02372514, -0.02158525],\n",
            "       [-0.00045222,  0.00898825, -0.00767557,  0.02791191],\n",
            "       [-0.02979507, -0.02571323,  0.00733351, -0.02056305],\n",
            "       [ 0.02124958,  0.01047022, -0.01755212,  0.01469008],\n",
            "       [-0.02091835,  0.03458594,  0.02957073,  0.03916608],\n",
            "       [ 0.00290925, -0.03777244,  0.02196615,  0.04611422]],\n",
            "      dtype=float32)>]\n"
          ]
        }
      ]
    },
    {
      "cell_type": "markdown",
      "source": [
        "Te wagi są reprezentacjami wektorowymi słów w słownictwie.\n",
        "Tabela wag o rozmiarze 10 x 4, dla słów od 0 do 9.\n"
      ],
      "metadata": {
        "id": "I-AX-B2SEHm5"
      }
    },
    {
      "cell_type": "code",
      "source": [
        "# Teraz przekażmy przykładowe dane wejściowe do  modelu i zobaczmy wyniki.\n",
        "input_data = np.array([[1,2]])\n",
        "pred = model.predict(input_data)\n",
        "print(\"-----------------------------------------------------------------\")\n",
        "print(\"Dane wejściowe modelu:\", input_data.shape)\n",
        "\n",
        "print(\"-----------------------------------------------------------------\")\n",
        "print(\"\")\n",
        "print(\"Wartości wag warstwy Embedding dla podanych na wejsciu danych:\")\n",
        "print(pred)"
      ],
      "metadata": {
        "colab": {
          "base_uri": "https://localhost:8080/"
        },
        "id": "Dy4pcRPlJXEA",
        "outputId": "7d5fc034-83bd-494e-dd77-c6f99f7e7384"
      },
      "execution_count": 5,
      "outputs": [
        {
          "output_type": "stream",
          "name": "stdout",
          "text": [
            "1/1 [==============================] - 0s 164ms/step\n",
            "-----------------------------------------------------------------\n",
            "Dane wejściowe modelu: (1, 2)\n",
            "-----------------------------------------------------------------\n",
            "\n",
            "Wartości wag warstwy Embedding dla podanych na wejsciu danych:\n",
            "[[[-0.02323859 -0.00219614 -0.0175126   0.03960763]\n",
            "  [ 0.00586162  0.04871941  0.04747292  0.04445548]]]\n"
          ]
        }
      ]
    },
    {
      "cell_type": "markdown",
      "source": [
        "Jak widać, każde słowo (1 i 2) jest reprezentowane przez wektor o długości 4."
      ],
      "metadata": {
        "id": "40b5QDksJuXB"
      }
    },
    {
      "cell_type": "markdown",
      "source": [
        "W tym przykładzie nie wytrenowaliśmy warstwy osadzania. Wagi przypisane do wektorów słów są inicjowane losowo."
      ],
      "metadata": {
        "id": "iiYcMjV0K2U2"
      }
    },
    {
      "cell_type": "markdown",
      "source": [
        "**Klasyfikacja recenzji restauracji**\n",
        "\n",
        "\n",
        "Tok działań:    \n",
        "*   Tokenizacja zdań na słowa.\n",
        "*   Utwórzenie zakodowanego wektor \"one-hot\" dla każdego słowa.\n",
        "*   Użycie funkcji \"Padding\", w celu ujednolicenia rozmiaru sekekwencji wejściowej modelu (upewnienia się, że wszystkie sekwencje mają tę samą długość).\n",
        "*   Przekazanie wypełnionych sekwencji jako danych wejściowwych do warstwy Embedding.\n",
        "*   Spłaszczennie danych do wktora i zastostosowanie  warstwę Dense, aby przewidywać etykietę\n",
        "\n",
        "    \n",
        "    "
      ],
      "metadata": {
        "id": "OZAUMIRlVF3O"
      }
    },
    {
      "cell_type": "code",
      "source": [
        "from numpy import array\n",
        "from tensorflow.keras.preprocessing.text import one_hot\n",
        "from tensorflow.keras.preprocessing.sequence import pad_sequences\n",
        "from tensorflow.keras.models import Sequential\n",
        "from tensorflow.keras.layers import Flatten,Embedding,Dense"
      ],
      "metadata": {
        "id": "SGtqray1K1fP"
      },
      "execution_count": 6,
      "outputs": []
    },
    {
      "cell_type": "markdown",
      "source": [
        "Aby to uprościć, użyjemy łącznie tylko  10 przykładowych, prostych  recenzji. Połowa z nich jest pozytywna, reprezentowana przez 0, a druga połowa jest negatywna, reprezentowana przez 1."
      ],
      "metadata": {
        "id": "pEjyX81-WjuG"
      }
    },
    {
      "cell_type": "code",
      "source": [
        "#definicja 10 recencji\n",
        "reviews =[\n",
        "          'Never coming back!',\n",
        "          'horrible service',\n",
        "          'rude waitress',\n",
        "          'cold food',\n",
        "          'horrible food!',\n",
        "          'awesome',\n",
        "          'awesome services!',\n",
        "          'rocks',\n",
        "          'poor work',\n",
        "          'couldn\\'t have done better'\n",
        "]\n",
        "\n",
        "#definicja etykiet (1-negatywane, 0-pozytywna)\n",
        "labels = array([1,1,1,1,1,0,0,0,0,0])"
      ],
      "metadata": {
        "id": "OiQT-Ga8WaZi"
      },
      "execution_count": 7,
      "outputs": []
    },
    {
      "cell_type": "markdown",
      "source": [
        "Przyjmiemy rozmiar słownictwa jako 50 i zakodujemy słowa za pomocą funkcji \"one_hot\" z Keras."
      ],
      "metadata": {
        "id": "y9ViQAMNu_0b"
      }
    },
    {
      "cell_type": "code",
      "source": [
        "Vocab_size = 50\n",
        "encoded_reviews = [one_hot(d,Vocab_size) for d in reviews]\n",
        "print(f'encoded reviews: {encoded_reviews}')"
      ],
      "metadata": {
        "colab": {
          "base_uri": "https://localhost:8080/"
        },
        "id": "Up1N-FAjW2em",
        "outputId": "d882d0ac-17ae-41c4-db8b-c9fd0863085d"
      },
      "execution_count": 9,
      "outputs": [
        {
          "output_type": "stream",
          "name": "stdout",
          "text": [
            "encoded reviews: [[38, 20, 38], [6, 30], [39, 43], [34, 23], [6, 23], [38], [38, 9], [45], [20, 37], [39, 27, 3, 19]]\n"
          ]
        }
      ]
    },
    {
      "cell_type": "markdown",
      "source": [
        "Widać, że długość każdej zakodowanej recenzji jest równa liczbie słów w tej recenzji. Keras one_hot  konwertuje każde słowo na zakodowany indeks one-hot.\n",
        "\n",
        "Teraz musimy zastosować \"padding\", aby wszystkie zakodowane recenzje miały tę samą długość.\n",
        "\n",
        "Zdefiniujmy 4 jako maksymalną długość i wypełnijmy zakodowane wektory zerami na końcu."
      ],
      "metadata": {
        "id": "KlAF6u8JvnEZ"
      }
    },
    {
      "cell_type": "code",
      "source": [
        "max_length = 4\n",
        "padded_reviews = pad_sequences(encoded_reviews,maxlen=max_length,padding='post')\n",
        "print(padded_reviews)\n",
        "\n",
        "#Wypełnione i zakodowane recenzje będą wyglądać następująco:"
      ],
      "metadata": {
        "colab": {
          "base_uri": "https://localhost:8080/"
        },
        "id": "eCsGqQn7v0Ug",
        "outputId": "2668ed90-079e-4243-8790-401d6d52f954"
      },
      "execution_count": 10,
      "outputs": [
        {
          "output_type": "stream",
          "name": "stdout",
          "text": [
            "[[38 20 38  0]\n",
            " [ 6 30  0  0]\n",
            " [39 43  0  0]\n",
            " [34 23  0  0]\n",
            " [ 6 23  0  0]\n",
            " [38  0  0  0]\n",
            " [38  9  0  0]\n",
            " [45  0  0  0]\n",
            " [20 37  0  0]\n",
            " [39 27  3 19]]\n"
          ]
        }
      ]
    },
    {
      "cell_type": "markdown",
      "source": [
        "Po utworzeniu ujednoliconej pod względem rozmiaru, zakodowanje  reprezentacji recenzji, jesteśmy gotowi do przekazania jej jako danych wejściowych do warstwy osadzania.\n",
        "\n",
        "W poniższym fragmencie kodu tworzymy prosty model Keras.\n",
        "\n",
        "Ustalimy arbitralnie długość osadzonych wektorów dla każdego słowa na 8, a długość wejściowa będzie maksymalną długością, którą już zdefiniowaliśmy jako 4."
      ],
      "metadata": {
        "id": "tORfLAZlwWjJ"
      }
    },
    {
      "cell_type": "code",
      "source": [
        "embedding_layer = Embedding(input_dim=Vocab_size,output_dim=8,input_length=max_length, name=\"wmi-embedding\")"
      ],
      "metadata": {
        "id": "ZMpvLiokGPWc"
      },
      "execution_count": 17,
      "outputs": []
    },
    {
      "cell_type": "code",
      "source": [
        "model = Sequential()\n",
        "model.add(embedding_layer)\n",
        "model.add(Flatten())\n",
        "model.add(Dense(1,activation='sigmoid'))\n",
        "model.compile(optimizer='adam',loss='binary_crossentropy',metrics=['accuracy'])"
      ],
      "metadata": {
        "id": "12Tn92XCwlM3"
      },
      "execution_count": 18,
      "outputs": []
    },
    {
      "cell_type": "code",
      "source": [
        "print(model.summary())"
      ],
      "metadata": {
        "colab": {
          "base_uri": "https://localhost:8080/"
        },
        "id": "NcIRcE_swypf",
        "outputId": "9dc195b2-2730-463e-dc12-ea5f9f1bb2ee"
      },
      "execution_count": 19,
      "outputs": [
        {
          "output_type": "stream",
          "name": "stdout",
          "text": [
            "Model: \"sequential_2\"\n",
            "_________________________________________________________________\n",
            " Layer (type)                Output Shape              Param #   \n",
            "=================================================================\n",
            " wmi-embedding (Embedding)   (None, 4, 8)              400       \n",
            "                                                                 \n",
            " flatten_1 (Flatten)         (None, 32)                0         \n",
            "                                                                 \n",
            " dense_1 (Dense)             (None, 1)                 33        \n",
            "                                                                 \n",
            "=================================================================\n",
            "Total params: 433 (1.69 KB)\n",
            "Trainable params: 433 (1.69 KB)\n",
            "Non-trainable params: 0 (0.00 Byte)\n",
            "_________________________________________________________________\n",
            "None\n"
          ]
        }
      ]
    },
    {
      "cell_type": "code",
      "source": [
        "# współczynniki wagowe przed procesem uczenia\n",
        "\n",
        "weights = model.get_layer('wmi-embedding').get_weights()[0]\n",
        "weights"
      ],
      "metadata": {
        "id": "C_v6bD0Uk7kQ",
        "outputId": "9f17b8e9-784a-4d81-9046-89db36127a2e",
        "colab": {
          "base_uri": "https://localhost:8080/"
        }
      },
      "execution_count": 20,
      "outputs": [
        {
          "output_type": "execute_result",
          "data": {
            "text/plain": [
              "array([[-0.03778084, -0.02177254,  0.04917517,  0.0027841 ,  0.04664195,\n",
              "         0.01617683,  0.03783524, -0.03718925],\n",
              "       [-0.01105039, -0.04499513, -0.03836181,  0.03077323, -0.03992243,\n",
              "         0.0205842 ,  0.03690166,  0.01182785],\n",
              "       [ 0.03931007,  0.0332411 , -0.02449536,  0.04234358, -0.02865002,\n",
              "        -0.02046877, -0.04550374,  0.0124355 ],\n",
              "       [ 0.04537598, -0.03069611, -0.0495661 , -0.030461  ,  0.03682647,\n",
              "         0.00563582, -0.00189898, -0.00493021],\n",
              "       [-0.03129976, -0.04079033,  0.00189749, -0.00822543, -0.01110489,\n",
              "         0.03223442, -0.03374512,  0.04087931],\n",
              "       [ 0.00985133, -0.02279192, -0.01687478, -0.01793376, -0.04266423,\n",
              "        -0.00629946,  0.00442138,  0.0423224 ],\n",
              "       [ 0.04322511, -0.03373495, -0.04599873,  0.04595569, -0.02437735,\n",
              "        -0.00454123, -0.01736351,  0.04191119],\n",
              "       [-0.00622816,  0.04052174,  0.03413934, -0.00963069, -0.00119922,\n",
              "        -0.01906306, -0.02322131, -0.02563559],\n",
              "       [-0.03091912, -0.03826197,  0.03231089, -0.04153037, -0.00300818,\n",
              "        -0.00077502, -0.04807448, -0.02675071],\n",
              "       [-0.0038568 , -0.03804354, -0.02237682, -0.04947659,  0.00546462,\n",
              "        -0.03810885, -0.00124687,  0.03920739],\n",
              "       [-0.01393424, -0.03588765, -0.02593997, -0.03166169, -0.0316993 ,\n",
              "         0.00920903, -0.03724004, -0.03943235],\n",
              "       [ 0.02611289,  0.00550929,  0.02308566,  0.02387592,  0.04792864,\n",
              "        -0.03249586, -0.02425538,  0.02527553],\n",
              "       [ 0.04538517, -0.03370275, -0.03182483,  0.0085959 , -0.01299221,\n",
              "        -0.02690336, -0.01711172,  0.04444827],\n",
              "       [-0.03547437, -0.038284  , -0.03073012,  0.00113694,  0.02366705,\n",
              "         0.00548368, -0.0382485 ,  0.04746607],\n",
              "       [ 0.0026721 ,  0.00716252,  0.01942338,  0.00805057,  0.02776637,\n",
              "         0.04586283,  0.00185182,  0.01770658],\n",
              "       [-0.00854937, -0.03861558, -0.00027876, -0.01766967,  0.01463356,\n",
              "        -0.00533907,  0.02410189, -0.03954315],\n",
              "       [-0.04074144,  0.02886948, -0.02446743, -0.02790551, -0.02862395,\n",
              "        -0.03017635,  0.03661897,  0.02490382],\n",
              "       [ 0.02076766,  0.04277538,  0.03525878,  0.02260586,  0.03001019,\n",
              "         0.04230485,  0.03409651,  0.00312556],\n",
              "       [-0.04907067,  0.04881244,  0.03943838,  0.00546638, -0.04366922,\n",
              "         0.04140807,  0.03805855,  0.04623942],\n",
              "       [ 0.04272539, -0.04312864, -0.04688292, -0.01543923, -0.01239772,\n",
              "         0.02834592, -0.01513531, -0.00692123],\n",
              "       [-0.00789662, -0.03207512, -0.00299215, -0.00774431, -0.04596045,\n",
              "        -0.0064249 , -0.00347078, -0.0010411 ],\n",
              "       [ 0.01209998,  0.02525046, -0.04281208, -0.03999019, -0.0322996 ,\n",
              "        -0.01436663, -0.010087  ,  0.0043255 ],\n",
              "       [-0.02366785, -0.04306623,  0.0305717 ,  0.02978066, -0.03738502,\n",
              "        -0.00533078, -0.03287537, -0.03338492],\n",
              "       [ 0.00275058, -0.03119662, -0.03313049, -0.04396296, -0.03868831,\n",
              "        -0.00916874, -0.00430788,  0.00600241],\n",
              "       [-0.04296001, -0.01734372,  0.02625776,  0.01461634, -0.02470598,\n",
              "        -0.01930195, -0.00997838,  0.02474654],\n",
              "       [-0.03301773,  0.00389197, -0.03759861,  0.01980976, -0.01036765,\n",
              "         0.04690797, -0.027789  , -0.01766715],\n",
              "       [-0.04877131, -0.02792235,  0.03048558,  0.03127667,  0.03020135,\n",
              "         0.02176155,  0.02517735, -0.00356483],\n",
              "       [ 0.04328224,  0.0392029 , -0.03893105,  0.03718091,  0.03882041,\n",
              "         0.01530341,  0.02214806, -0.00122311],\n",
              "       [-0.03786093, -0.04141948, -0.01108301, -0.04220359,  0.02036388,\n",
              "        -0.03021479, -0.01967194, -0.04540139],\n",
              "       [ 0.04588735, -0.04372058,  0.02029682,  0.01715031,  0.02341891,\n",
              "        -0.01056087,  0.00811173, -0.03263372],\n",
              "       [ 0.03992068, -0.03695045, -0.04255898, -0.03088441, -0.01388275,\n",
              "         0.02763635, -0.00993036,  0.00522475],\n",
              "       [ 0.02828372,  0.02031418, -0.02624087,  0.03015276,  0.03324933,\n",
              "         0.02430553, -0.0084855 , -0.00047551],\n",
              "       [ 0.03403039,  0.00138159,  0.01643368, -0.03222535,  0.03859894,\n",
              "        -0.02988282, -0.03713883, -0.00903558],\n",
              "       [ 0.00166281,  0.01122928,  0.01601669,  0.0167122 , -0.03211391,\n",
              "         0.01756286, -0.04032375, -0.01084073],\n",
              "       [-0.02658517,  0.00906997,  0.01918458, -0.0396244 ,  0.01679596,\n",
              "         0.03981957,  0.04501858,  0.04557148],\n",
              "       [ 0.03794018, -0.02621156,  0.03942521, -0.03907083, -0.01989326,\n",
              "         0.009552  ,  0.04432282, -0.03631976],\n",
              "       [ 0.02809298,  0.03457626, -0.01294266,  0.02168388,  0.04586243,\n",
              "         0.01464386, -0.01893159, -0.04207019],\n",
              "       [-0.04075644,  0.02110201,  0.00404159, -0.03705399, -0.01890005,\n",
              "        -0.04298928, -0.02401692, -0.04753062],\n",
              "       [ 0.04073085, -0.04153124,  0.00815485,  0.00794754,  0.02970873,\n",
              "         0.0222026 , -0.01132803,  0.03281058],\n",
              "       [-0.01359146, -0.01749546,  0.04473523, -0.02705731, -0.0076804 ,\n",
              "        -0.02463547,  0.01618773,  0.01750084],\n",
              "       [-0.03046702, -0.01228498,  0.03831314,  0.02687771, -0.02262273,\n",
              "         0.03102101,  0.03775413, -0.01142903],\n",
              "       [-0.01986565,  0.00088105,  0.02871624, -0.0379135 ,  0.04005476,\n",
              "        -0.03111467, -0.00449194, -0.04207156],\n",
              "       [-0.03074848, -0.03023846,  0.00154166, -0.01003977, -0.03298718,\n",
              "        -0.00904014,  0.04294384,  0.02551268],\n",
              "       [-0.04024608, -0.00465924, -0.02111914,  0.00509211, -0.02422223,\n",
              "         0.01179484, -0.04392714, -0.0149978 ],\n",
              "       [ 0.04737285,  0.04490144,  0.02039145,  0.03918282,  0.0090789 ,\n",
              "         0.00286344,  0.00281423, -0.00717366],\n",
              "       [-0.00654479, -0.044814  , -0.03631263, -0.00237051, -0.04393451,\n",
              "         0.02706471,  0.03673   , -0.01704984],\n",
              "       [ 0.02141101, -0.03705601,  0.0453755 , -0.04699892,  0.03566476,\n",
              "        -0.03811115, -0.03217019, -0.01531062],\n",
              "       [ 0.03647541, -0.04647538,  0.00254878, -0.04894053, -0.0202883 ,\n",
              "         0.01895342,  0.04947672,  0.04260382],\n",
              "       [-0.04939618, -0.0244723 , -0.03209107,  0.03301983, -0.03187815,\n",
              "        -0.01968796, -0.00077571,  0.00411898],\n",
              "       [ 0.04007271,  0.0346345 ,  0.00291514,  0.04785872, -0.00252356,\n",
              "         0.0021171 , -0.04808753, -0.02094792]], dtype=float32)"
            ]
          },
          "metadata": {},
          "execution_count": 20
        }
      ]
    },
    {
      "cell_type": "code",
      "source": [
        "em_before = embedding_layer.get_weights()[0][0]"
      ],
      "metadata": {
        "id": "seVudGrGl_mt"
      },
      "execution_count": 21,
      "outputs": []
    },
    {
      "cell_type": "markdown",
      "source": [
        "**Proces uczenia zdefiniowanego modelu**"
      ],
      "metadata": {
        "id": "PL6nM8R5w6PI"
      }
    },
    {
      "cell_type": "code",
      "source": [
        "history = model.fit(padded_reviews,labels,epochs=15,verbose=1)"
      ],
      "metadata": {
        "colab": {
          "base_uri": "https://localhost:8080/"
        },
        "id": "n8foLJOqw_Ez",
        "outputId": "c560cc45-e362-4498-d14b-a8ba2a75e0f8"
      },
      "execution_count": 22,
      "outputs": [
        {
          "output_type": "stream",
          "name": "stdout",
          "text": [
            "Epoch 1/15\n",
            "1/1 [==============================] - 1s 662ms/step - loss: 0.6952 - accuracy: 0.5000\n",
            "Epoch 2/15\n",
            "1/1 [==============================] - 0s 16ms/step - loss: 0.6936 - accuracy: 0.5000\n",
            "Epoch 3/15\n",
            "1/1 [==============================] - 0s 12ms/step - loss: 0.6921 - accuracy: 0.6000\n",
            "Epoch 4/15\n",
            "1/1 [==============================] - 0s 12ms/step - loss: 0.6905 - accuracy: 0.6000\n",
            "Epoch 5/15\n",
            "1/1 [==============================] - 0s 17ms/step - loss: 0.6890 - accuracy: 0.6000\n",
            "Epoch 6/15\n",
            "1/1 [==============================] - 0s 16ms/step - loss: 0.6875 - accuracy: 0.7000\n",
            "Epoch 7/15\n",
            "1/1 [==============================] - 0s 14ms/step - loss: 0.6860 - accuracy: 0.7000\n",
            "Epoch 8/15\n",
            "1/1 [==============================] - 0s 12ms/step - loss: 0.6844 - accuracy: 0.7000\n",
            "Epoch 9/15\n",
            "1/1 [==============================] - 0s 13ms/step - loss: 0.6829 - accuracy: 0.8000\n",
            "Epoch 10/15\n",
            "1/1 [==============================] - 0s 17ms/step - loss: 0.6814 - accuracy: 0.8000\n",
            "Epoch 11/15\n",
            "1/1 [==============================] - 0s 12ms/step - loss: 0.6799 - accuracy: 0.8000\n",
            "Epoch 12/15\n",
            "1/1 [==============================] - 0s 15ms/step - loss: 0.6783 - accuracy: 0.8000\n",
            "Epoch 13/15\n",
            "1/1 [==============================] - 0s 13ms/step - loss: 0.6768 - accuracy: 0.9000\n",
            "Epoch 14/15\n",
            "1/1 [==============================] - 0s 12ms/step - loss: 0.6753 - accuracy: 0.9000\n",
            "Epoch 15/15\n",
            "1/1 [==============================] - 0s 12ms/step - loss: 0.6738 - accuracy: 0.9000\n"
          ]
        }
      ]
    },
    {
      "cell_type": "code",
      "source": [
        "import matplotlib.pyplot as plt\n",
        "%matplotlib inline\n",
        "\n",
        "plt.plot(history.history['accuracy'])\n",
        "\n",
        "plt.title('Model accuracy')\n",
        "plt.ylabel('Accuracy')\n",
        "plt.xlabel('Epoch')\n",
        "plt.legend(['Train', 'Validation'], loc='upper left')\n",
        "plt.show()"
      ],
      "metadata": {
        "id": "EsYE9GIhertO",
        "outputId": "e4f2dedc-caec-41a5-b9cd-3e71878d3966",
        "colab": {
          "base_uri": "https://localhost:8080/",
          "height": 472
        }
      },
      "execution_count": 23,
      "outputs": [
        {
          "output_type": "display_data",
          "data": {
            "text/plain": [
              "<Figure size 640x480 with 1 Axes>"
            ],
            "image/png": "[encoded data removed]"
          },
          "metadata": {}
        }
      ]
    },
    {
      "cell_type": "markdown",
      "source": [
        "Po zakończeniu treningu warstwa osadzania nauczyła się wag, które są niczym innym jak reprezentacjami wektorowymi każdego słowa. Sprawdźmy kształt macierzy wag."
      ],
      "metadata": {
        "id": "iqvL6jc9xJTg"
      }
    },
    {
      "cell_type": "code",
      "source": [
        "print(embedding_layer.get_weights()[0].shape)"
      ],
      "metadata": {
        "colab": {
          "base_uri": "https://localhost:8080/"
        },
        "id": "RI_6y1jVxOU0",
        "outputId": "5f51e5bf-7ae3-48a8-92ad-502486b68926"
      },
      "execution_count": 24,
      "outputs": [
        {
          "output_type": "stream",
          "name": "stdout",
          "text": [
            "(50, 8)\n"
          ]
        }
      ]
    },
    {
      "cell_type": "code",
      "source": [
        "# Jeśli sprawdzimy osadzenie dla pierwszego słowa, otrzymamy następujący wektor.\n",
        "em_after = embedding_layer.get_weights()[0][0]\n"
      ],
      "metadata": {
        "id": "TLvMro9ExWI7"
      },
      "execution_count": 25,
      "outputs": []
    },
    {
      "cell_type": "code",
      "source": [
        "em_after"
      ],
      "metadata": {
        "id": "UIjDGeRp_CCX",
        "outputId": "640c2700-58ac-4632-961d-ded62568a0c9",
        "colab": {
          "base_uri": "https://localhost:8080/"
        }
      },
      "execution_count": 26,
      "outputs": [
        {
          "output_type": "execute_result",
          "data": {
            "text/plain": [
              "array([-0.03009913, -0.00630149,  0.0342323 ,  0.01805471,  0.06167956,\n",
              "        0.00113893,  0.02289555, -0.02222595], dtype=float32)"
            ]
          },
          "metadata": {},
          "execution_count": 26
        }
      ]
    },
    {
      "cell_type": "code",
      "source": [
        "# współczynniki wagowe po procesie uczenia\n",
        "weights = model.get_layer('wmi-embedding').get_weights()[0]\n",
        "weights"
      ],
      "metadata": {
        "colab": {
          "base_uri": "https://localhost:8080/"
        },
        "id": "PgY1F_1lYjYG",
        "outputId": "bca91cc7-0203-4aa7-dd20-6698d23bf0e4"
      },
      "execution_count": 27,
      "outputs": [
        {
          "output_type": "execute_result",
          "data": {
            "text/plain": [
              "array([[-0.03009913, -0.00630149,  0.0342323 ,  0.01805471,  0.06167956,\n",
              "         0.00113893,  0.02289555, -0.02222595],\n",
              "       [-0.01105039, -0.04499513, -0.03836181,  0.03077323, -0.03992243,\n",
              "         0.0205842 ,  0.03690166,  0.01182785],\n",
              "       [ 0.03931007,  0.0332411 , -0.02449536,  0.04234358, -0.02865002,\n",
              "        -0.02046877, -0.04550374,  0.0124355 ],\n",
              "       [ 0.03039586, -0.01549249, -0.06457781, -0.04556405,  0.05187008,\n",
              "        -0.00945957,  0.01318602,  0.00998955],\n",
              "       [-0.03129976, -0.04079033,  0.00189749, -0.00822543, -0.01110489,\n",
              "         0.03223442, -0.03374512,  0.04087931],\n",
              "       [ 0.00985133, -0.02279192, -0.01687478, -0.01793376, -0.04266423,\n",
              "        -0.00629946,  0.00442138,  0.0423224 ],\n",
              "       [ 0.05824323, -0.04865115, -0.06101409,  0.06110463, -0.03932475,\n",
              "        -0.01994795, -0.00240081,  0.02697068],\n",
              "       [-0.00622816,  0.04052174,  0.03413934, -0.00963069, -0.00119922,\n",
              "        -0.01906306, -0.02322131, -0.02563559],\n",
              "       [-0.03091912, -0.03826197,  0.03231089, -0.04153037, -0.00300818,\n",
              "        -0.00077502, -0.04807448, -0.02675071],\n",
              "       [-0.01889624, -0.05293043, -0.03730579, -0.06427313,  0.02048223,\n",
              "        -0.05312172, -0.0162063 ,  0.05417044],\n",
              "       [-0.01393424, -0.03588765, -0.02593997, -0.03166169, -0.0316993 ,\n",
              "         0.00920903, -0.03724004, -0.03943235],\n",
              "       [ 0.02611289,  0.00550929,  0.02308566,  0.02387592,  0.04792864,\n",
              "        -0.03249586, -0.02425538,  0.02527553],\n",
              "       [ 0.04538517, -0.03370275, -0.03182483,  0.0085959 , -0.01299221,\n",
              "        -0.02690336, -0.01711172,  0.04444827],\n",
              "       [-0.03547437, -0.038284  , -0.03073012,  0.00113694,  0.02366705,\n",
              "         0.00548368, -0.0382485 ,  0.04746607],\n",
              "       [ 0.0026721 ,  0.00716252,  0.01942338,  0.00805057,  0.02776637,\n",
              "         0.04586283,  0.00185182,  0.01770658],\n",
              "       [-0.00854937, -0.03861558, -0.00027876, -0.01766967,  0.01463356,\n",
              "        -0.00533907,  0.02410189, -0.03954315],\n",
              "       [-0.04074144,  0.02886948, -0.02446743, -0.02790551, -0.02862395,\n",
              "        -0.03017635,  0.03661897,  0.02490382],\n",
              "       [ 0.02076766,  0.04277538,  0.03525878,  0.02260586,  0.03001019,\n",
              "         0.04230485,  0.03409651,  0.00312556],\n",
              "       [-0.04907067,  0.04881244,  0.03943838,  0.00546638, -0.04366922,\n",
              "         0.04140807,  0.03805855,  0.04623942],\n",
              "       [ 0.02777067, -0.05815253, -0.03205901, -0.03047882, -0.02758796,\n",
              "         0.01354245, -0.03015187,  0.00818389],\n",
              "       [-0.02289808, -0.01716096,  0.01199786, -0.00190925, -0.06134892,\n",
              "         0.0086099 ,  0.01147896, -0.01602098],\n",
              "       [ 0.01209998,  0.02525046, -0.04281208, -0.03999019, -0.0322996 ,\n",
              "        -0.01436663, -0.010087  ,  0.0043255 ],\n",
              "       [-0.02366785, -0.04306623,  0.0305717 ,  0.02978066, -0.03738502,\n",
              "        -0.00533078, -0.03287537, -0.03338492],\n",
              "       [ 0.01778161, -0.01631891, -0.01821108, -0.02917477, -0.05369677,\n",
              "         0.00583481,  0.01064171, -0.0089508 ],\n",
              "       [-0.04296001, -0.01734372,  0.02625776,  0.01461634, -0.02470598,\n",
              "        -0.01930195, -0.00997838,  0.02474654],\n",
              "       [-0.03301773,  0.00389197, -0.03759861,  0.01980976, -0.01036765,\n",
              "         0.04690797, -0.027789  , -0.01766715],\n",
              "       [-0.04877131, -0.02792235,  0.03048558,  0.03127667,  0.03020135,\n",
              "         0.02176155,  0.02517735, -0.00356483],\n",
              "       [ 0.02824892,  0.02432298, -0.05385323,  0.0223917 ,  0.05383173,\n",
              "         0.00029686,  0.00719528,  0.01373331],\n",
              "       [-0.03786093, -0.04141948, -0.01108301, -0.04220359,  0.02036388,\n",
              "        -0.03021479, -0.01967194, -0.04540139],\n",
              "       [ 0.04588735, -0.04372058,  0.02029682,  0.01715031,  0.02341891,\n",
              "        -0.01056087,  0.00811173, -0.03263372],\n",
              "       [ 0.05494939, -0.022076  , -0.02764204, -0.01610115, -0.02888934,\n",
              "         0.04263815,  0.00501736, -0.00972661],\n",
              "       [ 0.02828372,  0.02031418, -0.02624087,  0.03015276,  0.03324933,\n",
              "         0.02430553, -0.0084855 , -0.00047551],\n",
              "       [ 0.03403039,  0.00138159,  0.01643368, -0.03222535,  0.03859894,\n",
              "        -0.02988282, -0.03713883, -0.00903558],\n",
              "       [ 0.00166281,  0.01122928,  0.01601669,  0.0167122 , -0.03211391,\n",
              "         0.01756286, -0.04032375, -0.01084073],\n",
              "       [-0.01156603, -0.00584706,  0.00416813, -0.02447762,  0.00184725,\n",
              "         0.02442606,  0.05998112,  0.03062968],\n",
              "       [ 0.03794018, -0.02621156,  0.03942521, -0.03907083, -0.01989326,\n",
              "         0.009552  ,  0.04432282, -0.03631976],\n",
              "       [ 0.02809298,  0.03457626, -0.01294266,  0.02168388,  0.04586243,\n",
              "         0.01464386, -0.01893159, -0.04207019],\n",
              "       [-0.05579909,  0.00621145, -0.0108909 , -0.05185451, -0.0038792 ,\n",
              "        -0.05800541, -0.03897976, -0.03256416],\n",
              "       [ 0.05564129, -0.02671155,  0.02317773,  0.02291272,  0.04456298,\n",
              "         0.03737268, -0.0263662 ,  0.04781132],\n",
              "       [ 0.00112293, -0.03203535,  0.03001701, -0.01255659, -0.02232736,\n",
              "        -0.03831363,  0.03064791,  0.00286362],\n",
              "       [-0.03046702, -0.01228498,  0.03831314,  0.02687771, -0.02262273,\n",
              "         0.03102101,  0.03775413, -0.01142903],\n",
              "       [-0.01986565,  0.00088105,  0.02871624, -0.0379135 ,  0.04005476,\n",
              "        -0.03111467, -0.00449194, -0.04207156],\n",
              "       [-0.03074848, -0.03023846,  0.00154166, -0.01003977, -0.03298718,\n",
              "        -0.00904014,  0.04294384,  0.02551268],\n",
              "       [-0.02521471,  0.01021826, -0.00619928,  0.01987866, -0.03923151,\n",
              "         0.02679934, -0.0289766 , -0.02995199],\n",
              "       [ 0.04737285,  0.04490144,  0.02039145,  0.03918282,  0.0090789 ,\n",
              "         0.00286344,  0.00281423, -0.00717366],\n",
              "       [-0.02157156, -0.02988846, -0.02128855, -0.01752361, -0.02897755,\n",
              "         0.04246083,  0.02175901, -0.00209975],\n",
              "       [ 0.02141101, -0.03705601,  0.0453755 , -0.04699892,  0.03566476,\n",
              "        -0.03811115, -0.03217019, -0.01531062],\n",
              "       [ 0.03647541, -0.04647538,  0.00254878, -0.04894053, -0.0202883 ,\n",
              "         0.01895342,  0.04947672,  0.04260382],\n",
              "       [-0.04939618, -0.0244723 , -0.03209107,  0.03301983, -0.03187815,\n",
              "        -0.01968796, -0.00077571,  0.00411898],\n",
              "       [ 0.04007271,  0.0346345 ,  0.00291514,  0.04785872, -0.00252356,\n",
              "         0.0021171 , -0.04808753, -0.02094792]], dtype=float32)"
            ]
          },
          "metadata": {},
          "execution_count": 27
        }
      ]
    },
    {
      "cell_type": "code",
      "source": [
        "em_before"
      ],
      "metadata": {
        "id": "gTMJQYPkmI6N",
        "outputId": "eed9df84-5394-44af-81a7-0fe01c26143c",
        "colab": {
          "base_uri": "https://localhost:8080/"
        }
      },
      "execution_count": 28,
      "outputs": [
        {
          "output_type": "execute_result",
          "data": {
            "text/plain": [
              "array([-0.03778084, -0.02177254,  0.04917517,  0.0027841 ,  0.04664195,\n",
              "        0.01617683,  0.03783524, -0.03718925], dtype=float32)"
            ]
          },
          "metadata": {},
          "execution_count": 28
        }
      ]
    },
    {
      "cell_type": "code",
      "source": [
        "em_after"
      ],
      "metadata": {
        "id": "IyLmnw8qmLrb",
        "outputId": "7f30669c-093b-4136-9b6c-06a53ee67f2f",
        "colab": {
          "base_uri": "https://localhost:8080/"
        }
      },
      "execution_count": 29,
      "outputs": [
        {
          "output_type": "execute_result",
          "data": {
            "text/plain": [
              "array([-0.03009913, -0.00630149,  0.0342323 ,  0.01805471,  0.06167956,\n",
              "        0.00113893,  0.02289555, -0.02222595], dtype=float32)"
            ]
          },
          "metadata": {},
          "execution_count": 29
        }
      ]
    },
    {
      "cell_type": "markdown",
      "source": [
        "**Przygotowanie danych do prezentacji współczynników wagowych wyuczonej warstwy Embedding  na platformie Embedding Projector**"
      ],
      "metadata": {
        "id": "PCFQGE5RfhCJ"
      }
    },
    {
      "cell_type": "code",
      "source": [
        "# definicja funkcji standaryzującej\n",
        "\n",
        "import tensorflow as tf\n",
        "\n",
        "def custom_standardization(input_data):\n",
        "  lowercase = tf.strings.lower(input_data)\n",
        "\n",
        "  return lowercase\n"
      ],
      "metadata": {
        "id": "0M4KdkbWbWAv"
      },
      "execution_count": 30,
      "outputs": []
    },
    {
      "cell_type": "code",
      "source": [
        "from tensorflow.keras.layers import TextVectorization\n",
        "\n",
        "vectorize_layer = TextVectorization(\n",
        "    standardize=custom_standardization,\n",
        "    max_tokens=Vocab_size,\n",
        "    output_mode='int',\n",
        "    output_sequence_length=max_length)\n",
        "\n"
      ],
      "metadata": {
        "id": "eUsE_KndZtqR"
      },
      "execution_count": 31,
      "outputs": []
    },
    {
      "cell_type": "code",
      "source": [
        "vectorize_layer.adapt(reviews)"
      ],
      "metadata": {
        "id": "-yvo1prcbiwf"
      },
      "execution_count": 32,
      "outputs": []
    },
    {
      "cell_type": "code",
      "source": [
        "vocab = vectorize_layer.get_vocabulary()\n"
      ],
      "metadata": {
        "id": "CyMVoCj_b_9Y"
      },
      "execution_count": 33,
      "outputs": []
    },
    {
      "cell_type": "code",
      "source": [
        "vocab"
      ],
      "metadata": {
        "colab": {
          "base_uri": "https://localhost:8080/"
        },
        "id": "RmhB8uYncBZx",
        "outputId": "c3e06e03-27cc-44df-912e-da7a6064316c"
      },
      "execution_count": 34,
      "outputs": [
        {
          "output_type": "execute_result",
          "data": {
            "text/plain": [
              "['',\n",
              " '[UNK]',\n",
              " 'horrible',\n",
              " 'awesome',\n",
              " 'work',\n",
              " 'waitress',\n",
              " 'services!',\n",
              " 'service',\n",
              " 'rude',\n",
              " 'rocks',\n",
              " 'poor',\n",
              " 'never',\n",
              " 'have',\n",
              " 'food!',\n",
              " 'food',\n",
              " 'done',\n",
              " \"couldn't\",\n",
              " 'coming',\n",
              " 'cold',\n",
              " 'better',\n",
              " 'back!']"
            ]
          },
          "metadata": {},
          "execution_count": 34
        }
      ]
    },
    {
      "cell_type": "code",
      "source": [
        "import io\n",
        "import os\n",
        "out_v = io.open('/content/drive/MyDrive/dane/modele/vectors01.tsv', 'w', encoding='utf-8')\n",
        "out_m = io.open('/content/drive/MyDrive/dane/modele/metadata01.tsv', 'w', encoding='utf-8')\n",
        "\n",
        "for index, word in enumerate(vocab):\n",
        "  if index == 0:\n",
        "    continue  # pomijając 0, bo jest to wypełnienie.\n",
        "  vec = weights[index]\n",
        "  out_v.write('\\t'.join([str(x) for x in vec]) + \"\\n\")\n",
        "  out_m.write(word + \"\\n\")\n",
        "out_v.close()\n",
        "out_m.close()"
      ],
      "metadata": {
        "id": "k8a0FeNKcLQc"
      },
      "execution_count": 35,
      "outputs": []
    },
    {
      "cell_type": "code",
      "source": [
        "try:\n",
        "  from google.colab import files\n",
        "  files.download('/content/drive/MyDrive/dane/modele/vectors01.tsv')\n",
        "  files.download('/content/drive/MyDrive/dane/modele/metadata01.tsv')\n",
        "except Exception:\n",
        "  pass"
      ],
      "metadata": {
        "id": "F1dCRzkD_r7f",
        "outputId": "6c3aab31-24c5-496f-eb7f-2e00f30e55be",
        "colab": {
          "base_uri": "https://localhost:8080/",
          "height": 17
        }
      },
      "execution_count": 36,
      "outputs": [
        {
          "output_type": "display_data",
          "data": {
            "text/plain": [
              "<IPython.core.display.Javascript object>"
            ],
            "application/javascript": [
              "\n",
              "    async function download(id, filename, size) {\n",
              "      if (!google.colab.kernel.accessAllowed) {\n",
              "        return;\n",
              "      }\n",
              "      const div = document.createElement('div');\n",
              "      const label = document.createElement('label');\n",
              "      label.textContent = `Downloading \"${filename}\": `;\n",
              "      div.appendChild(label);\n",
              "      const progress = document.createElement('progress');\n",
              "      progress.max = size;\n",
              "      div.appendChild(progress);\n",
              "      document.body.appendChild(div);\n",
              "\n",
              "      const buffers = [];\n",
              "      let downloaded = 0;\n",
              "\n",
              "      const channel = await google.colab.kernel.comms.open(id);\n",
              "      // Send a message to notify the kernel that we're ready.\n",
              "      channel.send({})\n",
              "\n",
              "      for await (const message of channel.messages) {\n",
              "        // Send a message to notify the kernel that we're ready.\n",
              "        channel.send({})\n",
              "        if (message.buffers) {\n",
              "          for (const buffer of message.buffers) {\n",
              "            buffers.push(buffer);\n",
              "            downloaded += buffer.byteLength;\n",
              "            progress.value = downloaded;\n",
              "          }\n",
              "        }\n",
              "      }\n",
              "      const blob = new Blob(buffers, {type: 'application/binary'});\n",
              "      const a = document.createElement('a');\n",
              "      a.href = window.URL.createObjectURL(blob);\n",
              "      a.download = filename;\n",
              "      div.appendChild(a);\n",
              "      a.click();\n",
              "      div.remove();\n",
              "    }\n",
              "  "
            ]
          },
          "metadata": {}
        },
        {
          "output_type": "display_data",
          "data": {
            "text/plain": [
              "<IPython.core.display.Javascript object>"
            ],
            "application/javascript": [
              "download(\"download_3c4ab2b6-cfd8-4990-874e-307c67f8bc3d\", \"vectors01.tsv\", 1991)"
            ]
          },
          "metadata": {}
        },
        {
          "output_type": "display_data",
          "data": {
            "text/plain": [
              "<IPython.core.display.Javascript object>"
            ],
            "application/javascript": [
              "\n",
              "    async function download(id, filename, size) {\n",
              "      if (!google.colab.kernel.accessAllowed) {\n",
              "        return;\n",
              "      }\n",
              "      const div = document.createElement('div');\n",
              "      const label = document.createElement('label');\n",
              "      label.textContent = `Downloading \"${filename}\": `;\n",
              "      div.appendChild(label);\n",
              "      const progress = document.createElement('progress');\n",
              "      progress.max = size;\n",
              "      div.appendChild(progress);\n",
              "      document.body.appendChild(div);\n",
              "\n",
              "      const buffers = [];\n",
              "      let downloaded = 0;\n",
              "\n",
              "      const channel = await google.colab.kernel.comms.open(id);\n",
              "      // Send a message to notify the kernel that we're ready.\n",
              "      channel.send({})\n",
              "\n",
              "      for await (const message of channel.messages) {\n",
              "        // Send a message to notify the kernel that we're ready.\n",
              "        channel.send({})\n",
              "        if (message.buffers) {\n",
              "          for (const buffer of message.buffers) {\n",
              "            buffers.push(buffer);\n",
              "            downloaded += buffer.byteLength;\n",
              "            progress.value = downloaded;\n",
              "          }\n",
              "        }\n",
              "      }\n",
              "      const blob = new Blob(buffers, {type: 'application/binary'});\n",
              "      const a = document.createElement('a');\n",
              "      a.href = window.URL.createObjectURL(blob);\n",
              "      a.download = filename;\n",
              "      div.appendChild(a);\n",
              "      a.click();\n",
              "      div.remove();\n",
              "    }\n",
              "  "
            ]
          },
          "metadata": {}
        },
        {
          "output_type": "display_data",
          "data": {
            "text/plain": [
              "<IPython.core.display.Javascript object>"
            ],
            "application/javascript": [
              "download(\"download_b18af0d9-200d-4410-b342-482bedb384d4\", \"metadata01.tsv\", 132)"
            ]
          },
          "metadata": {}
        }
      ]
    },
    {
      "cell_type": "markdown",
      "source": [
        " http://projector.tensorflow.org/?_gl=1*rggcgk*_ga*NzAyNjA5OTg4LjE2OTQ1MDIxMDc.*_ga_W0YLR4190T*MTcwMDgyODU5Ny44LjEuMTcwMDgzMDA3MS4wLjAuMA..\n"
      ],
      "metadata": {
        "id": "0u7rcXMEdbec"
      }
    }
  ]
}