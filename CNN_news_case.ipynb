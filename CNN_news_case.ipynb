{
  "nbformat": 4,
  "nbformat_minor": 0,
  "metadata": {
    "colab": {
      "provenance": [],
      "gpuType": "A100",
      "machine_shape": "hm",
      "mount_file_id": "https://github.com/adalbertii/Modele-klasyfikacyjne/blob/main/CNN_news_case.ipynb",
      "authorship_tag": "ABX9TyNstpjmgZrKIlzwmVdBOcBr",
      "include_colab_link": true
    },
    "kernelspec": {
      "name": "python3",
      "display_name": "Python 3"
    },
    "language_info": {
      "name": "python"
    },
    "accelerator": "GPU"
  },
  "cells": [
    {
      "cell_type": "markdown",
      "metadata": {
        "id": "view-in-github",
        "colab_type": "text"
      },
      "source": [
        "<a href=\"https://colab.research.google.com/github/adalbertii/modele-NLP/blob/main/CNN_news_case.ipynb\" target=\"_parent\"><img src=\"https://colab.research.google.com/assets/colab-badge.svg\" alt=\"Open In Colab\"/></a>"
      ]
    },
    {
      "cell_type": "code",
      "execution_count": null,
      "metadata": {
        "id": "i2OhQQN-4v--"
      },
      "outputs": [],
      "source": [
        "import os\n",
        "import sys\n",
        "import numpy as np\n",
        "import keras\n",
        "from keras.preprocessing.text import Tokenizer\n",
        "from keras.utils import to_categorical\n",
        "from keras.preprocessing.sequence import pad_sequences\n",
        "from keras.layers import Activation, Conv2D, Input, Embedding, Reshape, MaxPool2D, Concatenate, Flatten, Dropout, Dense, Conv1D\n",
        "from keras.layers import MaxPool1D\n",
        "from keras.models import Model\n",
        "from keras.callbacks import ModelCheckpoint\n",
        "from keras.optimizers import Adam\n",
        "import warnings\n",
        "warnings.filterwarnings('ignore')"
      ]
    },
    {
      "cell_type": "code",
      "source": [
        "from psutil import virtual_memory\n",
        "ram_gb = virtual_memory().total / 1e9\n",
        "print('Your runtime has {:.1f} gigabytes of available RAM\\n'.format(ram_gb))\n",
        "\n",
        "if ram_gb < 20:\n",
        "  print('Not using a high-RAM runtime')\n",
        "else:\n",
        "  print('You are using a high-RAM runtime!')"
      ],
      "metadata": {
        "colab": {
          "base_uri": "https://localhost:8080/"
        },
        "id": "_nvt4lmdTarl",
        "outputId": "f7cdbf88-243e-4c17-d002-2dfb2eb3a968"
      },
      "execution_count": null,
      "outputs": [
        {
          "output_type": "stream",
          "name": "stdout",
          "text": [
            "Your runtime has 89.6 gigabytes of available RAM\n",
            "\n",
            "You are using a high-RAM runtime!\n"
          ]
        }
      ]
    },
    {
      "cell_type": "code",
      "source": [
        "# aby upewnić się, że zestaw danych został dodany poprawnie\n",
        "\n",
        "!ls '/content/drive/MyDrive/dane/20_newsgroup/'"
      ],
      "metadata": {
        "colab": {
          "base_uri": "https://localhost:8080/"
        },
        "id": "jZPm8uDr5MvQ",
        "outputId": "5df52c5b-ab94-4e12-c7a3-024a84f7cb36"
      },
      "execution_count": null,
      "outputs": [
        {
          "output_type": "stream",
          "name": "stdout",
          "text": [
            "alt.atheism\t\t  comp.windows.x      rec.sport.hockey\tsoc.religion.christian\n",
            "comp.graphics\t\t  misc.forsale\t      sci.crypt\t\ttalk.politics.guns\n",
            "comp.os.ms-windows.misc   rec.autos\t      sci.electronics\ttalk.politics.mideast\n",
            "comp.sys.ibm.pc.hardware  rec.motorcycles     sci.med\t\ttalk.politics.misc\n",
            "comp.sys.mac.hardware\t  rec.sport.baseball  sci.space\t\ttalk.religion.misc\n"
          ]
        }
      ]
    },
    {
      "cell_type": "code",
      "source": [
        "# ścieżka zbioru danych\n",
        "TEXT_DATA_DIR = r'/content/drive/MyDrive/dane/20_newsgroup/'\n",
        "\n",
        "#ścieżka dla osadzeń Glove\n",
        "GLOVE_DIR = r'/content/drive/MyDrive/dane/glove/'\n",
        "\n",
        "# maksymalna długość słowa powinna być stała\n",
        "MAX_WORDS = 10000\n",
        "MAX_SEQUENCE_LENGTH = 1000\n",
        "\n",
        "#\n",
        "VALIDATION_SPLIT = 0.20\n",
        "\n",
        "# wymiar wektorów, które mają zostać użyte\n",
        "EMBEDDING_DIM = 100\n",
        "\n",
        "# rozmiary filtrów różnych warstw konwolucji\n",
        "filter_sizes = [3,4,5]\n",
        "num_filters = 512\n",
        "embedding_dim = 100\n",
        "\n",
        "\n",
        "drop = 0.5\n",
        "batch_size = 30\n",
        "epochs = 2"
      ],
      "metadata": {
        "id": "YP4StAz35bHR"
      },
      "execution_count": null,
      "outputs": []
    },
    {
      "cell_type": "markdown",
      "source": [
        "\n",
        "\n",
        "STRUKTURA ZBIORU DANYCH\n",
        "\n",
        "Zbiór danych ma strukturę hierarchiczną, tj. wszystkie pliki danej klasy znajdują się w odpowiednich folderach, a każda próbka danych ma swój własny plik \".txt\".\n",
        "\n",
        "    Najpierw przechodzimy przez cały zbiór danych, aby zbudować naszą listę tekstową i listę etykiet.\n",
        "    Następnie tokenizujemy całe dane za pomocą Tokenizer, który jest częścią keras.preprocessing.text.\n",
        "    Następnie dodajemy dopełnienie do sekwencji, aby nadać im jednolitą długość.\n",
        "\n"
      ],
      "metadata": {
        "id": "XgTNJVIT5jmZ"
      }
    },
    {
      "cell_type": "code",
      "source": [
        "## przygotowanie zbioru danych\n",
        "\n",
        "\n",
        "texts = []  # lista próbek tekstu\n",
        "labels_index = {}  # słownik mapujący nazwę etykiety na numeryczny identyfikator\n",
        "labels = []  # lista ids\n",
        "for name in sorted(os.listdir(TEXT_DATA_DIR)):\n",
        "    path = os.path.join(TEXT_DATA_DIR, name)\n",
        "    if os.path.isdir(path):\n",
        "        label_id = len(labels_index)\n",
        "        labels_index[name] = label_id\n",
        "        for fname in sorted(os.listdir(path)):\n",
        "            if fname.isdigit():\n",
        "                fpath = os.path.join(path, fname)\n",
        "                if sys.version_info < (3,):\n",
        "                    f = open(fpath)\n",
        "                else:\n",
        "                    f = open(fpath, encoding='latin-1')\n",
        "                t = f.read()\n",
        "                i = t.find('\\n\\n')  # pomiń nagłówek\n",
        "                if 0 < i:\n",
        "                    t = t[i:]\n",
        "                texts.append(t)\n",
        "                f.close()\n",
        "                labels.append(label_id)\n",
        "print(labels_index)\n",
        "\n",
        "print('Found %s texts.' % len(texts))"
      ],
      "metadata": {
        "colab": {
          "base_uri": "https://localhost:8080/"
        },
        "id": "vdQQWWfB5sOO",
        "outputId": "ad90ee4f-b230-4691-ae53-d169fe5489ae"
      },
      "execution_count": null,
      "outputs": [
        {
          "output_type": "stream",
          "name": "stdout",
          "text": [
            "{'alt.atheism': 0, 'comp.graphics': 1, 'comp.os.ms-windows.misc': 2, 'comp.sys.ibm.pc.hardware': 3, 'comp.sys.mac.hardware': 4, 'comp.windows.x': 5, 'misc.forsale': 6, 'rec.autos': 7, 'rec.motorcycles': 8, 'rec.sport.baseball': 9, 'rec.sport.hockey': 10, 'sci.crypt': 11, 'sci.electronics': 12, 'sci.med': 13, 'sci.space': 14, 'soc.religion.christian': 15, 'talk.politics.guns': 16, 'talk.politics.mideast': 17, 'talk.politics.misc': 18, 'talk.religion.misc': 19}\n",
            "Found 19997 texts.\n"
          ]
        }
      ]
    },
    {
      "cell_type": "code",
      "source": [
        "texts[0]"
      ],
      "metadata": {
        "colab": {
          "base_uri": "https://localhost:8080/",
          "height": 143
        },
        "id": "d4R2T8dfibO8",
        "outputId": "307274c9-35c6-4278-d948-5f9b53e91e32"
      },
      "execution_count": null,
      "outputs": [
        {
          "output_type": "execute_result",
          "data": {
            "text/plain": [
              "'\\n\\nArchive-name: atheism/resources\\nAlt-atheism-archive-name: resources\\nLast-modified: 11 December 1992\\nVersion: 1.0\\n\\n                              Atheist Resources\\n\\n                      Addresses of Atheist Organizations\\n\\n                                     USA\\n\\nFREEDOM FROM RELIGION FOUNDATION\\n\\nDarwin fish bumper stickers and assorted other atheist paraphernalia are\\navailable from the Freedom From Religion Foundation in the US.\\n\\nWrite to:  FFRF, P.O. Box 750, Madison, WI 53701.\\nTelephone: (608) 256-8900\\n\\nEVOLUTION DESIGNS\\n\\nEvolution Designs sell the \"Darwin fish\".  It\\'s a fish symbol, like the ones\\nChristians stick on their cars, but with feet and the word \"Darwin\" written\\ninside.  The deluxe moulded 3D plastic fish is $4.95 postpaid in the US.\\n\\nWrite to:  Evolution Designs, 7119 Laurel Canyon #4, North Hollywood,\\n           CA 91605.\\n\\nPeople in the San Francisco Bay area can get Darwin Fish from Lynn Gold --\\ntry mailing <figmo@netcom.com>.  For net people who go to Lynn directly, the\\nprice is $4.95 per fish.\\n\\nAMERICAN ATHEIST PRESS\\n\\nAAP publish various atheist books -- critiques of the Bible, lists of\\nBiblical contradictions, and so on.  One such book is:\\n\\n\"The Bible Handbook\" by W.P. Ball and G.W. Foote.  American Atheist Press.\\n372 pp.  ISBN 0-910309-26-4, 2nd edition, 1986.  Bible contradictions,\\nabsurdities, atrocities, immoralities... contains Ball, Foote: \"The Bible\\nContradicts Itself\", AAP.  Based on the King James version of the Bible.\\n\\nWrite to:  American Atheist Press, P.O. Box 140195, Austin, TX 78714-0195.\\n      or:  7215 Cameron Road, Austin, TX 78752-2973.\\nTelephone: (512) 458-1244\\nFax:       (512) 467-9525\\n\\nPROMETHEUS BOOKS\\n\\nSell books including Haught\\'s \"Holy Horrors\" (see below).\\n\\nWrite to:  700 East Amherst Street, Buffalo, New York 14215.\\nTelephone: (716) 837-2475.\\n\\nAn alternate address (which may be newer or older) is:\\nPrometheus Books, 59 Glenn Drive, Buffalo, NY 14228-2197.\\n\\nAFRICAN-AMERICANS FOR HUMANISM\\n\\nAn organization promoting black secular humanism and uncovering the history of\\nblack freethought.  They publish a quarterly newsletter, AAH EXAMINER.\\n\\nWrite to:  Norm R. Allen, Jr., African Americans for Humanism, P.O. Box 664,\\n           Buffalo, NY 14226.\\n\\n                                United Kingdom\\n\\nRationalist Press Association          National Secular Society\\n88 Islington High Street               702 Holloway Road\\nLondon N1 8EW                          London N19 3NL\\n071 226 7251                           071 272 1266\\n\\nBritish Humanist Association           South Place Ethical Society\\n14 Lamb\\'s Conduit Passage              Conway Hall\\nLondon WC1R 4RH                        Red Lion Square\\n071 430 0908                           London WC1R 4RL\\nfax 071 430 1271                       071 831 7723\\n\\nThe National Secular Society publish \"The Freethinker\", a monthly magazine\\nfounded in 1881.\\n\\n                                   Germany\\n\\nIBKA e.V.\\nInternationaler Bund der Konfessionslosen und Atheisten\\nPostfach 880, D-1000 Berlin 41. Germany.\\n\\nIBKA publish a journal:\\nMIZ. (Materialien und Informationen zur Zeit. Politisches\\nJournal der Konfessionslosesn und Atheisten. Hrsg. IBKA e.V.)\\nMIZ-Vertrieb, Postfach 880, D-1000 Berlin 41. Germany.\\n\\nFor atheist books, write to:\\n\\nIBDK, Internationaler B\"ucherdienst der Konfessionslosen\\nPostfach 3005, D-3000 Hannover 1. Germany.\\nTelephone: 0511/211216\\n\\n\\n                               Books -- Fiction\\n\\nTHOMAS M. DISCH\\n\\n\"The Santa Claus Compromise\"\\nShort story.  The ultimate proof that Santa exists.  All characters and \\nevents are fictitious.  Any similarity to living or dead gods -- uh, well...\\n\\nWALTER M. MILLER, JR\\n\\n\"A Canticle for Leibowitz\"\\nOne gem in this post atomic doomsday novel is the monks who spent their lives\\ncopying blueprints from \"Saint Leibowitz\", filling the sheets of paper with\\nink and leaving white lines and letters.\\n\\nEDGAR PANGBORN\\n\\n\"Davy\"\\nPost atomic doomsday novel set in clerical states.  The church, for example,\\nforbids that anyone \"produce, describe or use any substance containing...\\natoms\". \\n\\nPHILIP K. DICK\\n\\nPhilip K. Dick Dick wrote many philosophical and thought-provoking short \\nstories and novels.  His stories are bizarre at times, but very approachable.\\nHe wrote mainly SF, but he wrote about people, truth and religion rather than\\ntechnology.  Although he often believed that he had met some sort of God, he\\nremained sceptical.  Amongst his novels, the following are of some relevance:\\n\\n\"Galactic Pot-Healer\"\\nA fallible alien deity summons a group of Earth craftsmen and women to a\\nremote planet to raise a giant cathedral from beneath the oceans.  When the\\ndeity begins to demand faith from the earthers, pot-healer Joe Fernwright is\\nunable to comply.  A polished, ironic and amusing novel.\\n\\n\"A Maze of Death\"\\nNoteworthy for its description of a technology-based religion.\\n\\n\"VALIS\"\\nThe schizophrenic hero searches for the hidden mysteries of Gnostic\\nChristianity after reality is fired into his brain by a pink laser beam of\\nunknown but possibly divine origin.  He is accompanied by his dogmatic and\\ndismissively atheist friend and assorted other odd characters.\\n\\n\"The Divine Invasion\"\\nGod invades Earth by making a young woman pregnant as she returns from\\nanother star system.  Unfortunately she is terminally ill, and must be\\nassisted by a dead man whose brain is wired to 24-hour easy listening music.\\n\\nMARGARET ATWOOD\\n\\n\"The Handmaid\\'s Tale\"\\nA story based on the premise that the US Congress is mysteriously\\nassassinated, and fundamentalists quickly take charge of the nation to set it\\n\"right\" again.  The book is the diary of a woman\\'s life as she tries to live\\nunder the new Christian theocracy.  Women\\'s right to own property is revoked,\\nand their bank accounts are closed; sinful luxuries are outlawed, and the\\nradio is only used for readings from the Bible.  Crimes are punished\\nretroactively: doctors who performed legal abortions in the \"old world\" are\\nhunted down and hanged.  Atwood\\'s writing style is difficult to get used to\\nat first, but the tale grows more and more chilling as it goes on.\\n\\nVARIOUS AUTHORS\\n\\n\"The Bible\"\\nThis somewhat dull and rambling work has often been criticized.  However, it\\nis probably worth reading, if only so that you\\'ll know what all the fuss is\\nabout.  It exists in many different versions, so make sure you get the one\\ntrue version.\\n\\n                             Books -- Non-fiction\\n\\nPETER DE ROSA\\n\\n\"Vicars of Christ\", Bantam Press, 1988\\nAlthough de Rosa seems to be Christian or even Catholic this is a very\\nenlighting history of papal immoralities, adulteries, fallacies etc.\\n(German translation: \"Gottes erste Diener. Die dunkle Seite des Papsttums\",\\nDroemer-Knaur, 1989)\\n\\nMICHAEL MARTIN\\n\\n\"Atheism: A Philosophical Justification\", Temple University Press,\\n Philadelphia, USA.\\nA detailed and scholarly justification of atheism.  Contains an outstanding\\nappendix defining terminology and usage in this (necessarily) tendentious\\narea.  Argues both for \"negative atheism\" (i.e. the \"non-belief in the\\nexistence of god(s)\") and also for \"positive atheism\" (\"the belief in the\\nnon-existence of god(s)\").  Includes great refutations of the most\\nchallenging arguments for god; particular attention is paid to refuting\\ncontempory theists such as Platinga and Swinburne.\\n541 pages. ISBN 0-87722-642-3 (hardcover; paperback also available)\\n\\n\"The Case Against Christianity\", Temple University Press\\nA comprehensive critique of Christianity, in which he considers\\nthe best contemporary defences of Christianity and (ultimately)\\ndemonstrates that they are unsupportable and/or incoherent.\\n273 pages. ISBN 0-87722-767-5\\n\\nJAMES TURNER\\n\\n\"Without God, Without Creed\", The Johns Hopkins University Press, Baltimore,\\n MD, USA\\nSubtitled \"The Origins of Unbelief in America\".  Examines the way in which\\nunbelief (whether agnostic or atheistic)  became a mainstream alternative\\nworld-view.  Focusses on the period 1770-1900, and while considering France\\nand Britain the emphasis is on American, and particularly New England\\ndevelopments.  \"Neither a religious history of secularization or atheism,\\nWithout God, Without Creed is, rather, the intellectual history of the fate\\nof a single idea, the belief that God exists.\" \\n316 pages. ISBN (hardcover) 0-8018-2494-X (paper) 0-8018-3407-4\\n\\nGEORGE SELDES (Editor)\\n\\n\"The great thoughts\", Ballantine Books, New York, USA\\nA \"dictionary of quotations\" of a different kind, concentrating on statements\\nand writings which, explicitly or implicitly, present the person\\'s philosophy\\nand world-view.  Includes obscure (and often suppressed) opinions from many\\npeople.  For some popular observations, traces the way in which various\\npeople expressed and twisted the idea over the centuries.  Quite a number of\\nthe quotations are derived from Cardiff\\'s \"What Great Men Think of Religion\"\\nand Noyes\\' \"Views of Religion\".\\n490 pages. ISBN (paper) 0-345-29887-X.\\n\\nRICHARD SWINBURNE\\n\\n\"The Existence of God (Revised Edition)\", Clarendon Paperbacks, Oxford\\nThis book is the second volume in a trilogy that began with \"The Coherence of\\nTheism\" (1977) and was concluded with \"Faith and Reason\" (1981).  In this\\nwork, Swinburne attempts to construct a series of inductive arguments for the\\nexistence of God.  His arguments, which are somewhat tendentious and rely\\nupon the imputation of late 20th century western Christian values and\\naesthetics to a God which is supposedly as simple as can be conceived, were\\ndecisively rejected in Mackie\\'s \"The Miracle of Theism\".  In the revised\\nedition of \"The Existence of God\", Swinburne includes an Appendix in which he\\nmakes a somewhat incoherent attempt to rebut Mackie.\\n\\nJ. L. MACKIE\\n\\n\"The Miracle of Theism\", Oxford\\nThis (posthumous) volume contains a comprehensive review of the principal\\narguments for and against the existence of God.  It ranges from the classical\\nphilosophical positions of Descartes, Anselm, Berkeley, Hume et al, through\\nthe moral arguments of Newman, Kant and Sidgwick, to the recent restatements\\nof the classical theses by Plantinga and Swinburne.  It also addresses those\\npositions which push the concept of God beyond the realm of the rational,\\nsuch as those of Kierkegaard, Kung and Philips, as well as \"replacements for\\nGod\" such as Lelie\\'s axiarchism.  The book is a delight to read - less\\nformalistic and better written than Martin\\'s works, and refreshingly direct\\nwhen compared with the hand-waving of Swinburne.\\n\\nJAMES A. HAUGHT\\n\\n\"Holy Horrors: An Illustrated History of Religious Murder and Madness\",\\n Prometheus Books\\nLooks at religious persecution from ancient times to the present day -- and\\nnot only by Christians.\\nLibrary of Congress Catalog Card Number 89-64079. 1990.\\n\\nNORM R. ALLEN, JR.\\n\\n\"African American Humanism: an Anthology\"\\nSee the listing for African Americans for Humanism above.\\n\\nGORDON STEIN\\n\\n\"An Anthology of Atheism and Rationalism\", Prometheus Books\\nAn anthology covering a wide range of subjects, including \\'The Devil, Evil\\nand Morality\\' and \\'The History of Freethought\\'.  Comprehensive bibliography.\\n\\nEDMUND D. COHEN\\n\\n\"The Mind of The Bible-Believer\", Prometheus Books\\nA study of why people become Christian fundamentalists, and what effect it\\nhas on them.\\n\\n                                Net Resources\\n\\nThere\\'s a small mail-based archive server at mantis.co.uk which carries\\narchives of old alt.atheism.moderated articles and assorted other files.  For\\nmore information, send mail to archive-server@mantis.co.uk saying\\n\\n   help\\n   send atheism/index\\n\\nand it will mail back a reply.\\n\\n\\nmathew\\nÿ\\n'"
            ],
            "application/vnd.google.colaboratory.intrinsic+json": {
              "type": "string"
            }
          },
          "metadata": {},
          "execution_count": 8
        }
      ]
    },
    {
      "cell_type": "code",
      "source": [
        "labels[4000:4100]"
      ],
      "metadata": {
        "id": "ahUk8RLbjADt"
      },
      "execution_count": null,
      "outputs": []
    },
    {
      "cell_type": "code",
      "source": [
        "tokenizer  = Tokenizer(num_words = MAX_WORDS)\n",
        "tokenizer.fit_on_texts(texts)\n",
        "sequences =  tokenizer.texts_to_sequences(texts)"
      ],
      "metadata": {
        "id": "LAGBnIr25wrf"
      },
      "execution_count": null,
      "outputs": []
    },
    {
      "cell_type": "code",
      "source": [
        "sequences[0] # .count(5)"
      ],
      "metadata": {
        "colab": {
          "base_uri": "https://localhost:8080/"
        },
        "id": "cO7c-s9ql2xi",
        "outputId": "743c0df6-406b-4cac-ff4c-fbd167911a35"
      },
      "execution_count": null,
      "outputs": [
        {
          "output_type": "execute_result",
          "data": {
            "text/plain": [
              "[1237,\n",
              " 273,\n",
              " 1213,\n",
              " 1439,\n",
              " 1071,\n",
              " 1213,\n",
              " 1237,\n",
              " 273,\n",
              " 1439,\n",
              " 192,\n",
              " 2515,\n",
              " 348,\n",
              " 2964,\n",
              " 779,\n",
              " 332,\n",
              " 28,\n",
              " 45,\n",
              " 1628,\n",
              " 1439,\n",
              " 2516,\n",
              " 3,\n",
              " 1628,\n",
              " 2144,\n",
              " 780,\n",
              " 937,\n",
              " 29,\n",
              " 441,\n",
              " 2770,\n",
              " 8854,\n",
              " 4601,\n",
              " 7969,\n",
              " 5,\n",
              " 75,\n",
              " 1628,\n",
              " 19,\n",
              " 229,\n",
              " 29,\n",
              " 1,\n",
              " 937,\n",
              " 29,\n",
              " 441,\n",
              " 2770,\n",
              " 6,\n",
              " 1,\n",
              " 118,\n",
              " 558,\n",
              " 2,\n",
              " 90,\n",
              " 106,\n",
              " 482,\n",
              " 3979,\n",
              " 6602,\n",
              " 5375,\n",
              " 1871,\n",
              " 1632,\n",
              " 1828,\n",
              " 5101,\n",
              " 1828,\n",
              " 5101,\n",
              " 788,\n",
              " 1,\n",
              " 8854,\n",
              " 4601,\n",
              " 96,\n",
              " 4,\n",
              " 4601,\n",
              " 5455,\n",
              " 64,\n",
              " 1,\n",
              " 751,\n",
              " 563,\n",
              " 1716,\n",
              " 15,\n",
              " 71,\n",
              " 844,\n",
              " 24,\n",
              " 20,\n",
              " 1971,\n",
              " 5,\n",
              " 1,\n",
              " 389,\n",
              " 8854,\n",
              " 744,\n",
              " 1023,\n",
              " 1,\n",
              " 7762,\n",
              " 1300,\n",
              " 2912,\n",
              " 4601,\n",
              " 8,\n",
              " 73,\n",
              " 1698,\n",
              " 6,\n",
              " 1,\n",
              " 118,\n",
              " 558,\n",
              " 2,\n",
              " 1828,\n",
              " 5101,\n",
              " 73,\n",
              " 1261,\n",
              " 170,\n",
              " 66,\n",
              " 6,\n",
              " 1,\n",
              " 869,\n",
              " 2235,\n",
              " 2544,\n",
              " 534,\n",
              " 34,\n",
              " 79,\n",
              " 8854,\n",
              " 4601,\n",
              " 29,\n",
              " 6603,\n",
              " 3388,\n",
              " 264,\n",
              " 1505,\n",
              " 535,\n",
              " 49,\n",
              " 12,\n",
              " 343,\n",
              " 66,\n",
              " 60,\n",
              " 155,\n",
              " 2,\n",
              " 6603,\n",
              " 1043,\n",
              " 1,\n",
              " 427,\n",
              " 8,\n",
              " 73,\n",
              " 1698,\n",
              " 618,\n",
              " 4601,\n",
              " 417,\n",
              " 1628,\n",
              " 632,\n",
              " 4602,\n",
              " 814,\n",
              " 1628,\n",
              " 691,\n",
              " 3,\n",
              " 1,\n",
              " 467,\n",
              " 2163,\n",
              " 3,\n",
              " 2266,\n",
              " 7491,\n",
              " 5,\n",
              " 48,\n",
              " 15,\n",
              " 40,\n",
              " 135,\n",
              " 378,\n",
              " 8,\n",
              " 1,\n",
              " 467,\n",
              " 6359,\n",
              " 30,\n",
              " 101,\n",
              " 90,\n",
              " 1781,\n",
              " 5,\n",
              " 115,\n",
              " 101,\n",
              " 417,\n",
              " 1628,\n",
              " 632,\n",
              " 1448,\n",
              " 4317,\n",
              " 45,\n",
              " 860,\n",
              " 73,\n",
              " 1611,\n",
              " 2455,\n",
              " 3343,\n",
              " 467,\n",
              " 7491,\n",
              " 5814,\n",
              " 1301,\n",
              " 1781,\n",
              " 1,\n",
              " 467,\n",
              " 9477,\n",
              " 667,\n",
              " 323,\n",
              " 15,\n",
              " 1,\n",
              " 1074,\n",
              " 802,\n",
              " 332,\n",
              " 3,\n",
              " 1,\n",
              " 467,\n",
              " 558,\n",
              " 2,\n",
              " 417,\n",
              " 1628,\n",
              " 632,\n",
              " 90,\n",
              " 106,\n",
              " 482,\n",
              " 2030,\n",
              " 2408,\n",
              " 22,\n",
              " 853,\n",
              " 2030,\n",
              " 2408,\n",
              " 1871,\n",
              " 3793,\n",
              " 439,\n",
              " 3793,\n",
              " 691,\n",
              " 788,\n",
              " 691,\n",
              " 502,\n",
              " 1552,\n",
              " 116,\n",
              " 993,\n",
              " 558,\n",
              " 2,\n",
              " 2974,\n",
              " 996,\n",
              " 7674,\n",
              " 1184,\n",
              " 1346,\n",
              " 108,\n",
              " 828,\n",
              " 1871,\n",
              " 9478,\n",
              " 32,\n",
              " 7675,\n",
              " 460,\n",
              " 61,\n",
              " 110,\n",
              " 16,\n",
              " 3362,\n",
              " 22,\n",
              " 1950,\n",
              " 8,\n",
              " 691,\n",
              " 1711,\n",
              " 5622,\n",
              " 233,\n",
              " 1346,\n",
              " 1428,\n",
              " 4623,\n",
              " 1260,\n",
              " 12,\n",
              " 32,\n",
              " 1044,\n",
              " 7854,\n",
              " 564,\n",
              " 3955,\n",
              " 5,\n",
              " 1,\n",
              " 500,\n",
              " 3,\n",
              " 564,\n",
              " 27,\n",
              " 4602,\n",
              " 4,\n",
              " 9648,\n",
              " 2913,\n",
              " 558,\n",
              " 2,\n",
              " 7128,\n",
              " 97,\n",
              " 2456,\n",
              " 2420,\n",
              " 4623,\n",
              " 1260,\n",
              " 12,\n",
              " 90,\n",
              " 106,\n",
              " 482,\n",
              " 1346,\n",
              " 1428,\n",
              " 797,\n",
              " 2652,\n",
              " 632,\n",
              " 2366,\n",
              " 445,\n",
              " 3955,\n",
              " 681,\n",
              " 2477,\n",
              " 288,\n",
              " 1184,\n",
              " 853,\n",
              " 2797,\n",
              " 7308,\n",
              " 2797,\n",
              " 6902,\n",
              " 1538,\n",
              " 2366,\n",
              " 1380,\n",
              " 337,\n",
              " 5994,\n",
              " 681,\n",
              " 338,\n",
              " 3138,\n",
              " 1995,\n",
              " 2797,\n",
              " 728,\n",
              " 3558,\n",
              " 2797,\n",
              " 439,\n",
              " 1,\n",
              " 445,\n",
              " 3955,\n",
              " 681,\n",
              " 4602,\n",
              " 1,\n",
              " 4,\n",
              " 5254,\n",
              " 1689,\n",
              " 4712,\n",
              " 6,\n",
              " 1282,\n",
              " 103,\n",
              " 152,\n",
              " 6421,\n",
              " 9020,\n",
              " 141,\n",
              " 2230,\n",
              " 4545,\n",
              " 1574,\n",
              " 1282,\n",
              " 4602,\n",
              " 4,\n",
              " 2341,\n",
              " 9020,\n",
              " 2341,\n",
              " 6421,\n",
              " 9020,\n",
              " 103,\n",
              " 152,\n",
              " 141,\n",
              " 2230,\n",
              " 4545,\n",
              " 1574,\n",
              " 1282,\n",
              " 12,\n",
              " 1628,\n",
              " 691,\n",
              " 558,\n",
              " 2,\n",
              " 129,\n",
              " 6421,\n",
              " 141,\n",
              " 3857,\n",
              " 28,\n",
              " 1282,\n",
              " 1871,\n",
              " 691,\n",
              " 4429,\n",
              " 1058,\n",
              " 56,\n",
              " 1,\n",
              " 3542,\n",
              " 3316,\n",
              " 723,\n",
              " 889,\n",
              " 1,\n",
              " 4430,\n",
              " 1333,\n",
              " 9,\n",
              " 3542,\n",
              " 959,\n",
              " 36,\n",
              " 3158,\n",
              " 5,\n",
              " 1143,\n",
              " 19,\n",
              " 55,\n",
              " 2,\n",
              " 980,\n",
              " 22,\n",
              " 628,\n",
              " 2224,\n",
              " 2267,\n",
              " 107,\n",
              " 4624,\n",
              " 56,\n",
              " 2280,\n",
              " 2420,\n",
              " 4,\n",
              " 12,\n",
              " 40,\n",
              " 6,\n",
              " 14,\n",
              " 301,\n",
              " 4296,\n",
              " 8205,\n",
              " 8,\n",
              " 1,\n",
              " 60,\n",
              " 1930,\n",
              " 71,\n",
              " 1133,\n",
              " 6484,\n",
              " 29,\n",
              " 4984,\n",
              " 8323,\n",
              " 1,\n",
              " 6675,\n",
              " 3,\n",
              " 1063,\n",
              " 20,\n",
              " 5815,\n",
              " 5,\n",
              " 2785,\n",
              " 594,\n",
              " 701,\n",
              " 5,\n",
              " 2557,\n",
              " 8855,\n",
              " 301,\n",
              " 4296,\n",
              " 8205,\n",
              " 261,\n",
              " 6,\n",
              " 478,\n",
              " 1,\n",
              " 514,\n",
              " 12,\n",
              " 333,\n",
              " 9,\n",
              " 147,\n",
              " 1717,\n",
              " 2601,\n",
              " 22,\n",
              " 94,\n",
              " 55,\n",
              " 4124,\n",
              " 2590,\n",
              " 3881,\n",
              " 8206,\n",
              " 171,\n",
              " 3858,\n",
              " 8206,\n",
              " 171,\n",
              " 3858,\n",
              " 3858,\n",
              " 355,\n",
              " 125,\n",
              " 6307,\n",
              " 5,\n",
              " 359,\n",
              " 723,\n",
              " 2309,\n",
              " 5,\n",
              " 85,\n",
              " 2309,\n",
              " 19,\n",
              " 7763,\n",
              " 31,\n",
              " 387,\n",
              " 24,\n",
              " 117,\n",
              " 51,\n",
              " 355,\n",
              " 3120,\n",
              " 2701,\n",
              " 24,\n",
              " 51,\n",
              " 355,\n",
              " 44,\n",
              " 66,\n",
              " 511,\n",
              " 5,\n",
              " 441,\n",
              " 298,\n",
              " 82,\n",
              " 547,\n",
              " 536,\n",
              " 51,\n",
              " 491,\n",
              " 1858,\n",
              " 9,\n",
              " 51,\n",
              " 81,\n",
              " 2526,\n",
              " 58,\n",
              " 576,\n",
              " 3,\n",
              " 137,\n",
              " 51,\n",
              " 5922,\n",
              " 5870,\n",
              " 85,\n",
              " 1,\n",
              " 347,\n",
              " 19,\n",
              " 3,\n",
              " 58,\n",
              " 7855,\n",
              " 6676,\n",
              " 4,\n",
              " 5923,\n",
              " 5871,\n",
              " 4,\n",
              " 294,\n",
              " 3,\n",
              " 544,\n",
              " 5,\n",
              " 714,\n",
              " 2,\n",
              " 4,\n",
              " 1585,\n",
              " 2001,\n",
              " 2,\n",
              " 2409,\n",
              " 4,\n",
              " 6308,\n",
              " 29,\n",
              " 1,\n",
              " 67,\n",
              " 1,\n",
              " 5871,\n",
              " 4087,\n",
              " 2,\n",
              " 2310,\n",
              " 577,\n",
              " 29,\n",
              " 1,\n",
              " 6676,\n",
              " 1144,\n",
              " 8,\n",
              " 2786,\n",
              " 2,\n",
              " 4,\n",
              " 8856,\n",
              " 5,\n",
              " 8587,\n",
              " 8205,\n",
              " 4,\n",
              " 3,\n",
              " 571,\n",
              " 12,\n",
              " 149,\n",
              " 1758,\n",
              " 3,\n",
              " 4,\n",
              " 547,\n",
              " 323,\n",
              " 441,\n",
              " 1,\n",
              " 9182,\n",
              " 6677,\n",
              " 12,\n",
              " 1,\n",
              " 3749,\n",
              " 3,\n",
              " 972,\n",
              " 154,\n",
              " 1172,\n",
              " 8,\n",
              " 2602,\n",
              " 119,\n",
              " 85,\n",
              " 1725,\n",
              " 30,\n",
              " 4,\n",
              " 5456,\n",
              " 2738,\n",
              " 5338,\n",
              " 3,\n",
              " 2678,\n",
              " 24,\n",
              " 1370,\n",
              " 3077,\n",
              " 2478,\n",
              " 51,\n",
              " 8,\n",
              " 30,\n",
              " 85,\n",
              " 5,\n",
              " 1628,\n",
              " 916,\n",
              " 5,\n",
              " 75,\n",
              " 3329,\n",
              " 3158,\n",
              " 1,\n",
              " 3077,\n",
              " 4271,\n",
              " 137,\n",
              " 544,\n",
              " 30,\n",
              " 531,\n",
              " 4,\n",
              " 886,\n",
              " 1623,\n",
              " 6977,\n",
              " 21,\n",
              " 280,\n",
              " 4498,\n",
              " 29,\n",
              " 209,\n",
              " 1786,\n",
              " 140,\n",
              " 1140,\n",
              " 280,\n",
              " 8,\n",
              " 4741,\n",
              " 5,\n",
              " 200,\n",
              " 16,\n",
              " 9649,\n",
              " 30,\n",
              " 4,\n",
              " 628,\n",
              " 313,\n",
              " 1106,\n",
              " 1725,\n",
              " 8,\n",
              " 8207,\n",
              " 2,\n",
              " 408,\n",
              " 2200,\n",
              " 715,\n",
              " 3406,\n",
              " 2121,\n",
              " 1,\n",
              " 8324,\n",
              " 4,\n",
              " 889,\n",
              " 323,\n",
              " 15,\n",
              " 1,\n",
              " 4431,\n",
              " 9,\n",
              " 1,\n",
              " 118,\n",
              " 1166,\n",
              " 8,\n",
              " 5,\n",
              " 9479,\n",
              " 1939,\n",
              " 179,\n",
              " 1535,\n",
              " 3,\n",
              " 1,\n",
              " 1718,\n",
              " 2,\n",
              " 261,\n",
              " 11,\n",
              " 132,\n",
              " 248,\n",
              " 1,\n",
              " 378,\n",
              " 8,\n",
              " 1,\n",
              " 3,\n",
              " 4,\n",
              " 275,\n",
              " 21,\n",
              " 280,\n",
              " 4339,\n",
              " 2,\n",
              " 487,\n",
              " 223,\n",
              " 1,\n",
              " 108,\n",
              " 422,\n",
              " 6550,\n",
              " 132,\n",
              " 2,\n",
              " 197,\n",
              " 1686,\n",
              " 8,\n",
              " 5,\n",
              " 71,\n",
              " 1904,\n",
              " 3058,\n",
              " 19,\n",
              " 1413,\n",
              " 5995,\n",
              " 19,\n",
              " 5,\n",
              " 1,\n",
              " 784,\n",
              " 8,\n",
              " 76,\n",
              " 151,\n",
              " 12,\n",
              " 29,\n",
              " 1,\n",
              " 467,\n",
              " 2679,\n",
              " 19,\n",
              " 5763,\n",
              " 2345,\n",
              " 60,\n",
              " 3139,\n",
              " 845,\n",
              " 4625,\n",
              " 6,\n",
              " 1,\n",
              " 309,\n",
              " 210,\n",
              " 19,\n",
              " 220,\n",
              " 5,\n",
              " 1349,\n",
              " 1922,\n",
              " 8,\n",
              " 1120,\n",
              " 2,\n",
              " 79,\n",
              " 151,\n",
              " 2,\n",
              " 31,\n",
              " 126,\n",
              " 24,\n",
              " 1,\n",
              " 8324,\n",
              " 9330,\n",
              " 68,\n",
              " 5,\n",
              " 68,\n",
              " 21,\n",
              " 11,\n",
              " 654,\n",
              " 15,\n",
              " 814,\n",
              " 3187,\n",
              " 1,\n",
              " 467,\n",
              " 14,\n",
              " 2009,\n",
              " 8720,\n",
              " 5,\n",
              " 156,\n",
              " 52,\n",
              " 491,\n",
              " 83,\n",
              " 240,\n",
              " 11,\n",
              " 8,\n",
              " 255,\n",
              " 811,\n",
              " 655,\n",
              " 23,\n",
              " 76,\n",
              " 48,\n",
              " 9,\n",
              " 1008,\n",
              " 74,\n",
              " 35,\n",
              " 36,\n",
              " 1,\n",
              " 8,\n",
              " 44,\n",
              " 11,\n",
              " 959,\n",
              " 6,\n",
              " 125,\n",
              " 251,\n",
              " 1680,\n",
              " 48,\n",
              " 122,\n",
              " 203,\n",
              " 13,\n",
              " 79,\n",
              " 1,\n",
              " 40,\n",
              " 254,\n",
              " 332,\n",
              " 691,\n",
              " 314,\n",
              " 4429,\n",
              " 870,\n",
              " 415,\n",
              " 3,\n",
              " 582,\n",
              " 632,\n",
              " 1649,\n",
              " 536,\n",
              " 415,\n",
              " 253,\n",
              " 2,\n",
              " 16,\n",
              " 422,\n",
              " 22,\n",
              " 114,\n",
              " 1787,\n",
              " 14,\n",
              " 8,\n",
              " 4,\n",
              " 117,\n",
              " 500,\n",
              " 3,\n",
              " 207,\n",
              " 1839,\n",
              " 2297,\n",
              " 995,\n",
              " 1165,\n",
              " 2268,\n",
              " 549,\n",
              " 2330,\n",
              " 1213,\n",
              " 4,\n",
              " 6307,\n",
              " 3559,\n",
              " 3078,\n",
              " 219,\n",
              " 632,\n",
              " 2527,\n",
              " 780,\n",
              " 4,\n",
              " 3215,\n",
              " 5,\n",
              " 7856,\n",
              " 3559,\n",
              " 3,\n",
              " 1213,\n",
              " 1301,\n",
              " 32,\n",
              " 6756,\n",
              " 7970,\n",
              " 5,\n",
              " 2753,\n",
              " 6,\n",
              " 14,\n",
              " 1341,\n",
              " 534,\n",
              " 194,\n",
              " 12,\n",
              " 3170,\n",
              " 1213,\n",
              " 7,\n",
              " 103,\n",
              " 1,\n",
              " 314,\n",
              " 973,\n",
              " 6,\n",
              " 1,\n",
              " 970,\n",
              " 3,\n",
              " 137,\n",
              " 87,\n",
              " 5,\n",
              " 86,\n",
              " 12,\n",
              " 1840,\n",
              " 1213,\n",
              " 1,\n",
              " 973,\n",
              " 6,\n",
              " 1,\n",
              " 314,\n",
              " 970,\n",
              " 3,\n",
              " 137,\n",
              " 87,\n",
              " 838,\n",
              " 272,\n",
              " 3,\n",
              " 1,\n",
              " 134,\n",
              " 1403,\n",
              " 12,\n",
              " 137,\n",
              " 699,\n",
              " 1796,\n",
              " 8,\n",
              " 1476,\n",
              " 2,\n",
              " 4432,\n",
              " 135,\n",
              " 21,\n",
              " 5,\n",
              " 1506,\n",
              " 4317,\n",
              " 45,\n",
              " 47,\n",
              " 9826,\n",
              " 86,\n",
              " 229,\n",
              " 1,\n",
              " 238,\n",
              " 245,\n",
              " 972,\n",
              " 3078,\n",
              " 219,\n",
              " 632,\n",
              " 4,\n",
              " 3859,\n",
              " 3,\n",
              " 972,\n",
              " 6,\n",
              " 61,\n",
              " 51,\n",
              " 6604,\n",
              " 1,\n",
              " 259,\n",
              " 7764,\n",
              " 3,\n",
              " 972,\n",
              " 5,\n",
              " 5171,\n",
              " 7309,\n",
              " 9,\n",
              " 27,\n",
              " 19,\n",
              " 5,\n",
              " 22,\n",
              " 8857,\n",
              " 1506,\n",
              " 4317,\n",
              " 45,\n",
              " 78,\n",
              " 802,\n",
              " 6309,\n",
              " 204,\n",
              " 137,\n",
              " 204,\n",
              " 7129,\n",
              " 1,\n",
              " 6116,\n",
              " 219,\n",
              " 632,\n",
              " 3059,\n",
              " 2113,\n",
              " 780,\n",
              " 1,\n",
              " 4398,\n",
              " 3,\n",
              " 6,\n",
              " 1174,\n",
              " 1,\n",
              " 120,\n",
              " 6,\n",
              " 61,\n",
              " 363,\n",
              " 8858,\n",
              " 22,\n",
              " 1774,\n",
              " 4,\n",
              " 5558,\n",
              " 1862,\n",
              " 210,\n",
              " 600,\n",
              " 15,\n",
              " 1,\n",
              " 707,\n",
              " 9183,\n",
              " 5,\n",
              " 196,\n",
              " 1502,\n",
              " 2914,\n",
              " 5,\n",
              " 4499,\n",
              " 1,\n",
              " 4375,\n",
              " 8,\n",
              " 15,\n",
              " 417,\n",
              " 5,\n",
              " 1414,\n",
              " 108,\n",
              " 2894,\n",
              " 1064,\n",
              " 4,\n",
              " 591,\n",
              " 500,\n",
              " 3,\n",
              " 22,\n",
              " 1213,\n",
              " 204,\n",
              " 137,\n",
              " 204,\n",
              " 7129,\n",
              " 8,\n",
              " 298,\n",
              " 1,\n",
              " 4376,\n",
              " 500,\n",
              " 3,\n",
              " 1,\n",
              " 5299,\n",
              " 3,\n",
              " 4,\n",
              " 553,\n",
              " 379,\n",
              " 1,\n",
              " 973,\n",
              " 9,\n",
              " 137,\n",
              " 959,\n",
              " 9331,\n",
              " 1506,\n",
              " 4317,\n",
              " 45,\n",
              " 59,\n",
              " 1063,\n",
              " 45,\n",
              " ...]"
            ]
          },
          "metadata": {},
          "execution_count": 8
        }
      ]
    },
    {
      "cell_type": "code",
      "source": [
        "word_index = tokenizer.word_index\n",
        "print(\"unique words : {}\".format(len(word_index)))\n",
        "\n"
      ],
      "metadata": {
        "colab": {
          "base_uri": "https://localhost:8080/"
        },
        "id": "yX-rgHDBj2Co",
        "outputId": "96deada8-1066-4add-f146-abe3ad9c8ea6"
      },
      "execution_count": null,
      "outputs": [
        {
          "output_type": "stream",
          "name": "stdout",
          "text": [
            "unique words : 174074\n"
          ]
        }
      ]
    },
    {
      "cell_type": "code",
      "source": [
        "word_index"
      ],
      "metadata": {
        "id": "A9R4HUKNmuaV"
      },
      "execution_count": null,
      "outputs": []
    },
    {
      "cell_type": "code",
      "source": [
        "data = pad_sequences(sequences, maxlen=MAX_SEQUENCE_LENGTH)\n",
        "\n",
        "labels = to_categorical(np.asarray(labels))\n",
        "print('Shape of data tensor:', data.shape)\n",
        "print('Shape of label tensor:', labels.shape)\n",
        "print(labels)"
      ],
      "metadata": {
        "colab": {
          "base_uri": "https://localhost:8080/"
        },
        "id": "HEFUaldhmVTY",
        "outputId": "ee2f0299-904b-48f0-c7ea-f7be5612909a"
      },
      "execution_count": null,
      "outputs": [
        {
          "output_type": "stream",
          "name": "stdout",
          "text": [
            "Shape of data tensor: (19997, 1000)\n",
            "Shape of label tensor: (19997, 20)\n",
            "[[1. 0. 0. ... 0. 0. 0.]\n",
            " [1. 0. 0. ... 0. 0. 0.]\n",
            " [1. 0. 0. ... 0. 0. 0.]\n",
            " ...\n",
            " [0. 0. 0. ... 0. 0. 1.]\n",
            " [0. 0. 0. ... 0. 0. 1.]\n",
            " [0. 0. 0. ... 0. 0. 1.]]\n"
          ]
        }
      ]
    },
    {
      "cell_type": "code",
      "source": [
        "data.shape[0]"
      ],
      "metadata": {
        "colab": {
          "base_uri": "https://localhost:8080/"
        },
        "id": "gUBpsawoxJdV",
        "outputId": "a048ceb0-28a4-46f7-bb6d-2a8d5f266c0f"
      },
      "execution_count": null,
      "outputs": [
        {
          "output_type": "execute_result",
          "data": {
            "text/plain": [
              "19997"
            ]
          },
          "metadata": {},
          "execution_count": 28
        }
      ]
    },
    {
      "cell_type": "code",
      "source": [
        "# spodział danych na zestaw treningowy i zestaw walidacyjny\n",
        "indices = np.arange(data.shape[0])\n",
        "indices"
      ],
      "metadata": {
        "id": "KYzw-uaD50fy",
        "colab": {
          "base_uri": "https://localhost:8080/"
        },
        "outputId": "21f62443-925d-49dd-ebb1-1e7971dc78dc"
      },
      "execution_count": null,
      "outputs": [
        {
          "output_type": "execute_result",
          "data": {
            "text/plain": [
              "array([    0,     1,     2, ..., 19994, 19995, 19996])"
            ]
          },
          "metadata": {},
          "execution_count": 10
        }
      ]
    },
    {
      "cell_type": "code",
      "source": [
        "np.random.shuffle(indices)\n",
        "indices"
      ],
      "metadata": {
        "colab": {
          "base_uri": "https://localhost:8080/"
        },
        "id": "dGPNuRAJxit_",
        "outputId": "67dab167-3acd-468a-d02e-e67ac6f2cda8"
      },
      "execution_count": null,
      "outputs": [
        {
          "output_type": "execute_result",
          "data": {
            "text/plain": [
              "array([ 7798, 16806, 18147, ..., 12689, 17556, 12521])"
            ]
          },
          "metadata": {},
          "execution_count": 11
        }
      ]
    },
    {
      "cell_type": "code",
      "source": [
        "data = data[indices]\n",
        "labels = labels[indices]\n",
        "nb_validation_samples = int(VALIDATION_SPLIT * data.shape[0])\n",
        "\n",
        "x_train = data[:-nb_validation_samples]\n",
        "y_train = labels[:-nb_validation_samples]\n",
        "x_val = data[-nb_validation_samples:]\n",
        "y_val = labels[-nb_validation_samples:]"
      ],
      "metadata": {
        "id": "aZXvfzOyx-gy"
      },
      "execution_count": null,
      "outputs": []
    },
    {
      "cell_type": "markdown",
      "source": [
        "Ponieważ mamy już gotowy podział na trening i walidację, następnym krokiem jest utworzenie macierzy osadzania na podstawie wstępnie obliczonych osadzeń Glove. Dla wygody zamrażamy warstwę osadzania, tj. nie będziemy dostrajać osadzania słów."
      ],
      "metadata": {
        "id": "wAu__XQq55Yc"
      }
    },
    {
      "cell_type": "code",
      "source": [
        "val= 'the -0.038194 -0.24487 0.72812'.split()\n",
        "val"
      ],
      "metadata": {
        "colab": {
          "base_uri": "https://localhost:8080/"
        },
        "id": "MGvQW5CQ0Mh8",
        "outputId": "2211c459-9620-4344-da0e-25b956d2dc6a"
      },
      "execution_count": null,
      "outputs": [
        {
          "output_type": "execute_result",
          "data": {
            "text/plain": [
              "['the', '-0.038194', '-0.24487', '0.72812']"
            ]
          },
          "metadata": {},
          "execution_count": 36
        }
      ]
    },
    {
      "cell_type": "code",
      "source": [
        "embeddings_index = {}\n",
        "f = open(os.path.join(GLOVE_DIR, 'glove.6B.100d.txt'))\n",
        "for line in f:\n",
        "    values = line.split()\n",
        "    word = values[0]\n",
        "    coefs = np.asarray(values[1:], dtype='float32')\n",
        "    embeddings_index[word] = coefs\n",
        "f.close()\n",
        "\n",
        "print('Found %s word vectors.' % len(embeddings_index))"
      ],
      "metadata": {
        "colab": {
          "base_uri": "https://localhost:8080/"
        },
        "id": "y7kV89Fg54tj",
        "outputId": "2469f70a-abde-4803-9419-398d53472383"
      },
      "execution_count": null,
      "outputs": [
        {
          "output_type": "stream",
          "name": "stdout",
          "text": [
            "Found 400000 word vectors.\n"
          ]
        }
      ]
    },
    {
      "cell_type": "code",
      "source": [
        "embedding_matrix = np.zeros((len(word_index) + 1, EMBEDDING_DIM))\n",
        "for word, i in word_index.items():\n",
        "    embedding_vector = embeddings_index.get(word)\n",
        "    if embedding_vector is not None:\n",
        "\n",
        "        # słowa, których nie znaleziono w indeksie osadzania, będą miały wszystkie zera\n",
        "        embedding_matrix[i] = embedding_vector"
      ],
      "metadata": {
        "id": "ufTbDB4g6F6Q"
      },
      "execution_count": null,
      "outputs": []
    },
    {
      "cell_type": "code",
      "source": [
        "from keras.layers import Embedding\n",
        "\n",
        "embedding_layer = Embedding(len(word_index) + 1,\n",
        "                            EMBEDDING_DIM,\n",
        "                            weights=[embedding_matrix],\n",
        "                            input_length=MAX_SEQUENCE_LENGTH,\n",
        "                            trainable=False)# !!! sieci nie uczymy współczynników Embeddings (te wartości pochodzą z pliku Glove)"
      ],
      "metadata": {
        "id": "RDs-ICqe6Jqc"
      },
      "execution_count": null,
      "outputs": []
    },
    {
      "cell_type": "code",
      "source": [
        "inputs = Input(shape=(MAX_SEQUENCE_LENGTH,), dtype='int32')\n",
        "embedding = embedding_layer(inputs)\n",
        "\n",
        "print(embedding.shape)\n"
      ],
      "metadata": {
        "colab": {
          "base_uri": "https://localhost:8080/"
        },
        "id": "bYhyqD4B6NtO",
        "outputId": "f9e0bc87-221a-4a39-c219-ace621f43928"
      },
      "execution_count": null,
      "outputs": [
        {
          "output_type": "stream",
          "name": "stdout",
          "text": [
            "(None, 1000, 100)\n"
          ]
        }
      ]
    },
    {
      "cell_type": "code",
      "source": [
        "# !!! zmiana kształtu warstwy input\n",
        "reshape = Reshape((MAX_SEQUENCE_LENGTH,EMBEDDING_DIM,1))(embedding)\n",
        "print(reshape.shape)\n",
        "\n"
      ],
      "metadata": {
        "colab": {
          "base_uri": "https://localhost:8080/"
        },
        "id": "_cx552oY31WZ",
        "outputId": "d5191d47-7216-46af-c689-b57e1a0b8f38"
      },
      "execution_count": null,
      "outputs": [
        {
          "output_type": "stream",
          "name": "stdout",
          "text": [
            "(None, 1000, 100, 1)\n"
          ]
        }
      ]
    },
    {
      "cell_type": "code",
      "source": [],
      "metadata": {
        "colab": {
          "base_uri": "https://localhost:8080/"
        },
        "id": "exEux_Dl7rBz",
        "outputId": "3a1b0e5f-fe35-40d7-c55c-ec0b897b12f9"
      },
      "execution_count": null,
      "outputs": [
        {
          "output_type": "execute_result",
          "data": {
            "text/plain": [
              "<bound method KerasTensor.from_tensor of <class 'keras.src.engine.keras_tensor.KerasTensor'>>"
            ]
          },
          "metadata": {},
          "execution_count": 52
        }
      ]
    },
    {
      "cell_type": "code",
      "source": [
        "# budowa modelu\n",
        "conv_0 = Conv2D(num_filters, kernel_size=(filter_sizes[0], embedding_dim), padding='valid', kernel_initializer='normal', activation='relu')(reshape)\n",
        "conv_1 = Conv2D(num_filters, kernel_size=(filter_sizes[1], embedding_dim), padding='valid', kernel_initializer='normal', activation='relu')(reshape)\n",
        "conv_2 = Conv2D(num_filters, kernel_size=(filter_sizes[2], embedding_dim), padding='valid', kernel_initializer='normal', activation='relu')(reshape)\n",
        "\n",
        "maxpool_0 = MaxPool2D(pool_size=(MAX_SEQUENCE_LENGTH - filter_sizes[0] + 1, 1), strides=(1,1), padding='valid')(conv_0)\n",
        "maxpool_1 = MaxPool2D(pool_size=(MAX_SEQUENCE_LENGTH - filter_sizes[1] + 1, 1), strides=(1,1), padding='valid')(conv_1)\n",
        "maxpool_2 = MaxPool2D(pool_size=(MAX_SEQUENCE_LENGTH - filter_sizes[2] + 1, 1), strides=(1,1), padding='valid')(conv_2)\n",
        "\n",
        "concatenated_tensor = Concatenate(axis=1)([maxpool_0, maxpool_1, maxpool_2])\n",
        "flatten = Flatten()(concatenated_tensor)\n",
        "dropout = Dropout(drop)(flatten)\n",
        "output = Dense(units=20, activation='softmax')(dropout)\n",
        "\n",
        "model = Model(inputs=inputs, outputs=output)\n",
        "\n",
        "# definicja callback -a\n",
        "checkpoint = ModelCheckpoint('weights_cnn_sentece.hdf5', monitor='val_acc', verbose=1, save_best_only=True, mode='auto')\n",
        "\n",
        "# ustawienie parametró optymalizatora Adam\n",
        "adam = Adam(learning_rate=1e-4, beta_1=0.9, beta_2=0.999, epsilon=1e-08)\n",
        "\n",
        "model.compile(optimizer=adam, loss='binary_crossentropy', metrics=['accuracy'])\n",
        "model.summary()"
      ],
      "metadata": {
        "colab": {
          "base_uri": "https://localhost:8080/"
        },
        "id": "hnKxpEZC33Fo",
        "outputId": "86f02ff8-80ee-4a53-f9aa-420b7506f36e"
      },
      "execution_count": null,
      "outputs": [
        {
          "output_type": "stream",
          "name": "stdout",
          "text": [
            "Model: \"model\"\n",
            "__________________________________________________________________________________________________\n",
            " Layer (type)                Output Shape                 Param #   Connected to                  \n",
            "==================================================================================================\n",
            " input_1 (InputLayer)        [(None, 1000)]               0         []                            \n",
            "                                                                                                  \n",
            " embedding (Embedding)       (None, 1000, 100)            1740750   ['input_1[0][0]']             \n",
            "                                                          0                                       \n",
            "                                                                                                  \n",
            " reshape (Reshape)           (None, 1000, 100, 1)         0         ['embedding[0][0]']           \n",
            "                                                                                                  \n",
            " conv2d (Conv2D)             (None, 998, 1, 512)          154112    ['reshape[0][0]']             \n",
            "                                                                                                  \n",
            " conv2d_1 (Conv2D)           (None, 997, 1, 512)          205312    ['reshape[0][0]']             \n",
            "                                                                                                  \n",
            " conv2d_2 (Conv2D)           (None, 996, 1, 512)          256512    ['reshape[0][0]']             \n",
            "                                                                                                  \n",
            " max_pooling2d (MaxPooling2  (None, 1, 1, 512)            0         ['conv2d[0][0]']              \n",
            " D)                                                                                               \n",
            "                                                                                                  \n",
            " max_pooling2d_1 (MaxPoolin  (None, 1, 1, 512)            0         ['conv2d_1[0][0]']            \n",
            " g2D)                                                                                             \n",
            "                                                                                                  \n",
            " max_pooling2d_2 (MaxPoolin  (None, 1, 1, 512)            0         ['conv2d_2[0][0]']            \n",
            " g2D)                                                                                             \n",
            "                                                                                                  \n",
            " concatenate (Concatenate)   (None, 3, 1, 512)            0         ['max_pooling2d[0][0]',       \n",
            "                                                                     'max_pooling2d_1[0][0]',     \n",
            "                                                                     'max_pooling2d_2[0][0]']     \n",
            "                                                                                                  \n",
            " flatten (Flatten)           (None, 1536)                 0         ['concatenate[0][0]']         \n",
            "                                                                                                  \n",
            " dropout (Dropout)           (None, 1536)                 0         ['flatten[0][0]']             \n",
            "                                                                                                  \n",
            " dense (Dense)               (None, 20)                   30740     ['dropout[0][0]']             \n",
            "                                                                                                  \n",
            "==================================================================================================\n",
            "Total params: 18054176 (68.87 MB)\n",
            "Trainable params: 646676 (2.47 MB)\n",
            "Non-trainable params: 17407500 (66.40 MB)\n",
            "__________________________________________________________________________________________________\n"
          ]
        }
      ]
    },
    {
      "cell_type": "code",
      "source": [
        "x_val.shape"
      ],
      "metadata": {
        "colab": {
          "base_uri": "https://localhost:8080/"
        },
        "id": "YYdvwjPHCwE7",
        "outputId": "6ac43bae-400b-4c03-d4bf-d35b238b9d13"
      },
      "execution_count": null,
      "outputs": [
        {
          "output_type": "execute_result",
          "data": {
            "text/plain": [
              "(3999, 1000)"
            ]
          },
          "metadata": {},
          "execution_count": 56
        }
      ]
    },
    {
      "cell_type": "code",
      "source": [
        "y_val.shape\n"
      ],
      "metadata": {
        "colab": {
          "base_uri": "https://localhost:8080/"
        },
        "id": "hb7_5L2TC2MD",
        "outputId": "588f3bfd-f4f3-4b45-bef7-26243bdd5f69"
      },
      "execution_count": null,
      "outputs": [
        {
          "output_type": "execute_result",
          "data": {
            "text/plain": [
              "(3999, 20)"
            ]
          },
          "metadata": {},
          "execution_count": 57
        }
      ]
    },
    {
      "cell_type": "code",
      "source": [
        "y_val[0]"
      ],
      "metadata": {
        "colab": {
          "base_uri": "https://localhost:8080/"
        },
        "id": "E3bUy7-sDAsX",
        "outputId": "09e86dbb-c6e2-4a8e-ce5a-15f07cce3da9"
      },
      "execution_count": null,
      "outputs": [
        {
          "output_type": "execute_result",
          "data": {
            "text/plain": [
              "array([0., 0., 0., 0., 1., 0., 0., 0., 0., 0., 0., 0., 0., 0., 0., 0., 0.,\n",
              "       0., 0., 0.], dtype=float32)"
            ]
          },
          "metadata": {},
          "execution_count": 58
        }
      ]
    },
    {
      "cell_type": "code",
      "source": [
        "# w przypadku  procesora klasy CPU czas jednej epoki trwa około 1310 sekund (21 min)\n",
        "# w przypadku  procesora klasy GPU czas jednej epoki trwa około 12 sekund\n",
        "print(\"Traning Model...\")\n",
        "epochs = 20\n",
        "history = model.fit(x_train, y_train, batch_size=batch_size, epochs=epochs, verbose=1, callbacks=[checkpoint], validation_data=(x_val, y_val))"
      ],
      "metadata": {
        "colab": {
          "base_uri": "https://localhost:8080/"
        },
        "id": "vFMzodu46R6h",
        "outputId": "86e980d4-cdfb-40fc-e49c-001cdfd3b0c0"
      },
      "execution_count": null,
      "outputs": [
        {
          "output_type": "stream",
          "name": "stdout",
          "text": [
            "Traning Model...\n",
            "Epoch 1/20\n",
            "534/534 [==============================] - ETA: 0s - loss: 0.2569 - accuracy: 0.0864"
          ]
        },
        {
          "output_type": "stream",
          "name": "stderr",
          "text": [
            "WARNING:tensorflow:Can save best model only with val_acc available, skipping.\n"
          ]
        },
        {
          "output_type": "stream",
          "name": "stdout",
          "text": [
            "\b\b\b\b\b\b\b\b\b\b\b\b\b\b\b\b\b\b\b\b\b\b\b\b\b\b\b\b\b\b\b\b\b\b\b\b\b\b\b\b\b\b\b\b\b\b\b\b\b\b\b\b\b\b\b\b\b\b\b\b\b\b\b\b\b\b\b\b\b\b\b\b\b\b\b\b\b\b\b\b\b\b\b\b\r534/534 [==============================] - 26s 21ms/step - loss: 0.2569 - accuracy: 0.0864 - val_loss: 0.1747 - val_accuracy: 0.4571\n",
            "Epoch 2/20\n",
            "531/534 [============================>.] - ETA: 0s - loss: 0.1821 - accuracy: 0.2382"
          ]
        },
        {
          "output_type": "stream",
          "name": "stderr",
          "text": [
            "WARNING:tensorflow:Can save best model only with val_acc available, skipping.\n"
          ]
        },
        {
          "output_type": "stream",
          "name": "stdout",
          "text": [
            "\b\b\b\b\b\b\b\b\b\b\b\b\b\b\b\b\b\b\b\b\b\b\b\b\b\b\b\b\b\b\b\b\b\b\b\b\b\b\b\b\b\b\b\b\b\b\b\b\b\b\b\b\b\b\b\b\b\b\b\b\b\b\b\b\b\b\b\b\b\b\b\b\b\b\b\b\b\b\b\b\b\b\b\b\r534/534 [==============================] - 11s 21ms/step - loss: 0.1820 - accuracy: 0.2385 - val_loss: 0.1422 - val_accuracy: 0.6027\n",
            "Epoch 3/20\n",
            "532/534 [============================>.] - ETA: 0s - loss: 0.1507 - accuracy: 0.3940"
          ]
        },
        {
          "output_type": "stream",
          "name": "stderr",
          "text": [
            "WARNING:tensorflow:Can save best model only with val_acc available, skipping.\n"
          ]
        },
        {
          "output_type": "stream",
          "name": "stdout",
          "text": [
            "\b\b\b\b\b\b\b\b\b\b\b\b\b\b\b\b\b\b\b\b\b\b\b\b\b\b\b\b\b\b\b\b\b\b\b\b\b\b\b\b\b\b\b\b\b\b\b\b\b\b\b\b\b\b\b\b\b\b\b\b\b\b\b\b\b\b\b\b\b\b\b\b\b\b\b\b\b\b\b\b\b\b\b\b\r534/534 [==============================] - 11s 21ms/step - loss: 0.1507 - accuracy: 0.3944 - val_loss: 0.1236 - val_accuracy: 0.6572\n",
            "Epoch 4/20\n",
            "532/534 [============================>.] - ETA: 0s - loss: 0.1286 - accuracy: 0.5178"
          ]
        },
        {
          "output_type": "stream",
          "name": "stderr",
          "text": [
            "WARNING:tensorflow:Can save best model only with val_acc available, skipping.\n"
          ]
        },
        {
          "output_type": "stream",
          "name": "stdout",
          "text": [
            "\b\b\b\b\b\b\b\b\b\b\b\b\b\b\b\b\b\b\b\b\b\b\b\b\b\b\b\b\b\b\b\b\b\b\b\b\b\b\b\b\b\b\b\b\b\b\b\b\b\b\b\b\b\b\b\b\b\b\b\b\b\b\b\b\b\b\b\b\b\b\b\b\b\b\b\b\b\b\b\b\b\b\b\b\r534/534 [==============================] - 11s 20ms/step - loss: 0.1286 - accuracy: 0.5181 - val_loss: 0.1109 - val_accuracy: 0.6944\n",
            "Epoch 5/20\n",
            "532/534 [============================>.] - ETA: 0s - loss: 0.1143 - accuracy: 0.5987"
          ]
        },
        {
          "output_type": "stream",
          "name": "stderr",
          "text": [
            "WARNING:tensorflow:Can save best model only with val_acc available, skipping.\n"
          ]
        },
        {
          "output_type": "stream",
          "name": "stdout",
          "text": [
            "\b\b\b\b\b\b\b\b\b\b\b\b\b\b\b\b\b\b\b\b\b\b\b\b\b\b\b\b\b\b\b\b\b\b\b\b\b\b\b\b\b\b\b\b\b\b\b\b\b\b\b\b\b\b\b\b\b\b\b\b\b\b\b\b\b\b\b\b\b\b\b\b\b\b\b\b\b\b\b\b\b\b\b\b\r534/534 [==============================] - 11s 20ms/step - loss: 0.1143 - accuracy: 0.5989 - val_loss: 0.1016 - val_accuracy: 0.7129\n",
            "Epoch 6/20\n",
            "532/534 [============================>.] - ETA: 0s - loss: 0.1039 - accuracy: 0.6548"
          ]
        },
        {
          "output_type": "stream",
          "name": "stderr",
          "text": [
            "WARNING:tensorflow:Can save best model only with val_acc available, skipping.\n"
          ]
        },
        {
          "output_type": "stream",
          "name": "stdout",
          "text": [
            "\b\b\b\b\b\b\b\b\b\b\b\b\b\b\b\b\b\b\b\b\b\b\b\b\b\b\b\b\b\b\b\b\b\b\b\b\b\b\b\b\b\b\b\b\b\b\b\b\b\b\b\b\b\b\b\b\b\b\b\b\b\b\b\b\b\b\b\b\b\b\b\b\b\b\b\b\b\b\b\b\b\b\b\b\r534/534 [==============================] - 11s 20ms/step - loss: 0.1039 - accuracy: 0.6550 - val_loss: 0.0946 - val_accuracy: 0.7262\n",
            "Epoch 7/20\n",
            "532/534 [============================>.] - ETA: 0s - loss: 0.0948 - accuracy: 0.7014"
          ]
        },
        {
          "output_type": "stream",
          "name": "stderr",
          "text": [
            "WARNING:tensorflow:Can save best model only with val_acc available, skipping.\n"
          ]
        },
        {
          "output_type": "stream",
          "name": "stdout",
          "text": [
            "\b\b\b\b\b\b\b\b\b\b\b\b\b\b\b\b\b\b\b\b\b\b\b\b\b\b\b\b\b\b\b\b\b\b\b\b\b\b\b\b\b\b\b\b\b\b\b\b\b\b\b\b\b\b\b\b\b\b\b\b\b\b\b\b\b\b\b\b\b\b\b\b\b\b\b\b\b\b\b\b\b\b\b\b\r534/534 [==============================] - 11s 20ms/step - loss: 0.0947 - accuracy: 0.7015 - val_loss: 0.0898 - val_accuracy: 0.7382\n",
            "Epoch 8/20\n",
            "532/534 [============================>.] - ETA: 0s - loss: 0.0884 - accuracy: 0.7271"
          ]
        },
        {
          "output_type": "stream",
          "name": "stderr",
          "text": [
            "WARNING:tensorflow:Can save best model only with val_acc available, skipping.\n"
          ]
        },
        {
          "output_type": "stream",
          "name": "stdout",
          "text": [
            "\b\b\b\b\b\b\b\b\b\b\b\b\b\b\b\b\b\b\b\b\b\b\b\b\b\b\b\b\b\b\b\b\b\b\b\b\b\b\b\b\b\b\b\b\b\b\b\b\b\b\b\b\b\b\b\b\b\b\b\b\b\b\b\b\b\b\b\b\b\b\b\b\b\b\b\b\b\b\b\b\b\b\b\b\r534/534 [==============================] - 11s 20ms/step - loss: 0.0884 - accuracy: 0.7271 - val_loss: 0.0857 - val_accuracy: 0.7447\n",
            "Epoch 9/20\n",
            "532/534 [============================>.] - ETA: 0s - loss: 0.0828 - accuracy: 0.7449"
          ]
        },
        {
          "output_type": "stream",
          "name": "stderr",
          "text": [
            "WARNING:tensorflow:Can save best model only with val_acc available, skipping.\n"
          ]
        },
        {
          "output_type": "stream",
          "name": "stdout",
          "text": [
            "\b\b\b\b\b\b\b\b\b\b\b\b\b\b\b\b\b\b\b\b\b\b\b\b\b\b\b\b\b\b\b\b\b\b\b\b\b\b\b\b\b\b\b\b\b\b\b\b\b\b\b\b\b\b\b\b\b\b\b\b\b\b\b\b\b\b\b\b\b\b\b\b\b\b\b\b\b\b\b\b\b\b\b\b\r534/534 [==============================] - 11s 20ms/step - loss: 0.0828 - accuracy: 0.7449 - val_loss: 0.0815 - val_accuracy: 0.7597\n",
            "Epoch 10/20\n",
            "532/534 [============================>.] - ETA: 0s - loss: 0.0779 - accuracy: 0.7682"
          ]
        },
        {
          "output_type": "stream",
          "name": "stderr",
          "text": [
            "WARNING:tensorflow:Can save best model only with val_acc available, skipping.\n"
          ]
        },
        {
          "output_type": "stream",
          "name": "stdout",
          "text": [
            "\b\b\b\b\b\b\b\b\b\b\b\b\b\b\b\b\b\b\b\b\b\b\b\b\b\b\b\b\b\b\b\b\b\b\b\b\b\b\b\b\b\b\b\b\b\b\b\b\b\b\b\b\b\b\b\b\b\b\b\b\b\b\b\b\b\b\b\b\b\b\b\b\b\b\b\b\b\b\b\b\b\b\b\b\r534/534 [==============================] - 11s 20ms/step - loss: 0.0779 - accuracy: 0.7683 - val_loss: 0.0783 - val_accuracy: 0.7637\n",
            "Epoch 11/20\n",
            "532/534 [============================>.] - ETA: 0s - loss: 0.0730 - accuracy: 0.7880"
          ]
        },
        {
          "output_type": "stream",
          "name": "stderr",
          "text": [
            "WARNING:tensorflow:Can save best model only with val_acc available, skipping.\n"
          ]
        },
        {
          "output_type": "stream",
          "name": "stdout",
          "text": [
            "\b\b\b\b\b\b\b\b\b\b\b\b\b\b\b\b\b\b\b\b\b\b\b\b\b\b\b\b\b\b\b\b\b\b\b\b\b\b\b\b\b\b\b\b\b\b\b\b\b\b\b\b\b\b\b\b\b\b\b\b\b\b\b\b\b\b\b\b\b\b\b\b\b\b\b\b\b\b\b\b\b\b\b\b\r534/534 [==============================] - 11s 20ms/step - loss: 0.0730 - accuracy: 0.7878 - val_loss: 0.0762 - val_accuracy: 0.7657\n",
            "Epoch 12/20\n",
            "532/534 [============================>.] - ETA: 0s - loss: 0.0694 - accuracy: 0.7986"
          ]
        },
        {
          "output_type": "stream",
          "name": "stderr",
          "text": [
            "WARNING:tensorflow:Can save best model only with val_acc available, skipping.\n"
          ]
        },
        {
          "output_type": "stream",
          "name": "stdout",
          "text": [
            "\b\b\b\b\b\b\b\b\b\b\b\b\b\b\b\b\b\b\b\b\b\b\b\b\b\b\b\b\b\b\b\b\b\b\b\b\b\b\b\b\b\b\b\b\b\b\b\b\b\b\b\b\b\b\b\b\b\b\b\b\b\b\b\b\b\b\b\b\b\b\b\b\b\b\b\b\b\b\b\b\b\b\b\b\r534/534 [==============================] - 11s 20ms/step - loss: 0.0694 - accuracy: 0.7984 - val_loss: 0.0731 - val_accuracy: 0.7764\n",
            "Epoch 13/20\n",
            "531/534 [============================>.] - ETA: 0s - loss: 0.0659 - accuracy: 0.8158"
          ]
        },
        {
          "output_type": "stream",
          "name": "stderr",
          "text": [
            "WARNING:tensorflow:Can save best model only with val_acc available, skipping.\n"
          ]
        },
        {
          "output_type": "stream",
          "name": "stdout",
          "text": [
            "\b\b\b\b\b\b\b\b\b\b\b\b\b\b\b\b\b\b\b\b\b\b\b\b\b\b\b\b\b\b\b\b\b\b\b\b\b\b\b\b\b\b\b\b\b\b\b\b\b\b\b\b\b\b\b\b\b\b\b\b\b\b\b\b\b\b\b\b\b\b\b\b\b\b\b\b\b\b\b\b\b\b\b\b\r534/534 [==============================] - 11s 20ms/step - loss: 0.0659 - accuracy: 0.8155 - val_loss: 0.0714 - val_accuracy: 0.7754\n",
            "Epoch 14/20\n",
            "531/534 [============================>.] - ETA: 0s - loss: 0.0625 - accuracy: 0.8273"
          ]
        },
        {
          "output_type": "stream",
          "name": "stderr",
          "text": [
            "WARNING:tensorflow:Can save best model only with val_acc available, skipping.\n"
          ]
        },
        {
          "output_type": "stream",
          "name": "stdout",
          "text": [
            "\b\b\b\b\b\b\b\b\b\b\b\b\b\b\b\b\b\b\b\b\b\b\b\b\b\b\b\b\b\b\b\b\b\b\b\b\b\b\b\b\b\b\b\b\b\b\b\b\b\b\b\b\b\b\b\b\b\b\b\b\b\b\b\b\b\b\b\b\b\b\b\b\b\b\b\b\b\b\b\b\b\b\b\b\r534/534 [==============================] - 11s 20ms/step - loss: 0.0625 - accuracy: 0.8271 - val_loss: 0.0698 - val_accuracy: 0.7874\n",
            "Epoch 15/20\n",
            "532/534 [============================>.] - ETA: 0s - loss: 0.0597 - accuracy: 0.8350"
          ]
        },
        {
          "output_type": "stream",
          "name": "stderr",
          "text": [
            "WARNING:tensorflow:Can save best model only with val_acc available, skipping.\n"
          ]
        },
        {
          "output_type": "stream",
          "name": "stdout",
          "text": [
            "\b\b\b\b\b\b\b\b\b\b\b\b\b\b\b\b\b\b\b\b\b\b\b\b\b\b\b\b\b\b\b\b\b\b\b\b\b\b\b\b\b\b\b\b\b\b\b\b\b\b\b\b\b\b\b\b\b\b\b\b\b\b\b\b\b\b\b\b\b\b\b\b\b\b\b\b\b\b\b\b\b\b\b\b\r534/534 [==============================] - 11s 20ms/step - loss: 0.0597 - accuracy: 0.8347 - val_loss: 0.0679 - val_accuracy: 0.7879\n",
            "Epoch 16/20\n",
            "531/534 [============================>.] - ETA: 0s - loss: 0.0570 - accuracy: 0.8491"
          ]
        },
        {
          "output_type": "stream",
          "name": "stderr",
          "text": [
            "WARNING:tensorflow:Can save best model only with val_acc available, skipping.\n"
          ]
        },
        {
          "output_type": "stream",
          "name": "stdout",
          "text": [
            "\b\b\b\b\b\b\b\b\b\b\b\b\b\b\b\b\b\b\b\b\b\b\b\b\b\b\b\b\b\b\b\b\b\b\b\b\b\b\b\b\b\b\b\b\b\b\b\b\b\b\b\b\b\b\b\b\b\b\b\b\b\b\b\b\b\b\b\b\b\b\b\b\b\b\b\b\b\b\b\b\b\b\b\b\r534/534 [==============================] - 11s 20ms/step - loss: 0.0570 - accuracy: 0.8492 - val_loss: 0.0672 - val_accuracy: 0.7894\n",
            "Epoch 17/20\n",
            "532/534 [============================>.] - ETA: 0s - loss: 0.0548 - accuracy: 0.8558"
          ]
        },
        {
          "output_type": "stream",
          "name": "stderr",
          "text": [
            "WARNING:tensorflow:Can save best model only with val_acc available, skipping.\n"
          ]
        },
        {
          "output_type": "stream",
          "name": "stdout",
          "text": [
            "\b\b\b\b\b\b\b\b\b\b\b\b\b\b\b\b\b\b\b\b\b\b\b\b\b\b\b\b\b\b\b\b\b\b\b\b\b\b\b\b\b\b\b\b\b\b\b\b\b\b\b\b\b\b\b\b\b\b\b\b\b\b\b\b\b\b\b\b\b\b\b\b\b\b\b\b\b\b\b\b\b\b\b\b\r534/534 [==============================] - 11s 20ms/step - loss: 0.0548 - accuracy: 0.8557 - val_loss: 0.0656 - val_accuracy: 0.7937\n",
            "Epoch 18/20\n",
            "531/534 [============================>.] - ETA: 0s - loss: 0.0522 - accuracy: 0.8662"
          ]
        },
        {
          "output_type": "stream",
          "name": "stderr",
          "text": [
            "WARNING:tensorflow:Can save best model only with val_acc available, skipping.\n"
          ]
        },
        {
          "output_type": "stream",
          "name": "stdout",
          "text": [
            "\b\b\b\b\b\b\b\b\b\b\b\b\b\b\b\b\b\b\b\b\b\b\b\b\b\b\b\b\b\b\b\b\b\b\b\b\b\b\b\b\b\b\b\b\b\b\b\b\b\b\b\b\b\b\b\b\b\b\b\b\b\b\b\b\b\b\b\b\b\b\b\b\b\b\b\b\b\b\b\b\b\b\b\b\r534/534 [==============================] - 11s 20ms/step - loss: 0.0522 - accuracy: 0.8664 - val_loss: 0.0649 - val_accuracy: 0.7959\n",
            "Epoch 19/20\n",
            "532/534 [============================>.] - ETA: 0s - loss: 0.0507 - accuracy: 0.8707"
          ]
        },
        {
          "output_type": "stream",
          "name": "stderr",
          "text": [
            "WARNING:tensorflow:Can save best model only with val_acc available, skipping.\n"
          ]
        },
        {
          "output_type": "stream",
          "name": "stdout",
          "text": [
            "\b\b\b\b\b\b\b\b\b\b\b\b\b\b\b\b\b\b\b\b\b\b\b\b\b\b\b\b\b\b\b\b\b\b\b\b\b\b\b\b\b\b\b\b\b\b\b\b\b\b\b\b\b\b\b\b\b\b\b\b\b\b\b\b\b\b\b\b\b\b\b\b\b\b\b\b\b\b\b\b\b\b\b\b\r534/534 [==============================] - 11s 20ms/step - loss: 0.0507 - accuracy: 0.8705 - val_loss: 0.0642 - val_accuracy: 0.8002\n",
            "Epoch 20/20\n",
            "531/534 [============================>.] - ETA: 0s - loss: 0.0485 - accuracy: 0.8797"
          ]
        },
        {
          "output_type": "stream",
          "name": "stderr",
          "text": [
            "WARNING:tensorflow:Can save best model only with val_acc available, skipping.\n"
          ]
        },
        {
          "output_type": "stream",
          "name": "stdout",
          "text": [
            "\b\b\b\b\b\b\b\b\b\b\b\b\b\b\b\b\b\b\b\b\b\b\b\b\b\b\b\b\b\b\b\b\b\b\b\b\b\b\b\b\b\b\b\b\b\b\b\b\b\b\b\b\b\b\b\b\b\b\b\b\b\b\b\b\b\b\b\b\b\b\b\b\b\b\b\b\b\b\b\b\b\b\b\b\r534/534 [==============================] - 11s 20ms/step - loss: 0.0485 - accuracy: 0.8796 - val_loss: 0.0629 - val_accuracy: 0.7989\n"
          ]
        }
      ]
    },
    {
      "cell_type": "code",
      "source": [
        "print(history.history.keys())"
      ],
      "metadata": {
        "colab": {
          "base_uri": "https://localhost:8080/"
        },
        "id": "c5auv3sia6RU",
        "outputId": "39ffc20d-c19b-4557-c9d8-99526ffe8df1"
      },
      "execution_count": null,
      "outputs": [
        {
          "output_type": "stream",
          "name": "stdout",
          "text": [
            "dict_keys(['loss', 'accuracy', 'val_loss', 'val_accuracy'])\n"
          ]
        }
      ]
    },
    {
      "cell_type": "code",
      "source": [
        "import matplotlib.pyplot as plt\n",
        "%matplotlib inline\n",
        "plt.plot(history.history['accuracy'])\n",
        "plt.plot(history.history['val_accuracy'])\n",
        "plt.title('Model accuracy')\n",
        "plt.ylabel('Accuracy')\n",
        "plt.xlabel('Epoch')\n",
        "plt.legend(['Train', 'Valid'], loc='upper left')\n",
        "plt.show()"
      ],
      "metadata": {
        "colab": {
          "base_uri": "https://localhost:8080/",
          "height": 472
        },
        "id": "iutxryq7aLs3",
        "outputId": "9219f0a0-030a-4b44-bddb-4027e6909d24"
      },
      "execution_count": null,
      "outputs": [
        {
          "output_type": "display_data",
          "data": {
            "text/plain": [
              "<Figure size 640x480 with 1 Axes>"
            ],
            "image/png": "[encoded data removed]"
          },
          "metadata": {}
        }
      ]
    },
    {
      "cell_type": "code",
      "source": [
        "plt.plot(history.history['loss'])\n",
        "plt.plot(history.history['val_loss'])\n",
        "plt.title('Loss')\n",
        "plt.ylabel('Loss')\n",
        "plt.xlabel('Epoch')\n",
        "plt.legend(['Train', 'Valid'], loc='upper left')\n",
        "plt.show()"
      ],
      "metadata": {
        "colab": {
          "base_uri": "https://localhost:8080/",
          "height": 472
        },
        "id": "Fzb5MKaCbSnV",
        "outputId": "1c4e8cf1-90e9-40cd-fc5e-6ae0d0a19ee3"
      },
      "execution_count": null,
      "outputs": [
        {
          "output_type": "display_data",
          "data": {
            "text/plain": [
              "<Figure size 640x480 with 1 Axes>"
            ],
            "image/png": "[encoded data removed]"
          },
          "metadata": {}
        }
      ]
    },
    {
      "cell_type": "code",
      "source": [
        "# ewaluacja modelu\n",
        "eval = model.evaluate(x_val, y_val)"
      ],
      "metadata": {
        "colab": {
          "base_uri": "https://localhost:8080/"
        },
        "id": "EejD4PBUbUIg",
        "outputId": "aa0c2ec3-3533-497b-d74f-3c410488f5f4"
      },
      "execution_count": null,
      "outputs": [
        {
          "output_type": "stream",
          "name": "stdout",
          "text": [
            "125/125 [==============================] - 1s 8ms/step - loss: 0.0629 - accuracy: 0.7989\n"
          ]
        }
      ]
    },
    {
      "cell_type": "code",
      "source": [
        "# predykcja dla całego zbioru testowego\n",
        "Y_pred = model.predict(x_val)\n"
      ],
      "metadata": {
        "colab": {
          "base_uri": "https://localhost:8080/"
        },
        "id": "gNA6nAZXGRoV",
        "outputId": "1828bbc8-5db6-4371-9513-670bd6a382ba"
      },
      "execution_count": null,
      "outputs": [
        {
          "output_type": "stream",
          "name": "stdout",
          "text": [
            "125/125 [==============================] - 1s 6ms/step\n"
          ]
        }
      ]
    },
    {
      "cell_type": "code",
      "source": [
        "Y_pred[0]"
      ],
      "metadata": {
        "colab": {
          "base_uri": "https://localhost:8080/"
        },
        "id": "540cPtMfGrfy",
        "outputId": "07558baf-b543-4f37-8f73-fbee6befd130"
      },
      "execution_count": null,
      "outputs": [
        {
          "output_type": "execute_result",
          "data": {
            "text/plain": [
              "array([4.7214115e-03, 1.6824719e-02, 2.4247383e-01, 9.7516514e-02,\n",
              "       6.8273172e-02, 3.5657221e-01, 1.1681961e-01, 9.1628609e-03,\n",
              "       6.0619214e-03, 3.1983538e-04, 7.6423064e-05, 3.2503288e-02,\n",
              "       1.6708042e-02, 3.1751924e-04, 3.3030116e-03, 5.4058371e-05,\n",
              "       6.0409540e-03, 5.5041667e-03, 6.5842392e-03, 1.0162074e-02],\n",
              "      dtype=float32)"
            ]
          },
          "metadata": {},
          "execution_count": 25
        }
      ]
    },
    {
      "cell_type": "code",
      "source": [
        "# sformatowanie tablic na potrzeby \"confusion_matrix\"\n",
        "Y_pred_classes =np.argmax(Y_pred, axis=1)\n",
        "Y_true= np.argmax(y_val, axis=1)"
      ],
      "metadata": {
        "id": "Rvdgj-tZGvyM"
      },
      "execution_count": null,
      "outputs": []
    },
    {
      "cell_type": "code",
      "source": [
        "# Macierz konfuzji\n",
        "from sklearn.metrics import classification_report,confusion_matrix\n",
        "\n",
        "confusion_m= confusion_matrix(Y_true, Y_pred_classes)\n",
        "print(confusion_m)\n"
      ],
      "metadata": {
        "colab": {
          "base_uri": "https://localhost:8080/"
        },
        "id": "ShQ_pzMTG5Le",
        "outputId": "89eea812-200c-412a-def1-8a38bae1b3d4"
      },
      "execution_count": null,
      "outputs": [
        {
          "output_type": "stream",
          "name": "stdout",
          "text": [
            "[[127   0   0   0   0   0   0   0   0   1   2   0   0   0   2  26   2   3\n",
            "    0  42]\n",
            " [  0 137   9   7   4  15   2   0   0   1   0   1   4   2   2   2   0   0\n",
            "    0   1]\n",
            " [  0  11 149   9   0  11   3   0   2   1   1   0   0   1   2   0   0   0\n",
            "    0   0]\n",
            " [  0   9  11 155  10   3   7   2   0   1   0   0  19   0   0   0   0   0\n",
            "    0   0]\n",
            " [  0   8   2  13 133   1  10   4   2   0   0   1  15   0   2   0   0   0\n",
            "    0   0]\n",
            " [  0  14   1   6   1 177   4   1   0   1   0   0   1   0   3   2   0   0\n",
            "    0   0]\n",
            " [  0   4   4   9   3   2 161   5   3   3   0   1   7   2   1   0   0   0\n",
            "    0   1]\n",
            " [  0   0   0   0   0   1   5 170   7   3   0   0   5   0   1   0   4   1\n",
            "    1   0]\n",
            " [  0   1   0   1   2   1   5   4 170   1   0   0   0   2   1   0   2   1\n",
            "    0   0]\n",
            " [  0   1   0   0   0   0   2   0   0 188   2   1   0   0   2   1   2   1\n",
            "    1   0]\n",
            " [  0   0   0   0   0   2   1   0   0   4 201   0   0   1   0   0   1   0\n",
            "    0   0]\n",
            " [  0   0   2   0   1   1   0   0   1   0   2 208   2   0   1   0   4   1\n",
            "    2   1]\n",
            " [  0   6   2   8   3   4   6   2   4   1   1   6 127   1   3   1   0   0\n",
            "    0   0]\n",
            " [  2   3   0   0   0   4   0   1   2   0   1   0   2 184   1   1   4   0\n",
            "    0   1]\n",
            " [  0   5   0   1   0   2   0   0   1   2   0   1   5   4 183   0   1   1\n",
            "    1   1]\n",
            " [  4   0   0   0   0   1   1   1   0   1   0   0   0   0   1 189   0   3\n",
            "    0   2]\n",
            " [  0   1   0   0   0   1   1   1   1   0   1   2   3   0   1   0 153   0\n",
            "   10   8]\n",
            " [  0   0   0   1   0   0   1   0   1   2   0   0   1   0   1   4   3 195\n",
            "    3   0]\n",
            " [  0   1   1   0   0   1   1   0   1   1   2   2   0   2   1   1  24  18\n",
            "  120  14]\n",
            " [ 44   0   0   0   0   0   0   2   0   3   0   0   1   5   1  19  20   1\n",
            "   25  68]]\n"
          ]
        }
      ]
    },
    {
      "cell_type": "code",
      "source": [
        "import seaborn as sns\n",
        "plt.figure(figsize=(12,10))\n",
        "sns.heatmap(confusion_m, annot=True, linewidths=0.01,cmap=\"Greens\",linecolor=\"gray\", fmt= '.0f',annot_kws={\"fontsize\": 8, \"fontweight\": \"bold\", \"fontfamily\": \"serif\"})\n",
        "plt.title(\"Heatmap dla predykcji na danych testowych\")\n",
        "plt.savefig(\"heatmap.png\")\n",
        "plt.show()"
      ],
      "metadata": {
        "colab": {
          "base_uri": "https://localhost:8080/",
          "height": 863
        },
        "id": "-1oENanCHGws",
        "outputId": "46d7a4f1-7009-4e38-ef1b-18d628f15051"
      },
      "execution_count": null,
      "outputs": [
        {
          "output_type": "display_data",
          "data": {
            "text/plain": [
              "<Figure size 1200x1000 with 2 Axes>"
            ],
            "image/png": "[encoded data removed]"
          },
          "metadata": {}
        }
      ]
    },
    {
      "cell_type": "code",
      "source": [
        "# Raport klasyfikacji\n",
        "print(classification_report(Y_true, Y_pred_classes))"
      ],
      "metadata": {
        "colab": {
          "base_uri": "https://localhost:8080/"
        },
        "id": "6Cx6j0WDHjKd",
        "outputId": "db2c7f94-69f8-47b4-bf2b-39e14317c57e"
      },
      "execution_count": null,
      "outputs": [
        {
          "output_type": "stream",
          "name": "stdout",
          "text": [
            "              precision    recall  f1-score   support\n",
            "\n",
            "           0       0.72      0.62      0.66       205\n",
            "           1       0.68      0.73      0.71       187\n",
            "           2       0.82      0.78      0.80       190\n",
            "           3       0.74      0.71      0.73       217\n",
            "           4       0.85      0.70      0.76       191\n",
            "           5       0.78      0.84      0.81       211\n",
            "           6       0.77      0.78      0.77       206\n",
            "           7       0.88      0.86      0.87       198\n",
            "           8       0.87      0.89      0.88       191\n",
            "           9       0.88      0.94      0.91       201\n",
            "          10       0.94      0.96      0.95       210\n",
            "          11       0.93      0.92      0.93       226\n",
            "          12       0.66      0.73      0.69       175\n",
            "          13       0.90      0.89      0.90       206\n",
            "          14       0.88      0.88      0.88       208\n",
            "          15       0.77      0.93      0.84       203\n",
            "          16       0.70      0.84      0.76       183\n",
            "          17       0.87      0.92      0.89       212\n",
            "          18       0.74      0.63      0.68       190\n",
            "          19       0.49      0.36      0.41       189\n",
            "\n",
            "    accuracy                           0.80      3999\n",
            "   macro avg       0.79      0.80      0.79      3999\n",
            "weighted avg       0.80      0.80      0.80      3999\n",
            "\n"
          ]
        }
      ]
    },
    {
      "cell_type": "code",
      "source": [
        "print(\"Traning Model...\")\n",
        "epochs = 80\n",
        "history = model.fit(x_train, y_train, batch_size=batch_size, epochs=epochs, verbose=1, callbacks=[checkpoint], validation_data=(x_val, y_val))"
      ],
      "metadata": {
        "colab": {
          "base_uri": "https://localhost:8080/"
        },
        "id": "jU8s12KUccsV",
        "outputId": "dfc450d1-1d4e-45e3-cb28-2530fe622d3d"
      },
      "execution_count": null,
      "outputs": [
        {
          "output_type": "stream",
          "name": "stdout",
          "text": [
            "Traning Model...\n",
            "Epoch 1/80\n",
            "531/534 [============================>.] - ETA: 0s - loss: 0.0465 - accuracy: 0.8854"
          ]
        },
        {
          "output_type": "stream",
          "name": "stderr",
          "text": [
            "WARNING:tensorflow:Can save best model only with val_acc available, skipping.\n"
          ]
        },
        {
          "output_type": "stream",
          "name": "stdout",
          "text": [
            "\b\b\b\b\b\b\b\b\b\b\b\b\b\b\b\b\b\b\b\b\b\b\b\b\b\b\b\b\b\b\b\b\b\b\b\b\b\b\b\b\b\b\b\b\b\b\b\b\b\b\b\b\b\b\b\b\b\b\b\b\b\b\b\b\b\b\b\b\b\b\b\b\b\b\b\b\b\b\b\b\b\b\b\b\r534/534 [==============================] - 11s 21ms/step - loss: 0.0465 - accuracy: 0.8853 - val_loss: 0.0621 - val_accuracy: 0.8045\n",
            "Epoch 2/80\n",
            "532/534 [============================>.] - ETA: 0s - loss: 0.0446 - accuracy: 0.8948"
          ]
        },
        {
          "output_type": "stream",
          "name": "stderr",
          "text": [
            "WARNING:tensorflow:Can save best model only with val_acc available, skipping.\n"
          ]
        },
        {
          "output_type": "stream",
          "name": "stdout",
          "text": [
            "\b\b\b\b\b\b\b\b\b\b\b\b\b\b\b\b\b\b\b\b\b\b\b\b\b\b\b\b\b\b\b\b\b\b\b\b\b\b\b\b\b\b\b\b\b\b\b\b\b\b\b\b\b\b\b\b\b\b\b\b\b\b\b\b\b\b\b\b\b\b\b\b\b\b\b\b\b\b\b\b\b\b\b\b\r534/534 [==============================] - 11s 20ms/step - loss: 0.0446 - accuracy: 0.8948 - val_loss: 0.0619 - val_accuracy: 0.8010\n",
            "Epoch 3/80\n",
            "532/534 [============================>.] - ETA: 0s - loss: 0.0431 - accuracy: 0.8961"
          ]
        },
        {
          "output_type": "stream",
          "name": "stderr",
          "text": [
            "WARNING:tensorflow:Can save best model only with val_acc available, skipping.\n"
          ]
        },
        {
          "output_type": "stream",
          "name": "stdout",
          "text": [
            "\b\b\b\b\b\b\b\b\b\b\b\b\b\b\b\b\b\b\b\b\b\b\b\b\b\b\b\b\b\b\b\b\b\b\b\b\b\b\b\b\b\b\b\b\b\b\b\b\b\b\b\b\b\b\b\b\b\b\b\b\b\b\b\b\b\b\b\b\b\b\b\b\b\b\b\b\b\b\b\b\b\b\b\b\r534/534 [==============================] - 11s 21ms/step - loss: 0.0431 - accuracy: 0.8962 - val_loss: 0.0611 - val_accuracy: 0.8100\n",
            "Epoch 4/80\n",
            "531/534 [============================>.] - ETA: 0s - loss: 0.0417 - accuracy: 0.9008"
          ]
        },
        {
          "output_type": "stream",
          "name": "stderr",
          "text": [
            "WARNING:tensorflow:Can save best model only with val_acc available, skipping.\n"
          ]
        },
        {
          "output_type": "stream",
          "name": "stdout",
          "text": [
            "\b\b\b\b\b\b\b\b\b\b\b\b\b\b\b\b\b\b\b\b\b\b\b\b\b\b\b\b\b\b\b\b\b\b\b\b\b\b\b\b\b\b\b\b\b\b\b\b\b\b\b\b\b\b\b\b\b\b\b\b\b\b\b\b\b\b\b\b\b\b\b\b\b\b\b\b\b\b\b\b\b\b\b\b\r534/534 [==============================] - 11s 21ms/step - loss: 0.0417 - accuracy: 0.9007 - val_loss: 0.0611 - val_accuracy: 0.8070\n",
            "Epoch 5/80\n",
            "531/534 [============================>.] - ETA: 0s - loss: 0.0401 - accuracy: 0.9112"
          ]
        },
        {
          "output_type": "stream",
          "name": "stderr",
          "text": [
            "WARNING:tensorflow:Can save best model only with val_acc available, skipping.\n"
          ]
        },
        {
          "output_type": "stream",
          "name": "stdout",
          "text": [
            "\b\b\b\b\b\b\b\b\b\b\b\b\b\b\b\b\b\b\b\b\b\b\b\b\b\b\b\b\b\b\b\b\b\b\b\b\b\b\b\b\b\b\b\b\b\b\b\b\b\b\b\b\b\b\b\b\b\b\b\b\b\b\b\b\b\b\b\b\b\b\b\b\b\b\b\b\b\b\b\b\b\b\b\b\r534/534 [==============================] - 11s 21ms/step - loss: 0.0400 - accuracy: 0.9114 - val_loss: 0.0603 - val_accuracy: 0.8095\n",
            "Epoch 6/80\n",
            "532/534 [============================>.] - ETA: 0s - loss: 0.0388 - accuracy: 0.9131"
          ]
        },
        {
          "output_type": "stream",
          "name": "stderr",
          "text": [
            "WARNING:tensorflow:Can save best model only with val_acc available, skipping.\n"
          ]
        },
        {
          "output_type": "stream",
          "name": "stdout",
          "text": [
            "\b\b\b\b\b\b\b\b\b\b\b\b\b\b\b\b\b\b\b\b\b\b\b\b\b\b\b\b\b\b\b\b\b\b\b\b\b\b\b\b\b\b\b\b\b\b\b\b\b\b\b\b\b\b\b\b\b\b\b\b\b\b\b\b\b\b\b\b\b\b\b\b\b\b\b\b\b\b\b\b\b\b\b\b\r534/534 [==============================] - 11s 20ms/step - loss: 0.0387 - accuracy: 0.9132 - val_loss: 0.0599 - val_accuracy: 0.8122\n",
            "Epoch 7/80\n",
            "531/534 [============================>.] - ETA: 0s - loss: 0.0370 - accuracy: 0.9193"
          ]
        },
        {
          "output_type": "stream",
          "name": "stderr",
          "text": [
            "WARNING:tensorflow:Can save best model only with val_acc available, skipping.\n"
          ]
        },
        {
          "output_type": "stream",
          "name": "stdout",
          "text": [
            "\b\b\b\b\b\b\b\b\b\b\b\b\b\b\b\b\b\b\b\b\b\b\b\b\b\b\b\b\b\b\b\b\b\b\b\b\b\b\b\b\b\b\b\b\b\b\b\b\b\b\b\b\b\b\b\b\b\b\b\b\b\b\b\b\b\b\b\b\b\b\b\b\b\b\b\b\b\b\b\b\b\b\b\b\r534/534 [==============================] - 11s 21ms/step - loss: 0.0370 - accuracy: 0.9194 - val_loss: 0.0598 - val_accuracy: 0.8130\n",
            "Epoch 8/80\n",
            "532/534 [============================>.] - ETA: 0s - loss: 0.0361 - accuracy: 0.9222"
          ]
        },
        {
          "output_type": "stream",
          "name": "stderr",
          "text": [
            "WARNING:tensorflow:Can save best model only with val_acc available, skipping.\n"
          ]
        },
        {
          "output_type": "stream",
          "name": "stdout",
          "text": [
            "\b\b\b\b\b\b\b\b\b\b\b\b\b\b\b\b\b\b\b\b\b\b\b\b\b\b\b\b\b\b\b\b\b\b\b\b\b\b\b\b\b\b\b\b\b\b\b\b\b\b\b\b\b\b\b\b\b\b\b\b\b\b\b\b\b\b\b\b\b\b\b\b\b\b\b\b\b\b\b\b\b\b\b\b\r534/534 [==============================] - 11s 21ms/step - loss: 0.0361 - accuracy: 0.9222 - val_loss: 0.0591 - val_accuracy: 0.8077\n",
            "Epoch 9/80\n",
            "531/534 [============================>.] - ETA: 0s - loss: 0.0347 - accuracy: 0.9274"
          ]
        },
        {
          "output_type": "stream",
          "name": "stderr",
          "text": [
            "WARNING:tensorflow:Can save best model only with val_acc available, skipping.\n"
          ]
        },
        {
          "output_type": "stream",
          "name": "stdout",
          "text": [
            "\b\b\b\b\b\b\b\b\b\b\b\b\b\b\b\b\b\b\b\b\b\b\b\b\b\b\b\b\b\b\b\b\b\b\b\b\b\b\b\b\b\b\b\b\b\b\b\b\b\b\b\b\b\b\b\b\b\b\b\b\b\b\b\b\b\b\b\b\b\b\b\b\b\b\b\b\b\b\b\b\b\b\b\b\r534/534 [==============================] - 11s 21ms/step - loss: 0.0348 - accuracy: 0.9274 - val_loss: 0.0589 - val_accuracy: 0.8112\n",
            "Epoch 10/80\n",
            "532/534 [============================>.] - ETA: 0s - loss: 0.0336 - accuracy: 0.9268"
          ]
        },
        {
          "output_type": "stream",
          "name": "stderr",
          "text": [
            "WARNING:tensorflow:Can save best model only with val_acc available, skipping.\n"
          ]
        },
        {
          "output_type": "stream",
          "name": "stdout",
          "text": [
            "\b\b\b\b\b\b\b\b\b\b\b\b\b\b\b\b\b\b\b\b\b\b\b\b\b\b\b\b\b\b\b\b\b\b\b\b\b\b\b\b\b\b\b\b\b\b\b\b\b\b\b\b\b\b\b\b\b\b\b\b\b\b\b\b\b\b\b\b\b\b\b\b\b\b\b\b\b\b\b\b\b\b\b\b\r534/534 [==============================] - 11s 21ms/step - loss: 0.0336 - accuracy: 0.9268 - val_loss: 0.0586 - val_accuracy: 0.8155\n",
            "Epoch 11/80\n",
            "532/534 [============================>.] - ETA: 0s - loss: 0.0327 - accuracy: 0.9310"
          ]
        },
        {
          "output_type": "stream",
          "name": "stderr",
          "text": [
            "WARNING:tensorflow:Can save best model only with val_acc available, skipping.\n"
          ]
        },
        {
          "output_type": "stream",
          "name": "stdout",
          "text": [
            "\b\b\b\b\b\b\b\b\b\b\b\b\b\b\b\b\b\b\b\b\b\b\b\b\b\b\b\b\b\b\b\b\b\b\b\b\b\b\b\b\b\b\b\b\b\b\b\b\b\b\b\b\b\b\b\b\b\b\b\b\b\b\b\b\b\b\b\b\b\b\b\b\b\b\b\b\b\b\b\b\b\b\b\b\r534/534 [==============================] - 11s 20ms/step - loss: 0.0327 - accuracy: 0.9309 - val_loss: 0.0585 - val_accuracy: 0.8150\n",
            "Epoch 12/80\n",
            "532/534 [============================>.] - ETA: 0s - loss: 0.0317 - accuracy: 0.9325"
          ]
        },
        {
          "output_type": "stream",
          "name": "stderr",
          "text": [
            "WARNING:tensorflow:Can save best model only with val_acc available, skipping.\n"
          ]
        },
        {
          "output_type": "stream",
          "name": "stdout",
          "text": [
            "\b\b\b\b\b\b\b\b\b\b\b\b\b\b\b\b\b\b\b\b\b\b\b\b\b\b\b\b\b\b\b\b\b\b\b\b\b\b\b\b\b\b\b\b\b\b\b\b\b\b\b\b\b\b\b\b\b\b\b\b\b\b\b\b\b\b\b\b\b\b\b\b\b\b\b\b\b\b\b\b\b\b\b\b\r534/534 [==============================] - 11s 20ms/step - loss: 0.0317 - accuracy: 0.9325 - val_loss: 0.0586 - val_accuracy: 0.8182\n",
            "Epoch 13/80\n",
            "531/534 [============================>.] - ETA: 0s - loss: 0.0306 - accuracy: 0.9372"
          ]
        },
        {
          "output_type": "stream",
          "name": "stderr",
          "text": [
            "WARNING:tensorflow:Can save best model only with val_acc available, skipping.\n"
          ]
        },
        {
          "output_type": "stream",
          "name": "stdout",
          "text": [
            "\b\b\b\b\b\b\b\b\b\b\b\b\b\b\b\b\b\b\b\b\b\b\b\b\b\b\b\b\b\b\b\b\b\b\b\b\b\b\b\b\b\b\b\b\b\b\b\b\b\b\b\b\b\b\b\b\b\b\b\b\b\b\b\b\b\b\b\b\b\b\b\b\b\b\b\b\b\b\b\b\b\b\b\b\r534/534 [==============================] - 11s 20ms/step - loss: 0.0306 - accuracy: 0.9372 - val_loss: 0.0581 - val_accuracy: 0.8180\n",
            "Epoch 14/80\n",
            "532/534 [============================>.] - ETA: 0s - loss: 0.0297 - accuracy: 0.9399"
          ]
        },
        {
          "output_type": "stream",
          "name": "stderr",
          "text": [
            "WARNING:tensorflow:Can save best model only with val_acc available, skipping.\n"
          ]
        },
        {
          "output_type": "stream",
          "name": "stdout",
          "text": [
            "\b\b\b\b\b\b\b\b\b\b\b\b\b\b\b\b\b\b\b\b\b\b\b\b\b\b\b\b\b\b\b\b\b\b\b\b\b\b\b\b\b\b\b\b\b\b\b\b\b\b\b\b\b\b\b\b\b\b\b\b\b\b\b\b\b\b\b\b\b\b\b\b\b\b\b\b\b\b\b\b\b\b\b\b\r534/534 [==============================] - 11s 20ms/step - loss: 0.0298 - accuracy: 0.9397 - val_loss: 0.0585 - val_accuracy: 0.8180\n",
            "Epoch 15/80\n",
            "532/534 [============================>.] - ETA: 0s - loss: 0.0292 - accuracy: 0.9402"
          ]
        },
        {
          "output_type": "stream",
          "name": "stderr",
          "text": [
            "WARNING:tensorflow:Can save best model only with val_acc available, skipping.\n"
          ]
        },
        {
          "output_type": "stream",
          "name": "stdout",
          "text": [
            "\b\b\b\b\b\b\b\b\b\b\b\b\b\b\b\b\b\b\b\b\b\b\b\b\b\b\b\b\b\b\b\b\b\b\b\b\b\b\b\b\b\b\b\b\b\b\b\b\b\b\b\b\b\b\b\b\b\b\b\b\b\b\b\b\b\b\b\b\b\b\b\b\b\b\b\b\b\b\b\b\b\b\b\b\r534/534 [==============================] - 11s 20ms/step - loss: 0.0291 - accuracy: 0.9403 - val_loss: 0.0583 - val_accuracy: 0.8187\n",
            "Epoch 16/80\n",
            "532/534 [============================>.] - ETA: 0s - loss: 0.0284 - accuracy: 0.9412"
          ]
        },
        {
          "output_type": "stream",
          "name": "stderr",
          "text": [
            "WARNING:tensorflow:Can save best model only with val_acc available, skipping.\n"
          ]
        },
        {
          "output_type": "stream",
          "name": "stdout",
          "text": [
            "\b\b\b\b\b\b\b\b\b\b\b\b\b\b\b\b\b\b\b\b\b\b\b\b\b\b\b\b\b\b\b\b\b\b\b\b\b\b\b\b\b\b\b\b\b\b\b\b\b\b\b\b\b\b\b\b\b\b\b\b\b\b\b\b\b\b\b\b\b\b\b\b\b\b\b\b\b\b\b\b\b\b\b\b\r534/534 [==============================] - 11s 20ms/step - loss: 0.0285 - accuracy: 0.9411 - val_loss: 0.0581 - val_accuracy: 0.8185\n",
            "Epoch 17/80\n",
            "531/534 [============================>.] - ETA: 0s - loss: 0.0275 - accuracy: 0.9455"
          ]
        },
        {
          "output_type": "stream",
          "name": "stderr",
          "text": [
            "WARNING:tensorflow:Can save best model only with val_acc available, skipping.\n"
          ]
        },
        {
          "output_type": "stream",
          "name": "stdout",
          "text": [
            "\b\b\b\b\b\b\b\b\b\b\b\b\b\b\b\b\b\b\b\b\b\b\b\b\b\b\b\b\b\b\b\b\b\b\b\b\b\b\b\b\b\b\b\b\b\b\b\b\b\b\b\b\b\b\b\b\b\b\b\b\b\b\b\b\b\b\b\b\b\b\b\b\b\b\b\b\b\b\b\b\b\b\b\b\r534/534 [==============================] - 11s 21ms/step - loss: 0.0275 - accuracy: 0.9456 - val_loss: 0.0582 - val_accuracy: 0.8197\n",
            "Epoch 18/80\n",
            "532/534 [============================>.] - ETA: 0s - loss: 0.0263 - accuracy: 0.9479"
          ]
        },
        {
          "output_type": "stream",
          "name": "stderr",
          "text": [
            "WARNING:tensorflow:Can save best model only with val_acc available, skipping.\n"
          ]
        },
        {
          "output_type": "stream",
          "name": "stdout",
          "text": [
            "\b\b\b\b\b\b\b\b\b\b\b\b\b\b\b\b\b\b\b\b\b\b\b\b\b\b\b\b\b\b\b\b\b\b\b\b\b\b\b\b\b\b\b\b\b\b\b\b\b\b\b\b\b\b\b\b\b\b\b\b\b\b\b\b\b\b\b\b\b\b\b\b\b\b\b\b\b\b\b\b\b\b\b\b\r534/534 [==============================] - 11s 21ms/step - loss: 0.0263 - accuracy: 0.9479 - val_loss: 0.0580 - val_accuracy: 0.8225\n",
            "Epoch 19/80\n",
            "532/534 [============================>.] - ETA: 0s - loss: 0.0258 - accuracy: 0.9496"
          ]
        },
        {
          "output_type": "stream",
          "name": "stderr",
          "text": [
            "WARNING:tensorflow:Can save best model only with val_acc available, skipping.\n"
          ]
        },
        {
          "output_type": "stream",
          "name": "stdout",
          "text": [
            "\b\b\b\b\b\b\b\b\b\b\b\b\b\b\b\b\b\b\b\b\b\b\b\b\b\b\b\b\b\b\b\b\b\b\b\b\b\b\b\b\b\b\b\b\b\b\b\b\b\b\b\b\b\b\b\b\b\b\b\b\b\b\b\b\b\b\b\b\b\b\b\b\b\b\b\b\b\b\b\b\b\b\b\b\r534/534 [==============================] - 11s 21ms/step - loss: 0.0257 - accuracy: 0.9497 - val_loss: 0.0582 - val_accuracy: 0.8222\n",
            "Epoch 20/80\n",
            "531/534 [============================>.] - ETA: 0s - loss: 0.0250 - accuracy: 0.9517"
          ]
        },
        {
          "output_type": "stream",
          "name": "stderr",
          "text": [
            "WARNING:tensorflow:Can save best model only with val_acc available, skipping.\n"
          ]
        },
        {
          "output_type": "stream",
          "name": "stdout",
          "text": [
            "\b\b\b\b\b\b\b\b\b\b\b\b\b\b\b\b\b\b\b\b\b\b\b\b\b\b\b\b\b\b\b\b\b\b\b\b\b\b\b\b\b\b\b\b\b\b\b\b\b\b\b\b\b\b\b\b\b\b\b\b\b\b\b\b\b\b\b\b\b\b\b\b\b\b\b\b\b\b\b\b\b\b\b\b\r534/534 [==============================] - 11s 20ms/step - loss: 0.0251 - accuracy: 0.9516 - val_loss: 0.0583 - val_accuracy: 0.8227\n",
            "Epoch 21/80\n",
            "532/534 [============================>.] - ETA: 0s - loss: 0.0246 - accuracy: 0.9514"
          ]
        },
        {
          "output_type": "stream",
          "name": "stderr",
          "text": [
            "WARNING:tensorflow:Can save best model only with val_acc available, skipping.\n"
          ]
        },
        {
          "output_type": "stream",
          "name": "stdout",
          "text": [
            "\b\b\b\b\b\b\b\b\b\b\b\b\b\b\b\b\b\b\b\b\b\b\b\b\b\b\b\b\b\b\b\b\b\b\b\b\b\b\b\b\b\b\b\b\b\b\b\b\b\b\b\b\b\b\b\b\b\b\b\b\b\b\b\b\b\b\b\b\b\b\b\b\b\b\b\b\b\b\b\b\b\b\b\b\r534/534 [==============================] - 11s 20ms/step - loss: 0.0246 - accuracy: 0.9514 - val_loss: 0.0586 - val_accuracy: 0.8182\n",
            "Epoch 22/80\n",
            "532/534 [============================>.] - ETA: 0s - loss: 0.0238 - accuracy: 0.9541"
          ]
        },
        {
          "output_type": "stream",
          "name": "stderr",
          "text": [
            "WARNING:tensorflow:Can save best model only with val_acc available, skipping.\n"
          ]
        },
        {
          "output_type": "stream",
          "name": "stdout",
          "text": [
            "\b\b\b\b\b\b\b\b\b\b\b\b\b\b\b\b\b\b\b\b\b\b\b\b\b\b\b\b\b\b\b\b\b\b\b\b\b\b\b\b\b\b\b\b\b\b\b\b\b\b\b\b\b\b\b\b\b\b\b\b\b\b\b\b\b\b\b\b\b\b\b\b\b\b\b\b\b\b\b\b\b\b\b\b\r534/534 [==============================] - 11s 20ms/step - loss: 0.0238 - accuracy: 0.9542 - val_loss: 0.0582 - val_accuracy: 0.8215\n",
            "Epoch 23/80\n",
            "532/534 [============================>.] - ETA: 0s - loss: 0.0230 - accuracy: 0.9564"
          ]
        },
        {
          "output_type": "stream",
          "name": "stderr",
          "text": [
            "WARNING:tensorflow:Can save best model only with val_acc available, skipping.\n"
          ]
        },
        {
          "output_type": "stream",
          "name": "stdout",
          "text": [
            "\b\b\b\b\b\b\b\b\b\b\b\b\b\b\b\b\b\b\b\b\b\b\b\b\b\b\b\b\b\b\b\b\b\b\b\b\b\b\b\b\b\b\b\b\b\b\b\b\b\b\b\b\b\b\b\b\b\b\b\b\b\b\b\b\b\b\b\b\b\b\b\b\b\b\b\b\b\b\b\b\b\b\b\b\r534/534 [==============================] - 11s 20ms/step - loss: 0.0231 - accuracy: 0.9562 - val_loss: 0.0581 - val_accuracy: 0.8212\n",
            "Epoch 24/80\n",
            "531/534 [============================>.] - ETA: 0s - loss: 0.0228 - accuracy: 0.9584"
          ]
        },
        {
          "output_type": "stream",
          "name": "stderr",
          "text": [
            "WARNING:tensorflow:Can save best model only with val_acc available, skipping.\n"
          ]
        },
        {
          "output_type": "stream",
          "name": "stdout",
          "text": [
            "\b\b\b\b\b\b\b\b\b\b\b\b\b\b\b\b\b\b\b\b\b\b\b\b\b\b\b\b\b\b\b\b\b\b\b\b\b\b\b\b\b\b\b\b\b\b\b\b\b\b\b\b\b\b\b\b\b\b\b\b\b\b\b\b\b\b\b\b\b\b\b\b\b\b\b\b\b\b\b\b\b\b\b\b\r534/534 [==============================] - 11s 20ms/step - loss: 0.0228 - accuracy: 0.9585 - val_loss: 0.0588 - val_accuracy: 0.8230\n",
            "Epoch 25/80\n",
            "532/534 [============================>.] - ETA: 0s - loss: 0.0225 - accuracy: 0.9571"
          ]
        },
        {
          "output_type": "stream",
          "name": "stderr",
          "text": [
            "WARNING:tensorflow:Can save best model only with val_acc available, skipping.\n"
          ]
        },
        {
          "output_type": "stream",
          "name": "stdout",
          "text": [
            "\b\b\b\b\b\b\b\b\b\b\b\b\b\b\b\b\b\b\b\b\b\b\b\b\b\b\b\b\b\b\b\b\b\b\b\b\b\b\b\b\b\b\b\b\b\b\b\b\b\b\b\b\b\b\b\b\b\b\b\b\b\b\b\b\b\b\b\b\b\b\b\b\b\b\b\b\b\b\b\b\b\b\b\b\r534/534 [==============================] - 11s 20ms/step - loss: 0.0225 - accuracy: 0.9571 - val_loss: 0.0584 - val_accuracy: 0.8207\n",
            "Epoch 26/80\n",
            "531/534 [============================>.] - ETA: 0s - loss: 0.0215 - accuracy: 0.9578"
          ]
        },
        {
          "output_type": "stream",
          "name": "stderr",
          "text": [
            "WARNING:tensorflow:Can save best model only with val_acc available, skipping.\n"
          ]
        },
        {
          "output_type": "stream",
          "name": "stdout",
          "text": [
            "\b\b\b\b\b\b\b\b\b\b\b\b\b\b\b\b\b\b\b\b\b\b\b\b\b\b\b\b\b\b\b\b\b\b\b\b\b\b\b\b\b\b\b\b\b\b\b\b\b\b\b\b\b\b\b\b\b\b\b\b\b\b\b\b\b\b\b\b\b\b\b\b\b\b\b\b\b\b\b\b\b\b\b\b\r534/534 [==============================] - 11s 20ms/step - loss: 0.0215 - accuracy: 0.9576 - val_loss: 0.0590 - val_accuracy: 0.8215\n",
            "Epoch 27/80\n",
            "532/534 [============================>.] - ETA: 0s - loss: 0.0211 - accuracy: 0.9586"
          ]
        },
        {
          "output_type": "stream",
          "name": "stderr",
          "text": [
            "WARNING:tensorflow:Can save best model only with val_acc available, skipping.\n"
          ]
        },
        {
          "output_type": "stream",
          "name": "stdout",
          "text": [
            "\b\b\b\b\b\b\b\b\b\b\b\b\b\b\b\b\b\b\b\b\b\b\b\b\b\b\b\b\b\b\b\b\b\b\b\b\b\b\b\b\b\b\b\b\b\b\b\b\b\b\b\b\b\b\b\b\b\b\b\b\b\b\b\b\b\b\b\b\b\b\b\b\b\b\b\b\b\b\b\b\b\b\b\b\r534/534 [==============================] - 11s 20ms/step - loss: 0.0211 - accuracy: 0.9586 - val_loss: 0.0592 - val_accuracy: 0.8230\n",
            "Epoch 28/80\n",
            "532/534 [============================>.] - ETA: 0s - loss: 0.0211 - accuracy: 0.9603"
          ]
        },
        {
          "output_type": "stream",
          "name": "stderr",
          "text": [
            "WARNING:tensorflow:Can save best model only with val_acc available, skipping.\n"
          ]
        },
        {
          "output_type": "stream",
          "name": "stdout",
          "text": [
            "\b\b\b\b\b\b\b\b\b\b\b\b\b\b\b\b\b\b\b\b\b\b\b\b\b\b\b\b\b\b\b\b\b\b\b\b\b\b\b\b\b\b\b\b\b\b\b\b\b\b\b\b\b\b\b\b\b\b\b\b\b\b\b\b\b\b\b\b\b\b\b\b\b\b\b\b\b\b\b\b\b\b\b\b\r534/534 [==============================] - 11s 20ms/step - loss: 0.0211 - accuracy: 0.9602 - val_loss: 0.0587 - val_accuracy: 0.8257\n",
            "Epoch 29/80\n",
            "532/534 [============================>.] - ETA: 0s - loss: 0.0203 - accuracy: 0.9607"
          ]
        },
        {
          "output_type": "stream",
          "name": "stderr",
          "text": [
            "WARNING:tensorflow:Can save best model only with val_acc available, skipping.\n"
          ]
        },
        {
          "output_type": "stream",
          "name": "stdout",
          "text": [
            "\b\b\b\b\b\b\b\b\b\b\b\b\b\b\b\b\b\b\b\b\b\b\b\b\b\b\b\b\b\b\b\b\b\b\b\b\b\b\b\b\b\b\b\b\b\b\b\b\b\b\b\b\b\b\b\b\b\b\b\b\b\b\b\b\b\b\b\b\b\b\b\b\b\b\b\b\b\b\b\b\b\b\b\b\r534/534 [==============================] - 11s 20ms/step - loss: 0.0203 - accuracy: 0.9607 - val_loss: 0.0597 - val_accuracy: 0.8245\n",
            "Epoch 30/80\n",
            "532/534 [============================>.] - ETA: 0s - loss: 0.0202 - accuracy: 0.9617"
          ]
        },
        {
          "output_type": "stream",
          "name": "stderr",
          "text": [
            "WARNING:tensorflow:Can save best model only with val_acc available, skipping.\n"
          ]
        },
        {
          "output_type": "stream",
          "name": "stdout",
          "text": [
            "\b\b\b\b\b\b\b\b\b\b\b\b\b\b\b\b\b\b\b\b\b\b\b\b\b\b\b\b\b\b\b\b\b\b\b\b\b\b\b\b\b\b\b\b\b\b\b\b\b\b\b\b\b\b\b\b\b\b\b\b\b\b\b\b\b\b\b\b\b\b\b\b\b\b\b\b\b\b\b\b\b\b\b\b\r534/534 [==============================] - 11s 20ms/step - loss: 0.0202 - accuracy: 0.9616 - val_loss: 0.0594 - val_accuracy: 0.8235\n",
            "Epoch 31/80\n",
            "532/534 [============================>.] - ETA: 0s - loss: 0.0197 - accuracy: 0.9617"
          ]
        },
        {
          "output_type": "stream",
          "name": "stderr",
          "text": [
            "WARNING:tensorflow:Can save best model only with val_acc available, skipping.\n"
          ]
        },
        {
          "output_type": "stream",
          "name": "stdout",
          "text": [
            "\b\b\b\b\b\b\b\b\b\b\b\b\b\b\b\b\b\b\b\b\b\b\b\b\b\b\b\b\b\b\b\b\b\b\b\b\b\b\b\b\b\b\b\b\b\b\b\b\b\b\b\b\b\b\b\b\b\b\b\b\b\b\b\b\b\b\b\b\b\b\b\b\b\b\b\b\b\b\b\b\b\b\b\b\r534/534 [==============================] - 11s 21ms/step - loss: 0.0197 - accuracy: 0.9617 - val_loss: 0.0595 - val_accuracy: 0.8262\n",
            "Epoch 32/80\n",
            "532/534 [============================>.] - ETA: 0s - loss: 0.0196 - accuracy: 0.9618"
          ]
        },
        {
          "output_type": "stream",
          "name": "stderr",
          "text": [
            "WARNING:tensorflow:Can save best model only with val_acc available, skipping.\n"
          ]
        },
        {
          "output_type": "stream",
          "name": "stdout",
          "text": [
            "\b\b\b\b\b\b\b\b\b\b\b\b\b\b\b\b\b\b\b\b\b\b\b\b\b\b\b\b\b\b\b\b\b\b\b\b\b\b\b\b\b\b\b\b\b\b\b\b\b\b\b\b\b\b\b\b\b\b\b\b\b\b\b\b\b\b\b\b\b\b\b\b\b\b\b\b\b\b\b\b\b\b\b\b\r534/534 [==============================] - 11s 21ms/step - loss: 0.0196 - accuracy: 0.9617 - val_loss: 0.0600 - val_accuracy: 0.8227\n",
            "Epoch 33/80\n",
            "532/534 [============================>.] - ETA: 0s - loss: 0.0190 - accuracy: 0.9630"
          ]
        },
        {
          "output_type": "stream",
          "name": "stderr",
          "text": [
            "WARNING:tensorflow:Can save best model only with val_acc available, skipping.\n"
          ]
        },
        {
          "output_type": "stream",
          "name": "stdout",
          "text": [
            "\b\b\b\b\b\b\b\b\b\b\b\b\b\b\b\b\b\b\b\b\b\b\b\b\b\b\b\b\b\b\b\b\b\b\b\b\b\b\b\b\b\b\b\b\b\b\b\b\b\b\b\b\b\b\b\b\b\b\b\b\b\b\b\b\b\b\b\b\b\b\b\b\b\b\b\b\b\b\b\b\b\b\b\b\r534/534 [==============================] - 11s 20ms/step - loss: 0.0190 - accuracy: 0.9631 - val_loss: 0.0603 - val_accuracy: 0.8255\n",
            "Epoch 34/80\n",
            "532/534 [============================>.] - ETA: 0s - loss: 0.0189 - accuracy: 0.9625"
          ]
        },
        {
          "output_type": "stream",
          "name": "stderr",
          "text": [
            "WARNING:tensorflow:Can save best model only with val_acc available, skipping.\n"
          ]
        },
        {
          "output_type": "stream",
          "name": "stdout",
          "text": [
            "\b\b\b\b\b\b\b\b\b\b\b\b\b\b\b\b\b\b\b\b\b\b\b\b\b\b\b\b\b\b\b\b\b\b\b\b\b\b\b\b\b\b\b\b\b\b\b\b\b\b\b\b\b\b\b\b\b\b\b\b\b\b\b\b\b\b\b\b\b\b\b\b\b\b\b\b\b\b\b\b\b\b\b\b\r534/534 [==============================] - 11s 20ms/step - loss: 0.0189 - accuracy: 0.9626 - val_loss: 0.0605 - val_accuracy: 0.8220\n",
            "Epoch 35/80\n",
            "532/534 [============================>.] - ETA: 0s - loss: 0.0183 - accuracy: 0.9629"
          ]
        },
        {
          "output_type": "stream",
          "name": "stderr",
          "text": [
            "WARNING:tensorflow:Can save best model only with val_acc available, skipping.\n"
          ]
        },
        {
          "output_type": "stream",
          "name": "stdout",
          "text": [
            "\b\b\b\b\b\b\b\b\b\b\b\b\b\b\b\b\b\b\b\b\b\b\b\b\b\b\b\b\b\b\b\b\b\b\b\b\b\b\b\b\b\b\b\b\b\b\b\b\b\b\b\b\b\b\b\b\b\b\b\b\b\b\b\b\b\b\b\b\b\b\b\b\b\b\b\b\b\b\b\b\b\b\b\b\r534/534 [==============================] - 11s 20ms/step - loss: 0.0183 - accuracy: 0.9629 - val_loss: 0.0602 - val_accuracy: 0.8257\n",
            "Epoch 36/80\n",
            "532/534 [============================>.] - ETA: 0s - loss: 0.0181 - accuracy: 0.9667"
          ]
        },
        {
          "output_type": "stream",
          "name": "stderr",
          "text": [
            "WARNING:tensorflow:Can save best model only with val_acc available, skipping.\n"
          ]
        },
        {
          "output_type": "stream",
          "name": "stdout",
          "text": [
            "\b\b\b\b\b\b\b\b\b\b\b\b\b\b\b\b\b\b\b\b\b\b\b\b\b\b\b\b\b\b\b\b\b\b\b\b\b\b\b\b\b\b\b\b\b\b\b\b\b\b\b\b\b\b\b\b\b\b\b\b\b\b\b\b\b\b\b\b\b\b\b\b\b\b\b\b\b\b\b\b\b\b\b\b\r534/534 [==============================] - 11s 20ms/step - loss: 0.0181 - accuracy: 0.9668 - val_loss: 0.0601 - val_accuracy: 0.8250\n",
            "Epoch 37/80\n",
            "532/534 [============================>.] - ETA: 0s - loss: 0.0177 - accuracy: 0.9654"
          ]
        },
        {
          "output_type": "stream",
          "name": "stderr",
          "text": [
            "WARNING:tensorflow:Can save best model only with val_acc available, skipping.\n"
          ]
        },
        {
          "output_type": "stream",
          "name": "stdout",
          "text": [
            "\b\b\b\b\b\b\b\b\b\b\b\b\b\b\b\b\b\b\b\b\b\b\b\b\b\b\b\b\b\b\b\b\b\b\b\b\b\b\b\b\b\b\b\b\b\b\b\b\b\b\b\b\b\b\b\b\b\b\b\b\b\b\b\b\b\b\b\b\b\b\b\b\b\b\b\b\b\b\b\b\b\b\b\b\r534/534 [==============================] - 11s 20ms/step - loss: 0.0177 - accuracy: 0.9654 - val_loss: 0.0614 - val_accuracy: 0.8247\n",
            "Epoch 38/80\n",
            "532/534 [============================>.] - ETA: 0s - loss: 0.0174 - accuracy: 0.9654"
          ]
        },
        {
          "output_type": "stream",
          "name": "stderr",
          "text": [
            "WARNING:tensorflow:Can save best model only with val_acc available, skipping.\n"
          ]
        },
        {
          "output_type": "stream",
          "name": "stdout",
          "text": [
            "\b\b\b\b\b\b\b\b\b\b\b\b\b\b\b\b\b\b\b\b\b\b\b\b\b\b\b\b\b\b\b\b\b\b\b\b\b\b\b\b\b\b\b\b\b\b\b\b\b\b\b\b\b\b\b\b\b\b\b\b\b\b\b\b\b\b\b\b\b\b\b\b\b\b\b\b\b\b\b\b\b\b\b\b\r534/534 [==============================] - 11s 20ms/step - loss: 0.0174 - accuracy: 0.9654 - val_loss: 0.0605 - val_accuracy: 0.8267\n",
            "Epoch 39/80\n",
            "532/534 [============================>.] - ETA: 0s - loss: 0.0172 - accuracy: 0.9660"
          ]
        },
        {
          "output_type": "stream",
          "name": "stderr",
          "text": [
            "WARNING:tensorflow:Can save best model only with val_acc available, skipping.\n"
          ]
        },
        {
          "output_type": "stream",
          "name": "stdout",
          "text": [
            "\b\b\b\b\b\b\b\b\b\b\b\b\b\b\b\b\b\b\b\b\b\b\b\b\b\b\b\b\b\b\b\b\b\b\b\b\b\b\b\b\b\b\b\b\b\b\b\b\b\b\b\b\b\b\b\b\b\b\b\b\b\b\b\b\b\b\b\b\b\b\b\b\b\b\b\b\b\b\b\b\b\b\b\b\r534/534 [==============================] - 11s 20ms/step - loss: 0.0172 - accuracy: 0.9660 - val_loss: 0.0604 - val_accuracy: 0.8235\n",
            "Epoch 40/80\n",
            "532/534 [============================>.] - ETA: 0s - loss: 0.0167 - accuracy: 0.9658"
          ]
        },
        {
          "output_type": "stream",
          "name": "stderr",
          "text": [
            "WARNING:tensorflow:Can save best model only with val_acc available, skipping.\n"
          ]
        },
        {
          "output_type": "stream",
          "name": "stdout",
          "text": [
            "\b\b\b\b\b\b\b\b\b\b\b\b\b\b\b\b\b\b\b\b\b\b\b\b\b\b\b\b\b\b\b\b\b\b\b\b\b\b\b\b\b\b\b\b\b\b\b\b\b\b\b\b\b\b\b\b\b\b\b\b\b\b\b\b\b\b\b\b\b\b\b\b\b\b\b\b\b\b\b\b\b\b\b\b\r534/534 [==============================] - 11s 20ms/step - loss: 0.0167 - accuracy: 0.9659 - val_loss: 0.0610 - val_accuracy: 0.8252\n",
            "Epoch 41/80\n",
            "532/534 [============================>.] - ETA: 0s - loss: 0.0170 - accuracy: 0.9654"
          ]
        },
        {
          "output_type": "stream",
          "name": "stderr",
          "text": [
            "WARNING:tensorflow:Can save best model only with val_acc available, skipping.\n"
          ]
        },
        {
          "output_type": "stream",
          "name": "stdout",
          "text": [
            "\b\b\b\b\b\b\b\b\b\b\b\b\b\b\b\b\b\b\b\b\b\b\b\b\b\b\b\b\b\b\b\b\b\b\b\b\b\b\b\b\b\b\b\b\b\b\b\b\b\b\b\b\b\b\b\b\b\b\b\b\b\b\b\b\b\b\b\b\b\b\b\b\b\b\b\b\b\b\b\b\b\b\b\b\r534/534 [==============================] - 11s 20ms/step - loss: 0.0170 - accuracy: 0.9654 - val_loss: 0.0611 - val_accuracy: 0.8255\n",
            "Epoch 42/80\n",
            "532/534 [============================>.] - ETA: 0s - loss: 0.0166 - accuracy: 0.9662"
          ]
        },
        {
          "output_type": "stream",
          "name": "stderr",
          "text": [
            "WARNING:tensorflow:Can save best model only with val_acc available, skipping.\n"
          ]
        },
        {
          "output_type": "stream",
          "name": "stdout",
          "text": [
            "\b\b\b\b\b\b\b\b\b\b\b\b\b\b\b\b\b\b\b\b\b\b\b\b\b\b\b\b\b\b\b\b\b\b\b\b\b\b\b\b\b\b\b\b\b\b\b\b\b\b\b\b\b\b\b\b\b\b\b\b\b\b\b\b\b\b\b\b\b\b\b\b\b\b\b\b\b\b\b\b\b\b\b\b\r534/534 [==============================] - 11s 20ms/step - loss: 0.0166 - accuracy: 0.9662 - val_loss: 0.0615 - val_accuracy: 0.8220\n",
            "Epoch 43/80\n",
            "532/534 [============================>.] - ETA: 0s - loss: 0.0162 - accuracy: 0.9676"
          ]
        },
        {
          "output_type": "stream",
          "name": "stderr",
          "text": [
            "WARNING:tensorflow:Can save best model only with val_acc available, skipping.\n"
          ]
        },
        {
          "output_type": "stream",
          "name": "stdout",
          "text": [
            "\b\b\b\b\b\b\b\b\b\b\b\b\b\b\b\b\b\b\b\b\b\b\b\b\b\b\b\b\b\b\b\b\b\b\b\b\b\b\b\b\b\b\b\b\b\b\b\b\b\b\b\b\b\b\b\b\b\b\b\b\b\b\b\b\b\b\b\b\b\b\b\b\b\b\b\b\b\b\b\b\b\b\b\b\r534/534 [==============================] - 11s 21ms/step - loss: 0.0162 - accuracy: 0.9677 - val_loss: 0.0623 - val_accuracy: 0.8230\n",
            "Epoch 44/80\n",
            "532/534 [============================>.] - ETA: 0s - loss: 0.0161 - accuracy: 0.9692"
          ]
        },
        {
          "output_type": "stream",
          "name": "stderr",
          "text": [
            "WARNING:tensorflow:Can save best model only with val_acc available, skipping.\n"
          ]
        },
        {
          "output_type": "stream",
          "name": "stdout",
          "text": [
            "\b\b\b\b\b\b\b\b\b\b\b\b\b\b\b\b\b\b\b\b\b\b\b\b\b\b\b\b\b\b\b\b\b\b\b\b\b\b\b\b\b\b\b\b\b\b\b\b\b\b\b\b\b\b\b\b\b\b\b\b\b\b\b\b\b\b\b\b\b\b\b\b\b\b\b\b\b\b\b\b\b\b\b\b\r534/534 [==============================] - 11s 20ms/step - loss: 0.0161 - accuracy: 0.9692 - val_loss: 0.0620 - val_accuracy: 0.8247\n",
            "Epoch 45/80\n",
            "531/534 [============================>.] - ETA: 0s - loss: 0.0160 - accuracy: 0.9669"
          ]
        },
        {
          "output_type": "stream",
          "name": "stderr",
          "text": [
            "WARNING:tensorflow:Can save best model only with val_acc available, skipping.\n"
          ]
        },
        {
          "output_type": "stream",
          "name": "stdout",
          "text": [
            "\b\b\b\b\b\b\b\b\b\b\b\b\b\b\b\b\b\b\b\b\b\b\b\b\b\b\b\b\b\b\b\b\b\b\b\b\b\b\b\b\b\b\b\b\b\b\b\b\b\b\b\b\b\b\b\b\b\b\b\b\b\b\b\b\b\b\b\b\b\b\b\b\b\b\b\b\b\b\b\b\b\b\b\b\r534/534 [==============================] - 11s 21ms/step - loss: 0.0160 - accuracy: 0.9668 - val_loss: 0.0620 - val_accuracy: 0.8222\n",
            "Epoch 46/80\n",
            "532/534 [============================>.] - ETA: 0s - loss: 0.0159 - accuracy: 0.9667"
          ]
        },
        {
          "output_type": "stream",
          "name": "stderr",
          "text": [
            "WARNING:tensorflow:Can save best model only with val_acc available, skipping.\n"
          ]
        },
        {
          "output_type": "stream",
          "name": "stdout",
          "text": [
            "\b\b\b\b\b\b\b\b\b\b\b\b\b\b\b\b\b\b\b\b\b\b\b\b\b\b\b\b\b\b\b\b\b\b\b\b\b\b\b\b\b\b\b\b\b\b\b\b\b\b\b\b\b\b\b\b\b\b\b\b\b\b\b\b\b\b\b\b\b\b\b\b\b\b\b\b\b\b\b\b\b\b\b\b\r534/534 [==============================] - 11s 20ms/step - loss: 0.0159 - accuracy: 0.9668 - val_loss: 0.0616 - val_accuracy: 0.8257\n",
            "Epoch 47/80\n",
            "532/534 [============================>.] - ETA: 0s - loss: 0.0156 - accuracy: 0.9677"
          ]
        },
        {
          "output_type": "stream",
          "name": "stderr",
          "text": [
            "WARNING:tensorflow:Can save best model only with val_acc available, skipping.\n"
          ]
        },
        {
          "output_type": "stream",
          "name": "stdout",
          "text": [
            "\b\b\b\b\b\b\b\b\b\b\b\b\b\b\b\b\b\b\b\b\b\b\b\b\b\b\b\b\b\b\b\b\b\b\b\b\b\b\b\b\b\b\b\b\b\b\b\b\b\b\b\b\b\b\b\b\b\b\b\b\b\b\b\b\b\b\b\b\b\b\b\b\b\b\b\b\b\b\b\b\b\b\b\b\r534/534 [==============================] - 11s 20ms/step - loss: 0.0156 - accuracy: 0.9677 - val_loss: 0.0618 - val_accuracy: 0.8282\n",
            "Epoch 48/80\n",
            "531/534 [============================>.] - ETA: 0s - loss: 0.0152 - accuracy: 0.9671"
          ]
        },
        {
          "output_type": "stream",
          "name": "stderr",
          "text": [
            "WARNING:tensorflow:Can save best model only with val_acc available, skipping.\n"
          ]
        },
        {
          "output_type": "stream",
          "name": "stdout",
          "text": [
            "\b\b\b\b\b\b\b\b\b\b\b\b\b\b\b\b\b\b\b\b\b\b\b\b\b\b\b\b\b\b\b\b\b\b\b\b\b\b\b\b\b\b\b\b\b\b\b\b\b\b\b\b\b\b\b\b\b\b\b\b\b\b\b\b\b\b\b\b\b\b\b\b\b\b\b\b\b\b\b\b\b\b\b\b\r534/534 [==============================] - 11s 20ms/step - loss: 0.0152 - accuracy: 0.9672 - val_loss: 0.0631 - val_accuracy: 0.8267\n",
            "Epoch 49/80\n",
            "532/534 [============================>.] - ETA: 0s - loss: 0.0150 - accuracy: 0.9697"
          ]
        },
        {
          "output_type": "stream",
          "name": "stderr",
          "text": [
            "WARNING:tensorflow:Can save best model only with val_acc available, skipping.\n"
          ]
        },
        {
          "output_type": "stream",
          "name": "stdout",
          "text": [
            "\b\b\b\b\b\b\b\b\b\b\b\b\b\b\b\b\b\b\b\b\b\b\b\b\b\b\b\b\b\b\b\b\b\b\b\b\b\b\b\b\b\b\b\b\b\b\b\b\b\b\b\b\b\b\b\b\b\b\b\b\b\b\b\b\b\b\b\b\b\b\b\b\b\b\b\b\b\b\b\b\b\b\b\b\r534/534 [==============================] - 11s 20ms/step - loss: 0.0149 - accuracy: 0.9698 - val_loss: 0.0622 - val_accuracy: 0.8240\n",
            "Epoch 50/80\n",
            "532/534 [============================>.] - ETA: 0s - loss: 0.0148 - accuracy: 0.9686"
          ]
        },
        {
          "output_type": "stream",
          "name": "stderr",
          "text": [
            "WARNING:tensorflow:Can save best model only with val_acc available, skipping.\n"
          ]
        },
        {
          "output_type": "stream",
          "name": "stdout",
          "text": [
            "\b\b\b\b\b\b\b\b\b\b\b\b\b\b\b\b\b\b\b\b\b\b\b\b\b\b\b\b\b\b\b\b\b\b\b\b\b\b\b\b\b\b\b\b\b\b\b\b\b\b\b\b\b\b\b\b\b\b\b\b\b\b\b\b\b\b\b\b\b\b\b\b\b\b\b\b\b\b\b\b\b\b\b\b\r534/534 [==============================] - 11s 20ms/step - loss: 0.0147 - accuracy: 0.9686 - val_loss: 0.0629 - val_accuracy: 0.8260\n",
            "Epoch 51/80\n",
            "532/534 [============================>.] - ETA: 0s - loss: 0.0146 - accuracy: 0.9684"
          ]
        },
        {
          "output_type": "stream",
          "name": "stderr",
          "text": [
            "WARNING:tensorflow:Can save best model only with val_acc available, skipping.\n"
          ]
        },
        {
          "output_type": "stream",
          "name": "stdout",
          "text": [
            "\b\b\b\b\b\b\b\b\b\b\b\b\b\b\b\b\b\b\b\b\b\b\b\b\b\b\b\b\b\b\b\b\b\b\b\b\b\b\b\b\b\b\b\b\b\b\b\b\b\b\b\b\b\b\b\b\b\b\b\b\b\b\b\b\b\b\b\b\b\b\b\b\b\b\b\b\b\b\b\b\b\b\b\b\r534/534 [==============================] - 11s 20ms/step - loss: 0.0146 - accuracy: 0.9684 - val_loss: 0.0623 - val_accuracy: 0.8300\n",
            "Epoch 52/80\n",
            "532/534 [============================>.] - ETA: 0s - loss: 0.0147 - accuracy: 0.9680"
          ]
        },
        {
          "output_type": "stream",
          "name": "stderr",
          "text": [
            "WARNING:tensorflow:Can save best model only with val_acc available, skipping.\n"
          ]
        },
        {
          "output_type": "stream",
          "name": "stdout",
          "text": [
            "\b\b\b\b\b\b\b\b\b\b\b\b\b\b\b\b\b\b\b\b\b\b\b\b\b\b\b\b\b\b\b\b\b\b\b\b\b\b\b\b\b\b\b\b\b\b\b\b\b\b\b\b\b\b\b\b\b\b\b\b\b\b\b\b\b\b\b\b\b\b\b\b\b\b\b\b\b\b\b\b\b\b\b\b\r534/534 [==============================] - 11s 20ms/step - loss: 0.0147 - accuracy: 0.9680 - val_loss: 0.0623 - val_accuracy: 0.8272\n",
            "Epoch 53/80\n",
            "532/534 [============================>.] - ETA: 0s - loss: 0.0141 - accuracy: 0.9698"
          ]
        },
        {
          "output_type": "stream",
          "name": "stderr",
          "text": [
            "WARNING:tensorflow:Can save best model only with val_acc available, skipping.\n"
          ]
        },
        {
          "output_type": "stream",
          "name": "stdout",
          "text": [
            "\b\b\b\b\b\b\b\b\b\b\b\b\b\b\b\b\b\b\b\b\b\b\b\b\b\b\b\b\b\b\b\b\b\b\b\b\b\b\b\b\b\b\b\b\b\b\b\b\b\b\b\b\b\b\b\b\b\b\b\b\b\b\b\b\b\b\b\b\b\b\b\b\b\b\b\b\b\b\b\b\b\b\b\b\r534/534 [==============================] - 11s 20ms/step - loss: 0.0141 - accuracy: 0.9697 - val_loss: 0.0640 - val_accuracy: 0.8242\n",
            "Epoch 54/80\n",
            "532/534 [============================>.] - ETA: 0s - loss: 0.0143 - accuracy: 0.9690"
          ]
        },
        {
          "output_type": "stream",
          "name": "stderr",
          "text": [
            "WARNING:tensorflow:Can save best model only with val_acc available, skipping.\n"
          ]
        },
        {
          "output_type": "stream",
          "name": "stdout",
          "text": [
            "\b\b\b\b\b\b\b\b\b\b\b\b\b\b\b\b\b\b\b\b\b\b\b\b\b\b\b\b\b\b\b\b\b\b\b\b\b\b\b\b\b\b\b\b\b\b\b\b\b\b\b\b\b\b\b\b\b\b\b\b\b\b\b\b\b\b\b\b\b\b\b\b\b\b\b\b\b\b\b\b\b\b\b\b\r534/534 [==============================] - 11s 20ms/step - loss: 0.0143 - accuracy: 0.9690 - val_loss: 0.0633 - val_accuracy: 0.8282\n",
            "Epoch 55/80\n",
            "531/534 [============================>.] - ETA: 0s - loss: 0.0142 - accuracy: 0.9672"
          ]
        },
        {
          "output_type": "stream",
          "name": "stderr",
          "text": [
            "WARNING:tensorflow:Can save best model only with val_acc available, skipping.\n"
          ]
        },
        {
          "output_type": "stream",
          "name": "stdout",
          "text": [
            "\b\b\b\b\b\b\b\b\b\b\b\b\b\b\b\b\b\b\b\b\b\b\b\b\b\b\b\b\b\b\b\b\b\b\b\b\b\b\b\b\b\b\b\b\b\b\b\b\b\b\b\b\b\b\b\b\b\b\b\b\b\b\b\b\b\b\b\b\b\b\b\b\b\b\b\b\b\b\b\b\b\b\b\b\r534/534 [==============================] - 11s 21ms/step - loss: 0.0142 - accuracy: 0.9672 - val_loss: 0.0643 - val_accuracy: 0.8267\n",
            "Epoch 56/80\n",
            "532/534 [============================>.] - ETA: 0s - loss: 0.0141 - accuracy: 0.9694"
          ]
        },
        {
          "output_type": "stream",
          "name": "stderr",
          "text": [
            "WARNING:tensorflow:Can save best model only with val_acc available, skipping.\n"
          ]
        },
        {
          "output_type": "stream",
          "name": "stdout",
          "text": [
            "\b\b\b\b\b\b\b\b\b\b\b\b\b\b\b\b\b\b\b\b\b\b\b\b\b\b\b\b\b\b\b\b\b\b\b\b\b\b\b\b\b\b\b\b\b\b\b\b\b\b\b\b\b\b\b\b\b\b\b\b\b\b\b\b\b\b\b\b\b\b\b\b\b\b\b\b\b\b\b\b\b\b\b\b\r534/534 [==============================] - 11s 20ms/step - loss: 0.0141 - accuracy: 0.9694 - val_loss: 0.0636 - val_accuracy: 0.8282\n",
            "Epoch 57/80\n",
            "532/534 [============================>.] - ETA: 0s - loss: 0.0136 - accuracy: 0.9697"
          ]
        },
        {
          "output_type": "stream",
          "name": "stderr",
          "text": [
            "WARNING:tensorflow:Can save best model only with val_acc available, skipping.\n"
          ]
        },
        {
          "output_type": "stream",
          "name": "stdout",
          "text": [
            "\b\b\b\b\b\b\b\b\b\b\b\b\b\b\b\b\b\b\b\b\b\b\b\b\b\b\b\b\b\b\b\b\b\b\b\b\b\b\b\b\b\b\b\b\b\b\b\b\b\b\b\b\b\b\b\b\b\b\b\b\b\b\b\b\b\b\b\b\b\b\b\b\b\b\b\b\b\b\b\b\b\b\b\b\r534/534 [==============================] - 11s 20ms/step - loss: 0.0137 - accuracy: 0.9697 - val_loss: 0.0656 - val_accuracy: 0.8240\n",
            "Epoch 58/80\n",
            "532/534 [============================>.] - ETA: 0s - loss: 0.0135 - accuracy: 0.9692"
          ]
        },
        {
          "output_type": "stream",
          "name": "stderr",
          "text": [
            "WARNING:tensorflow:Can save best model only with val_acc available, skipping.\n"
          ]
        },
        {
          "output_type": "stream",
          "name": "stdout",
          "text": [
            "\b\b\b\b\b\b\b\b\b\b\b\b\b\b\b\b\b\b\b\b\b\b\b\b\b\b\b\b\b\b\b\b\b\b\b\b\b\b\b\b\b\b\b\b\b\b\b\b\b\b\b\b\b\b\b\b\b\b\b\b\b\b\b\b\b\b\b\b\b\b\b\b\b\b\b\b\b\b\b\b\b\b\b\b\r534/534 [==============================] - 11s 20ms/step - loss: 0.0135 - accuracy: 0.9692 - val_loss: 0.0650 - val_accuracy: 0.8272\n",
            "Epoch 59/80\n",
            "532/534 [============================>.] - ETA: 0s - loss: 0.0138 - accuracy: 0.9682"
          ]
        },
        {
          "output_type": "stream",
          "name": "stderr",
          "text": [
            "WARNING:tensorflow:Can save best model only with val_acc available, skipping.\n"
          ]
        },
        {
          "output_type": "stream",
          "name": "stdout",
          "text": [
            "\b\b\b\b\b\b\b\b\b\b\b\b\b\b\b\b\b\b\b\b\b\b\b\b\b\b\b\b\b\b\b\b\b\b\b\b\b\b\b\b\b\b\b\b\b\b\b\b\b\b\b\b\b\b\b\b\b\b\b\b\b\b\b\b\b\b\b\b\b\b\b\b\b\b\b\b\b\b\b\b\b\b\b\b\r534/534 [==============================] - 11s 20ms/step - loss: 0.0138 - accuracy: 0.9682 - val_loss: 0.0652 - val_accuracy: 0.8280\n",
            "Epoch 60/80\n",
            "532/534 [============================>.] - ETA: 0s - loss: 0.0136 - accuracy: 0.9697"
          ]
        },
        {
          "output_type": "stream",
          "name": "stderr",
          "text": [
            "WARNING:tensorflow:Can save best model only with val_acc available, skipping.\n"
          ]
        },
        {
          "output_type": "stream",
          "name": "stdout",
          "text": [
            "\b\b\b\b\b\b\b\b\b\b\b\b\b\b\b\b\b\b\b\b\b\b\b\b\b\b\b\b\b\b\b\b\b\b\b\b\b\b\b\b\b\b\b\b\b\b\b\b\b\b\b\b\b\b\b\b\b\b\b\b\b\b\b\b\b\b\b\b\b\b\b\b\b\b\b\b\b\b\b\b\b\b\b\b\r534/534 [==============================] - 11s 21ms/step - loss: 0.0136 - accuracy: 0.9698 - val_loss: 0.0641 - val_accuracy: 0.8237\n",
            "Epoch 61/80\n",
            "531/534 [============================>.] - ETA: 0s - loss: 0.0133 - accuracy: 0.9702"
          ]
        },
        {
          "output_type": "stream",
          "name": "stderr",
          "text": [
            "WARNING:tensorflow:Can save best model only with val_acc available, skipping.\n"
          ]
        },
        {
          "output_type": "stream",
          "name": "stdout",
          "text": [
            "\b\b\b\b\b\b\b\b\b\b\b\b\b\b\b\b\b\b\b\b\b\b\b\b\b\b\b\b\b\b\b\b\b\b\b\b\b\b\b\b\b\b\b\b\b\b\b\b\b\b\b\b\b\b\b\b\b\b\b\b\b\b\b\b\b\b\b\b\b\b\b\b\b\b\b\b\b\b\b\b\b\b\b\b\r534/534 [==============================] - 11s 20ms/step - loss: 0.0133 - accuracy: 0.9702 - val_loss: 0.0652 - val_accuracy: 0.8300\n",
            "Epoch 62/80\n",
            "531/534 [============================>.] - ETA: 0s - loss: 0.0129 - accuracy: 0.9700"
          ]
        },
        {
          "output_type": "stream",
          "name": "stderr",
          "text": [
            "WARNING:tensorflow:Can save best model only with val_acc available, skipping.\n"
          ]
        },
        {
          "output_type": "stream",
          "name": "stdout",
          "text": [
            "\b\b\b\b\b\b\b\b\b\b\b\b\b\b\b\b\b\b\b\b\b\b\b\b\b\b\b\b\b\b\b\b\b\b\b\b\b\b\b\b\b\b\b\b\b\b\b\b\b\b\b\b\b\b\b\b\b\b\b\b\b\b\b\b\b\b\b\b\b\b\b\b\b\b\b\b\b\b\b\b\b\b\b\b\r534/534 [==============================] - 11s 20ms/step - loss: 0.0129 - accuracy: 0.9701 - val_loss: 0.0652 - val_accuracy: 0.8297\n",
            "Epoch 63/80\n",
            "532/534 [============================>.] - ETA: 0s - loss: 0.0133 - accuracy: 0.9683"
          ]
        },
        {
          "output_type": "stream",
          "name": "stderr",
          "text": [
            "WARNING:tensorflow:Can save best model only with val_acc available, skipping.\n"
          ]
        },
        {
          "output_type": "stream",
          "name": "stdout",
          "text": [
            "\b\b\b\b\b\b\b\b\b\b\b\b\b\b\b\b\b\b\b\b\b\b\b\b\b\b\b\b\b\b\b\b\b\b\b\b\b\b\b\b\b\b\b\b\b\b\b\b\b\b\b\b\b\b\b\b\b\b\b\b\b\b\b\b\b\b\b\b\b\b\b\b\b\b\b\b\b\b\b\b\b\b\b\b\r534/534 [==============================] - 11s 20ms/step - loss: 0.0133 - accuracy: 0.9682 - val_loss: 0.0642 - val_accuracy: 0.8280\n",
            "Epoch 64/80\n",
            "531/534 [============================>.] - ETA: 0s - loss: 0.0130 - accuracy: 0.9700"
          ]
        },
        {
          "output_type": "stream",
          "name": "stderr",
          "text": [
            "WARNING:tensorflow:Can save best model only with val_acc available, skipping.\n"
          ]
        },
        {
          "output_type": "stream",
          "name": "stdout",
          "text": [
            "\b\b\b\b\b\b\b\b\b\b\b\b\b\b\b\b\b\b\b\b\b\b\b\b\b\b\b\b\b\b\b\b\b\b\b\b\b\b\b\b\b\b\b\b\b\b\b\b\b\b\b\b\b\b\b\b\b\b\b\b\b\b\b\b\b\b\b\b\b\b\b\b\b\b\b\b\b\b\b\b\b\b\b\b\r534/534 [==============================] - 11s 20ms/step - loss: 0.0130 - accuracy: 0.9700 - val_loss: 0.0655 - val_accuracy: 0.8302\n",
            "Epoch 65/80\n",
            "532/534 [============================>.] - ETA: 0s - loss: 0.0129 - accuracy: 0.9699"
          ]
        },
        {
          "output_type": "stream",
          "name": "stderr",
          "text": [
            "WARNING:tensorflow:Can save best model only with val_acc available, skipping.\n"
          ]
        },
        {
          "output_type": "stream",
          "name": "stdout",
          "text": [
            "\b\b\b\b\b\b\b\b\b\b\b\b\b\b\b\b\b\b\b\b\b\b\b\b\b\b\b\b\b\b\b\b\b\b\b\b\b\b\b\b\b\b\b\b\b\b\b\b\b\b\b\b\b\b\b\b\b\b\b\b\b\b\b\b\b\b\b\b\b\b\b\b\b\b\b\b\b\b\b\b\b\b\b\b\r534/534 [==============================] - 11s 20ms/step - loss: 0.0129 - accuracy: 0.9699 - val_loss: 0.0655 - val_accuracy: 0.8285\n",
            "Epoch 66/80\n",
            "532/534 [============================>.] - ETA: 0s - loss: 0.0129 - accuracy: 0.9699"
          ]
        },
        {
          "output_type": "stream",
          "name": "stderr",
          "text": [
            "WARNING:tensorflow:Can save best model only with val_acc available, skipping.\n"
          ]
        },
        {
          "output_type": "stream",
          "name": "stdout",
          "text": [
            "\b\b\b\b\b\b\b\b\b\b\b\b\b\b\b\b\b\b\b\b\b\b\b\b\b\b\b\b\b\b\b\b\b\b\b\b\b\b\b\b\b\b\b\b\b\b\b\b\b\b\b\b\b\b\b\b\b\b\b\b\b\b\b\b\b\b\b\b\b\b\b\b\b\b\b\b\b\b\b\b\b\b\b\b\r534/534 [==============================] - 11s 20ms/step - loss: 0.0129 - accuracy: 0.9699 - val_loss: 0.0661 - val_accuracy: 0.8292\n",
            "Epoch 67/80\n",
            "532/534 [============================>.] - ETA: 0s - loss: 0.0125 - accuracy: 0.9709"
          ]
        },
        {
          "output_type": "stream",
          "name": "stderr",
          "text": [
            "WARNING:tensorflow:Can save best model only with val_acc available, skipping.\n"
          ]
        },
        {
          "output_type": "stream",
          "name": "stdout",
          "text": [
            "\b\b\b\b\b\b\b\b\b\b\b\b\b\b\b\b\b\b\b\b\b\b\b\b\b\b\b\b\b\b\b\b\b\b\b\b\b\b\b\b\b\b\b\b\b\b\b\b\b\b\b\b\b\b\b\b\b\b\b\b\b\b\b\b\b\b\b\b\b\b\b\b\b\b\b\b\b\b\b\b\b\b\b\b\r534/534 [==============================] - 11s 20ms/step - loss: 0.0124 - accuracy: 0.9709 - val_loss: 0.0667 - val_accuracy: 0.8287\n",
            "Epoch 68/80\n",
            "531/534 [============================>.] - ETA: 0s - loss: 0.0123 - accuracy: 0.9706"
          ]
        },
        {
          "output_type": "stream",
          "name": "stderr",
          "text": [
            "WARNING:tensorflow:Can save best model only with val_acc available, skipping.\n"
          ]
        },
        {
          "output_type": "stream",
          "name": "stdout",
          "text": [
            "\b\b\b\b\b\b\b\b\b\b\b\b\b\b\b\b\b\b\b\b\b\b\b\b\b\b\b\b\b\b\b\b\b\b\b\b\b\b\b\b\b\b\b\b\b\b\b\b\b\b\b\b\b\b\b\b\b\b\b\b\b\b\b\b\b\b\b\b\b\b\b\b\b\b\b\b\b\b\b\b\b\b\b\b\r534/534 [==============================] - 11s 20ms/step - loss: 0.0123 - accuracy: 0.9706 - val_loss: 0.0660 - val_accuracy: 0.8285\n",
            "Epoch 69/80\n",
            "532/534 [============================>.] - ETA: 0s - loss: 0.0126 - accuracy: 0.9692"
          ]
        },
        {
          "output_type": "stream",
          "name": "stderr",
          "text": [
            "WARNING:tensorflow:Can save best model only with val_acc available, skipping.\n"
          ]
        },
        {
          "output_type": "stream",
          "name": "stdout",
          "text": [
            "\b\b\b\b\b\b\b\b\b\b\b\b\b\b\b\b\b\b\b\b\b\b\b\b\b\b\b\b\b\b\b\b\b\b\b\b\b\b\b\b\b\b\b\b\b\b\b\b\b\b\b\b\b\b\b\b\b\b\b\b\b\b\b\b\b\b\b\b\b\b\b\b\b\b\b\b\b\b\b\b\b\b\b\b\r534/534 [==============================] - 11s 20ms/step - loss: 0.0126 - accuracy: 0.9692 - val_loss: 0.0672 - val_accuracy: 0.8282\n",
            "Epoch 70/80\n",
            "531/534 [============================>.] - ETA: 0s - loss: 0.0123 - accuracy: 0.9694"
          ]
        },
        {
          "output_type": "stream",
          "name": "stderr",
          "text": [
            "WARNING:tensorflow:Can save best model only with val_acc available, skipping.\n"
          ]
        },
        {
          "output_type": "stream",
          "name": "stdout",
          "text": [
            "\b\b\b\b\b\b\b\b\b\b\b\b\b\b\b\b\b\b\b\b\b\b\b\b\b\b\b\b\b\b\b\b\b\b\b\b\b\b\b\b\b\b\b\b\b\b\b\b\b\b\b\b\b\b\b\b\b\b\b\b\b\b\b\b\b\b\b\b\b\b\b\b\b\b\b\b\b\b\b\b\b\b\b\b\r534/534 [==============================] - 11s 21ms/step - loss: 0.0124 - accuracy: 0.9692 - val_loss: 0.0678 - val_accuracy: 0.8257\n",
            "Epoch 71/80\n",
            "532/534 [============================>.] - ETA: 0s - loss: 0.0121 - accuracy: 0.9721"
          ]
        },
        {
          "output_type": "stream",
          "name": "stderr",
          "text": [
            "WARNING:tensorflow:Can save best model only with val_acc available, skipping.\n"
          ]
        },
        {
          "output_type": "stream",
          "name": "stdout",
          "text": [
            "\b\b\b\b\b\b\b\b\b\b\b\b\b\b\b\b\b\b\b\b\b\b\b\b\b\b\b\b\b\b\b\b\b\b\b\b\b\b\b\b\b\b\b\b\b\b\b\b\b\b\b\b\b\b\b\b\b\b\b\b\b\b\b\b\b\b\b\b\b\b\b\b\b\b\b\b\b\b\b\b\b\b\b\b\r534/534 [==============================] - 11s 21ms/step - loss: 0.0121 - accuracy: 0.9721 - val_loss: 0.0675 - val_accuracy: 0.8285\n",
            "Epoch 72/80\n",
            "532/534 [============================>.] - ETA: 0s - loss: 0.0124 - accuracy: 0.9703"
          ]
        },
        {
          "output_type": "stream",
          "name": "stderr",
          "text": [
            "WARNING:tensorflow:Can save best model only with val_acc available, skipping.\n"
          ]
        },
        {
          "output_type": "stream",
          "name": "stdout",
          "text": [
            "\b\b\b\b\b\b\b\b\b\b\b\b\b\b\b\b\b\b\b\b\b\b\b\b\b\b\b\b\b\b\b\b\b\b\b\b\b\b\b\b\b\b\b\b\b\b\b\b\b\b\b\b\b\b\b\b\b\b\b\b\b\b\b\b\b\b\b\b\b\b\b\b\b\b\b\b\b\b\b\b\b\b\b\b\r534/534 [==============================] - 11s 21ms/step - loss: 0.0124 - accuracy: 0.9704 - val_loss: 0.0673 - val_accuracy: 0.8305\n",
            "Epoch 73/80\n",
            "531/534 [============================>.] - ETA: 0s - loss: 0.0123 - accuracy: 0.9725"
          ]
        },
        {
          "output_type": "stream",
          "name": "stderr",
          "text": [
            "WARNING:tensorflow:Can save best model only with val_acc available, skipping.\n"
          ]
        },
        {
          "output_type": "stream",
          "name": "stdout",
          "text": [
            "\b\b\b\b\b\b\b\b\b\b\b\b\b\b\b\b\b\b\b\b\b\b\b\b\b\b\b\b\b\b\b\b\b\b\b\b\b\b\b\b\b\b\b\b\b\b\b\b\b\b\b\b\b\b\b\b\b\b\b\b\b\b\b\b\b\b\b\b\b\b\b\b\b\b\b\b\b\b\b\b\b\b\b\b\r534/534 [==============================] - 11s 21ms/step - loss: 0.0123 - accuracy: 0.9724 - val_loss: 0.0662 - val_accuracy: 0.8295\n",
            "Epoch 74/80\n",
            "532/534 [============================>.] - ETA: 0s - loss: 0.0121 - accuracy: 0.9702"
          ]
        },
        {
          "output_type": "stream",
          "name": "stderr",
          "text": [
            "WARNING:tensorflow:Can save best model only with val_acc available, skipping.\n"
          ]
        },
        {
          "output_type": "stream",
          "name": "stdout",
          "text": [
            "\b\b\b\b\b\b\b\b\b\b\b\b\b\b\b\b\b\b\b\b\b\b\b\b\b\b\b\b\b\b\b\b\b\b\b\b\b\b\b\b\b\b\b\b\b\b\b\b\b\b\b\b\b\b\b\b\b\b\b\b\b\b\b\b\b\b\b\b\b\b\b\b\b\b\b\b\b\b\b\b\b\b\b\b\r534/534 [==============================] - 11s 21ms/step - loss: 0.0121 - accuracy: 0.9701 - val_loss: 0.0670 - val_accuracy: 0.8310\n",
            "Epoch 75/80\n",
            "533/534 [============================>.] - ETA: 0s - loss: 0.0117 - accuracy: 0.9727"
          ]
        },
        {
          "output_type": "stream",
          "name": "stderr",
          "text": [
            "WARNING:tensorflow:Can save best model only with val_acc available, skipping.\n"
          ]
        },
        {
          "output_type": "stream",
          "name": "stdout",
          "text": [
            "\b\b\b\b\b\b\b\b\b\b\b\b\b\b\b\b\b\b\b\b\b\b\b\b\b\b\b\b\b\b\b\b\b\b\b\b\b\b\b\b\b\b\b\b\b\b\b\b\b\b\b\b\b\b\b\b\b\b\b\b\b\b\b\b\b\b\b\b\b\b\b\b\b\b\b\b\b\b\b\b\b\b\b\b\r534/534 [==============================] - 11s 21ms/step - loss: 0.0117 - accuracy: 0.9727 - val_loss: 0.0678 - val_accuracy: 0.8305\n",
            "Epoch 76/80\n",
            "531/534 [============================>.] - ETA: 0s - loss: 0.0120 - accuracy: 0.9706"
          ]
        },
        {
          "output_type": "stream",
          "name": "stderr",
          "text": [
            "WARNING:tensorflow:Can save best model only with val_acc available, skipping.\n"
          ]
        },
        {
          "output_type": "stream",
          "name": "stdout",
          "text": [
            "\b\b\b\b\b\b\b\b\b\b\b\b\b\b\b\b\b\b\b\b\b\b\b\b\b\b\b\b\b\b\b\b\b\b\b\b\b\b\b\b\b\b\b\b\b\b\b\b\b\b\b\b\b\b\b\b\b\b\b\b\b\b\b\b\b\b\b\b\b\b\b\b\b\b\b\b\b\b\b\b\b\b\b\b\r534/534 [==============================] - 11s 21ms/step - loss: 0.0120 - accuracy: 0.9706 - val_loss: 0.0685 - val_accuracy: 0.8310\n",
            "Epoch 77/80\n",
            "532/534 [============================>.] - ETA: 0s - loss: 0.0119 - accuracy: 0.9692"
          ]
        },
        {
          "output_type": "stream",
          "name": "stderr",
          "text": [
            "WARNING:tensorflow:Can save best model only with val_acc available, skipping.\n"
          ]
        },
        {
          "output_type": "stream",
          "name": "stdout",
          "text": [
            "\b\b\b\b\b\b\b\b\b\b\b\b\b\b\b\b\b\b\b\b\b\b\b\b\b\b\b\b\b\b\b\b\b\b\b\b\b\b\b\b\b\b\b\b\b\b\b\b\b\b\b\b\b\b\b\b\b\b\b\b\b\b\b\b\b\b\b\b\b\b\b\b\b\b\b\b\b\b\b\b\b\b\b\b\r534/534 [==============================] - 11s 20ms/step - loss: 0.0119 - accuracy: 0.9691 - val_loss: 0.0675 - val_accuracy: 0.8280\n",
            "Epoch 78/80\n",
            "532/534 [============================>.] - ETA: 0s - loss: 0.0120 - accuracy: 0.9695"
          ]
        },
        {
          "output_type": "stream",
          "name": "stderr",
          "text": [
            "WARNING:tensorflow:Can save best model only with val_acc available, skipping.\n"
          ]
        },
        {
          "output_type": "stream",
          "name": "stdout",
          "text": [
            "\b\b\b\b\b\b\b\b\b\b\b\b\b\b\b\b\b\b\b\b\b\b\b\b\b\b\b\b\b\b\b\b\b\b\b\b\b\b\b\b\b\b\b\b\b\b\b\b\b\b\b\b\b\b\b\b\b\b\b\b\b\b\b\b\b\b\b\b\b\b\b\b\b\b\b\b\b\b\b\b\b\b\b\b\r534/534 [==============================] - 11s 21ms/step - loss: 0.0120 - accuracy: 0.9695 - val_loss: 0.0686 - val_accuracy: 0.8287\n",
            "Epoch 79/80\n",
            "532/534 [============================>.] - ETA: 0s - loss: 0.0115 - accuracy: 0.9709"
          ]
        },
        {
          "output_type": "stream",
          "name": "stderr",
          "text": [
            "WARNING:tensorflow:Can save best model only with val_acc available, skipping.\n"
          ]
        },
        {
          "output_type": "stream",
          "name": "stdout",
          "text": [
            "\b\b\b\b\b\b\b\b\b\b\b\b\b\b\b\b\b\b\b\b\b\b\b\b\b\b\b\b\b\b\b\b\b\b\b\b\b\b\b\b\b\b\b\b\b\b\b\b\b\b\b\b\b\b\b\b\b\b\b\b\b\b\b\b\b\b\b\b\b\b\b\b\b\b\b\b\b\b\b\b\b\b\b\b\r534/534 [==============================] - 11s 21ms/step - loss: 0.0115 - accuracy: 0.9708 - val_loss: 0.0691 - val_accuracy: 0.8277\n",
            "Epoch 80/80\n",
            "532/534 [============================>.] - ETA: 0s - loss: 0.0117 - accuracy: 0.9694"
          ]
        },
        {
          "output_type": "stream",
          "name": "stderr",
          "text": [
            "WARNING:tensorflow:Can save best model only with val_acc available, skipping.\n"
          ]
        },
        {
          "output_type": "stream",
          "name": "stdout",
          "text": [
            "\b\b\b\b\b\b\b\b\b\b\b\b\b\b\b\b\b\b\b\b\b\b\b\b\b\b\b\b\b\b\b\b\b\b\b\b\b\b\b\b\b\b\b\b\b\b\b\b\b\b\b\b\b\b\b\b\b\b\b\b\b\b\b\b\b\b\b\b\b\b\b\b\b\b\b\b\b\b\b\b\b\b\b\b\r534/534 [==============================] - 11s 21ms/step - loss: 0.0117 - accuracy: 0.9694 - val_loss: 0.0698 - val_accuracy: 0.8292\n"
          ]
        }
      ]
    },
    {
      "cell_type": "code",
      "source": [
        "plt.plot(history.history['accuracy'])\n",
        "plt.plot(history.history['val_accuracy'])\n",
        "plt.title('Model accuracy')\n",
        "plt.ylabel('Accuracy')\n",
        "plt.xlabel('Epoch')\n",
        "plt.legend(['Train', 'Valid'], loc='upper left')\n",
        "plt.show()"
      ],
      "metadata": {
        "colab": {
          "base_uri": "https://localhost:8080/",
          "height": 472
        },
        "id": "zq7L7x8QcjrF",
        "outputId": "8da1e65b-3815-4e3b-c87f-18b4ec70c7cc"
      },
      "execution_count": null,
      "outputs": [
        {
          "output_type": "display_data",
          "data": {
            "text/plain": [
              "<Figure size 640x480 with 1 Axes>"
            ],
            "image/png": "[encoded data removed]"
          },
          "metadata": {}
        }
      ]
    },
    {
      "cell_type": "code",
      "source": [
        "plt.plot(history.history['loss'])\n",
        "plt.plot(history.history['val_loss'])\n",
        "plt.title('Loss')\n",
        "plt.ylabel('Loss')\n",
        "plt.xlabel('Epoch')\n",
        "plt.legend(['Train', 'Valid'], loc='upper left')\n",
        "plt.show()"
      ],
      "metadata": {
        "colab": {
          "base_uri": "https://localhost:8080/",
          "height": 472
        },
        "id": "2HBr1nVscknV",
        "outputId": "b1ba34d1-e775-4dfa-bc21-565915eeae84"
      },
      "execution_count": null,
      "outputs": [
        {
          "output_type": "display_data",
          "data": {
            "text/plain": [
              "<Figure size 640x480 with 1 Axes>"
            ],
            "image/png": "[encoded data removed]"
          },
          "metadata": {}
        }
      ]
    },
    {
      "cell_type": "code",
      "source": [
        "# ewaluacja modelu (po 80 epokach)\n",
        "eval = model.evaluate(x_val, y_val)"
      ],
      "metadata": {
        "colab": {
          "base_uri": "https://localhost:8080/"
        },
        "id": "c_zxn2iecplm",
        "outputId": "852be98f-e44d-49af-ecff-e54afab98e5e"
      },
      "execution_count": null,
      "outputs": [
        {
          "output_type": "stream",
          "name": "stdout",
          "text": [
            "125/125 [==============================] - 1s 7ms/step - loss: 0.0698 - accuracy: 0.8292\n"
          ]
        }
      ]
    },
    {
      "cell_type": "code",
      "source": [
        "# predykcja dla całego zbioru testowego\n",
        "Y_pred = model.predict(x_val)"
      ],
      "metadata": {
        "colab": {
          "base_uri": "https://localhost:8080/"
        },
        "id": "Xgfij5tsH7jY",
        "outputId": "0fdaff2e-c707-4a3e-985f-b5a46f8b6211"
      },
      "execution_count": null,
      "outputs": [
        {
          "output_type": "stream",
          "name": "stdout",
          "text": [
            "125/125 [==============================] - 1s 6ms/step\n"
          ]
        }
      ]
    },
    {
      "cell_type": "code",
      "source": [
        "# sformatowanie tablic na potrzeby \"confusion_matrix\"\n",
        "Y_pred_classes =np.argmax(Y_pred, axis=1)\n",
        "Y_true= np.argmax(y_val, axis=1)"
      ],
      "metadata": {
        "id": "-tstmOzMH_nX"
      },
      "execution_count": null,
      "outputs": []
    },
    {
      "cell_type": "code",
      "source": [
        "# Macierz konfuzji\n",
        "from sklearn.metrics import classification_report,confusion_matrix\n",
        "sns.set(font_scale=1.3)\n",
        "\n",
        "confusion_m= confusion_matrix(Y_true, Y_pred_classes)\n",
        "print(confusion_m)"
      ],
      "metadata": {
        "colab": {
          "base_uri": "https://localhost:8080/"
        },
        "id": "5XcqlblRIGQL",
        "outputId": "cad026d4-6ee6-424f-ae24-6cb15d8b5a27"
      },
      "execution_count": null,
      "outputs": [
        {
          "output_type": "stream",
          "name": "stdout",
          "text": [
            "[[141   0   0   0   0   0   0   0   0   0   1   0   0   1   2  14   0   2\n",
            "    0  44]\n",
            " [  1 144  10   6   5  12   1   0   0   0   0   2   2   2   1   0   0   0\n",
            "    0   1]\n",
            " [  0  11 161   7   1   4   3   0   1   0   0   0   0   0   2   0   0   0\n",
            "    0   0]\n",
            " [  0   9   6 172   8   2   6   2   0   1   0   0  10   1   0   0   0   0\n",
            "    0   0]\n",
            " [  0   5   1  13 150   0   6   3   1   0   0   1   8   1   0   0   0   1\n",
            "    0   1]\n",
            " [  0  16   5   4   0 176   4   1   0   0   0   1   0   0   2   0   0   1\n",
            "    0   1]\n",
            " [  0   2   4   6   4   0 168   5   3   3   0   0   4   2   2   0   0   1\n",
            "    0   2]\n",
            " [  0   0   0   0   0   0   4 176   4   1   0   0   5   1   0   0   3   1\n",
            "    2   1]\n",
            " [  0   1   0   0   2   1   2   6 171   1   0   0   0   3   2   0   1   0\n",
            "    1   0]\n",
            " [  1   0   0   0   0   0   3   1   0 188   4   0   0   1   0   1   0   2\n",
            "    0   0]\n",
            " [  0   0   0   0   0   1   1   0   0   3 202   0   0   1   0   0   1   0\n",
            "    0   1]\n",
            " [  1   0   2   0   1   1   0   0   0   0   2 210   1   0   0   0   4   1\n",
            "    3   0]\n",
            " [  0   6   3   5   1   1   5   3   3   1   1   3 139   1   3   0   0   0\n",
            "    0   0]\n",
            " [  1   2   0   1   0   2   1   1   0   0   0   0   2 190   1   0   3   0\n",
            "    1   1]\n",
            " [  1   5   0   0   0   1   1   0   1   0   0   0   5   2 184   1   1   1\n",
            "    0   5]\n",
            " [  6   0   0   0   1   0   1   2   0   0   0   0   0   0   0 187   0   4\n",
            "    0   2]\n",
            " [  3   0   0   0   0   0   1   1   1   0   1   1   2   0   1   1 150   0\n",
            "   13   8]\n",
            " [  1   0   0   0   1   0   1   0   0   2   0   0   0   0   0   2   3 194\n",
            "    8   0]\n",
            " [  2   0   0   0   0   0   1   0   0   1   1   1   0   1   1   1  12  17\n",
            "  136  16]\n",
            " [ 51   0   0   0   0   0   0   2   0   0   0   0   0   3   0   9  14   0\n",
            "   33  77]]\n"
          ]
        }
      ]
    },
    {
      "cell_type": "code",
      "source": [
        "sns.set(font_scale=1.3)\n",
        "plt.figure(figsize=(12,10))\n",
        "sns.heatmap(confusion_m, annot=True, linewidths=0.01,cmap=\"Blues\",linecolor=\"gray\",annot_kws={\"fontsize\": 8, \"fontweight\": \"bold\", \"fontfamily\": \"serif\"}, fmt= '.0f') #, fmt= '.1f'\n",
        "plt.title(\"Heatmap dla predykcji na danych testowych\")\n",
        "plt.savefig(\"heatmap.png\")\n",
        "plt.show()"
      ],
      "metadata": {
        "colab": {
          "base_uri": "https://localhost:8080/",
          "height": 863
        },
        "id": "7wtIVfnpLZtQ",
        "outputId": "9abea9df-7007-4743-da86-ab080144c772"
      },
      "execution_count": null,
      "outputs": [
        {
          "output_type": "display_data",
          "data": {
            "text/plain": [
              "<Figure size 1200x1000 with 2 Axes>"
            ],
            "image/png": "[encoded data removed]"
          },
          "metadata": {}
        }
      ]
    },
    {
      "cell_type": "code",
      "source": [
        "# Raport klasyfikacji\n",
        "print(classification_report(Y_true, Y_pred_classes))"
      ],
      "metadata": {
        "colab": {
          "base_uri": "https://localhost:8080/"
        },
        "id": "6GlQq_oRINr1",
        "outputId": "1fe20ab5-5623-43e8-9397-f87a98368edd"
      },
      "execution_count": null,
      "outputs": [
        {
          "output_type": "stream",
          "name": "stdout",
          "text": [
            "              precision    recall  f1-score   support\n",
            "\n",
            "           0       0.67      0.69      0.68       205\n",
            "           1       0.72      0.77      0.74       187\n",
            "           2       0.84      0.85      0.84       190\n",
            "           3       0.80      0.79      0.80       217\n",
            "           4       0.86      0.79      0.82       191\n",
            "           5       0.88      0.83      0.85       211\n",
            "           6       0.80      0.82      0.81       206\n",
            "           7       0.87      0.89      0.88       198\n",
            "           8       0.92      0.90      0.91       191\n",
            "           9       0.94      0.94      0.94       201\n",
            "          10       0.95      0.96      0.96       210\n",
            "          11       0.96      0.93      0.94       226\n",
            "          12       0.78      0.79      0.79       175\n",
            "          13       0.90      0.92      0.91       206\n",
            "          14       0.92      0.88      0.90       208\n",
            "          15       0.87      0.92      0.89       203\n",
            "          16       0.78      0.82      0.80       183\n",
            "          17       0.86      0.92      0.89       212\n",
            "          18       0.69      0.72      0.70       190\n",
            "          19       0.48      0.41      0.44       189\n",
            "\n",
            "    accuracy                           0.83      3999\n",
            "   macro avg       0.82      0.83      0.82      3999\n",
            "weighted avg       0.83      0.83      0.83      3999\n",
            "\n"
          ]
        }
      ]
    }
  ]
}