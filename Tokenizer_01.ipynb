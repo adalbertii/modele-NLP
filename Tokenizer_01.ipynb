{
  "nbformat": 4,
  "nbformat_minor": 0,
  "metadata": {
    "colab": {
      "provenance": [],
      "authorship_tag": "ABX9TyNuw7EomJQKr7c8SCNkX85G",
      "include_colab_link": true
    },
    "kernelspec": {
      "name": "python3",
      "display_name": "Python 3"
    },
    "language_info": {
      "name": "python"
    }
  },
  "cells": [
    {
      "cell_type": "markdown",
      "metadata": {
        "id": "view-in-github",
        "colab_type": "text"
      },
      "source": [
        "<a href=\"https://colab.research.google.com/github/adalbertii/modele-NLP/blob/main/Tokenizer_01.ipynb\" target=\"_parent\"><img src=\"https://colab.research.google.com/assets/colab-badge.svg\" alt=\"Open In Colab\"/></a>"
      ]
    },
    {
      "cell_type": "markdown",
      "source": [
        "**Tokenizer**\n",
        "\n",
        "Wprowadzenie"
      ],
      "metadata": {
        "id": "aiPjCnTTB639"
      }
    },
    {
      "cell_type": "code",
      "source": [
        "from keras.preprocessing.text import Tokenizer"
      ],
      "metadata": {
        "id": "lTkB5jgAxJkg"
      },
      "execution_count": 1,
      "outputs": []
    },
    {
      "cell_type": "code",
      "execution_count": 2,
      "metadata": {
        "id": "SnmfPKmkwvVC"
      },
      "outputs": [],
      "source": [
        "# przykładowy korpus zbioru recenzji\n",
        "corpus =[\n",
        "          'Never coming back!',\n",
        "          'horrible service',\n",
        "          'rude waitress',\n",
        "          'cold food',\n",
        "          'horrible food!',\n",
        "          'awesome',\n",
        "          'awesome services!',\n",
        "          'rocks',\n",
        "          'poor work',\n",
        "          'couldn\\'t have done better'\n",
        "]\n",
        "\n"
      ]
    },
    {
      "cell_type": "code",
      "source": [
        "# Zainicjowanie obiektu klasy Tokenizer i zasilenie obiektu  dokumentami, które będą  analizowane\n",
        "# parametr \"num_words\" pozostawiamy domyslny\n",
        "# zwykle przyjmuje wartośc  = MAX_WORDS\n",
        "tokenizer = Tokenizer()\n",
        "tokenizer.fit_on_texts(corpus)\n"
      ],
      "metadata": {
        "id": "UCiTFtsExDVs"
      },
      "execution_count": 4,
      "outputs": []
    },
    {
      "cell_type": "code",
      "source": [
        "# pobranie indeksów wyrazów dla całego korpusu\n",
        "word_index = tokenizer.word_index\n",
        "\n",
        "word_index"
      ],
      "metadata": {
        "colab": {
          "base_uri": "https://localhost:8080/"
        },
        "id": "-dZhp4sXxQAp",
        "outputId": "a10abb28-d443-4d9e-84eb-b0a1aedd9dc9"
      },
      "execution_count": 5,
      "outputs": [
        {
          "output_type": "execute_result",
          "data": {
            "text/plain": [
              "{'horrible': 1,\n",
              " 'food': 2,\n",
              " 'awesome': 3,\n",
              " 'never': 4,\n",
              " 'coming': 5,\n",
              " 'back': 6,\n",
              " 'service': 7,\n",
              " 'rude': 8,\n",
              " 'waitress': 9,\n",
              " 'cold': 10,\n",
              " 'services': 11,\n",
              " 'rocks': 12,\n",
              " 'poor': 13,\n",
              " 'work': 14,\n",
              " \"couldn't\": 15,\n",
              " 'have': 16,\n",
              " 'done': 17,\n",
              " 'better': 18}"
            ]
          },
          "metadata": {},
          "execution_count": 5
        }
      ]
    },
    {
      "cell_type": "code",
      "source": [
        "# udostępnia słownik słów występujących w dokumentach oraz liczbę dokumentów, w których pojawia się każde słowo.\n",
        "# dokument tutaj jest rozumiany jako wiersz ze zmiennej \"corpus\"\n",
        "\n",
        "word_docs = tokenizer.word_docs\n",
        "\n",
        "sorted(word_docs.items())"
      ],
      "metadata": {
        "colab": {
          "base_uri": "https://localhost:8080/"
        },
        "id": "_21J5Vkd-e0w",
        "outputId": "e5e74cf1-890d-4c60-e984-d484adaba20f"
      },
      "execution_count": 6,
      "outputs": [
        {
          "output_type": "execute_result",
          "data": {
            "text/plain": [
              "[('awesome', 2),\n",
              " ('back', 1),\n",
              " ('better', 1),\n",
              " ('cold', 1),\n",
              " ('coming', 1),\n",
              " (\"couldn't\", 1),\n",
              " ('done', 1),\n",
              " ('food', 2),\n",
              " ('have', 1),\n",
              " ('horrible', 2),\n",
              " ('never', 1),\n",
              " ('poor', 1),\n",
              " ('rocks', 1),\n",
              " ('rude', 1),\n",
              " ('service', 1),\n",
              " ('services', 1),\n",
              " ('waitress', 1),\n",
              " ('work', 1)]"
            ]
          },
          "metadata": {},
          "execution_count": 6
        }
      ]
    },
    {
      "cell_type": "code",
      "source": [
        "# Pobranie  słownika słów według częstotliwości występowania w korpusie\n",
        "word_counts = tokenizer.word_counts\n",
        "\n",
        "sorted(word_counts.items())"
      ],
      "metadata": {
        "colab": {
          "base_uri": "https://localhost:8080/"
        },
        "id": "0LHkE-OV-7Jx",
        "outputId": "75c10907-9815-4a1b-b3a6-efb941b2da83"
      },
      "execution_count": 7,
      "outputs": [
        {
          "output_type": "execute_result",
          "data": {
            "text/plain": [
              "[('awesome', 2),\n",
              " ('back', 1),\n",
              " ('better', 1),\n",
              " ('cold', 1),\n",
              " ('coming', 1),\n",
              " (\"couldn't\", 1),\n",
              " ('done', 1),\n",
              " ('food', 2),\n",
              " ('have', 1),\n",
              " ('horrible', 2),\n",
              " ('never', 1),\n",
              " ('poor', 1),\n",
              " ('rocks', 1),\n",
              " ('rude', 1),\n",
              " ('service', 1),\n",
              " ('services', 1),\n",
              " ('waitress', 1),\n",
              " ('work', 1)]"
            ]
          },
          "metadata": {},
          "execution_count": 7
        }
      ]
    },
    {
      "cell_type": "code",
      "source": [
        "# Konwertuj teksty na macierz wartości binarnych\n",
        "binary_matrix = tokenizer.texts_to_matrix(corpus, mode = 'binary')\n",
        "\n",
        "binary_matrix\n",
        "\n",
        "# omówić reprezentacje zdań z listy źródlowej:\n",
        "# 'Never coming back!'\n",
        "# 'poor work'"
      ],
      "metadata": {
        "colab": {
          "base_uri": "https://localhost:8080/"
        },
        "id": "PaXRVX4g_ViY",
        "outputId": "944d72dc-3232-4e4f-b1bc-202c1a6b1670"
      },
      "execution_count": 8,
      "outputs": [
        {
          "output_type": "execute_result",
          "data": {
            "text/plain": [
              "array([[0., 0., 0., 0., 1., 1., 1., 0., 0., 0., 0., 0., 0., 0., 0., 0.,\n",
              "        0., 0., 0.],\n",
              "       [0., 1., 0., 0., 0., 0., 0., 1., 0., 0., 0., 0., 0., 0., 0., 0.,\n",
              "        0., 0., 0.],\n",
              "       [0., 0., 0., 0., 0., 0., 0., 0., 1., 1., 0., 0., 0., 0., 0., 0.,\n",
              "        0., 0., 0.],\n",
              "       [0., 0., 1., 0., 0., 0., 0., 0., 0., 0., 1., 0., 0., 0., 0., 0.,\n",
              "        0., 0., 0.],\n",
              "       [0., 1., 1., 0., 0., 0., 0., 0., 0., 0., 0., 0., 0., 0., 0., 0.,\n",
              "        0., 0., 0.],\n",
              "       [0., 0., 0., 1., 0., 0., 0., 0., 0., 0., 0., 0., 0., 0., 0., 0.,\n",
              "        0., 0., 0.],\n",
              "       [0., 0., 0., 1., 0., 0., 0., 0., 0., 0., 0., 1., 0., 0., 0., 0.,\n",
              "        0., 0., 0.],\n",
              "       [0., 0., 0., 0., 0., 0., 0., 0., 0., 0., 0., 0., 1., 0., 0., 0.,\n",
              "        0., 0., 0.],\n",
              "       [0., 0., 0., 0., 0., 0., 0., 0., 0., 0., 0., 0., 0., 1., 1., 0.,\n",
              "        0., 0., 0.],\n",
              "       [0., 0., 0., 0., 0., 0., 0., 0., 0., 0., 0., 0., 0., 0., 0., 1.,\n",
              "        1., 1., 1.]])"
            ]
          },
          "metadata": {},
          "execution_count": 8
        }
      ]
    }
  ]
}