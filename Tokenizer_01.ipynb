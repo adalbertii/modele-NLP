{
  "nbformat": 4,
  "nbformat_minor": 0,
  "metadata": {
    "colab": {
      "provenance": [],
      "authorship_tag": "ABX9TyP9HWH9Mbt3mf7cCrbQh0IR",
      "include_colab_link": true
    },
    "kernelspec": {
      "name": "python3",
      "display_name": "Python 3"
    },
    "language_info": {
      "name": "python"
    }
  },
  "cells": [
    {
      "cell_type": "markdown",
      "metadata": {
        "id": "view-in-github",
        "colab_type": "text"
      },
      "source": [
        "<a href=\"https://colab.research.google.com/github/adalbertii/modele-NLP/blob/main/Tokenizer_01.ipynb\" target=\"_parent\"><img src=\"https://colab.research.google.com/assets/colab-badge.svg\" alt=\"Open In Colab\"/></a>"
      ]
    },
    {
      "cell_type": "markdown",
      "source": [
        "**Tokenizer**\n",
        "\n",
        "Wprowadzenie"
      ],
      "metadata": {
        "id": "aiPjCnTTB639"
      }
    },
    {
      "cell_type": "code",
      "source": [
        "from keras.preprocessing.text import Tokenizer"
      ],
      "metadata": {
        "id": "lTkB5jgAxJkg"
      },
      "execution_count": 22,
      "outputs": []
    },
    {
      "cell_type": "code",
      "execution_count": 23,
      "metadata": {
        "id": "SnmfPKmkwvVC"
      },
      "outputs": [],
      "source": [
        "# przykładowy korpus zbioru recenzji\n",
        "corpus =[\n",
        "          'Never coming back!',\n",
        "          'horrible service',\n",
        "          'rude waitress',\n",
        "          'cold food',\n",
        "          'horrible food!',\n",
        "          'awesome',\n",
        "          'awesome services!',\n",
        "          'rocks',\n",
        "          'poor work',\n",
        "          'couldn\\'t have done better'\n",
        "]\n",
        "\n"
      ]
    },
    {
      "cell_type": "code",
      "source": [
        "# Zainicjowanie obiektu klasy Tokenizer i zasilenie obiektu  dokumentami, które będą  analizowane\n",
        "# parametr \"num_words\" pozsotawiamy domyslny\n",
        "# zwykle przyjmuje wartośc  = MAX_WORDS\n",
        "tokenizer = Tokenizer()\n",
        "tokenizer.fit_on_texts(corpus)\n"
      ],
      "metadata": {
        "id": "UCiTFtsExDVs"
      },
      "execution_count": 24,
      "outputs": []
    },
    {
      "cell_type": "code",
      "source": [
        "# pobranie indeksów wyrazów dla całego korpusu\n",
        "word_index = tokenizer.word_index\n",
        "\n",
        "word_index"
      ],
      "metadata": {
        "colab": {
          "base_uri": "https://localhost:8080/"
        },
        "id": "-dZhp4sXxQAp",
        "outputId": "304d2239-4a63-4886-c207-64a6c031ae4c"
      },
      "execution_count": 25,
      "outputs": [
        {
          "output_type": "execute_result",
          "data": {
            "text/plain": [
              "{'horrible': 1,\n",
              " 'food': 2,\n",
              " 'awesome': 3,\n",
              " 'never': 4,\n",
              " 'coming': 5,\n",
              " 'back': 6,\n",
              " 'service': 7,\n",
              " 'rude': 8,\n",
              " 'waitress': 9,\n",
              " 'cold': 10,\n",
              " 'services': 11,\n",
              " 'rocks': 12,\n",
              " 'poor': 13,\n",
              " 'work': 14,\n",
              " \"couldn't\": 15,\n",
              " 'have': 16,\n",
              " 'done': 17,\n",
              " 'better': 18}"
            ]
          },
          "metadata": {},
          "execution_count": 25
        }
      ]
    },
    {
      "cell_type": "code",
      "source": [
        "# udostępnia słownik słów występujących w dokumentach oraz liczbę dokumentów, w których pojawia się każde słowo.\n",
        "# dokument tutaj jest rozumiany jako wiersz ze zmiennej \"corpus\"\n",
        "\n",
        "word_docs = tokenizer.word_docs\n",
        "\n",
        "sorted(word_docs.items())"
      ],
      "metadata": {
        "colab": {
          "base_uri": "https://localhost:8080/"
        },
        "id": "_21J5Vkd-e0w",
        "outputId": "c0c3da7e-4d9f-40b6-d72b-67478867b617"
      },
      "execution_count": 27,
      "outputs": [
        {
          "output_type": "execute_result",
          "data": {
            "text/plain": [
              "[('awesome', 2),\n",
              " ('back', 1),\n",
              " ('better', 1),\n",
              " ('cold', 1),\n",
              " ('coming', 1),\n",
              " (\"couldn't\", 1),\n",
              " ('done', 1),\n",
              " ('food', 2),\n",
              " ('have', 1),\n",
              " ('horrible', 2),\n",
              " ('never', 1),\n",
              " ('poor', 1),\n",
              " ('rocks', 1),\n",
              " ('rude', 1),\n",
              " ('service', 1),\n",
              " ('services', 1),\n",
              " ('waitress', 1),\n",
              " ('work', 1)]"
            ]
          },
          "metadata": {},
          "execution_count": 27
        }
      ]
    },
    {
      "cell_type": "code",
      "source": [
        "# Pobranie  słownika słów według częstotliwości występowania w korpusie\n",
        "word_counts = tokenizer.word_counts\n",
        "\n",
        "sorted(word_counts.items())"
      ],
      "metadata": {
        "colab": {
          "base_uri": "https://localhost:8080/"
        },
        "id": "0LHkE-OV-7Jx",
        "outputId": "f6a87c41-3389-4177-cc57-79a7e7bfcd18"
      },
      "execution_count": 28,
      "outputs": [
        {
          "output_type": "execute_result",
          "data": {
            "text/plain": [
              "[('awesome', 2),\n",
              " ('back', 1),\n",
              " ('better', 1),\n",
              " ('cold', 1),\n",
              " ('coming', 1),\n",
              " (\"couldn't\", 1),\n",
              " ('done', 1),\n",
              " ('food', 2),\n",
              " ('have', 1),\n",
              " ('horrible', 2),\n",
              " ('never', 1),\n",
              " ('poor', 1),\n",
              " ('rocks', 1),\n",
              " ('rude', 1),\n",
              " ('service', 1),\n",
              " ('services', 1),\n",
              " ('waitress', 1),\n",
              " ('work', 1)]"
            ]
          },
          "metadata": {},
          "execution_count": 28
        }
      ]
    },
    {
      "cell_type": "code",
      "source": [
        "# Konwertuj teksty na macierz wartości binarnych\n",
        "binary_matrix = tokenizer.texts_to_matrix(corpus, mode = 'binary')\n",
        "\n",
        "binary_matrix"
      ],
      "metadata": {
        "colab": {
          "base_uri": "https://localhost:8080/"
        },
        "id": "PaXRVX4g_ViY",
        "outputId": "a261b41b-dd2a-4ad4-f8eb-ea6fb117f8db"
      },
      "execution_count": 29,
      "outputs": [
        {
          "output_type": "execute_result",
          "data": {
            "text/plain": [
              "array([[0., 0., 0., 0., 1., 1., 1., 0., 0., 0., 0., 0., 0., 0., 0., 0.,\n",
              "        0., 0., 0.],\n",
              "       [0., 1., 0., 0., 0., 0., 0., 1., 0., 0., 0., 0., 0., 0., 0., 0.,\n",
              "        0., 0., 0.],\n",
              "       [0., 0., 0., 0., 0., 0., 0., 0., 1., 1., 0., 0., 0., 0., 0., 0.,\n",
              "        0., 0., 0.],\n",
              "       [0., 0., 1., 0., 0., 0., 0., 0., 0., 0., 1., 0., 0., 0., 0., 0.,\n",
              "        0., 0., 0.],\n",
              "       [0., 1., 1., 0., 0., 0., 0., 0., 0., 0., 0., 0., 0., 0., 0., 0.,\n",
              "        0., 0., 0.],\n",
              "       [0., 0., 0., 1., 0., 0., 0., 0., 0., 0., 0., 0., 0., 0., 0., 0.,\n",
              "        0., 0., 0.],\n",
              "       [0., 0., 0., 1., 0., 0., 0., 0., 0., 0., 0., 1., 0., 0., 0., 0.,\n",
              "        0., 0., 0.],\n",
              "       [0., 0., 0., 0., 0., 0., 0., 0., 0., 0., 0., 0., 1., 0., 0., 0.,\n",
              "        0., 0., 0.],\n",
              "       [0., 0., 0., 0., 0., 0., 0., 0., 0., 0., 0., 0., 0., 1., 1., 0.,\n",
              "        0., 0., 0.],\n",
              "       [0., 0., 0., 0., 0., 0., 0., 0., 0., 0., 0., 0., 0., 0., 0., 1.,\n",
              "        1., 1., 1.]])"
            ]
          },
          "metadata": {},
          "execution_count": 29
        }
      ]
    }
  ]
}