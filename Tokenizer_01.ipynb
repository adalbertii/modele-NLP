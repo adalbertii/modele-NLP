{
  "nbformat": 4,
  "nbformat_minor": 0,
  "metadata": {
    "colab": {
      "provenance": [],
      "authorship_tag": "ABX9TyPuUEMLPu0ovESmMcQH+ksj",
      "include_colab_link": true
    },
    "kernelspec": {
      "name": "python3",
      "display_name": "Python 3"
    },
    "language_info": {
      "name": "python"
    }
  },
  "cells": [
    {
      "cell_type": "markdown",
      "metadata": {
        "id": "view-in-github",
        "colab_type": "text"
      },
      "source": [
        "<a href=\"https://colab.research.google.com/github/adalbertii/modele-NLP/blob/main/Tokenizer_01.ipynb\" target=\"_parent\"><img src=\"https://colab.research.google.com/assets/colab-badge.svg\" alt=\"Open In Colab\"/></a>"
      ]
    },
    {
      "cell_type": "markdown",
      "source": [
        "**Tokenizer**\n",
        "\n",
        "Wprowadzenie"
      ],
      "metadata": {
        "id": "aiPjCnTTB639"
      }
    },
    {
      "cell_type": "code",
      "source": [
        "from keras.preprocessing.text import Tokenizer"
      ],
      "metadata": {
        "id": "lTkB5jgAxJkg"
      },
      "execution_count": 1,
      "outputs": []
    },
    {
      "cell_type": "code",
      "execution_count": 2,
      "metadata": {
        "id": "SnmfPKmkwvVC"
      },
      "outputs": [],
      "source": [
        "# przykładowy korpus zbioru recenzji\n",
        "corpus =[\n",
        "          'Never coming back!',\n",
        "          'horrible service',\n",
        "          'rude waitress',\n",
        "          'cold food',\n",
        "          'horrible food!',\n",
        "          'awesome',\n",
        "          'awesome services!',\n",
        "          'rocks',\n",
        "          'poor work',\n",
        "          'couldn\\'t have done better'\n",
        "]\n",
        "\n"
      ]
    },
    {
      "cell_type": "code",
      "source": [
        "# Zainicjowanie obiektu klasy Tokenizer i zasilenie obiektu  dokumentami, które będą  analizowane\n",
        "# parametr \"num_words\" pozostawiamy domyslny\n",
        "# zwykle przyjmuje wartośc  = MAX_WORDS\n",
        "tokenizer = Tokenizer()\n",
        "tokenizer.fit_on_texts(corpus)\n"
      ],
      "metadata": {
        "id": "UCiTFtsExDVs"
      },
      "execution_count": 3,
      "outputs": []
    },
    {
      "cell_type": "code",
      "source": [
        "# pobranie indeksów wyrazów dla całego korpusu\n",
        "word_index = tokenizer.word_index\n",
        "\n",
        "word_index"
      ],
      "metadata": {
        "colab": {
          "base_uri": "https://localhost:8080/"
        },
        "id": "-dZhp4sXxQAp",
        "outputId": "aa8405b1-bff9-4f24-ad73-d790eb21c200"
      },
      "execution_count": 4,
      "outputs": [
        {
          "output_type": "execute_result",
          "data": {
            "text/plain": [
              "{'horrible': 1,\n",
              " 'food': 2,\n",
              " 'awesome': 3,\n",
              " 'never': 4,\n",
              " 'coming': 5,\n",
              " 'back': 6,\n",
              " 'service': 7,\n",
              " 'rude': 8,\n",
              " 'waitress': 9,\n",
              " 'cold': 10,\n",
              " 'services': 11,\n",
              " 'rocks': 12,\n",
              " 'poor': 13,\n",
              " 'work': 14,\n",
              " \"couldn't\": 15,\n",
              " 'have': 16,\n",
              " 'done': 17,\n",
              " 'better': 18}"
            ]
          },
          "metadata": {},
          "execution_count": 4
        }
      ]
    },
    {
      "cell_type": "code",
      "source": [
        "# udostępnia słownik słów występujących w dokumentach oraz liczbę dokumentów, w których pojawia się każde słowo.\n",
        "# dokument tutaj jest rozumiany jako wiersz ze zmiennej \"corpus\"\n",
        "\n",
        "word_docs = tokenizer.word_docs\n",
        "\n",
        "sorted(word_docs.items())"
      ],
      "metadata": {
        "colab": {
          "base_uri": "https://localhost:8080/"
        },
        "id": "_21J5Vkd-e0w",
        "outputId": "ba34e725-29d3-42c5-eab1-ac6a47386714"
      },
      "execution_count": 5,
      "outputs": [
        {
          "output_type": "execute_result",
          "data": {
            "text/plain": [
              "[('awesome', 2),\n",
              " ('back', 1),\n",
              " ('better', 1),\n",
              " ('cold', 1),\n",
              " ('coming', 1),\n",
              " (\"couldn't\", 1),\n",
              " ('done', 1),\n",
              " ('food', 2),\n",
              " ('have', 1),\n",
              " ('horrible', 2),\n",
              " ('never', 1),\n",
              " ('poor', 1),\n",
              " ('rocks', 1),\n",
              " ('rude', 1),\n",
              " ('service', 1),\n",
              " ('services', 1),\n",
              " ('waitress', 1),\n",
              " ('work', 1)]"
            ]
          },
          "metadata": {},
          "execution_count": 5
        }
      ]
    },
    {
      "cell_type": "code",
      "source": [
        "# Pobranie  słownika słów według częstotliwości występowania w korpusie\n",
        "word_counts = tokenizer.word_counts\n",
        "\n",
        "sorted(word_counts.items())"
      ],
      "metadata": {
        "colab": {
          "base_uri": "https://localhost:8080/"
        },
        "id": "0LHkE-OV-7Jx",
        "outputId": "277138c0-73bf-400e-8c4a-bd87e4193e63"
      },
      "execution_count": 6,
      "outputs": [
        {
          "output_type": "execute_result",
          "data": {
            "text/plain": [
              "[('awesome', 2),\n",
              " ('back', 1),\n",
              " ('better', 1),\n",
              " ('cold', 1),\n",
              " ('coming', 1),\n",
              " (\"couldn't\", 1),\n",
              " ('done', 1),\n",
              " ('food', 2),\n",
              " ('have', 1),\n",
              " ('horrible', 2),\n",
              " ('never', 1),\n",
              " ('poor', 1),\n",
              " ('rocks', 1),\n",
              " ('rude', 1),\n",
              " ('service', 1),\n",
              " ('services', 1),\n",
              " ('waitress', 1),\n",
              " ('work', 1)]"
            ]
          },
          "metadata": {},
          "execution_count": 6
        }
      ]
    },
    {
      "cell_type": "code",
      "source": [
        "import numpy as np\n",
        "import numpy as np\n",
        "np.set_printoptions(linewidth=200)    # domyślnie = 75"
      ],
      "metadata": {
        "id": "VTD2z9olntN-"
      },
      "execution_count": 11,
      "outputs": []
    },
    {
      "cell_type": "code",
      "source": [
        "# Konwertuj teksty na macierz wartości binarnych\n",
        "binary_matrix = tokenizer.texts_to_matrix(corpus, mode = 'binary')\n",
        "\n",
        "\n",
        "print(binary_matrix)\n",
        "\n",
        "# otrzymujemy matrycę 10 wierszową (tyle jest zdań w korpusie)\n",
        "# omówić reprezentacje zdań z listy źródlowej:\n",
        "# 'Never coming back!'\n",
        "# 'poor work'"
      ],
      "metadata": {
        "colab": {
          "base_uri": "https://localhost:8080/"
        },
        "id": "PaXRVX4g_ViY",
        "outputId": "0da43fd4-74a3-4f48-b544-488656b9f5f5"
      },
      "execution_count": 15,
      "outputs": [
        {
          "output_type": "stream",
          "name": "stdout",
          "text": [
            "[[0. 0. 0. 0. 1. 1. 1. 0. 0. 0. 0. 0. 0. 0. 0. 0. 0. 0. 0.]\n",
            " [0. 1. 0. 0. 0. 0. 0. 1. 0. 0. 0. 0. 0. 0. 0. 0. 0. 0. 0.]\n",
            " [0. 0. 0. 0. 0. 0. 0. 0. 1. 1. 0. 0. 0. 0. 0. 0. 0. 0. 0.]\n",
            " [0. 0. 1. 0. 0. 0. 0. 0. 0. 0. 1. 0. 0. 0. 0. 0. 0. 0. 0.]\n",
            " [0. 1. 1. 0. 0. 0. 0. 0. 0. 0. 0. 0. 0. 0. 0. 0. 0. 0. 0.]\n",
            " [0. 0. 0. 1. 0. 0. 0. 0. 0. 0. 0. 0. 0. 0. 0. 0. 0. 0. 0.]\n",
            " [0. 0. 0. 1. 0. 0. 0. 0. 0. 0. 0. 1. 0. 0. 0. 0. 0. 0. 0.]\n",
            " [0. 0. 0. 0. 0. 0. 0. 0. 0. 0. 0. 0. 1. 0. 0. 0. 0. 0. 0.]\n",
            " [0. 0. 0. 0. 0. 0. 0. 0. 0. 0. 0. 0. 0. 1. 1. 0. 0. 0. 0.]\n",
            " [0. 0. 0. 0. 0. 0. 0. 0. 0. 0. 0. 0. 0. 0. 0. 1. 1. 1. 1.]]\n"
          ]
        }
      ]
    }
  ]
}