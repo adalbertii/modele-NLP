{
  "nbformat": 4,
  "nbformat_minor": 0,
  "metadata": {
    "colab": {
      "provenance": [],
      "authorship_tag": "ABX9TyOkQROBdsuvdXQaDaeIg9sL",
      "include_colab_link": true
    },
    "kernelspec": {
      "name": "python3",
      "display_name": "Python 3"
    },
    "language_info": {
      "name": "python"
    }
  },
  "cells": [
    {
      "cell_type": "markdown",
      "metadata": {
        "id": "view-in-github",
        "colab_type": "text"
      },
      "source": [
        "<a href=\"https://colab.research.google.com/github/adalbertii/modele-NLP/blob/main/RoBERTa_polish_mask_case.ipynb\" target=\"_parent\"><img src=\"https://colab.research.google.com/assets/colab-badge.svg\" alt=\"Open In Colab\"/></a>"
      ]
    },
    {
      "cell_type": "code",
      "execution_count": null,
      "metadata": {
        "id": "ly2sVt-9kmFy"
      },
      "outputs": [],
      "source": [
        "import os\n",
        "from fairseq.models.roberta import RobertaModel, RobertaHubInterface\n",
        "from fairseq import hub_utils"
      ]
    },
    {
      "cell_type": "code",
      "source": [
        "model_path = \"roberta_large_fairseq\""
      ],
      "metadata": {
        "id": "ubQXp_ezkybZ"
      },
      "execution_count": null,
      "outputs": []
    },
    {
      "cell_type": "code",
      "source": [
        "loaded = hub_utils.from_pretrained(\n",
        "    model_name_or_path=model_path,\n",
        "    data_name_or_path=model_path,\n",
        "    bpe=\"sentencepiece\",\n",
        "    sentencepiece_vocab=os.path.join(model_path, \"sentencepiece.bpe.model\"),\n",
        "    load_checkpoint_heads=True,\n",
        "    archive_map=RobertaModel.hub_models(),\n",
        "    cpu=True\n",
        ")"
      ],
      "metadata": {
        "id": "9C3NYZSak1vz"
      },
      "execution_count": null,
      "outputs": []
    },
    {
      "cell_type": "code",
      "source": [
        "roberta = RobertaHubInterface(loaded['args'], loaded['task'], loaded['models'][0])\n",
        "roberta.eval()"
      ],
      "metadata": {
        "id": "1uJSjR8ak4gV"
      },
      "execution_count": null,
      "outputs": []
    },
    {
      "cell_type": "code",
      "source": [
        "roberta.fill_mask('Druga wojna światowa zakończyła się w <mask> roku.', topk=1)\n",
        "roberta.fill_mask('Ludzie najbardziej boją się <mask>.', topk=1)"
      ],
      "metadata": {
        "id": "yjKLcC3-k7Gu"
      },
      "execution_count": null,
      "outputs": []
    },
    {
      "cell_type": "markdown",
      "source": [
        "[('Druga wojna światowa zakończyła się w 1945 roku.', 0.9345270991325378, ' 1945')]\n",
        "\n",
        "[('Ludzie najbardziej boją się śmierci.', 0.14140743017196655, ' śmierci')]\n"
      ],
      "metadata": {
        "id": "Taxw3ydxlCMW"
      }
    }
  ]
}