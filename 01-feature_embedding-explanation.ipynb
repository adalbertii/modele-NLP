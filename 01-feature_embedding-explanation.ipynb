{
  "cells": [
    {
      "cell_type": "markdown",
      "metadata": {
        "id": "1sp_AX3EFxj4"
      },
      "source": [
        "[![Open In\n",
        "Colab](https://colab.research.google.com/assets/colab-badge.svg)](https://colab.research.google.com/github/alibaba/feathub/blob/master/docs/examples/feature_embedding.ipynb)"
      ]
    },
    {
      "cell_type": "markdown",
      "metadata": {
        "id": "H3lmP_c2Fxj6"
      },
      "source": [
        "# Feature Embedding\n",
        "\n",
        "Feature embedding is a way to translate a high-dimensional feature vector to a\n",
        "lower-dimensional vector, where the embedding can be learned and reused across\n",
        "models. In this example, we show how one can define feature embeddings via\n",
        "Python UDF (User Defined Function).\n",
        "\n",
        "We use a sample hotel review dataset downloaded from [Azure-Samples\n",
        "repository](https://github.com/Azure-Samples/azure-search-sample-data). The\n",
        "original dataset can be found\n",
        "[here](https://www.kaggle.com/datasets/datafiniti/hotel-reviews).\n",
        "\n",
        "For the embedding, a pre-trained [HuggingFace Transformer\n",
        "model](https://huggingface.co/sentence-transformers) is used to encode texts\n",
        "into numerical values. The text embeddings can be used for many NLP problems\n",
        "such as detecting fake reviews, sentiment analysis, and finding similar hotels,\n",
        "but building such models is out of scope and thus we don't cover that in this\n",
        "notebook.\n",
        "\n",
        "Please feel free to view this example interactively with Colab by clicking the\n",
        "badge at the top left corner of this notebook."
      ]
    },
    {
      "cell_type": "markdown",
      "metadata": {
        "id": "HjQH4hwcFxj7"
      },
      "source": [
        "## Install dependencies\n",
        "\n",
        "Execute the following cells to install dependencies. **If the notebook is\n",
        "executed in Colab, restart the runtime after the following cells are executed,\n",
        "in order to make sure Python 3.7 is correctly configured to execute the Python\n",
        "cells.**"
      ]
    },
    {
      "cell_type": "code",
      "execution_count": 1,
      "metadata": {
        "id": "15FqfC7hFxj7",
        "outputId": "bd017e55-8671-46c0-83f4-2a571fa515b1",
        "colab": {
          "base_uri": "https://localhost:8080/"
        }
      },
      "outputs": [
        {
          "output_type": "stream",
          "name": "stdout",
          "text": [
            "Get:1 https://cloud.r-project.org/bin/linux/ubuntu jammy-cran40/ InRelease [3,626 B]\n",
            "Hit:2 https://developer.download.nvidia.com/compute/cuda/repos/ubuntu2204/x86_64  InRelease\n",
            "Hit:3 http://archive.ubuntu.com/ubuntu jammy InRelease\n",
            "Get:4 http://archive.ubuntu.com/ubuntu jammy-updates InRelease [119 kB]\n",
            "Get:5 http://security.ubuntu.com/ubuntu jammy-security InRelease [110 kB]\n",
            "Hit:6 http://archive.ubuntu.com/ubuntu jammy-backports InRelease\n",
            "Hit:7 https://ppa.launchpadcontent.net/c2d4u.team/c2d4u4.0+/ubuntu jammy InRelease\n",
            "Get:8 http://archive.ubuntu.com/ubuntu jammy-updates/main amd64 Packages [1,516 kB]\n",
            "Hit:9 https://ppa.launchpadcontent.net/deadsnakes/ppa/ubuntu jammy InRelease\n",
            "Hit:10 https://ppa.launchpadcontent.net/graphics-drivers/ppa/ubuntu jammy InRelease\n",
            "Get:11 http://archive.ubuntu.com/ubuntu jammy-updates/universe amd64 Packages [1,284 kB]\n",
            "Hit:12 https://ppa.launchpadcontent.net/ubuntugis/ppa/ubuntu jammy InRelease\n",
            "Get:13 http://security.ubuntu.com/ubuntu jammy-security/universe amd64 Packages [1,016 kB]\n",
            "Get:14 http://security.ubuntu.com/ubuntu jammy-security/main amd64 Packages [1,242 kB]\n",
            "Fetched 5,291 kB in 2s (2,255 kB/s)\n",
            "Reading package lists...\n",
            "Reading package lists...\n",
            "Building dependency tree...\n",
            "Reading state information...\n",
            "python3-apt is already the newest version (2.4.0ubuntu2).\n",
            "python3-apt set to manually installed.\n",
            "The following additional packages will be installed:\n",
            "  libpython3.7-minimal libpython3.7-stdlib mailcap mime-support\n",
            "  python3-setuptools python3-wheel python3.7-lib2to3 python3.7-minimal\n",
            "Suggested packages:\n",
            "  python-setuptools-doc python3.7-venv binfmt-support\n",
            "The following NEW packages will be installed:\n",
            "  libpython3.7-minimal libpython3.7-stdlib mailcap mime-support python3-pip\n",
            "  python3-setuptools python3-wheel python3.7 python3.7-distutils\n",
            "  python3.7-lib2to3 python3.7-minimal\n",
            "0 upgraded, 11 newly installed, 0 to remove and 24 not upgraded.\n",
            "Need to get 6,688 kB of archives.\n",
            "After this operation, 28.0 MB of additional disk space will be used.\n",
            "Get:1 http://archive.ubuntu.com/ubuntu jammy/main amd64 mailcap all 3.70+nmu1ubuntu1 [23.8 kB]\n",
            "Get:2 http://archive.ubuntu.com/ubuntu jammy/main amd64 mime-support all 3.66 [3,696 B]\n",
            "Get:3 http://archive.ubuntu.com/ubuntu jammy-updates/main amd64 python3-setuptools all 59.6.0-1.2ubuntu0.22.04.1 [339 kB]\n",
            "Get:4 http://archive.ubuntu.com/ubuntu jammy-updates/universe amd64 python3-wheel all 0.37.1-2ubuntu0.22.04.1 [32.0 kB]\n",
            "Get:5 http://archive.ubuntu.com/ubuntu jammy-updates/universe amd64 python3-pip all 22.0.2+dfsg-1ubuntu0.4 [1,305 kB]\n",
            "Get:6 https://ppa.launchpadcontent.net/deadsnakes/ppa/ubuntu jammy/main amd64 libpython3.7-minimal amd64 3.7.17-1+jammy1 [608 kB]\n",
            "Get:7 https://ppa.launchpadcontent.net/deadsnakes/ppa/ubuntu jammy/main amd64 python3.7-minimal amd64 3.7.17-1+jammy1 [1,837 kB]\n",
            "Get:8 https://ppa.launchpadcontent.net/deadsnakes/ppa/ubuntu jammy/main amd64 libpython3.7-stdlib amd64 3.7.17-1+jammy1 [1,864 kB]\n",
            "Get:9 https://ppa.launchpadcontent.net/deadsnakes/ppa/ubuntu jammy/main amd64 python3.7 amd64 3.7.17-1+jammy1 [362 kB]\n",
            "Get:10 https://ppa.launchpadcontent.net/deadsnakes/ppa/ubuntu jammy/main amd64 python3.7-lib2to3 all 3.7.17-1+jammy1 [124 kB]\n",
            "Get:11 https://ppa.launchpadcontent.net/deadsnakes/ppa/ubuntu jammy/main amd64 python3.7-distutils all 3.7.17-1+jammy1 [189 kB]\n",
            "Fetched 6,688 kB in 7s (949 kB/s)\n",
            "Selecting previously unselected package libpython3.7-minimal:amd64.\r\n",
            "(Reading database ... \r(Reading database ... 5%\r(Reading database ... 10%\r(Reading database ... 15%\r(Reading database ... 20%\r(Reading database ... 25%\r(Reading database ... 30%\r(Reading database ... 35%\r(Reading database ... 40%\r(Reading database ... 45%\r(Reading database ... 50%\r(Reading database ... 55%\r(Reading database ... 60%\r(Reading database ... 65%\r(Reading database ... 70%\r(Reading database ... 75%\r(Reading database ... 80%\r(Reading database ... 85%\r(Reading database ... 90%\r(Reading database ... 95%\r(Reading database ... 100%\r(Reading database ... 120880 files and directories currently installed.)\r\n",
            "Preparing to unpack .../00-libpython3.7-minimal_3.7.17-1+jammy1_amd64.deb ...\r\n",
            "Unpacking libpython3.7-minimal:amd64 (3.7.17-1+jammy1) ...\r\n",
            "Selecting previously unselected package python3.7-minimal.\r\n",
            "Preparing to unpack .../01-python3.7-minimal_3.7.17-1+jammy1_amd64.deb ...\r\n",
            "Unpacking python3.7-minimal (3.7.17-1+jammy1) ...\r\n",
            "Selecting previously unselected package mailcap.\r\n",
            "Preparing to unpack .../02-mailcap_3.70+nmu1ubuntu1_all.deb ...\r\n",
            "Unpacking mailcap (3.70+nmu1ubuntu1) ...\r\n",
            "Selecting previously unselected package mime-support.\r\n",
            "Preparing to unpack .../03-mime-support_3.66_all.deb ...\r\n",
            "Unpacking mime-support (3.66) ...\r\n",
            "Selecting previously unselected package libpython3.7-stdlib:amd64.\r\n",
            "Preparing to unpack .../04-libpython3.7-stdlib_3.7.17-1+jammy1_amd64.deb ...\r\n",
            "Unpacking libpython3.7-stdlib:amd64 (3.7.17-1+jammy1) ...\r\n",
            "Selecting previously unselected package python3-setuptools.\r\n",
            "Preparing to unpack .../05-python3-setuptools_59.6.0-1.2ubuntu0.22.04.1_all.deb ...\r\n",
            "Unpacking python3-setuptools (59.6.0-1.2ubuntu0.22.04.1) ...\r\n",
            "Selecting previously unselected package python3-wheel.\r\n",
            "Preparing to unpack .../06-python3-wheel_0.37.1-2ubuntu0.22.04.1_all.deb ...\r\n",
            "Unpacking python3-wheel (0.37.1-2ubuntu0.22.04.1) ...\r\n",
            "Selecting previously unselected package python3-pip.\r\n",
            "Preparing to unpack .../07-python3-pip_22.0.2+dfsg-1ubuntu0.4_all.deb ...\r\n",
            "Unpacking python3-pip (22.0.2+dfsg-1ubuntu0.4) ...\r\n",
            "Selecting previously unselected package python3.7.\r\n",
            "Preparing to unpack .../08-python3.7_3.7.17-1+jammy1_amd64.deb ...\r\n",
            "Unpacking python3.7 (3.7.17-1+jammy1) ...\r\n",
            "Selecting previously unselected package python3.7-lib2to3.\r\n",
            "Preparing to unpack .../09-python3.7-lib2to3_3.7.17-1+jammy1_all.deb ...\r\n",
            "Unpacking python3.7-lib2to3 (3.7.17-1+jammy1) ...\r\n",
            "Selecting previously unselected package python3.7-distutils.\r\n",
            "Preparing to unpack .../10-python3.7-distutils_3.7.17-1+jammy1_all.deb ...\r\n",
            "Unpacking python3.7-distutils (3.7.17-1+jammy1) ...\r\n",
            "Setting up python3-setuptools (59.6.0-1.2ubuntu0.22.04.1) ...\r\n",
            "Setting up libpython3.7-minimal:amd64 (3.7.17-1+jammy1) ...\r\n",
            "Setting up python3-wheel (0.37.1-2ubuntu0.22.04.1) ...\r\n",
            "Setting up python3-pip (22.0.2+dfsg-1ubuntu0.4) ...\r\n",
            "Setting up python3.7-minimal (3.7.17-1+jammy1) ...\r\n",
            "Setting up python3.7-lib2to3 (3.7.17-1+jammy1) ...\r\n",
            "Setting up mailcap (3.70+nmu1ubuntu1) ...\r\n",
            "Setting up mime-support (3.66) ...\r\n",
            "Setting up python3.7-distutils (3.7.17-1+jammy1) ...\r\n",
            "Setting up libpython3.7-stdlib:amd64 (3.7.17-1+jammy1) ...\r\n",
            "Setting up python3.7 (3.7.17-1+jammy1) ...\r\n",
            "Processing triggers for man-db (2.10.2-1) ...\r\n",
            "update-alternatives: using /usr/bin/python3.7 to provide /usr/bin/python3 (python3) in auto mode\n"
          ]
        },
        {
          "output_type": "stream",
          "name": "stderr",
          "text": [
            "debconf: unable to initialize frontend: Dialog\n",
            "debconf: (No usable dialog-like program is installed, so the dialog based frontend cannot be used. at /usr/share/perl5/Debconf/FrontEnd/Dialog.pm line 78, <> line 11.)\n",
            "debconf: falling back to frontend: Readline\n",
            "debconf: unable to initialize frontend: Readline\n",
            "debconf: (This frontend requires a controlling tty.)\n",
            "debconf: falling back to frontend: Teletype\n",
            "dpkg-preconfigure: unable to re-open stdin: \n"
          ]
        }
      ],
      "source": [
        "%%bash\n",
        "\n",
        "# Get the Python version string\n",
        "python_version=$(python -c \"import sys; print('.'.join(map(str, sys.version_info[:2])))\")\n",
        "\n",
        "# Define the allowed versions\n",
        "allowed_versions=(\"3.7\" \"3.8\" \"3.9\")\n",
        "\n",
        "# Check if the Python version is allowed\n",
        "if [[ ! \" ${allowed_versions[*]} \" =~ \" $python_version \" ]]; then\n",
        "    # install python 3.7\n",
        "    sudo apt-get update -y\n",
        "    sudo apt-get install python3.7 python3-pip python3.7-distutils python3-apt\n",
        "\n",
        "    # change alternatives\n",
        "    sudo update-alternatives --install /usr/bin/python3 python3 /usr/bin/python3.7 0\n",
        "    sudo update-alternatives --set python3 /usr/bin/python3.7\n",
        "fi"
      ]
    },
    {
      "cell_type": "code",
      "execution_count": null,
      "metadata": {
        "id": "DZqQgoJBFxj8"
      },
      "outputs": [],
      "source": [
        "%%bash\n",
        "feathub_dependencies=`pip list | grep feathub`\n",
        "if [[ -z \"$feathub_dependencies\" ]]; then\n",
        "    pip install \"feathub-nightly[flink]\"\n",
        "fi\n",
        "\n",
        "pip install sentence-transformers plotly matplotlib"
      ]
    },
    {
      "cell_type": "markdown",
      "metadata": {
        "id": "ZS9b6d5TFxj8"
      },
      "source": [
        "## Import Python dependencies"
      ]
    },
    {
      "cell_type": "code",
      "execution_count": null,
      "metadata": {
        "id": "46B_2k5uFxj9"
      },
      "outputs": [],
      "source": [
        "import os\n",
        "from typing import Any, List\n",
        "\n",
        "import numpy as np\n",
        "import pandas as pd\n",
        "import requests\n",
        "from sentence_transformers import SentenceTransformer\n",
        "\n",
        "from feathub.common import types\n",
        "from feathub.feathub_client import FeathubClient\n",
        "from feathub.feature_tables.sinks.memory_store_sink import MemoryStoreSink\n",
        "from feathub.feature_tables.sources.file_system_source import FileSystemSource\n",
        "from feathub.feature_tables.sources.memory_store_source import MemoryStoreSource\n",
        "from feathub.feature_views.derived_feature_view import DerivedFeatureView\n",
        "from feathub.feature_views.feature import Feature\n",
        "from feathub.feature_views.on_demand_feature_view import OnDemandFeatureView\n",
        "from feathub.feature_views.transforms.python_udf_transform import PythonUdfTransform\n",
        "from feathub.table.schema import Schema"
      ]
    },
    {
      "cell_type": "markdown",
      "metadata": {
        "id": "m4l2kmaHFxj9"
      },
      "source": [
        "## Download and preprocess resource files\n",
        "\n",
        "Download the hotel review dataset and append an incremental number column as\n",
        "review IDs."
      ]
    },
    {
      "cell_type": "code",
      "execution_count": null,
      "metadata": {
        "id": "c4KAMxqrFxj9"
      },
      "outputs": [],
      "source": [
        "source_file_name = \"HotelReviews_data.csv\"\n",
        "\n",
        "if not os.path.exists(source_file_name):\n",
        "    url = (\n",
        "        \"https://raw.githubusercontent.com/Azure-Samples/azure-search-sample-data/main/hotelreviews/\"\n",
        "        + source_file_name\n",
        "    )\n",
        "    r = requests.get(url)\n",
        "    open(source_file_name, \"wb\").write(r.content)\n",
        "    df = pd.read_csv(source_file_name)\n",
        "    os.remove(source_file_name)\n",
        "    df[\"reviews_id\"] = df.index\n",
        "    df.to_csv(source_file_name, index=False, header=False)"
      ]
    },
    {
      "cell_type": "markdown",
      "metadata": {
        "id": "8ndZM-EFFxj-"
      },
      "source": [
        "## Initialize FeatHub client"
      ]
    },
    {
      "cell_type": "code",
      "execution_count": null,
      "metadata": {
        "id": "BcbEmnQSFxj-"
      },
      "outputs": [],
      "source": [
        "client = FeathubClient(\n",
        "    props={\n",
        "        \"processor\": {\n",
        "            \"type\": \"flink\",\n",
        "            \"flink\": {\n",
        "                \"master\": \"local\",\n",
        "            },\n",
        "        },\n",
        "        \"registry\": {\n",
        "            \"type\": \"local\",\n",
        "            \"local\": {\n",
        "                \"namespace\": \"default\",\n",
        "            },\n",
        "        },\n",
        "        \"feature_service\": {\n",
        "            \"type\": \"local\",\n",
        "            \"local\": {},\n",
        "        },\n",
        "    }\n",
        ")"
      ]
    },
    {
      "cell_type": "markdown",
      "metadata": {
        "id": "OUgX2cBqFxj-"
      },
      "source": [
        "## Specify source dataset"
      ]
    },
    {
      "cell_type": "code",
      "execution_count": null,
      "metadata": {
        "id": "WfSLjvSjFxj-"
      },
      "outputs": [],
      "source": [
        "schema = (\n",
        "    Schema.new_builder()\n",
        "    .column(\"address\", types.String)\n",
        "    .column(\"categories\", types.String)\n",
        "    .column(\"city\", types.String)\n",
        "    .column(\"country\", types.String)\n",
        "    .column(\"latitude\", types.Float64)\n",
        "    .column(\"longitude\", types.Float64)\n",
        "    .column(\"name\", types.String)\n",
        "    .column(\"postalCode\", types.String)\n",
        "    .column(\"province\", types.String)\n",
        "    .column(\"reviews_date\", types.String)\n",
        "    .column(\"reviews_dateAdded\", types.String)\n",
        "    .column(\"reviews_rating\", types.Int32)\n",
        "    .column(\"reviews_text\", types.String)\n",
        "    .column(\"reviews_title\", types.String)\n",
        "    .column(\"reviews_username\", types.String)\n",
        "    .column(\"reviews_id\", types.Int32)\n",
        "    .build()\n",
        ")\n",
        "\n",
        "source = FileSystemSource(\n",
        "    name=\"source_1\",\n",
        "    path=source_file_name,\n",
        "    data_format=\"csv\",\n",
        "    schema=schema,\n",
        "    keys=[\"reviews_id\"],\n",
        ")"
      ]
    },
    {
      "cell_type": "markdown",
      "metadata": {
        "id": "3jH_BEQGFxj_"
      },
      "source": [
        "## Create feature embedding UDF\n",
        "\n",
        "Create the feature-embedding UDF from [a pretrained Transformer model from\n",
        "HuggingFace](https://huggingface.co/sentence-transformers/paraphrase-MiniLM-L6-v2)."
      ]
    },
    {
      "cell_type": "code",
      "execution_count": null,
      "metadata": {
        "id": "P3mdpgFhFxj_"
      },
      "outputs": [],
      "source": [
        "def predict_batch_udf(row: pd.Series) -> List[float]:\n",
        "    model = SentenceTransformer(\"paraphrase-MiniLM-L6-v2\")\n",
        "    return [float(x) for x in model.encode(row[\"reviews_text\"]).tolist()]"
      ]
    },
    {
      "cell_type": "markdown",
      "metadata": {
        "id": "OeZowru7Fxj_"
      },
      "source": [
        "## Build and register features"
      ]
    },
    {
      "cell_type": "code",
      "execution_count": null,
      "metadata": {
        "id": "UoLzJAiQFxj_"
      },
      "outputs": [],
      "source": [
        "feature_view = DerivedFeatureView(\n",
        "    name=\"feature_view\",\n",
        "    source=source,\n",
        "    features=[\n",
        "        Feature(\n",
        "            name=\"reviews_text_embedding\",\n",
        "            dtype=types.Float64Vector,\n",
        "            transform=PythonUdfTransform(predict_batch_udf),\n",
        "            keys=[\"reviews_id\"],\n",
        "        )\n",
        "    ],\n",
        "    keep_source_fields=True,\n",
        ")\n",
        "\n",
        "_ = client.build_features([feature_view])"
      ]
    },
    {
      "cell_type": "markdown",
      "metadata": {
        "id": "IQ9_tH5NFxj_"
      },
      "source": [
        "## Materialize features into online feature store"
      ]
    },
    {
      "cell_type": "code",
      "execution_count": null,
      "metadata": {
        "id": "6cP3WgGlFxj_"
      },
      "outputs": [],
      "source": [
        "sink = MemoryStoreSink(table_name=\"table_name_1\")\n",
        "\n",
        "job = client.materialize_features(\n",
        "    feature_descriptor=feature_view,\n",
        "    sink=sink,\n",
        "    allow_overwrite=True,\n",
        ")\n",
        "job.wait(timeout_ms=10000)"
      ]
    },
    {
      "cell_type": "markdown",
      "metadata": {
        "id": "L-k7fHGEFxkD"
      },
      "source": [
        "## Fetch features from online feature store with on-demand transformations"
      ]
    },
    {
      "cell_type": "code",
      "execution_count": null,
      "metadata": {
        "id": "k4FZNj26FxkE"
      },
      "outputs": [],
      "source": [
        "source = MemoryStoreSource(\n",
        "    name=\"online_store_source\",\n",
        "    keys=[\"reviews_id\"],\n",
        "    table_name=\"table_name_1\",\n",
        ")\n",
        "on_demand_feature_view = OnDemandFeatureView(\n",
        "    name=\"on_demand_feature_view\",\n",
        "    features=[\n",
        "        \"online_store_source.name\",\n",
        "        \"online_store_source.reviews_text\",\n",
        "        \"online_store_source.reviews_text_embedding\",\n",
        "    ],\n",
        "    request_schema=Schema.new_builder().column(\"reviews_id\", types.Int32).build(),\n",
        ")\n",
        "client.build_features([source, on_demand_feature_view])\n",
        "\n",
        "request_df = pd.DataFrame(np.array([[i] for i in range(19)]), columns=[\"reviews_id\"])\n",
        "online_features = client.get_online_features(\n",
        "    request_df=request_df,\n",
        "    feature_view=on_demand_feature_view,\n",
        ")\n",
        "\n",
        "online_features"
      ]
    },
    {
      "cell_type": "markdown",
      "metadata": {
        "id": "DuY76_oEFxkE"
      },
      "source": [
        "## Visualize online features\n",
        "\n",
        "Let's visualize the feature values. Here, we use TSNE (T-distributed Stochastic\n",
        "Neighbor Embedding) using scikit-learn to plot the vectors in 2D space."
      ]
    },
    {
      "cell_type": "code",
      "execution_count": null,
      "metadata": {
        "id": "6DcL8q3jFxkE"
      },
      "outputs": [],
      "source": [
        "import numpy as np\n",
        "import plotly.graph_objs as go\n",
        "from sklearn.manifold import TSNE\n",
        "\n",
        "\n",
        "X = np.stack(online_features[\"reviews_text_embedding\"], axis=0)\n",
        "result = TSNE(\n",
        "    n_components=2,\n",
        "    init=\"random\",\n",
        "    perplexity=10,\n",
        ").fit_transform(X)\n",
        "\n",
        "result[:10]"
      ]
    },
    {
      "cell_type": "code",
      "execution_count": null,
      "metadata": {
        "id": "v6Yj0eMoFxkF"
      },
      "outputs": [],
      "source": [
        "names = set(online_features[\"name\"])\n",
        "names"
      ]
    },
    {
      "cell_type": "code",
      "execution_count": null,
      "metadata": {
        "id": "lOhCDdFuFxkF"
      },
      "outputs": [],
      "source": [
        "fig = go.Figure()\n",
        "\n",
        "for name in names:\n",
        "    mask = online_features[\"name\"] == name\n",
        "\n",
        "    fig.add_trace(\n",
        "        go.Scatter(\n",
        "            x=result[mask, 0],\n",
        "            y=result[mask, 1],\n",
        "            name=name,\n",
        "            textposition=\"top center\",\n",
        "            mode=\"markers+text\",\n",
        "            marker={\n",
        "                \"size\": 8,\n",
        "                \"opacity\": 0.8,\n",
        "            },\n",
        "        )\n",
        "    )\n",
        "\n",
        "fig.update_layout(\n",
        "    margin={\"l\": 0, \"r\": 0, \"b\": 0, \"t\": 0},\n",
        "    showlegend=True,\n",
        "    autosize=False,\n",
        "    width=1000,\n",
        "    height=500,\n",
        ")\n",
        "fig.show()"
      ]
    }
  ],
  "metadata": {
    "kernelspec": {
      "display_name": "feathub-dev",
      "language": "python",
      "name": "python3"
    },
    "language_info": {
      "codemirror_mode": {
        "name": "ipython",
        "version": 3
      },
      "file_extension": ".py",
      "mimetype": "text/x-python",
      "name": "python",
      "nbconvert_exporter": "python",
      "pygments_lexer": "ipython3",
      "version": "3.7.9"
    },
    "colab": {
      "provenance": []
    }
  },
  "nbformat": 4,
  "nbformat_minor": 0
}