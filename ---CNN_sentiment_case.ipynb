{
  "nbformat": 4,
  "nbformat_minor": 0,
  "metadata": {
    "colab": {
      "provenance": [],
      "mount_file_id": "https://github.com/adalbertii/modele-NLP/blob/main/CNN_sentiment_case.ipynb",
      "authorship_tag": "ABX9TyOaHXdorsZ5ljY1i07/ihAH",
      "include_colab_link": true
    },
    "kernelspec": {
      "name": "python3",
      "display_name": "Python 3"
    },
    "language_info": {
      "name": "python"
    }
  },
  "cells": [
    {
      "cell_type": "markdown",
      "metadata": {
        "id": "view-in-github",
        "colab_type": "text"
      },
      "source": [
        "<a href=\"https://colab.research.google.com/github/adalbertii/modele-NLP/blob/main/---CNN_sentiment_case.ipynb\" target=\"_parent\"><img src=\"https://colab.research.google.com/assets/colab-badge.svg\" alt=\"Open In Colab\"/></a>"
      ]
    },
    {
      "cell_type": "code",
      "source": [
        "import datetime\n",
        "\n",
        "x = datetime.datetime.now()\n",
        "print(x)"
      ],
      "metadata": {
        "colab": {
          "base_uri": "https://localhost:8080/"
        },
        "id": "JG5lKKfei_Rl",
        "outputId": "15b296ed-2db0-43fe-ea14-11717b1de614"
      },
      "execution_count": 1,
      "outputs": [
        {
          "output_type": "stream",
          "name": "stdout",
          "text": [
            "2024-02-22 11:21:06.145842\n"
          ]
        }
      ]
    },
    {
      "cell_type": "code",
      "source": [
        "\n",
        "import numpy as np\n",
        "np.set_printoptions(linewidth=5000)    # domyślnie = 75"
      ],
      "metadata": {
        "id": "IOxdlYQcliVm"
      },
      "execution_count": 29,
      "outputs": []
    },
    {
      "cell_type": "code",
      "source": [
        "from google.colab import drive\n",
        "\n",
        "drive.mount('/content/drive')"
      ],
      "metadata": {
        "id": "3MJEX7A5kAT3"
      },
      "execution_count": null,
      "outputs": []
    },
    {
      "cell_type": "code",
      "execution_count": 2,
      "metadata": {
        "id": "82JwUddPd9zk"
      },
      "outputs": [],
      "source": [
        "import pandas as pd\n",
        "\n",
        "path = '/content/drive/MyDrive/dane/sentiment'\n",
        "\n",
        "filepath_dict = {'yelp': '/content/drive/MyDrive/dane/sentiment/yelp_labelled.txt',\n",
        "                 'amazon': '/content/drive/MyDrive/dane/sentiment/amazon_cells_labelled.txt',\n",
        "                 'imdb': '/content/drive/MyDrive/dane/sentiment/imdb_labelled.txt'}\n"
      ]
    },
    {
      "cell_type": "code",
      "source": [
        "\n",
        "df_list = []\n",
        "for source, filepath in filepath_dict.items():\n",
        "   df = pd.read_csv(filepath, names=['sentence', 'label'], sep='\\t')\n",
        "   # Dodaj kolejną kolumnę wypełnioną nazwą źródła\n",
        "   df['source'] = source\n",
        "   df_list.append(df)\n",
        "   df = pd.concat(df_list)\n",
        "\n"
      ],
      "metadata": {
        "id": "xbMok_oM2cAt"
      },
      "execution_count": 3,
      "outputs": []
    },
    {
      "cell_type": "code",
      "source": [
        "print(df.head(10))"
      ],
      "metadata": {
        "id": "ETMH08YH2jUQ",
        "outputId": "da2f50e5-da0c-4adc-a38d-d78e3a9a3726",
        "colab": {
          "base_uri": "https://localhost:8080/"
        }
      },
      "execution_count": 5,
      "outputs": [
        {
          "output_type": "stream",
          "name": "stdout",
          "text": [
            "                                            sentence  label source\n",
            "0                           Wow... Loved this place.      1   yelp\n",
            "1                                 Crust is not good.      0   yelp\n",
            "2          Not tasty and the texture was just nasty.      0   yelp\n",
            "3  Stopped by during the late May bank holiday of...      1   yelp\n",
            "4  The selection on the menu was great and so wer...      1   yelp\n",
            "5     Now I am getting angry and I want my damn pho.      0   yelp\n",
            "6              Honeslty it didn't taste THAT fresh.)      0   yelp\n",
            "7  The potatoes were like rubber and you could te...      0   yelp\n",
            "8                          The fries were great too.      1   yelp\n",
            "9                                     A great touch.      1   yelp\n"
          ]
        }
      ]
    },
    {
      "cell_type": "code",
      "source": [
        "df.shape"
      ],
      "metadata": {
        "id": "pUJ2PXPVAiJk",
        "outputId": "609720d8-be37-4498-8997-5937c34baeb9",
        "colab": {
          "base_uri": "https://localhost:8080/"
        }
      },
      "execution_count": 6,
      "outputs": [
        {
          "output_type": "execute_result",
          "data": {
            "text/plain": [
              "(2748, 3)"
            ]
          },
          "metadata": {},
          "execution_count": 6
        }
      ]
    },
    {
      "cell_type": "code",
      "source": [
        "from sklearn.model_selection import train_test_split\n",
        "from keras.preprocessing.text import Tokenizer\n",
        "from keras.preprocessing.sequence import pad_sequences"
      ],
      "metadata": {
        "id": "Rzhw7-hfh2DL"
      },
      "execution_count": 7,
      "outputs": []
    },
    {
      "cell_type": "code",
      "source": [
        "df_yelp = df[df['source'] == 'yelp']\n",
        "\n",
        "sentences = df_yelp['sentence'].values\n",
        "y = df_yelp['label'].values\n",
        "\n"
      ],
      "metadata": {
        "id": "dfESEX47hftn"
      },
      "execution_count": 8,
      "outputs": []
    },
    {
      "cell_type": "code",
      "source": [
        "sentences[:10]"
      ],
      "metadata": {
        "id": "KOdQNiWFA9P-",
        "outputId": "5502c08a-ff5d-47e9-a0ba-dee8fa4504dc",
        "colab": {
          "base_uri": "https://localhost:8080/"
        }
      },
      "execution_count": 12,
      "outputs": [
        {
          "output_type": "execute_result",
          "data": {
            "text/plain": [
              "array(['Wow... Loved this place.', 'Crust is not good.',\n",
              "       'Not tasty and the texture was just nasty.',\n",
              "       'Stopped by during the late May bank holiday off Rick Steve recommendation and loved it.',\n",
              "       'The selection on the menu was great and so were the prices.',\n",
              "       'Now I am getting angry and I want my damn pho.',\n",
              "       \"Honeslty it didn't taste THAT fresh.)\",\n",
              "       'The potatoes were like rubber and you could tell they had been made up ahead of time being kept under a warmer.',\n",
              "       'The fries were great too.', 'A great touch.'], dtype=object)"
            ]
          },
          "metadata": {},
          "execution_count": 12
        }
      ]
    },
    {
      "cell_type": "code",
      "source": [
        "y[:10]"
      ],
      "metadata": {
        "id": "9GlOEhLmBIaU",
        "outputId": "334b761a-04e3-494f-b840-8d62a3f3be2d",
        "colab": {
          "base_uri": "https://localhost:8080/"
        }
      },
      "execution_count": 14,
      "outputs": [
        {
          "output_type": "execute_result",
          "data": {
            "text/plain": [
              "array([1, 0, 0, 1, 1, 0, 0, 0, 1, 1])"
            ]
          },
          "metadata": {},
          "execution_count": 14
        }
      ]
    },
    {
      "cell_type": "code",
      "source": [
        "sentences_train,sentences_test,y_train,y_test = train_test_split(sentences, y,\n",
        "                                                                 test_size=0.25,\n",
        "                                                                random_state=1000)"
      ],
      "metadata": {
        "id": "dEQBtF-zh7gF"
      },
      "execution_count": 15,
      "outputs": []
    },
    {
      "cell_type": "code",
      "source": [
        "sentences_train[:10]"
      ],
      "metadata": {
        "id": "4GEYN_IQBrq1",
        "outputId": "eabd0481-cc45-4079-bf45-f5f66e0317fb",
        "colab": {
          "base_uri": "https://localhost:8080/"
        }
      },
      "execution_count": 16,
      "outputs": [
        {
          "output_type": "execute_result",
          "data": {
            "text/plain": [
              "array(['The food was barely lukewarm, so it must have been sitting waiting for the server to bring it out to us.',\n",
              "       'Sorry, I will not be getting food from here anytime soon :(',\n",
              "       'Of all the dishes, the salmon was the best, but all were great.',\n",
              "       'The fries were not hot, and neither was my burger.',\n",
              "       \"In fact I'm going to round up to 4 stars, just because she was so awesome.\",\n",
              "       'Will go back next trip out.',\n",
              "       'This was my first crawfish experience, and it was delicious!',\n",
              "       \"I could barely stomach the meal, but didn't complain because it was a business lunch.\",\n",
              "       'A great way to finish a great.',\n",
              "       'Best service and food ever, Maria our server was so good and friendly she made our day.'],\n",
              "      dtype=object)"
            ]
          },
          "metadata": {},
          "execution_count": 16
        }
      ]
    },
    {
      "cell_type": "code",
      "source": [
        "sentences_train.shape"
      ],
      "metadata": {
        "id": "sT1KNPbKCdpO",
        "outputId": "a4c55a08-7f38-4760-c490-820ab3def99f",
        "colab": {
          "base_uri": "https://localhost:8080/"
        }
      },
      "execution_count": 17,
      "outputs": [
        {
          "output_type": "execute_result",
          "data": {
            "text/plain": [
              "(750,)"
            ]
          },
          "metadata": {},
          "execution_count": 17
        }
      ]
    },
    {
      "cell_type": "code",
      "source": [
        "tokenizer = Tokenizer(num_words=5000)\n",
        "\n",
        "tokenizer.fit_on_texts(sentences_train)"
      ],
      "metadata": {
        "id": "g-e5F-BtBeJT"
      },
      "execution_count": 19,
      "outputs": []
    },
    {
      "cell_type": "code",
      "source": [
        "X_train = tokenizer.texts_to_sequences(sentences_train)\n",
        "X_test = tokenizer.texts_to_sequences(sentences_test)\n"
      ],
      "metadata": {
        "id": "wNrSO3VYB5Vs"
      },
      "execution_count": 20,
      "outputs": []
    },
    {
      "cell_type": "code",
      "source": [
        "X_train[:5]"
      ],
      "metadata": {
        "id": "xl8ZWRUpCutg",
        "outputId": "be273abf-ada6-400a-c746-ec9342e15836",
        "colab": {
          "base_uri": "https://localhost:8080/"
        }
      },
      "execution_count": 62,
      "outputs": [
        {
          "output_type": "execute_result",
          "data": {
            "text/plain": [
              "array([[  1,  10,   3, 282, 739,  25,   8, 208,  30,  64, 459, 230,  13,   1, 124,   5, 231,   8,  58,   5,  67,   0,   0,   0,   0,   0,   0,   0,   0,   0,   0,   0,   0,   0,   0,   0,   0,   0,   0,   0,   0,   0,   0,   0,   0,   0,   0,   0,   0,   0,   0,   0,   0,   0,   0,   0,   0,   0,   0,   0,   0,   0,   0,   0,   0,   0,   0,   0,   0,   0,   0,   0,   0,   0,   0,   0,   0,   0,   0,   0,   0,   0,   0,   0,   0,   0,   0,   0,   0,   0,   0,   0,   0,   0,   0,   0,   0,   0,   0,   0],\n",
              "       [740,   4,  46,  12,  20, 160,  10,  72,  35, 355, 232,   0,   0,   0,   0,   0,   0,   0,   0,   0,   0,   0,   0,   0,   0,   0,   0,   0,   0,   0,   0,   0,   0,   0,   0,   0,   0,   0,   0,   0,   0,   0,   0,   0,   0,   0,   0,   0,   0,   0,   0,   0,   0,   0,   0,   0,   0,   0,   0,   0,   0,   0,   0,   0,   0,   0,   0,   0,   0,   0,   0,   0,   0,   0,   0,   0,   0,   0,   0,   0,   0,   0,   0,   0,   0,   0,   0,   0,   0,   0,   0,   0,   0,   0,   0,   0,   0,   0,   0,   0],\n",
              "       [ 11,  43,   1, 171,   1, 283,   3,   1,  47,  26,  43,  24,  22,   0,   0,   0,   0,   0,   0,   0,   0,   0,   0,   0,   0,   0,   0,   0,   0,   0,   0,   0,   0,   0,   0,   0,   0,   0,   0,   0,   0,   0,   0,   0,   0,   0,   0,   0,   0,   0,   0,   0,   0,   0,   0,   0,   0,   0,   0,   0,   0,   0,   0,   0,   0,   0,   0,   0,   0,   0,   0,   0,   0,   0,   0,   0,   0,   0,   0,   0,   0,   0,   0,   0,   0,   0,   0,   0,   0,   0,   0,   0,   0,   0,   0,   0,   0,   0,   0,   0],\n",
              "       [  1, 233,  24,  12, 209,   2, 741,   3,  23, 125,   0,   0,   0,   0,   0,   0,   0,   0,   0,   0,   0,   0,   0,   0,   0,   0,   0,   0,   0,   0,   0,   0,   0,   0,   0,   0,   0,   0,   0,   0,   0,   0,   0,   0,   0,   0,   0,   0,   0,   0,   0,   0,   0,   0,   0,   0,   0,   0,   0,   0,   0,   0,   0,   0,   0,   0,   0,   0,   0,   0,   0,   0,   0,   0,   0,   0,   0,   0,   0,   0,   0,   0,   0,   0,   0,   0,   0,   0,   0,   0,   0,   0,   0,   0,   0,   0,   0,   0,   0,   0],\n",
              "       [ 14, 356,  83, 126,   5, 742,  59,   5, 357,  96,  41, 127, 234,   3,  25, 161,   0,   0,   0,   0,   0,   0,   0,   0,   0,   0,   0,   0,   0,   0,   0,   0,   0,   0,   0,   0,   0,   0,   0,   0,   0,   0,   0,   0,   0,   0,   0,   0,   0,   0,   0,   0,   0,   0,   0,   0,   0,   0,   0,   0,   0,   0,   0,   0,   0,   0,   0,   0,   0,   0,   0,   0,   0,   0,   0,   0,   0,   0,   0,   0,   0,   0,   0,   0,   0,   0,   0,   0,   0,   0,   0,   0,   0,   0,   0,   0,   0,   0,   0,   0]], dtype=int32)"
            ]
          },
          "metadata": {},
          "execution_count": 62
        }
      ]
    },
    {
      "cell_type": "code",
      "source": [
        "vocab_size = len(tokenizer.word_index) + 1 # Dodanie 1 z powodu zarezerwowanego indeksu 0\n",
        "vocab_size\n"
      ],
      "metadata": {
        "id": "gLWWKtuBBkBh",
        "outputId": "1686272c-811e-4d7e-f579-d0abb6fa1e12",
        "colab": {
          "base_uri": "https://localhost:8080/"
        }
      },
      "execution_count": 22,
      "outputs": [
        {
          "output_type": "execute_result",
          "data": {
            "text/plain": [
              "1747"
            ]
          },
          "metadata": {},
          "execution_count": 22
        }
      ]
    },
    {
      "cell_type": "code",
      "source": [
        "maxlen = 100\n",
        "\n",
        "X_train = pad_sequences(X_train, padding='post', maxlen=maxlen)\n",
        "X_test = pad_sequences(X_test, padding='post', maxlen=maxlen)"
      ],
      "metadata": {
        "id": "jw56RzUbDJnx"
      },
      "execution_count": 23,
      "outputs": []
    },
    {
      "cell_type": "code",
      "source": [
        "X_train[:5]"
      ],
      "metadata": {
        "id": "SdAvz8JADXAL",
        "outputId": "6c5acce9-3e6f-4f31-c41b-7c7250f907f8",
        "colab": {
          "base_uri": "https://localhost:8080/"
        }
      },
      "execution_count": 33,
      "outputs": [
        {
          "output_type": "execute_result",
          "data": {
            "text/plain": [
              "array([[  1,  10,   3, 282, 739,  25,   8, 208,  30,  64, 459, 230,  13,   1, 124,   5, 231,   8,  58,   5,  67,   0,   0,   0,   0,   0,   0,   0,   0,   0,   0,   0,   0,   0,   0,   0,   0,   0,   0,   0,   0,   0,   0,   0,   0,   0,   0,   0,   0,   0,   0,   0,   0,   0,   0,   0,   0,   0,   0,   0,   0,   0,   0,   0,   0,   0,   0,   0,   0,   0,   0,   0,   0,   0,   0,   0,   0,   0,   0,   0,   0,   0,   0,   0,   0,   0,   0,   0,   0,   0,   0,   0,   0,   0,   0,   0,   0,   0,   0,   0],\n",
              "       [740,   4,  46,  12,  20, 160,  10,  72,  35, 355, 232,   0,   0,   0,   0,   0,   0,   0,   0,   0,   0,   0,   0,   0,   0,   0,   0,   0,   0,   0,   0,   0,   0,   0,   0,   0,   0,   0,   0,   0,   0,   0,   0,   0,   0,   0,   0,   0,   0,   0,   0,   0,   0,   0,   0,   0,   0,   0,   0,   0,   0,   0,   0,   0,   0,   0,   0,   0,   0,   0,   0,   0,   0,   0,   0,   0,   0,   0,   0,   0,   0,   0,   0,   0,   0,   0,   0,   0,   0,   0,   0,   0,   0,   0,   0,   0,   0,   0,   0,   0],\n",
              "       [ 11,  43,   1, 171,   1, 283,   3,   1,  47,  26,  43,  24,  22,   0,   0,   0,   0,   0,   0,   0,   0,   0,   0,   0,   0,   0,   0,   0,   0,   0,   0,   0,   0,   0,   0,   0,   0,   0,   0,   0,   0,   0,   0,   0,   0,   0,   0,   0,   0,   0,   0,   0,   0,   0,   0,   0,   0,   0,   0,   0,   0,   0,   0,   0,   0,   0,   0,   0,   0,   0,   0,   0,   0,   0,   0,   0,   0,   0,   0,   0,   0,   0,   0,   0,   0,   0,   0,   0,   0,   0,   0,   0,   0,   0,   0,   0,   0,   0,   0,   0],\n",
              "       [  1, 233,  24,  12, 209,   2, 741,   3,  23, 125,   0,   0,   0,   0,   0,   0,   0,   0,   0,   0,   0,   0,   0,   0,   0,   0,   0,   0,   0,   0,   0,   0,   0,   0,   0,   0,   0,   0,   0,   0,   0,   0,   0,   0,   0,   0,   0,   0,   0,   0,   0,   0,   0,   0,   0,   0,   0,   0,   0,   0,   0,   0,   0,   0,   0,   0,   0,   0,   0,   0,   0,   0,   0,   0,   0,   0,   0,   0,   0,   0,   0,   0,   0,   0,   0,   0,   0,   0,   0,   0,   0,   0,   0,   0,   0,   0,   0,   0,   0,   0],\n",
              "       [ 14, 356,  83, 126,   5, 742,  59,   5, 357,  96,  41, 127, 234,   3,  25, 161,   0,   0,   0,   0,   0,   0,   0,   0,   0,   0,   0,   0,   0,   0,   0,   0,   0,   0,   0,   0,   0,   0,   0,   0,   0,   0,   0,   0,   0,   0,   0,   0,   0,   0,   0,   0,   0,   0,   0,   0,   0,   0,   0,   0,   0,   0,   0,   0,   0,   0,   0,   0,   0,   0,   0,   0,   0,   0,   0,   0,   0,   0,   0,   0,   0,   0,   0,   0,   0,   0,   0,   0,   0,   0,   0,   0,   0,   0,   0,   0,   0,   0,   0,   0]], dtype=int32)"
            ]
          },
          "metadata": {},
          "execution_count": 33
        }
      ]
    },
    {
      "cell_type": "code",
      "source": [
        "sentences_test[1]"
      ],
      "metadata": {
        "colab": {
          "base_uri": "https://localhost:8080/",
          "height": 35
        },
        "id": "rVca1jaZpPjo",
        "outputId": "eb0449b9-a4f2-454c-c18b-0a55d19bf77a"
      },
      "execution_count": 34,
      "outputs": [
        {
          "output_type": "execute_result",
          "data": {
            "text/plain": [
              "\"If you are reading this please don't go there.\""
            ],
            "application/vnd.google.colaboratory.intrinsic+json": {
              "type": "string"
            }
          },
          "metadata": {},
          "execution_count": 34
        }
      ]
    },
    {
      "cell_type": "code",
      "source": [
        "y_test[1]"
      ],
      "metadata": {
        "colab": {
          "base_uri": "https://localhost:8080/"
        },
        "id": "hpaKFxFhpYdK",
        "outputId": "c0a7a429-e804-405c-e7b9-d8decff46693"
      },
      "execution_count": 35,
      "outputs": [
        {
          "output_type": "execute_result",
          "data": {
            "text/plain": [
              "0"
            ]
          },
          "metadata": {},
          "execution_count": 35
        }
      ]
    },
    {
      "cell_type": "markdown",
      "source": [
        "**Symulacja procesu EMBEDDING**\n",
        "\n",
        "Jako autonomiczna warstwa\n",
        "W definicji samego modelu ten proces zostanie włączony jak predefiniowana warstwa"
      ],
      "metadata": {
        "id": "dVKJY5isHSO0"
      }
    },
    {
      "cell_type": "code",
      "source": [
        "import numpy as np\n",
        "\n",
        "def create_embedding_matrix(filepath, word_index, embedding_dim):\n",
        "\n",
        "    vocab_size = len(word_index) + 1\n",
        "    # Ponowne dodanie 1 z powodu zarezerwowanego indeksu 0\n",
        "    embedding_matrix = np.zeros((vocab_size, embedding_dim))\n",
        "\n",
        "    with open(filepath) as f:\n",
        "        for line in f:\n",
        "            word, *vector = line.split()\n",
        "            if word in word_index:\n",
        "                idx = word_index[word]\n",
        "                embedding_matrix[idx] = np.array(vector, dtype=np.float32)[:embedding_dim]\n",
        "\n",
        "    return embedding_matrix"
      ],
      "metadata": {
        "id": "RkRifakfi8f4"
      },
      "execution_count": 36,
      "outputs": []
    },
    {
      "cell_type": "code",
      "source": [
        "embedding_dim = 50\n",
        "embedding_matrix = create_embedding_matrix('/content/drive/MyDrive/dane/sentiment/glove.6B.50d.txt',\n",
        "                                            tokenizer.word_index,\n",
        "                                            embedding_dim)\n"
      ],
      "metadata": {
        "id": "kgkqNLs5jZcd"
      },
      "execution_count": 37,
      "outputs": []
    },
    {
      "cell_type": "code",
      "source": [
        "embedding_matrix.shape"
      ],
      "metadata": {
        "id": "ZOR8PbyLFLNt",
        "outputId": "76f3dde0-9c67-4ff0-8afd-e620408a7ca2",
        "colab": {
          "base_uri": "https://localhost:8080/"
        }
      },
      "execution_count": 38,
      "outputs": [
        {
          "output_type": "execute_result",
          "data": {
            "text/plain": [
              "(1747, 50)"
            ]
          },
          "metadata": {},
          "execution_count": 38
        }
      ]
    },
    {
      "cell_type": "code",
      "source": [
        "embedding_matrix[:5]"
      ],
      "metadata": {
        "id": "_DiJoVDdFSI8",
        "outputId": "d561753d-e249-4802-f617-0acccba4bd35",
        "colab": {
          "base_uri": "https://localhost:8080/"
        }
      },
      "execution_count": 39,
      "outputs": [
        {
          "output_type": "execute_result",
          "data": {
            "text/plain": [
              "array([[ 0.00000000e+00,  0.00000000e+00,  0.00000000e+00,  0.00000000e+00,  0.00000000e+00,  0.00000000e+00,  0.00000000e+00,  0.00000000e+00,  0.00000000e+00,  0.00000000e+00,  0.00000000e+00,  0.00000000e+00,  0.00000000e+00,  0.00000000e+00,  0.00000000e+00,  0.00000000e+00,  0.00000000e+00,  0.00000000e+00,  0.00000000e+00,  0.00000000e+00,  0.00000000e+00,  0.00000000e+00,  0.00000000e+00,  0.00000000e+00,  0.00000000e+00,  0.00000000e+00,  0.00000000e+00,  0.00000000e+00,  0.00000000e+00,  0.00000000e+00,  0.00000000e+00,  0.00000000e+00,  0.00000000e+00,  0.00000000e+00,  0.00000000e+00,  0.00000000e+00,  0.00000000e+00,  0.00000000e+00,  0.00000000e+00,  0.00000000e+00,  0.00000000e+00,  0.00000000e+00,  0.00000000e+00,  0.00000000e+00,  0.00000000e+00,  0.00000000e+00,  0.00000000e+00,  0.00000000e+00,  0.00000000e+00,  0.00000000e+00],\n",
              "       [ 4.18000013e-01,  2.49679998e-01, -4.12420005e-01,  1.21699996e-01,  3.45270008e-01, -4.44569997e-02, -4.96879995e-01, -1.78619996e-01, -6.60229998e-04, -6.56599998e-01,  2.78430015e-01, -1.47670001e-01, -5.56770027e-01,  1.46579996e-01, -9.50950012e-03,  1.16579998e-02,  1.02040000e-01, -1.27920002e-01, -8.44299972e-01, -1.21809997e-01, -1.68009996e-02, -3.32789987e-01, -1.55200005e-01, -2.31309995e-01, -1.91809997e-01, -1.88230002e+00, -7.67459989e-01,  9.90509987e-02, -4.21249986e-01, -1.95260003e-01,  4.00710011e+00, -1.85939997e-01, -5.22870004e-01, -3.16810012e-01,  5.92130003e-04,  7.44489999e-03,  1.77780002e-01, -1.58969998e-01,  1.20409997e-02, -5.42230010e-02, -2.98709989e-01, -1.57490000e-01, -3.47579986e-01, -4.56370004e-02, -4.42510009e-01,  1.87849998e-01,  2.78489990e-03, -1.84110001e-01, -1.15139998e-01, -7.85809994e-01],\n",
              "       [ 2.68180013e-01,  1.43460006e-01, -2.78770000e-01,  1.62569992e-02,  1.13839999e-01,  6.99230015e-01, -5.13320029e-01, -4.73679990e-01, -3.30749989e-01, -1.38339996e-01,  2.70200014e-01,  3.09379995e-01, -4.50120002e-01, -4.12699997e-01, -9.93200019e-02,  3.80849987e-02,  2.97490004e-02,  1.00759998e-01, -2.50580013e-01, -5.18180013e-01,  3.45580012e-01,  4.49220002e-01,  4.87910002e-01, -8.08660015e-02, -1.01209998e-01, -1.37769997e+00, -1.08659998e-01, -2.32010007e-01,  1.28389997e-02, -4.65079993e-01,  3.84629989e+00,  3.13620001e-01,  1.36429995e-01, -5.22440016e-01,  3.30199987e-01,  3.37069988e-01, -3.56009990e-01,  3.24310005e-01,  1.20410003e-01,  3.51200014e-01, -6.90430030e-02,  3.68849993e-01,  2.51679987e-01, -2.45169997e-01,  2.53809988e-01,  1.36700004e-01, -3.11780006e-01, -6.32099986e-01, -2.50279993e-01, -3.80970001e-01],\n",
              "       [ 8.68880004e-02, -1.94159999e-01, -2.42670000e-01, -3.33909988e-01,  5.67309976e-01,  3.97830009e-01, -9.78089988e-01,  3.15899998e-02, -6.14690006e-01, -3.14060003e-01,  5.61450005e-01,  1.28859997e-01, -8.41929972e-01, -4.69920009e-01,  4.70970005e-01,  2.30119992e-02, -5.96090019e-01,  2.22910002e-01, -1.16139996e+00,  3.86500001e-01,  6.74119964e-02,  4.48830009e-01,  1.73940003e-01, -5.35740018e-01,  1.79089993e-01, -2.16470003e+00, -1.28270000e-01,  2.90360004e-01, -1.50610000e-01,  3.52420002e-01,  3.12400007e+00, -9.00849998e-01, -2.56699994e-02, -4.17089999e-01,  4.05649990e-01, -2.27029994e-01,  7.68289983e-01,  6.09820008e-01,  7.00680017e-02, -1.32709995e-01, -1.20099999e-01,  9.61320028e-02, -4.39980000e-01, -4.85309988e-01, -5.18800020e-01, -3.07700008e-01, -7.50280023e-01, -7.69999981e-01,  3.94499987e-01, -1.69369996e-01],\n",
              "       [ 1.18910000e-01,  1.52549997e-01, -8.20730031e-02, -7.41439998e-01,  7.59169996e-01, -4.83280003e-01, -3.10090005e-01,  5.14760017e-01, -9.87079978e-01,  6.17570011e-04, -1.50429994e-01,  8.37700009e-01, -1.07969999e+00, -5.14599979e-01,  1.31879997e+00,  6.20069981e-01,  1.37789994e-01,  4.71080005e-01, -7.28740022e-02, -7.26750016e-01, -7.41159976e-01,  7.52629995e-01,  8.81799996e-01,  2.95610011e-01,  1.35479999e+00, -2.57010007e+00, -1.35230005e+00,  4.58799988e-01,  1.00680006e+00, -1.18560004e+00,  3.47370005e+00,  7.78980017e-01, -7.29290009e-01,  2.51020014e-01, -2.61559993e-01, -3.46839994e-01,  5.58409989e-01,  7.50980020e-01,  4.98299986e-01, -2.68229991e-01, -2.74430006e-03, -1.82980001e-02, -2.80959994e-01,  5.53179979e-01,  3.77059989e-02,  1.85550004e-01, -1.50250003e-01, -5.75119972e-01, -2.66710013e-01,  9.21209991e-01]])"
            ]
          },
          "metadata": {},
          "execution_count": 39
        }
      ]
    },
    {
      "cell_type": "markdown",
      "source": [
        "**Budowa modelu**\n",
        "\n",
        "Warstwa Embedding() zastępuje działania symulowane powyżej"
      ],
      "metadata": {
        "id": "eTqI7cvuHcuo"
      }
    },
    {
      "cell_type": "code",
      "source": [
        "from keras.models import Sequential\n",
        "from keras import layers\n"
      ],
      "metadata": {
        "id": "ek1No4-2ncLW"
      },
      "execution_count": 40,
      "outputs": []
    },
    {
      "cell_type": "code",
      "source": [
        "embedding_dim = 100\n",
        "\n",
        "model = Sequential()\n",
        "model.add(layers.Embedding(vocab_size, embedding_dim, input_length=maxlen)) # zamiast symulowanje powyżej\n",
        "model.add(layers.Conv1D(128, 5, activation='relu')) # 128 filtrów (kanałów konowlucji)\n",
        "model.add(layers.GlobalMaxPooling1D())\n",
        "model.add(layers.Dense(10, activation='relu'))\n",
        "model.add(layers.Dense(1, activation='sigmoid'))\n",
        "model.compile(optimizer='adam',\n",
        "              loss='binary_crossentropy',\n",
        "              metrics=['accuracy'])\n"
      ],
      "metadata": {
        "id": "Ae4LQUStnaz7"
      },
      "execution_count": 42,
      "outputs": []
    },
    {
      "cell_type": "code",
      "source": [
        "model.summary()"
      ],
      "metadata": {
        "colab": {
          "base_uri": "https://localhost:8080/"
        },
        "id": "rbvAn9rGnsFV",
        "outputId": "a7294fd2-b1ab-4261-9da6-9d51fc36f8b8"
      },
      "execution_count": 43,
      "outputs": [
        {
          "output_type": "stream",
          "name": "stdout",
          "text": [
            "Model: \"sequential_1\"\n",
            "_________________________________________________________________\n",
            " Layer (type)                Output Shape              Param #   \n",
            "=================================================================\n",
            " embedding_1 (Embedding)     (None, 100, 100)          174700    \n",
            "                                                                 \n",
            " conv1d_1 (Conv1D)           (None, 96, 128)           64128     \n",
            "                                                                 \n",
            " global_max_pooling1d_1 (Gl  (None, 128)               0         \n",
            " obalMaxPooling1D)                                               \n",
            "                                                                 \n",
            " dense_2 (Dense)             (None, 10)                1290      \n",
            "                                                                 \n",
            " dense_3 (Dense)             (None, 1)                 11        \n",
            "                                                                 \n",
            "=================================================================\n",
            "Total params: 240129 (938.00 KB)\n",
            "Trainable params: 240129 (938.00 KB)\n",
            "Non-trainable params: 0 (0.00 Byte)\n",
            "_________________________________________________________________\n"
          ]
        }
      ]
    },
    {
      "cell_type": "code",
      "source": [
        "from keras.utils import plot_model\n",
        "plot_model(model, to_file='model_plot01.png', show_shapes=True, show_layer_names=True)"
      ],
      "metadata": {
        "colab": {
          "base_uri": "https://localhost:8080/",
          "height": 644
        },
        "id": "bxIZfPFbngjZ",
        "outputId": "0436e4c2-4499-4522-9b8b-fc9cddc19630"
      },
      "execution_count": 44,
      "outputs": [
        {
          "output_type": "execute_result",
          "data": {
            "image/png": "[encoded data removed]",
            "text/plain": [
              "<IPython.core.display.Image object>"
            ]
          },
          "metadata": {},
          "execution_count": 44
        }
      ]
    },
    {
      "cell_type": "code",
      "source": [
        "history = model.fit(X_train, y_train,\n",
        "                    epochs=10,\n",
        "                    validation_data=(X_test, y_test),\n",
        "                    batch_size=10)"
      ],
      "metadata": {
        "colab": {
          "base_uri": "https://localhost:8080/"
        },
        "id": "bzZ_kZo7nspx",
        "outputId": "a33acbdb-7b7d-4375-ad11-b9e9522d5c19"
      },
      "execution_count": 45,
      "outputs": [
        {
          "output_type": "stream",
          "name": "stdout",
          "text": [
            "Epoch 1/10\n",
            "75/75 [==============================] - 2s 18ms/step - loss: 0.6829 - accuracy: 0.5787 - val_loss: 0.6619 - val_accuracy: 0.6720\n",
            "Epoch 2/10\n",
            "75/75 [==============================] - 1s 8ms/step - loss: 0.4989 - accuracy: 0.8640 - val_loss: 0.4812 - val_accuracy: 0.7840\n",
            "Epoch 3/10\n",
            "75/75 [==============================] - 1s 10ms/step - loss: 0.1781 - accuracy: 0.9467 - val_loss: 0.4608 - val_accuracy: 0.8160\n",
            "Epoch 4/10\n",
            "75/75 [==============================] - 1s 10ms/step - loss: 0.0541 - accuracy: 0.9867 - val_loss: 0.4612 - val_accuracy: 0.8080\n",
            "Epoch 5/10\n",
            "75/75 [==============================] - 1s 10ms/step - loss: 0.0149 - accuracy: 0.9987 - val_loss: 0.5222 - val_accuracy: 0.8000\n",
            "Epoch 6/10\n",
            "75/75 [==============================] - 1s 9ms/step - loss: 0.0050 - accuracy: 1.0000 - val_loss: 0.5603 - val_accuracy: 0.8040\n",
            "Epoch 7/10\n",
            "75/75 [==============================] - 1s 9ms/step - loss: 0.0026 - accuracy: 1.0000 - val_loss: 0.5828 - val_accuracy: 0.8080\n",
            "Epoch 8/10\n",
            "75/75 [==============================] - 1s 9ms/step - loss: 0.0017 - accuracy: 1.0000 - val_loss: 0.6088 - val_accuracy: 0.8080\n",
            "Epoch 9/10\n",
            "75/75 [==============================] - 1s 10ms/step - loss: 0.0012 - accuracy: 1.0000 - val_loss: 0.6334 - val_accuracy: 0.7960\n",
            "Epoch 10/10\n",
            "75/75 [==============================] - 1s 10ms/step - loss: 9.1339e-04 - accuracy: 1.0000 - val_loss: 0.6515 - val_accuracy: 0.8000\n"
          ]
        }
      ]
    },
    {
      "cell_type": "code",
      "source": [
        "import matplotlib.pyplot as plt\n",
        "%matplotlib inline\n",
        "\n",
        "plt.plot(history.history['accuracy'])\n",
        "plt.plot(history.history['val_accuracy'])\n",
        "plt.title('Model accuracy')\n",
        "plt.ylabel('Accuracy')\n",
        "plt.xlabel('Epoch')\n",
        "plt.legend(['Train', 'Validation'], loc='upper left')\n",
        "plt.show()"
      ],
      "metadata": {
        "colab": {
          "base_uri": "https://localhost:8080/",
          "height": 472
        },
        "id": "t8TAZGmWof4p",
        "outputId": "bb3f6ed1-d9f3-441d-a27f-abd33bea166e"
      },
      "execution_count": 46,
      "outputs": [
        {
          "output_type": "display_data",
          "data": {
            "text/plain": [
              "<Figure size 640x480 with 1 Axes>"
            ],
            "image/png": "[encoded data removed]"
          },
          "metadata": {}
        }
      ]
    },
    {
      "cell_type": "code",
      "source": [
        "# predykcja dla całego zbioru testowego\n",
        "Y_pred = model.predict(X_test)"
      ],
      "metadata": {
        "id": "qYo1vdddIC96",
        "outputId": "9356daaf-eb33-47e3-9071-1a7446e8de67",
        "colab": {
          "base_uri": "https://localhost:8080/"
        }
      },
      "execution_count": 47,
      "outputs": [
        {
          "output_type": "stream",
          "name": "stdout",
          "text": [
            "8/8 [==============================] - 0s 9ms/step\n"
          ]
        }
      ]
    },
    {
      "cell_type": "code",
      "source": [
        "# Raport klasyfikacji\n",
        "\n",
        "from sklearn.metrics import classification_report\n",
        "yy=Y_pred.round()\n",
        "\n",
        "print(classification_report(y_test, yy))"
      ],
      "metadata": {
        "id": "C-8yylJxMpIM",
        "outputId": "e2269e7c-97a5-4efa-8777-8cfbe8a91256",
        "colab": {
          "base_uri": "https://localhost:8080/"
        }
      },
      "execution_count": 61,
      "outputs": [
        {
          "output_type": "stream",
          "name": "stdout",
          "text": [
            "              precision    recall  f1-score   support\n",
            "\n",
            "           0       0.78      0.82      0.80       120\n",
            "           1       0.82      0.78      0.80       130\n",
            "\n",
            "    accuracy                           0.80       250\n",
            "   macro avg       0.80      0.80      0.80       250\n",
            "weighted avg       0.80      0.80      0.80       250\n",
            "\n"
          ]
        }
      ]
    }
  ]
}