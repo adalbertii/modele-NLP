{
  "nbformat": 4,
  "nbformat_minor": 0,
  "metadata": {
    "colab": {
      "provenance": [],
      "history_visible": true,
      "gpuType": "T4",
      "mount_file_id": "1xt9hJuN-sRQd9av9jp9A7kr4YrdsTx7t",
      "authorship_tag": "ABX9TyNa+aQCfZQezmn6DuqReL0G",
      "include_colab_link": true
    },
    "kernelspec": {
      "name": "python3",
      "display_name": "Python 3"
    },
    "language_info": {
      "name": "python"
    },
    "accelerator": "GPU"
  },
  "cells": [
    {
      "cell_type": "markdown",
      "metadata": {
        "id": "view-in-github",
        "colab_type": "text"
      },
      "source": [
        "<a href=\"https://colab.research.google.com/github/adalbertii/modele-NLP/blob/main/word2vec_case.ipynb\" target=\"_parent\"><img src=\"https://colab.research.google.com/assets/colab-badge.svg\" alt=\"Open In Colab\"/></a>"
      ]
    },
    {
      "cell_type": "markdown",
      "source": [
        "\n",
        "\n",
        "Model wstepnie wytrenowany : gensim\n",
        "- https://radimrehurek.com/gensim/\n",
        "\n",
        "Wykorzystany w procesie uczenia modelu \"gensim\" zbiór danych:  \n",
        "- http://kavita-ganesan.com/entity-ranking-data/"
      ],
      "metadata": {
        "id": "ZxGbU3-xPCyX"
      }
    },
    {
      "cell_type": "code",
      "execution_count": 37,
      "metadata": {
        "id": "w2CgXseXyhF7"
      },
      "outputs": [],
      "source": [
        "import gzip\n",
        "import gensim"
      ]
    },
    {
      "cell_type": "code",
      "source": [
        "data_file=\"/content/drive/MyDrive/dane/word2vec/reviews_data.txt.gz\"\n",
        "\n",
        "with gzip.open (data_file, 'rb') as f:\n",
        "    for i,line in enumerate (f):\n",
        "        print(line)\n",
        "        break\n"
      ],
      "metadata": {
        "colab": {
          "base_uri": "https://localhost:8080/"
        },
        "id": "w1sBEZnCy1TN",
        "outputId": "4143bd2d-7544-4591-a604-5d3f3662ab60"
      },
      "execution_count": 38,
      "outputs": [
        {
          "output_type": "stream",
          "name": "stdout",
          "text": [
            "b\"Oct 12 2009 \\tNice trendy hotel location not too bad.\\tI stayed in this hotel for one night. As this is a fairly new place some of the taxi drivers did not know where it was and/or did not want to drive there. Once I have eventually arrived at the hotel, I was very pleasantly surprised with the decor of the lobby/ground floor area. It was very stylish and modern. I found the reception's staff geeting me with 'Aloha' a bit out of place, but I guess they are briefed to say that to keep up the coroporate image.As I have a Starwood Preferred Guest member, I was given a small gift upon-check in. It was only a couple of fridge magnets in a gift box, but nevertheless a nice gesture.My room was nice and roomy, there are tea and coffee facilities in each room and you get two complimentary bottles of water plus some toiletries by 'bliss'.The location is not great. It is at the last metro stop and you then need to take a taxi, but if you are not planning on going to see the historic sites in Beijing, then you will be ok.I chose to have some breakfast in the hotel, which was really tasty and there was a good selection of dishes. There are a couple of computers to use in the communal area, as well as a pool table. There is also a small swimming pool and a gym area.I would definitely stay in this hotel again, but only if I did not plan to travel to central Beijing, as it can take a long time. The location is ok if you plan to do a lot of shopping, as there is a big shopping centre just few minutes away from the hotel and there are plenty of eating options around, including restaurants that serve a dog meat!\\t\\r\\n\"\n"
          ]
        }
      ]
    },
    {
      "cell_type": "code",
      "source": [
        "print(line[:150])"
      ],
      "metadata": {
        "colab": {
          "base_uri": "https://localhost:8080/"
        },
        "id": "vp-qb7AkLD6o",
        "outputId": "416ad43e-4bdf-4702-c487-1eeb857921c8"
      },
      "execution_count": 39,
      "outputs": [
        {
          "output_type": "stream",
          "name": "stdout",
          "text": [
            "b'Oct 12 2009 \\tNice trendy hotel location not too bad.\\tI stayed in this hotel for one night. As this is a fairly new place some of the taxi drivers did '\n"
          ]
        }
      ]
    },
    {
      "cell_type": "code",
      "source": [
        "def read_input(input_file):\n",
        "    \"\"\"Metoda odczytuje plik wejściowy w formacie gzip\"\"\"\n",
        "\n",
        "    print(\"odczyt pliku {0}...to może zająć trochę czasu\".format(input_file))\n",
        "\n",
        "    with gzip.open (input_file, 'rb') as f:\n",
        "        for i, line in enumerate (f):\n",
        "\n",
        "            if (i%10000==0):\n",
        "                print (\"odczytano {0} opinii\".format (i))\n",
        "            # wykonaj wstępne przetwarzanie i zwróć listę słów dla każdego tekstu recenzji\n",
        "            yield gensim.utils.simple_preprocess (line)\n",
        "\n",
        "\n",
        "\n",
        "# Instrukcja Yield wstrzymuje wykonywanie funkcji i wysyła wartość z powrotem do funkcji wywołującej, ale zachowuje stan,\n",
        "# aby umożliwić wznowienie funkcji od miejsca, w którym została przerwana.\n",
        "# Po wznowieniu działania funkcja kontynuuje wykonywanie\n",
        "# Dzięki temu kod może generować w czasie serię wartości, zamiast wyznaczać je na raz i wysyłać z powrotem w formie listy."
      ],
      "metadata": {
        "id": "AQTrgxH_0ahJ"
      },
      "execution_count": 40,
      "outputs": []
    },
    {
      "cell_type": "code",
      "source": [
        "# odczyt stokenizowanych opinii do listy\n",
        "# każdy element opinii  staje się serią słów\n",
        "#, więc budujemy listę list\n",
        "\n",
        "documents = list (read_input (data_file))\n",
        "print (\"Odczyt danych  z pliku zakńczony \")"
      ],
      "metadata": {
        "id": "md9ZwzBz0dc5"
      },
      "execution_count": null,
      "outputs": []
    },
    {
      "cell_type": "code",
      "source": [
        "# budowa modelu\n",
        "# przy zainicjowanym T4 GPU procesorze zajmuje to około 30 minut\n",
        "\n",
        "model = gensim.models.Word2Vec(documents, window=10, min_count=2, workers=10)\n",
        "model.train(documents,total_examples=len(documents),epochs=10)"
      ],
      "metadata": {
        "id": "qbZ92qqS0r1X"
      },
      "execution_count": 10,
      "outputs": []
    },
    {
      "cell_type": "code",
      "source": [
        "model.save('/content/drive/MyDrive/dane/modele/mymodel-wor2vec')"
      ],
      "metadata": {
        "id": "usOHd9Z37GdM"
      },
      "execution_count": 13,
      "outputs": []
    },
    {
      "cell_type": "code",
      "source": [
        "new_model = gensim.models.Word2Vec.load('/content/drive/MyDrive/dane/modele/mymodel-wor2vec')"
      ],
      "metadata": {
        "id": "u5JC6zjc7tzJ"
      },
      "execution_count": 14,
      "outputs": []
    },
    {
      "cell_type": "code",
      "source": [
        "# wyszukiwania słów podobnych do słowa 'dirty;\n",
        "# Spowoduje to zwrócenie 10 najpopularniejszych, podobnych słów.\n",
        "\n",
        "w1 = \"dirty\"\n",
        "new_model.wv.most_similar (positive=w1)"
      ],
      "metadata": {
        "colab": {
          "base_uri": "https://localhost:8080/"
        },
        "id": "UJEHsByN7z2L",
        "outputId": "a183d088-4c76-4356-dc59-1ce4a9642c0e"
      },
      "execution_count": 15,
      "outputs": [
        {
          "output_type": "execute_result",
          "data": {
            "text/plain": [
              "[('filthy', 0.8984195590019226),\n",
              " ('grubby', 0.8221594095230103),\n",
              " ('smelly', 0.8083983063697815),\n",
              " ('unclean', 0.807628870010376),\n",
              " ('stained', 0.8064349293708801),\n",
              " ('dusty', 0.800523042678833),\n",
              " ('dingy', 0.7889810800552368),\n",
              " ('gross', 0.7759803533554077),\n",
              " ('mouldy', 0.7633497714996338),\n",
              " ('soiled', 0.7610918879508972)]"
            ]
          },
          "metadata": {},
          "execution_count": 15
        }
      ]
    },
    {
      "cell_type": "code",
      "source": [
        "# wyszukanie 6 podobnych słów do słowa 'polite'\n",
        "\n",
        "w1 = [\"polite\"]\n",
        "new_model.wv.most_similar (positive=w1,topn=6)"
      ],
      "metadata": {
        "colab": {
          "base_uri": "https://localhost:8080/"
        },
        "id": "gOOwU3dD8B6m",
        "outputId": "196de751-20a9-4524-fe88-b5f6056290a6"
      },
      "execution_count": 16,
      "outputs": [
        {
          "output_type": "execute_result",
          "data": {
            "text/plain": [
              "[('courteous', 0.9318776726722717),\n",
              " ('friendly', 0.8612350225448608),\n",
              " ('cordial', 0.8443536758422852),\n",
              " ('curteous', 0.828039824962616),\n",
              " ('professional', 0.8158765435218811),\n",
              " ('attentive', 0.8073211312294006)]"
            ]
          },
          "metadata": {},
          "execution_count": 16
        }
      ]
    },
    {
      "cell_type": "code",
      "source": [
        "# # wyszukanie 6 podobnych słów do słowa 'france'\n",
        "w1 = [\"france\"]\n",
        "model.wv.most_similar (positive=w1,topn=6)\n"
      ],
      "metadata": {
        "colab": {
          "base_uri": "https://localhost:8080/"
        },
        "id": "gg_0czGb8Lqq",
        "outputId": "65103697-fd03-4f65-a01c-35bc072bcc3d"
      },
      "execution_count": 17,
      "outputs": [
        {
          "output_type": "execute_result",
          "data": {
            "text/plain": [
              "[('germany', 0.7637171745300293),\n",
              " ('spain', 0.7122423052787781),\n",
              " ('hawaii', 0.7105596661567688),\n",
              " ('russia', 0.710435688495636),\n",
              " ('canada', 0.6956576108932495),\n",
              " ('austria', 0.6877645254135132)]"
            ]
          },
          "metadata": {},
          "execution_count": 17
        }
      ]
    },
    {
      "cell_type": "code",
      "source": [
        "# wyszukanie 6 podobnych słów do słowa 'shocked'\n",
        "w1 = [\"shocked\"]\n",
        "model.wv.most_similar (positive=w1,topn=6)"
      ],
      "metadata": {
        "colab": {
          "base_uri": "https://localhost:8080/"
        },
        "id": "PPL-Wcw-8TCP",
        "outputId": "d5d4229b-398f-43eb-ff51-a1c139ce86d3"
      },
      "execution_count": 18,
      "outputs": [
        {
          "output_type": "execute_result",
          "data": {
            "text/plain": [
              "[('horrified', 0.8368116617202759),\n",
              " ('amazed', 0.8187119960784912),\n",
              " ('dismayed', 0.7783960700035095),\n",
              " ('appalled', 0.7749536633491516),\n",
              " ('astounded', 0.7728244662284851),\n",
              " ('astonished', 0.7671551704406738)]"
            ]
          },
          "metadata": {},
          "execution_count": 18
        }
      ]
    },
    {
      "cell_type": "code",
      "source": [
        "# wyznaczenie podobieństwa dwóch słów\n",
        "model.wv.similarity(w1=\"dirty\",w2=\"smelly\")\n"
      ],
      "metadata": {
        "colab": {
          "base_uri": "https://localhost:8080/"
        },
        "id": "-kagjgvW8aFb",
        "outputId": "c6036987-ba0a-4b56-e9cd-bfc6d5f20ad9"
      },
      "execution_count": 19,
      "outputs": [
        {
          "output_type": "execute_result",
          "data": {
            "text/plain": [
              "0.8083983"
            ]
          },
          "metadata": {},
          "execution_count": 19
        }
      ]
    },
    {
      "cell_type": "code",
      "source": [
        "# podobieństwo poiędzzy dwoma identycznymi wyrazami\n",
        "model.wv.similarity(w1=\"dirty\",w2=\"dirty\")"
      ],
      "metadata": {
        "colab": {
          "base_uri": "https://localhost:8080/"
        },
        "id": "jkXj5oI_8ubl",
        "outputId": "44ef76a4-70c7-410f-c505-865ca6f4b045"
      },
      "execution_count": 20,
      "outputs": [
        {
          "output_type": "execute_result",
          "data": {
            "text/plain": [
              "1.0"
            ]
          },
          "metadata": {},
          "execution_count": 20
        }
      ]
    },
    {
      "cell_type": "code",
      "source": [
        "# similarity between two unrelated words\n",
        "model.wv.similarity(w1=\"dirty\",w2=\"clean\")"
      ],
      "metadata": {
        "colab": {
          "base_uri": "https://localhost:8080/"
        },
        "id": "V7f_-AUB8zEt",
        "outputId": "4d606fe6-93b0-4c37-8038-25c88500ba26"
      },
      "execution_count": 21,
      "outputs": [
        {
          "output_type": "execute_result",
          "data": {
            "text/plain": [
              "0.28794798"
            ]
          },
          "metadata": {},
          "execution_count": 21
        }
      ]
    },
    {
      "cell_type": "code",
      "source": [
        "# jaka jest liczba wyrazów w modelu (korpusie modelu)\n",
        "new_model.corpus_total_words"
      ],
      "metadata": {
        "colab": {
          "base_uri": "https://localhost:8080/"
        },
        "id": "UCReY7GzIf7c",
        "outputId": "a69555ba-2a75-4c2d-d04d-3cf851fe2a3b"
      },
      "execution_count": 29,
      "outputs": [
        {
          "output_type": "execute_result",
          "data": {
            "text/plain": [
              "41519359"
            ]
          },
          "metadata": {},
          "execution_count": 29
        }
      ]
    },
    {
      "cell_type": "code",
      "source": [],
      "metadata": {
        "colab": {
          "base_uri": "https://localhost:8080/"
        },
        "id": "TUV73kRIIxaB",
        "outputId": "efb7f9ab-a550-4b69-c995-32efc0cf05ee"
      },
      "execution_count": 31,
      "outputs": [
        {
          "output_type": "execute_result",
          "data": {
            "text/plain": [
              "0.001"
            ]
          },
          "metadata": {},
          "execution_count": 31
        }
      ]
    },
    {
      "cell_type": "markdown",
      "source": [
        "**Testowanie gotowego modelu gensim**"
      ],
      "metadata": {
        "id": "uTitMlk8X6uf"
      }
    },
    {
      "cell_type": "code",
      "source": [
        "import gensim.downloader as api\n",
        "\n",
        "info = api.info()  # show info about available models/datasets\n"
      ],
      "metadata": {
        "id": "88xmA5HHVhC_"
      },
      "execution_count": 41,
      "outputs": []
    },
    {
      "cell_type": "code",
      "source": [
        "print(info)"
      ],
      "metadata": {
        "id": "mVGJibpAVwy7",
        "outputId": "ba986b74-1921-4349-de7a-e7cdeb810b00",
        "colab": {
          "base_uri": "https://localhost:8080/"
        }
      },
      "execution_count": 45,
      "outputs": [
        {
          "output_type": "stream",
          "name": "stdout",
          "text": [
            "{'corpora': {'semeval-2016-2017-task3-subtaskBC': {'num_records': -1, 'record_format': 'dict', 'file_size': 6344358, 'reader_code': 'https://github.com/RaRe-Technologies/gensim-data/releases/download/semeval-2016-2017-task3-subtaskB-eng/__init__.py', 'license': 'All files released for the task are free for general research use', 'fields': {'2016-train': ['...'], '2016-dev': ['...'], '2017-test': ['...'], '2016-test': ['...']}, 'description': 'SemEval 2016 / 2017 Task 3 Subtask B and C datasets contain train+development (317 original questions, 3,169 related questions, and 31,690 comments), and test datasets in English. The description of the tasks and the collected data is given in sections 3 and 4.1 of the task paper http://alt.qcri.org/semeval2016/task3/data/uploads/semeval2016-task3-report.pdf linked in section “Papers” of https://github.com/RaRe-Technologies/gensim-data/issues/18.', 'checksum': '701ea67acd82e75f95e1d8e62fb0ad29', 'file_name': 'semeval-2016-2017-task3-subtaskBC.gz', 'read_more': ['http://alt.qcri.org/semeval2017/task3/', 'http://alt.qcri.org/semeval2017/task3/data/uploads/semeval2017-task3.pdf', 'https://github.com/RaRe-Technologies/gensim-data/issues/18', 'https://github.com/Witiko/semeval-2016_2017-task3-subtaskB-english'], 'parts': 1}, 'semeval-2016-2017-task3-subtaskA-unannotated': {'num_records': 189941, 'record_format': 'dict', 'file_size': 234373151, 'reader_code': 'https://github.com/RaRe-Technologies/gensim-data/releases/download/semeval-2016-2017-task3-subtaskA-unannotated-eng/__init__.py', 'license': 'These datasets are free for general research use.', 'fields': {'THREAD_SEQUENCE': '', 'RelQuestion': {'RELQ_CATEGORY': 'question category, according to the Qatar Living taxonomy', 'RELQ_DATE': 'date of posting', 'RELQ_ID': 'question indentifier', 'RELQ_USERID': 'identifier of the user asking the question', 'RELQ_USERNAME': 'name of the user asking the question', 'RelQBody': 'body of question', 'RelQSubject': 'subject of question'}, 'RelComments': [{'RelCText': 'text of answer', 'RELC_USERID': 'identifier of the user posting the comment', 'RELC_ID': 'comment identifier', 'RELC_USERNAME': 'name of the user posting the comment', 'RELC_DATE': 'date of posting'}]}, 'description': 'SemEval 2016 / 2017 Task 3 Subtask A unannotated dataset contains 189,941 questions and 1,894,456 comments in English collected from the Community Question Answering (CQA) web forum of Qatar Living. These can be used as a corpus for language modelling.', 'checksum': '2de0e2f2c4f91c66ae4fcf58d50ba816', 'file_name': 'semeval-2016-2017-task3-subtaskA-unannotated.gz', 'read_more': ['http://alt.qcri.org/semeval2016/task3/', 'http://alt.qcri.org/semeval2016/task3/data/uploads/semeval2016-task3-report.pdf', 'https://github.com/RaRe-Technologies/gensim-data/issues/18', 'https://github.com/Witiko/semeval-2016_2017-task3-subtaskA-unannotated-english'], 'parts': 1}, 'patent-2017': {'num_records': 353197, 'record_format': 'dict', 'file_size': 3087262469, 'reader_code': 'https://github.com/RaRe-Technologies/gensim-data/releases/download/patent-2017/__init__.py', 'license': 'not found', 'description': \"Patent Grant Full Text. Contains the full text including tables, sequence data and 'in-line' mathematical expressions of each patent grant issued in 2017.\", 'checksum-0': '818501f0b9af62d3b88294d86d509f8f', 'checksum-1': '66c05635c1d3c7a19b4a335829d09ffa', 'file_name': 'patent-2017.gz', 'read_more': ['http://patents.reedtech.com/pgrbft.php'], 'parts': 2}, 'quora-duplicate-questions': {'num_records': 404290, 'record_format': 'dict', 'file_size': 21684784, 'reader_code': 'https://github.com/RaRe-Technologies/gensim-data/releases/download/quora-duplicate-questions/__init__.py', 'license': 'probably https://www.quora.com/about/tos', 'fields': {'question1': 'the full text of each question', 'question2': 'the full text of each question', 'qid1': 'unique ids of each question', 'qid2': 'unique ids of each question', 'id': 'the id of a training set question pair', 'is_duplicate': 'the target variable, set to 1 if question1 and question2 have essentially the same meaning, and 0 otherwise'}, 'description': 'Over 400,000 lines of potential question duplicate pairs. Each line contains IDs for each question in the pair, the full text for each question, and a binary value that indicates whether the line contains a duplicate pair or not.', 'checksum': 'd7cfa7fbc6e2ec71ab74c495586c6365', 'file_name': 'quora-duplicate-questions.gz', 'read_more': ['https://data.quora.com/First-Quora-Dataset-Release-Question-Pairs'], 'parts': 1}, 'wiki-english-20171001': {'num_records': 4924894, 'record_format': 'dict', 'file_size': 6516051717, 'reader_code': 'https://github.com/RaRe-Technologies/gensim-data/releases/download/wiki-english-20171001/__init__.py', 'license': 'https://dumps.wikimedia.org/legal.html', 'fields': {'section_texts': 'list of body of sections', 'section_titles': 'list of titles of sections', 'title': 'Title of wiki article'}, 'description': 'Extracted Wikipedia dump from October 2017. Produced by `python -m gensim.scripts.segment_wiki -f enwiki-20171001-pages-articles.xml.bz2 -o wiki-en.gz`', 'checksum-0': 'a7d7d7fd41ea7e2d7fa32ec1bb640d71', 'checksum-1': 'b2683e3356ffbca3b6c2dca6e9801f9f', 'checksum-2': 'c5cde2a9ae77b3c4ebce804f6df542c2', 'checksum-3': '00b71144ed5e3aeeb885de84f7452b81', 'file_name': 'wiki-english-20171001.gz', 'read_more': ['https://dumps.wikimedia.org/enwiki/20171001/'], 'parts': 4}, 'text8': {'num_records': 1701, 'record_format': 'list of str (tokens)', 'file_size': 33182058, 'reader_code': 'https://github.com/RaRe-Technologies/gensim-data/releases/download/text8/__init__.py', 'license': 'not found', 'description': 'First 100,000,000 bytes of plain text from Wikipedia. Used for testing purposes; see wiki-english-* for proper full Wikipedia datasets.', 'checksum': '68799af40b6bda07dfa47a32612e5364', 'file_name': 'text8.gz', 'read_more': ['http://mattmahoney.net/dc/textdata.html'], 'parts': 1}, 'fake-news': {'num_records': 12999, 'record_format': 'dict', 'file_size': 20102776, 'reader_code': 'https://github.com/RaRe-Technologies/gensim-data/releases/download/fake-news/__init__.py', 'license': 'https://creativecommons.org/publicdomain/zero/1.0/', 'fields': {'crawled': 'date the story was archived', 'ord_in_thread': '', 'published': 'date published', 'participants_count': 'number of participants', 'shares': 'number of Facebook shares', 'replies_count': 'number of replies', 'main_img_url': 'image from story', 'spam_score': 'data from webhose.io', 'uuid': 'unique identifier', 'language': 'data from webhose.io', 'title': 'title of story', 'country': 'data from webhose.io', 'domain_rank': 'data from webhose.io', 'author': 'author of story', 'comments': 'number of Facebook comments', 'site_url': 'site URL from BS detector', 'text': 'text of story', 'thread_title': '', 'type': 'type of website (label from BS detector)', 'likes': 'number of Facebook likes'}, 'description': \"News dataset, contains text and metadata from 244 websites and represents 12,999 posts in total from a specific window of 30 days. The data was pulled using the webhose.io API, and because it's coming from their crawler, not all websites identified by their BS Detector are present in this dataset. Data sources that were missing a label were simply assigned a label of 'bs'. There are (ostensibly) no genuine, reliable, or trustworthy news sources represented in this dataset (so far), so don't trust anything you read.\", 'checksum': '5e64e942df13219465927f92dcefd5fe', 'file_name': 'fake-news.gz', 'read_more': ['https://www.kaggle.com/mrisdal/fake-news'], 'parts': 1}, '20-newsgroups': {'num_records': 18846, 'record_format': 'dict', 'file_size': 14483581, 'reader_code': 'https://github.com/RaRe-Technologies/gensim-data/releases/download/20-newsgroups/__init__.py', 'license': 'not found', 'fields': {'topic': 'name of topic (20 variant of possible values)', 'set': \"marker of original split (possible values 'train' and 'test')\", 'data': '', 'id': 'original id inferred from folder name'}, 'description': 'The notorious collection of approximately 20,000 newsgroup posts, partitioned (nearly) evenly across 20 different newsgroups.', 'checksum': 'c92fd4f6640a86d5ba89eaad818a9891', 'file_name': '20-newsgroups.gz', 'read_more': ['http://qwone.com/~jason/20Newsgroups/'], 'parts': 1}, '__testing_matrix-synopsis': {'description': '[THIS IS ONLY FOR TESTING] Synopsis of the movie matrix.', 'checksum': '1767ac93a089b43899d54944b07d9dc5', 'file_name': '__testing_matrix-synopsis.gz', 'read_more': ['http://www.imdb.com/title/tt0133093/plotsummary?ref_=ttpl_pl_syn#synopsis'], 'parts': 1}, '__testing_multipart-matrix-synopsis': {'description': '[THIS IS ONLY FOR TESTING] Synopsis of the movie matrix.', 'checksum-0': 'c8b0c7d8cf562b1b632c262a173ac338', 'checksum-1': '5ff7fc6818e9a5d9bc1cf12c35ed8b96', 'checksum-2': '966db9d274d125beaac7987202076cba', 'file_name': '__testing_multipart-matrix-synopsis.gz', 'read_more': ['http://www.imdb.com/title/tt0133093/plotsummary?ref_=ttpl_pl_syn#synopsis'], 'parts': 3}}, 'models': {'fasttext-wiki-news-subwords-300': {'num_records': 999999, 'file_size': 1005007116, 'base_dataset': 'Wikipedia 2017, UMBC webbase corpus and statmt.org news dataset (16B tokens)', 'reader_code': 'https://github.com/RaRe-Technologies/gensim-data/releases/download/fasttext-wiki-news-subwords-300/__init__.py', 'license': 'https://creativecommons.org/licenses/by-sa/3.0/', 'parameters': {'dimension': 300}, 'description': '1 million word vectors trained on Wikipedia 2017, UMBC webbase corpus and statmt.org news dataset (16B tokens).', 'read_more': ['https://fasttext.cc/docs/en/english-vectors.html', 'https://arxiv.org/abs/1712.09405', 'https://arxiv.org/abs/1607.01759'], 'checksum': 'de2bb3a20c46ce65c9c131e1ad9a77af', 'file_name': 'fasttext-wiki-news-subwords-300.gz', 'parts': 1}, 'conceptnet-numberbatch-17-06-300': {'num_records': 1917247, 'file_size': 1225497562, 'base_dataset': 'ConceptNet, word2vec, GloVe, and OpenSubtitles 2016', 'reader_code': 'https://github.com/RaRe-Technologies/gensim-data/releases/download/conceptnet-numberbatch-17-06-300/__init__.py', 'license': 'https://github.com/commonsense/conceptnet-numberbatch/blob/master/LICENSE.txt', 'parameters': {'dimension': 300}, 'description': 'ConceptNet Numberbatch consists of state-of-the-art semantic vectors (also known as word embeddings) that can be used directly as a representation of word meanings or as a starting point for further machine learning. ConceptNet Numberbatch is part of the ConceptNet open data project. ConceptNet provides lots of ways to compute with word meanings, one of which is word embeddings. ConceptNet Numberbatch is a snapshot of just the word embeddings. It is built using an ensemble that combines data from ConceptNet, word2vec, GloVe, and OpenSubtitles 2016, using a variation on retrofitting.', 'read_more': ['http://aaai.org/ocs/index.php/AAAI/AAAI17/paper/view/14972', 'https://github.com/commonsense/conceptnet-numberbatch', 'http://conceptnet.io/'], 'checksum': 'fd642d457adcd0ea94da0cd21b150847', 'file_name': 'conceptnet-numberbatch-17-06-300.gz', 'parts': 1}, 'word2vec-ruscorpora-300': {'num_records': 184973, 'file_size': 208427381, 'base_dataset': 'Russian National Corpus (about 250M words)', 'reader_code': 'https://github.com/RaRe-Technologies/gensim-data/releases/download/word2vec-ruscorpora-300/__init__.py', 'license': 'https://creativecommons.org/licenses/by/4.0/deed.en', 'parameters': {'dimension': 300, 'window_size': 10}, 'description': 'Word2vec Continuous Skipgram vectors trained on full Russian National Corpus (about 250M words). The model contains 185K words.', 'preprocessing': 'The corpus was lemmatized and tagged with Universal PoS', 'read_more': ['https://www.academia.edu/24306935/WebVectors_a_Toolkit_for_Building_Web_Interfaces_for_Vector_Semantic_Models', 'http://rusvectores.org/en/', 'https://github.com/RaRe-Technologies/gensim-data/issues/3'], 'checksum': '9bdebdc8ae6d17d20839dd9b5af10bc4', 'file_name': 'word2vec-ruscorpora-300.gz', 'parts': 1}, 'word2vec-google-news-300': {'num_records': 3000000, 'file_size': 1743563840, 'base_dataset': 'Google News (about 100 billion words)', 'reader_code': 'https://github.com/RaRe-Technologies/gensim-data/releases/download/word2vec-google-news-300/__init__.py', 'license': 'not found', 'parameters': {'dimension': 300}, 'description': \"Pre-trained vectors trained on a part of the Google News dataset (about 100 billion words). The model contains 300-dimensional vectors for 3 million words and phrases. The phrases were obtained using a simple data-driven approach described in 'Distributed Representations of Words and Phrases and their Compositionality' (https://code.google.com/archive/p/word2vec/).\", 'read_more': ['https://code.google.com/archive/p/word2vec/', 'https://arxiv.org/abs/1301.3781', 'https://arxiv.org/abs/1310.4546', 'https://www.microsoft.com/en-us/research/publication/linguistic-regularities-in-continuous-space-word-representations/?from=http%3A%2F%2Fresearch.microsoft.com%2Fpubs%2F189726%2Frvecs.pdf'], 'checksum': 'a5e5354d40acb95f9ec66d5977d140ef', 'file_name': 'word2vec-google-news-300.gz', 'parts': 1}, 'glove-wiki-gigaword-50': {'num_records': 400000, 'file_size': 69182535, 'base_dataset': 'Wikipedia 2014 + Gigaword 5 (6B tokens, uncased)', 'reader_code': 'https://github.com/RaRe-Technologies/gensim-data/releases/download/glove-wiki-gigaword-50/__init__.py', 'license': 'http://opendatacommons.org/licenses/pddl/', 'parameters': {'dimension': 50}, 'description': 'Pre-trained vectors based on Wikipedia 2014 + Gigaword, 5.6B tokens, 400K vocab, uncased (https://nlp.stanford.edu/projects/glove/).', 'preprocessing': 'Converted to w2v format with `python -m gensim.scripts.glove2word2vec -i <fname> -o glove-wiki-gigaword-50.txt`.', 'read_more': ['https://nlp.stanford.edu/projects/glove/', 'https://nlp.stanford.edu/pubs/glove.pdf'], 'checksum': 'c289bc5d7f2f02c6dc9f2f9b67641813', 'file_name': 'glove-wiki-gigaword-50.gz', 'parts': 1}, 'glove-wiki-gigaword-100': {'num_records': 400000, 'file_size': 134300434, 'base_dataset': 'Wikipedia 2014 + Gigaword 5 (6B tokens, uncased)', 'reader_code': 'https://github.com/RaRe-Technologies/gensim-data/releases/download/glove-wiki-gigaword-100/__init__.py', 'license': 'http://opendatacommons.org/licenses/pddl/', 'parameters': {'dimension': 100}, 'description': 'Pre-trained vectors based on Wikipedia 2014 + Gigaword 5.6B tokens, 400K vocab, uncased (https://nlp.stanford.edu/projects/glove/).', 'preprocessing': 'Converted to w2v format with `python -m gensim.scripts.glove2word2vec -i <fname> -o glove-wiki-gigaword-100.txt`.', 'read_more': ['https://nlp.stanford.edu/projects/glove/', 'https://nlp.stanford.edu/pubs/glove.pdf'], 'checksum': '40ec481866001177b8cd4cb0df92924f', 'file_name': 'glove-wiki-gigaword-100.gz', 'parts': 1}, 'glove-wiki-gigaword-200': {'num_records': 400000, 'file_size': 264336934, 'base_dataset': 'Wikipedia 2014 + Gigaword 5 (6B tokens, uncased)', 'reader_code': 'https://github.com/RaRe-Technologies/gensim-data/releases/download/glove-wiki-gigaword-200/__init__.py', 'license': 'http://opendatacommons.org/licenses/pddl/', 'parameters': {'dimension': 200}, 'description': 'Pre-trained vectors based on Wikipedia 2014 + Gigaword, 5.6B tokens, 400K vocab, uncased (https://nlp.stanford.edu/projects/glove/).', 'preprocessing': 'Converted to w2v format with `python -m gensim.scripts.glove2word2vec -i <fname> -o glove-wiki-gigaword-200.txt`.', 'read_more': ['https://nlp.stanford.edu/projects/glove/', 'https://nlp.stanford.edu/pubs/glove.pdf'], 'checksum': '59652db361b7a87ee73834a6c391dfc1', 'file_name': 'glove-wiki-gigaword-200.gz', 'parts': 1}, 'glove-wiki-gigaword-300': {'num_records': 400000, 'file_size': 394362229, 'base_dataset': 'Wikipedia 2014 + Gigaword 5 (6B tokens, uncased)', 'reader_code': 'https://github.com/RaRe-Technologies/gensim-data/releases/download/glove-wiki-gigaword-300/__init__.py', 'license': 'http://opendatacommons.org/licenses/pddl/', 'parameters': {'dimension': 300}, 'description': 'Pre-trained vectors based on Wikipedia 2014 + Gigaword, 5.6B tokens, 400K vocab, uncased (https://nlp.stanford.edu/projects/glove/).', 'preprocessing': 'Converted to w2v format with `python -m gensim.scripts.glove2word2vec -i <fname> -o glove-wiki-gigaword-300.txt`.', 'read_more': ['https://nlp.stanford.edu/projects/glove/', 'https://nlp.stanford.edu/pubs/glove.pdf'], 'checksum': '29e9329ac2241937d55b852e8284e89b', 'file_name': 'glove-wiki-gigaword-300.gz', 'parts': 1}, 'glove-twitter-25': {'num_records': 1193514, 'file_size': 109885004, 'base_dataset': 'Twitter (2B tweets, 27B tokens, 1.2M vocab, uncased)', 'reader_code': 'https://github.com/RaRe-Technologies/gensim-data/releases/download/glove-twitter-25/__init__.py', 'license': 'http://opendatacommons.org/licenses/pddl/', 'parameters': {'dimension': 25}, 'description': 'Pre-trained vectors based on 2B tweets, 27B tokens, 1.2M vocab, uncased (https://nlp.stanford.edu/projects/glove/).', 'preprocessing': 'Converted to w2v format with `python -m gensim.scripts.glove2word2vec -i <fname> -o glove-twitter-25.txt`.', 'read_more': ['https://nlp.stanford.edu/projects/glove/', 'https://nlp.stanford.edu/pubs/glove.pdf'], 'checksum': '50db0211d7e7a2dcd362c6b774762793', 'file_name': 'glove-twitter-25.gz', 'parts': 1}, 'glove-twitter-50': {'num_records': 1193514, 'file_size': 209216938, 'base_dataset': 'Twitter (2B tweets, 27B tokens, 1.2M vocab, uncased)', 'reader_code': 'https://github.com/RaRe-Technologies/gensim-data/releases/download/glove-twitter-50/__init__.py', 'license': 'http://opendatacommons.org/licenses/pddl/', 'parameters': {'dimension': 50}, 'description': 'Pre-trained vectors based on 2B tweets, 27B tokens, 1.2M vocab, uncased (https://nlp.stanford.edu/projects/glove/)', 'preprocessing': 'Converted to w2v format with `python -m gensim.scripts.glove2word2vec -i <fname> -o glove-twitter-50.txt`.', 'read_more': ['https://nlp.stanford.edu/projects/glove/', 'https://nlp.stanford.edu/pubs/glove.pdf'], 'checksum': 'c168f18641f8c8a00fe30984c4799b2b', 'file_name': 'glove-twitter-50.gz', 'parts': 1}, 'glove-twitter-100': {'num_records': 1193514, 'file_size': 405932991, 'base_dataset': 'Twitter (2B tweets, 27B tokens, 1.2M vocab, uncased)', 'reader_code': 'https://github.com/RaRe-Technologies/gensim-data/releases/download/glove-twitter-100/__init__.py', 'license': 'http://opendatacommons.org/licenses/pddl/', 'parameters': {'dimension': 100}, 'description': 'Pre-trained vectors based on  2B tweets, 27B tokens, 1.2M vocab, uncased (https://nlp.stanford.edu/projects/glove/)', 'preprocessing': 'Converted to w2v format with `python -m gensim.scripts.glove2word2vec -i <fname> -o glove-twitter-100.txt`.', 'read_more': ['https://nlp.stanford.edu/projects/glove/', 'https://nlp.stanford.edu/pubs/glove.pdf'], 'checksum': 'b04f7bed38756d64cf55b58ce7e97b15', 'file_name': 'glove-twitter-100.gz', 'parts': 1}, 'glove-twitter-200': {'num_records': 1193514, 'file_size': 795373100, 'base_dataset': 'Twitter (2B tweets, 27B tokens, 1.2M vocab, uncased)', 'reader_code': 'https://github.com/RaRe-Technologies/gensim-data/releases/download/glove-twitter-200/__init__.py', 'license': 'http://opendatacommons.org/licenses/pddl/', 'parameters': {'dimension': 200}, 'description': 'Pre-trained vectors based on 2B tweets, 27B tokens, 1.2M vocab, uncased (https://nlp.stanford.edu/projects/glove/).', 'preprocessing': 'Converted to w2v format with `python -m gensim.scripts.glove2word2vec -i <fname> -o glove-twitter-200.txt`.', 'read_more': ['https://nlp.stanford.edu/projects/glove/', 'https://nlp.stanford.edu/pubs/glove.pdf'], 'checksum': 'e52e8392d1860b95d5308a525817d8f9', 'file_name': 'glove-twitter-200.gz', 'parts': 1}, '__testing_word2vec-matrix-synopsis': {'description': '[THIS IS ONLY FOR TESTING] Word vecrors of the movie matrix.', 'parameters': {'dimensions': 50}, 'preprocessing': 'Converted to w2v using a preprocessed corpus. Converted to w2v format with `python3.5 -m gensim.models.word2vec -train <input_filename> -iter 50 -output <output_filename>`.', 'read_more': [], 'checksum': '534dcb8b56a360977a269b7bfc62d124', 'file_name': '__testing_word2vec-matrix-synopsis.gz', 'parts': 1}}}\n"
          ]
        }
      ]
    },
    {
      "cell_type": "code",
      "source": [
        "model_glove = api.load(\"glove-twitter-25\")  # download the model and return as object ready for use"
      ],
      "metadata": {
        "id": "mTrNrumIVjQ0",
        "outputId": "d3bf4fb6-a79d-4d91-9b08-f03b95c8a75e",
        "colab": {
          "base_uri": "https://localhost:8080/"
        }
      },
      "execution_count": 43,
      "outputs": [
        {
          "output_type": "stream",
          "name": "stdout",
          "text": [
            "[==================================================] 100.0% 104.8/104.8MB downloaded\n"
          ]
        }
      ]
    },
    {
      "cell_type": "code",
      "source": [
        "model.most_similar(\"cat\", topn =20)"
      ],
      "metadata": {
        "id": "S-IDgGr5Vlan",
        "outputId": "0750ac72-df45-40b7-8fe9-f900a58cd912",
        "colab": {
          "base_uri": "https://localhost:8080/"
        }
      },
      "execution_count": 52,
      "outputs": [
        {
          "output_type": "execute_result",
          "data": {
            "text/plain": [
              "[('dog', 0.9590820074081421),\n",
              " ('monkey', 0.920357882976532),\n",
              " ('bear', 0.9143136739730835),\n",
              " ('pet', 0.9108031392097473),\n",
              " ('girl', 0.8880629539489746),\n",
              " ('horse', 0.8872726559638977),\n",
              " ('kitty', 0.8870542049407959),\n",
              " ('puppy', 0.886769711971283),\n",
              " ('hot', 0.886525571346283),\n",
              " ('lady', 0.8845519423484802),\n",
              " ('kid', 0.8811086416244507),\n",
              " ('white', 0.878997802734375),\n",
              " ('pig', 0.878178060054779),\n",
              " ('bird', 0.8738914728164673),\n",
              " ('turtle', 0.8706316947937012),\n",
              " ('guy', 0.8705030679702759),\n",
              " ('dogs', 0.8652114272117615),\n",
              " ('naked', 0.8640947341918945),\n",
              " ('rabbit', 0.8631783127784729),\n",
              " ('little', 0.8623217940330505)]"
            ]
          },
          "metadata": {},
          "execution_count": 52
        }
      ]
    },
    {
      "cell_type": "code",
      "source": [
        "model.similarity('cat','dog')"
      ],
      "metadata": {
        "id": "0RCYT_lMXQfh",
        "outputId": "2937dd3e-acf7-4853-d194-a93eca562e5e",
        "colab": {
          "base_uri": "https://localhost:8080/"
        }
      },
      "execution_count": 53,
      "outputs": [
        {
          "output_type": "execute_result",
          "data": {
            "text/plain": [
              "0.95908207"
            ]
          },
          "metadata": {},
          "execution_count": 53
        }
      ]
    },
    {
      "cell_type": "code",
      "source": [
        "model.word_vec('cat')"
      ],
      "metadata": {
        "id": "GA_KoBW_YHhz",
        "outputId": "dfe6405a-e8f8-46ff-eaa4-10dca8b102f1",
        "colab": {
          "base_uri": "https://localhost:8080/"
        }
      },
      "execution_count": 56,
      "outputs": [
        {
          "output_type": "stream",
          "name": "stderr",
          "text": [
            "<ipython-input-56-7928d08abbf6>:1: DeprecationWarning: Call to deprecated `word_vec` (Use get_vector instead).\n",
            "  model.word_vec('cat')\n"
          ]
        },
        {
          "output_type": "execute_result",
          "data": {
            "text/plain": [
              "array([-0.96419 , -0.60978 ,  0.67449 ,  0.35113 ,  0.41317 , -0.21241 ,\n",
              "        1.3796  ,  0.12854 ,  0.31567 ,  0.66325 ,  0.3391  , -0.18934 ,\n",
              "       -3.325   , -1.1491  , -0.4129  ,  0.2195  ,  0.8706  , -0.50616 ,\n",
              "       -0.12781 , -0.066965,  0.065761,  0.43927 ,  0.1758  , -0.56058 ,\n",
              "        0.13529 ], dtype=float32)"
            ]
          },
          "metadata": {},
          "execution_count": 56
        }
      ]
    },
    {
      "cell_type": "code",
      "source": [
        "model.word_vec('dog')"
      ],
      "metadata": {
        "id": "DojOxv3uYkoQ",
        "outputId": "5d19c65d-ce26-4f8a-bd5f-ed2c3afab1c4",
        "colab": {
          "base_uri": "https://localhost:8080/"
        }
      },
      "execution_count": 57,
      "outputs": [
        {
          "output_type": "stream",
          "name": "stderr",
          "text": [
            "<ipython-input-57-ffbb4d765427>:1: DeprecationWarning: Call to deprecated `word_vec` (Use get_vector instead).\n",
            "  model.word_vec('dog')\n"
          ]
        },
        {
          "output_type": "execute_result",
          "data": {
            "text/plain": [
              "array([-1.2420e+00, -3.5980e-01,  5.7285e-01,  3.6675e-01,  6.0021e-01,\n",
              "       -1.8898e-01,  1.2729e+00, -3.6921e-01,  8.9080e-02,  4.0339e-01,\n",
              "        2.5130e-01, -2.5548e-01, -3.9209e+00, -1.1100e+00, -2.1308e-01,\n",
              "       -2.3846e-01,  9.5322e-01, -5.2750e-01, -7.8049e-04, -3.5771e-01,\n",
              "        5.5582e-01,  7.7869e-01,  4.6874e-01, -7.7803e-01,  7.8378e-01],\n",
              "      dtype=float32)"
            ]
          },
          "metadata": {},
          "execution_count": 57
        }
      ]
    },
    {
      "cell_type": "code",
      "source": [
        "len(model.index_to_key)"
      ],
      "metadata": {
        "id": "dOANk1aUYr06",
        "outputId": "526ea36c-163c-4750-8ac9-ea4b0fafa99b",
        "colab": {
          "base_uri": "https://localhost:8080/"
        }
      },
      "execution_count": 63,
      "outputs": [
        {
          "output_type": "execute_result",
          "data": {
            "text/plain": [
              "1193514"
            ]
          },
          "metadata": {},
          "execution_count": 63
        }
      ]
    }
  ]
}