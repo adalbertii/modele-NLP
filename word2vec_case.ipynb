{
  "nbformat": 4,
  "nbformat_minor": 0,
  "metadata": {
    "colab": {
      "provenance": [],
      "history_visible": true,
      "gpuType": "T4",
      "mount_file_id": "1xt9hJuN-sRQd9av9jp9A7kr4YrdsTx7t",
      "authorship_tag": "ABX9TyPY9kKS6cn/sE58E9xu9tQD",
      "include_colab_link": true
    },
    "kernelspec": {
      "name": "python3",
      "display_name": "Python 3"
    },
    "language_info": {
      "name": "python"
    },
    "accelerator": "GPU"
  },
  "cells": [
    {
      "cell_type": "markdown",
      "metadata": {
        "id": "view-in-github",
        "colab_type": "text"
      },
      "source": [
        "<a href=\"https://colab.research.google.com/github/adalbertii/modele-NLP/blob/main/word2vec_case.ipynb\" target=\"_parent\"><img src=\"https://colab.research.google.com/assets/colab-badge.svg\" alt=\"Open In Colab\"/></a>"
      ]
    },
    {
      "cell_type": "code",
      "execution_count": 37,
      "metadata": {
        "id": "w2CgXseXyhF7"
      },
      "outputs": [],
      "source": [
        "import gzip\n",
        "import gensim"
      ]
    },
    {
      "cell_type": "code",
      "source": [
        "data_file=\"/content/drive/MyDrive/dane/word2vec/reviews_data.txt.gz\"\n",
        "\n",
        "with gzip.open (data_file, 'rb') as f:\n",
        "    for i,line in enumerate (f):\n",
        "        print(line)\n",
        "        break\n"
      ],
      "metadata": {
        "colab": {
          "base_uri": "https://localhost:8080/"
        },
        "id": "w1sBEZnCy1TN",
        "outputId": "4143bd2d-7544-4591-a604-5d3f3662ab60"
      },
      "execution_count": 38,
      "outputs": [
        {
          "output_type": "stream",
          "name": "stdout",
          "text": [
            "b\"Oct 12 2009 \\tNice trendy hotel location not too bad.\\tI stayed in this hotel for one night. As this is a fairly new place some of the taxi drivers did not know where it was and/or did not want to drive there. Once I have eventually arrived at the hotel, I was very pleasantly surprised with the decor of the lobby/ground floor area. It was very stylish and modern. I found the reception's staff geeting me with 'Aloha' a bit out of place, but I guess they are briefed to say that to keep up the coroporate image.As I have a Starwood Preferred Guest member, I was given a small gift upon-check in. It was only a couple of fridge magnets in a gift box, but nevertheless a nice gesture.My room was nice and roomy, there are tea and coffee facilities in each room and you get two complimentary bottles of water plus some toiletries by 'bliss'.The location is not great. It is at the last metro stop and you then need to take a taxi, but if you are not planning on going to see the historic sites in Beijing, then you will be ok.I chose to have some breakfast in the hotel, which was really tasty and there was a good selection of dishes. There are a couple of computers to use in the communal area, as well as a pool table. There is also a small swimming pool and a gym area.I would definitely stay in this hotel again, but only if I did not plan to travel to central Beijing, as it can take a long time. The location is ok if you plan to do a lot of shopping, as there is a big shopping centre just few minutes away from the hotel and there are plenty of eating options around, including restaurants that serve a dog meat!\\t\\r\\n\"\n"
          ]
        }
      ]
    },
    {
      "cell_type": "code",
      "source": [
        "print(line[:150])"
      ],
      "metadata": {
        "colab": {
          "base_uri": "https://localhost:8080/"
        },
        "id": "vp-qb7AkLD6o",
        "outputId": "416ad43e-4bdf-4702-c487-1eeb857921c8"
      },
      "execution_count": 39,
      "outputs": [
        {
          "output_type": "stream",
          "name": "stdout",
          "text": [
            "b'Oct 12 2009 \\tNice trendy hotel location not too bad.\\tI stayed in this hotel for one night. As this is a fairly new place some of the taxi drivers did '\n"
          ]
        }
      ]
    },
    {
      "cell_type": "code",
      "source": [
        "def read_input(input_file):\n",
        "    \"\"\"Metoda odczytuje plik wejściowy w formacie gzip\"\"\"\n",
        "\n",
        "    print(\"odczyt pliku {0}...to może zająć trochę czasu\".format(input_file))\n",
        "\n",
        "    with gzip.open (input_file, 'rb') as f:\n",
        "        for i, line in enumerate (f):\n",
        "\n",
        "            if (i%10000==0):\n",
        "                print (\"odczytano {0} opinii\".format (i))\n",
        "            # wykonaj wstępne przetwarzanie i zwróć listę słów dla każdego tekstu recenzji\n",
        "            yield gensim.utils.simple_preprocess (line)\n",
        "\n",
        "\n",
        "\n",
        "# Instrukcja Yield wstrzymuje wykonywanie funkcji i wysyła wartość z powrotem do funkcji wywołującej, ale zachowuje stan,\n",
        "# aby umożliwić wznowienie funkcji od miejsca, w którym została przerwana.\n",
        "# Po wznowieniu działania funkcja kontynuuje wykonywanie\n",
        "# Dzięki temu kod może generować w czasie serię wartości, zamiast wyznaczać je na raz i wysyłać z powrotem w formie listy."
      ],
      "metadata": {
        "id": "AQTrgxH_0ahJ"
      },
      "execution_count": 40,
      "outputs": []
    },
    {
      "cell_type": "code",
      "source": [
        "# odczyt stokenizowanych opinii do listy\n",
        "# każdy element opinii  staje się serią słów\n",
        "#, więc budujemy listę list\n",
        "\n",
        "documents = list (read_input (data_file))\n",
        "print (\"Odczyt danych  z pliku zakńczony \")"
      ],
      "metadata": {
        "id": "md9ZwzBz0dc5"
      },
      "execution_count": null,
      "outputs": []
    },
    {
      "cell_type": "code",
      "source": [
        "# budowa modelu\n",
        "# przy zainicjowanym T4 GPU procesorze zajmuje to około 30 minut\n",
        "\n",
        "model = gensim.models.Word2Vec(documents, window=10, min_count=2, workers=10)\n",
        "model.train(documents,total_examples=len(documents),epochs=10)"
      ],
      "metadata": {
        "id": "qbZ92qqS0r1X"
      },
      "execution_count": 10,
      "outputs": []
    },
    {
      "cell_type": "code",
      "source": [
        "model.save('/content/drive/MyDrive/dane/modele/mymodel-wor2vec')"
      ],
      "metadata": {
        "id": "usOHd9Z37GdM"
      },
      "execution_count": 13,
      "outputs": []
    },
    {
      "cell_type": "code",
      "source": [
        "new_model = gensim.models.Word2Vec.load('/content/drive/MyDrive/dane/modele/mymodel-wor2vec')"
      ],
      "metadata": {
        "id": "u5JC6zjc7tzJ"
      },
      "execution_count": 14,
      "outputs": []
    },
    {
      "cell_type": "code",
      "source": [
        "# wyszukiwania słów podobnych do słowa 'dirty;\n",
        "# Spowoduje to zwrócenie 10 najpopularniejszych, podobnych słów.\n",
        "\n",
        "w1 = \"dirty\"\n",
        "new_model.wv.most_similar (positive=w1)"
      ],
      "metadata": {
        "colab": {
          "base_uri": "https://localhost:8080/"
        },
        "id": "UJEHsByN7z2L",
        "outputId": "a183d088-4c76-4356-dc59-1ce4a9642c0e"
      },
      "execution_count": 15,
      "outputs": [
        {
          "output_type": "execute_result",
          "data": {
            "text/plain": [
              "[('filthy', 0.8984195590019226),\n",
              " ('grubby', 0.8221594095230103),\n",
              " ('smelly', 0.8083983063697815),\n",
              " ('unclean', 0.807628870010376),\n",
              " ('stained', 0.8064349293708801),\n",
              " ('dusty', 0.800523042678833),\n",
              " ('dingy', 0.7889810800552368),\n",
              " ('gross', 0.7759803533554077),\n",
              " ('mouldy', 0.7633497714996338),\n",
              " ('soiled', 0.7610918879508972)]"
            ]
          },
          "metadata": {},
          "execution_count": 15
        }
      ]
    },
    {
      "cell_type": "code",
      "source": [
        "# wyszukanie 6 podobnych słów do słowa 'polite'\n",
        "\n",
        "w1 = [\"polite\"]\n",
        "new_model.wv.most_similar (positive=w1,topn=6)"
      ],
      "metadata": {
        "colab": {
          "base_uri": "https://localhost:8080/"
        },
        "id": "gOOwU3dD8B6m",
        "outputId": "196de751-20a9-4524-fe88-b5f6056290a6"
      },
      "execution_count": 16,
      "outputs": [
        {
          "output_type": "execute_result",
          "data": {
            "text/plain": [
              "[('courteous', 0.9318776726722717),\n",
              " ('friendly', 0.8612350225448608),\n",
              " ('cordial', 0.8443536758422852),\n",
              " ('curteous', 0.828039824962616),\n",
              " ('professional', 0.8158765435218811),\n",
              " ('attentive', 0.8073211312294006)]"
            ]
          },
          "metadata": {},
          "execution_count": 16
        }
      ]
    },
    {
      "cell_type": "code",
      "source": [
        "# # wyszukanie 6 podobnych słów do słowa 'france'\n",
        "w1 = [\"france\"]\n",
        "model.wv.most_similar (positive=w1,topn=6)\n"
      ],
      "metadata": {
        "colab": {
          "base_uri": "https://localhost:8080/"
        },
        "id": "gg_0czGb8Lqq",
        "outputId": "65103697-fd03-4f65-a01c-35bc072bcc3d"
      },
      "execution_count": 17,
      "outputs": [
        {
          "output_type": "execute_result",
          "data": {
            "text/plain": [
              "[('germany', 0.7637171745300293),\n",
              " ('spain', 0.7122423052787781),\n",
              " ('hawaii', 0.7105596661567688),\n",
              " ('russia', 0.710435688495636),\n",
              " ('canada', 0.6956576108932495),\n",
              " ('austria', 0.6877645254135132)]"
            ]
          },
          "metadata": {},
          "execution_count": 17
        }
      ]
    },
    {
      "cell_type": "code",
      "source": [
        "# wyszukanie 6 podobnych słów do słowa 'shocked'\n",
        "w1 = [\"shocked\"]\n",
        "model.wv.most_similar (positive=w1,topn=6)"
      ],
      "metadata": {
        "colab": {
          "base_uri": "https://localhost:8080/"
        },
        "id": "PPL-Wcw-8TCP",
        "outputId": "d5d4229b-398f-43eb-ff51-a1c139ce86d3"
      },
      "execution_count": 18,
      "outputs": [
        {
          "output_type": "execute_result",
          "data": {
            "text/plain": [
              "[('horrified', 0.8368116617202759),\n",
              " ('amazed', 0.8187119960784912),\n",
              " ('dismayed', 0.7783960700035095),\n",
              " ('appalled', 0.7749536633491516),\n",
              " ('astounded', 0.7728244662284851),\n",
              " ('astonished', 0.7671551704406738)]"
            ]
          },
          "metadata": {},
          "execution_count": 18
        }
      ]
    },
    {
      "cell_type": "code",
      "source": [
        "# wyznaczenie podobieństwa dwóch słów\n",
        "model.wv.similarity(w1=\"dirty\",w2=\"smelly\")\n"
      ],
      "metadata": {
        "colab": {
          "base_uri": "https://localhost:8080/"
        },
        "id": "-kagjgvW8aFb",
        "outputId": "c6036987-ba0a-4b56-e9cd-bfc6d5f20ad9"
      },
      "execution_count": 19,
      "outputs": [
        {
          "output_type": "execute_result",
          "data": {
            "text/plain": [
              "0.8083983"
            ]
          },
          "metadata": {},
          "execution_count": 19
        }
      ]
    },
    {
      "cell_type": "code",
      "source": [
        "# podobieństwo poiędzzy dwoma identycznymi wyrazami\n",
        "model.wv.similarity(w1=\"dirty\",w2=\"dirty\")"
      ],
      "metadata": {
        "colab": {
          "base_uri": "https://localhost:8080/"
        },
        "id": "jkXj5oI_8ubl",
        "outputId": "44ef76a4-70c7-410f-c505-865ca6f4b045"
      },
      "execution_count": 20,
      "outputs": [
        {
          "output_type": "execute_result",
          "data": {
            "text/plain": [
              "1.0"
            ]
          },
          "metadata": {},
          "execution_count": 20
        }
      ]
    },
    {
      "cell_type": "code",
      "source": [
        "# similarity between two unrelated words\n",
        "model.wv.similarity(w1=\"dirty\",w2=\"clean\")"
      ],
      "metadata": {
        "colab": {
          "base_uri": "https://localhost:8080/"
        },
        "id": "V7f_-AUB8zEt",
        "outputId": "4d606fe6-93b0-4c37-8038-25c88500ba26"
      },
      "execution_count": 21,
      "outputs": [
        {
          "output_type": "execute_result",
          "data": {
            "text/plain": [
              "0.28794798"
            ]
          },
          "metadata": {},
          "execution_count": 21
        }
      ]
    },
    {
      "cell_type": "code",
      "source": [
        "# jaka jest liczba wyrazów w modelu (korpusie modelu)\n",
        "new_model.corpus_total_words"
      ],
      "metadata": {
        "colab": {
          "base_uri": "https://localhost:8080/"
        },
        "id": "UCReY7GzIf7c",
        "outputId": "a69555ba-2a75-4c2d-d04d-3cf851fe2a3b"
      },
      "execution_count": 29,
      "outputs": [
        {
          "output_type": "execute_result",
          "data": {
            "text/plain": [
              "41519359"
            ]
          },
          "metadata": {},
          "execution_count": 29
        }
      ]
    },
    {
      "cell_type": "code",
      "source": [],
      "metadata": {
        "colab": {
          "base_uri": "https://localhost:8080/"
        },
        "id": "TUV73kRIIxaB",
        "outputId": "efb7f9ab-a550-4b69-c995-32efc0cf05ee"
      },
      "execution_count": 31,
      "outputs": [
        {
          "output_type": "execute_result",
          "data": {
            "text/plain": [
              "0.001"
            ]
          },
          "metadata": {},
          "execution_count": 31
        }
      ]
    }
  ]
}