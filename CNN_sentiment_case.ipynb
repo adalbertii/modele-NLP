{
  "nbformat": 4,
  "nbformat_minor": 0,
  "metadata": {
    "colab": {
      "provenance": [],
      "mount_file_id": "https://github.com/adalbertii/Modele-klasyfikacyjne/blob/main/CNN_sentiment_case.ipynb",
      "authorship_tag": "ABX9TyPWymUi1WTPByGvcWZ9l413",
      "include_colab_link": true
    },
    "kernelspec": {
      "name": "python3",
      "display_name": "Python 3"
    },
    "language_info": {
      "name": "python"
    }
  },
  "cells": [
    {
      "cell_type": "markdown",
      "metadata": {
        "id": "view-in-github",
        "colab_type": "text"
      },
      "source": [
        "<a href=\"https://colab.research.google.com/github/adalbertii/modele-NLP/blob/main/CNN_sentiment_case.ipynb\" target=\"_parent\"><img src=\"https://colab.research.google.com/assets/colab-badge.svg\" alt=\"Open In Colab\"/></a>"
      ]
    },
    {
      "cell_type": "code",
      "execution_count": null,
      "metadata": {
        "id": "82JwUddPd9zk"
      },
      "outputs": [],
      "source": [
        "import pandas as pd\n",
        "\n",
        "path = '/content/drive/MyDrive/dane/sentiment'\n",
        "\n",
        "filepath_dict = {'yelp': '/content/drive/MyDrive/dane/sentiment/yelp_labelled.txt',\n",
        "                 'amazon': '/content/drive/MyDrive/dane/sentiment/amazon_cells_labelled.txt',\n",
        "                 'imdb': '/content/drive/MyDrive/dane/sentiment/imdb_labelled.txt'}\n"
      ]
    },
    {
      "cell_type": "code",
      "source": [
        "\n",
        "df_list = []\n",
        "for source, filepath in filepath_dict.items():\n",
        "   df = pd.read_csv(filepath, names=['sentence', 'label'], sep='\\t')\n",
        "   # Dodaj kolejną kolumnę wypełnioną nazwą źródła\n",
        "   df['source'] = source\n",
        "   df_list.append(df)\n",
        "   df = pd.concat(df_list)\n",
        "\n"
      ],
      "metadata": {
        "id": "xbMok_oM2cAt"
      },
      "execution_count": null,
      "outputs": []
    },
    {
      "cell_type": "code",
      "source": [
        "print(df.head())"
      ],
      "metadata": {
        "id": "ETMH08YH2jUQ",
        "outputId": "7e2ecf88-a614-4051-ec5c-81efafbcea6e",
        "colab": {
          "base_uri": "https://localhost:8080/"
        }
      },
      "execution_count": null,
      "outputs": [
        {
          "output_type": "stream",
          "name": "stdout",
          "text": [
            "                                            sentence  label source\n",
            "0                           Wow... Loved this place.      1   yelp\n",
            "1                                 Crust is not good.      0   yelp\n",
            "2          Not tasty and the texture was just nasty.      0   yelp\n",
            "3  Stopped by during the late May bank holiday of...      1   yelp\n",
            "4  The selection on the menu was great and so wer...      1   yelp\n"
          ]
        }
      ]
    },
    {
      "cell_type": "code",
      "source": [
        "df.shape"
      ],
      "metadata": {
        "id": "pUJ2PXPVAiJk",
        "outputId": "0aa9557c-29f4-4834-8f52-21f2eb63b821",
        "colab": {
          "base_uri": "https://localhost:8080/"
        }
      },
      "execution_count": null,
      "outputs": [
        {
          "output_type": "execute_result",
          "data": {
            "text/plain": [
              "(2748, 3)"
            ]
          },
          "metadata": {},
          "execution_count": 5
        }
      ]
    },
    {
      "cell_type": "code",
      "source": [
        "from google.colab import drive\n",
        "drive.mount('/content/drive')"
      ],
      "metadata": {
        "id": "d3zonwjy_uvw"
      },
      "execution_count": null,
      "outputs": []
    },
    {
      "cell_type": "code",
      "source": [
        "from sklearn.model_selection import train_test_split\n",
        "from keras.preprocessing.text import Tokenizer\n",
        "from keras.preprocessing.sequence import pad_sequences"
      ],
      "metadata": {
        "id": "Rzhw7-hfh2DL"
      },
      "execution_count": null,
      "outputs": []
    },
    {
      "cell_type": "code",
      "source": [
        "df_yelp = df[df['source'] == 'yelp']\n",
        "\n",
        "sentences = df_yelp['sentence'].values\n",
        "y = df_yelp['label'].values\n",
        "\n"
      ],
      "metadata": {
        "id": "dfESEX47hftn"
      },
      "execution_count": null,
      "outputs": []
    },
    {
      "cell_type": "code",
      "source": [
        "sentences[:5]"
      ],
      "metadata": {
        "id": "KOdQNiWFA9P-",
        "outputId": "188b99a8-9392-49d7-b34d-525326e6c895",
        "colab": {
          "base_uri": "https://localhost:8080/"
        }
      },
      "execution_count": null,
      "outputs": [
        {
          "output_type": "execute_result",
          "data": {
            "text/plain": [
              "array(['Wow... Loved this place.', 'Crust is not good.',\n",
              "       'Not tasty and the texture was just nasty.',\n",
              "       'Stopped by during the late May bank holiday off Rick Steve recommendation and loved it.',\n",
              "       'The selection on the menu was great and so were the prices.'],\n",
              "      dtype=object)"
            ]
          },
          "metadata": {},
          "execution_count": 9
        }
      ]
    },
    {
      "cell_type": "code",
      "source": [
        "y[:5]"
      ],
      "metadata": {
        "id": "9GlOEhLmBIaU",
        "outputId": "324b1c21-c358-44b4-e76c-30c653e2f78d",
        "colab": {
          "base_uri": "https://localhost:8080/"
        }
      },
      "execution_count": null,
      "outputs": [
        {
          "output_type": "execute_result",
          "data": {
            "text/plain": [
              "array([1, 0, 0, 1, 1])"
            ]
          },
          "metadata": {},
          "execution_count": 10
        }
      ]
    },
    {
      "cell_type": "code",
      "source": [
        "sentences_train,sentences_test,y_train,y_test = train_test_split(sentences, y,\n",
        "                                                                 test_size=0.25,\n",
        "                                                                random_state=1000)"
      ],
      "metadata": {
        "id": "dEQBtF-zh7gF"
      },
      "execution_count": null,
      "outputs": []
    },
    {
      "cell_type": "code",
      "source": [
        "sentences_train[:5]"
      ],
      "metadata": {
        "id": "4GEYN_IQBrq1",
        "outputId": "7283a66c-a184-44f4-cea8-5e1d97aed9b3",
        "colab": {
          "base_uri": "https://localhost:8080/"
        }
      },
      "execution_count": null,
      "outputs": [
        {
          "output_type": "execute_result",
          "data": {
            "text/plain": [
              "array(['The food was barely lukewarm, so it must have been sitting waiting for the server to bring it out to us.',\n",
              "       'Sorry, I will not be getting food from here anytime soon :(',\n",
              "       'Of all the dishes, the salmon was the best, but all were great.',\n",
              "       'The fries were not hot, and neither was my burger.',\n",
              "       \"In fact I'm going to round up to 4 stars, just because she was so awesome.\"],\n",
              "      dtype=object)"
            ]
          },
          "metadata": {},
          "execution_count": 12
        }
      ]
    },
    {
      "cell_type": "code",
      "source": [
        "sentences_train.shape"
      ],
      "metadata": {
        "id": "sT1KNPbKCdpO",
        "outputId": "d7601efb-7539-41a2-e989-5a1788404899",
        "colab": {
          "base_uri": "https://localhost:8080/"
        }
      },
      "execution_count": null,
      "outputs": [
        {
          "output_type": "execute_result",
          "data": {
            "text/plain": [
              "(750,)"
            ]
          },
          "metadata": {},
          "execution_count": 21
        }
      ]
    },
    {
      "cell_type": "code",
      "source": [
        "tokenizer = Tokenizer(num_words=5000)\n",
        "tokenizer.fit_on_texts(sentences_train)"
      ],
      "metadata": {
        "id": "g-e5F-BtBeJT"
      },
      "execution_count": null,
      "outputs": []
    },
    {
      "cell_type": "code",
      "source": [
        "X_train = tokenizer.texts_to_sequences(sentences_train)\n",
        "X_test = tokenizer.texts_to_sequences(sentences_test)\n"
      ],
      "metadata": {
        "id": "wNrSO3VYB5Vs"
      },
      "execution_count": null,
      "outputs": []
    },
    {
      "cell_type": "code",
      "source": [
        "X_train[:5]"
      ],
      "metadata": {
        "id": "xl8ZWRUpCutg",
        "outputId": "3761afe2-fa5b-4bcd-feb7-b21bff8b801b",
        "colab": {
          "base_uri": "https://localhost:8080/"
        }
      },
      "execution_count": null,
      "outputs": [
        {
          "output_type": "execute_result",
          "data": {
            "text/plain": [
              "[[1,\n",
              "  10,\n",
              "  3,\n",
              "  282,\n",
              "  739,\n",
              "  25,\n",
              "  8,\n",
              "  208,\n",
              "  30,\n",
              "  64,\n",
              "  459,\n",
              "  230,\n",
              "  13,\n",
              "  1,\n",
              "  124,\n",
              "  5,\n",
              "  231,\n",
              "  8,\n",
              "  58,\n",
              "  5,\n",
              "  67],\n",
              " [740, 4, 46, 12, 20, 160, 10, 72, 35, 355, 232],\n",
              " [11, 43, 1, 171, 1, 283, 3, 1, 47, 26, 43, 24, 22],\n",
              " [1, 233, 24, 12, 209, 2, 741, 3, 23, 125],\n",
              " [14, 356, 83, 126, 5, 742, 59, 5, 357, 96, 41, 127, 234, 3, 25, 161]]"
            ]
          },
          "metadata": {},
          "execution_count": 25
        }
      ]
    },
    {
      "cell_type": "code",
      "source": [
        "vocab_size = len(tokenizer.word_index) + 1 # Dodanie 1 z powodu zarezerwowanego indeksu 0\n",
        "vocab_size\n"
      ],
      "metadata": {
        "id": "gLWWKtuBBkBh",
        "outputId": "f694f0a3-3c05-4560-f2b8-7fbb97bb0a25",
        "colab": {
          "base_uri": "https://localhost:8080/"
        }
      },
      "execution_count": null,
      "outputs": [
        {
          "output_type": "execute_result",
          "data": {
            "text/plain": [
              "1747"
            ]
          },
          "metadata": {},
          "execution_count": 26
        }
      ]
    },
    {
      "cell_type": "code",
      "source": [
        "maxlen = 100\n",
        "\n",
        "X_train = pad_sequences(X_train, padding='post', maxlen=maxlen)\n",
        "X_test = pad_sequences(X_test, padding='post', maxlen=maxlen)"
      ],
      "metadata": {
        "id": "jw56RzUbDJnx"
      },
      "execution_count": null,
      "outputs": []
    },
    {
      "cell_type": "code",
      "source": [
        "X_train[:5]"
      ],
      "metadata": {
        "id": "SdAvz8JADXAL",
        "outputId": "18b5f7bc-061c-4c43-b559-7409f9d8c2cf",
        "colab": {
          "base_uri": "https://localhost:8080/"
        }
      },
      "execution_count": null,
      "outputs": [
        {
          "output_type": "execute_result",
          "data": {
            "text/plain": [
              "array([[  1,  10,   3, 282, 739,  25,   8, 208,  30,  64, 459, 230,  13,\n",
              "          1, 124,   5, 231,   8,  58,   5,  67,   0,   0,   0,   0,   0,\n",
              "          0,   0,   0,   0,   0,   0,   0,   0,   0,   0,   0,   0,   0,\n",
              "          0,   0,   0,   0,   0,   0,   0,   0,   0,   0,   0,   0,   0,\n",
              "          0,   0,   0,   0,   0,   0,   0,   0,   0,   0,   0,   0,   0,\n",
              "          0,   0,   0,   0,   0,   0,   0,   0,   0,   0,   0,   0,   0,\n",
              "          0,   0,   0,   0,   0,   0,   0,   0,   0,   0,   0,   0,   0,\n",
              "          0,   0,   0,   0,   0,   0,   0,   0,   0],\n",
              "       [740,   4,  46,  12,  20, 160,  10,  72,  35, 355, 232,   0,   0,\n",
              "          0,   0,   0,   0,   0,   0,   0,   0,   0,   0,   0,   0,   0,\n",
              "          0,   0,   0,   0,   0,   0,   0,   0,   0,   0,   0,   0,   0,\n",
              "          0,   0,   0,   0,   0,   0,   0,   0,   0,   0,   0,   0,   0,\n",
              "          0,   0,   0,   0,   0,   0,   0,   0,   0,   0,   0,   0,   0,\n",
              "          0,   0,   0,   0,   0,   0,   0,   0,   0,   0,   0,   0,   0,\n",
              "          0,   0,   0,   0,   0,   0,   0,   0,   0,   0,   0,   0,   0,\n",
              "          0,   0,   0,   0,   0,   0,   0,   0,   0],\n",
              "       [ 11,  43,   1, 171,   1, 283,   3,   1,  47,  26,  43,  24,  22,\n",
              "          0,   0,   0,   0,   0,   0,   0,   0,   0,   0,   0,   0,   0,\n",
              "          0,   0,   0,   0,   0,   0,   0,   0,   0,   0,   0,   0,   0,\n",
              "          0,   0,   0,   0,   0,   0,   0,   0,   0,   0,   0,   0,   0,\n",
              "          0,   0,   0,   0,   0,   0,   0,   0,   0,   0,   0,   0,   0,\n",
              "          0,   0,   0,   0,   0,   0,   0,   0,   0,   0,   0,   0,   0,\n",
              "          0,   0,   0,   0,   0,   0,   0,   0,   0,   0,   0,   0,   0,\n",
              "          0,   0,   0,   0,   0,   0,   0,   0,   0],\n",
              "       [  1, 233,  24,  12, 209,   2, 741,   3,  23, 125,   0,   0,   0,\n",
              "          0,   0,   0,   0,   0,   0,   0,   0,   0,   0,   0,   0,   0,\n",
              "          0,   0,   0,   0,   0,   0,   0,   0,   0,   0,   0,   0,   0,\n",
              "          0,   0,   0,   0,   0,   0,   0,   0,   0,   0,   0,   0,   0,\n",
              "          0,   0,   0,   0,   0,   0,   0,   0,   0,   0,   0,   0,   0,\n",
              "          0,   0,   0,   0,   0,   0,   0,   0,   0,   0,   0,   0,   0,\n",
              "          0,   0,   0,   0,   0,   0,   0,   0,   0,   0,   0,   0,   0,\n",
              "          0,   0,   0,   0,   0,   0,   0,   0,   0],\n",
              "       [ 14, 356,  83, 126,   5, 742,  59,   5, 357,  96,  41, 127, 234,\n",
              "          3,  25, 161,   0,   0,   0,   0,   0,   0,   0,   0,   0,   0,\n",
              "          0,   0,   0,   0,   0,   0,   0,   0,   0,   0,   0,   0,   0,\n",
              "          0,   0,   0,   0,   0,   0,   0,   0,   0,   0,   0,   0,   0,\n",
              "          0,   0,   0,   0,   0,   0,   0,   0,   0,   0,   0,   0,   0,\n",
              "          0,   0,   0,   0,   0,   0,   0,   0,   0,   0,   0,   0,   0,\n",
              "          0,   0,   0,   0,   0,   0,   0,   0,   0,   0,   0,   0,   0,\n",
              "          0,   0,   0,   0,   0,   0,   0,   0,   0]], dtype=int32)"
            ]
          },
          "metadata": {},
          "execution_count": 28
        }
      ]
    },
    {
      "cell_type": "code",
      "source": [
        "sentences_test[1]"
      ],
      "metadata": {
        "colab": {
          "base_uri": "https://localhost:8080/",
          "height": 35
        },
        "id": "rVca1jaZpPjo",
        "outputId": "15f420b6-f731-4d91-9a60-ea2c51c95ad9"
      },
      "execution_count": null,
      "outputs": [
        {
          "output_type": "execute_result",
          "data": {
            "text/plain": [
              "\"If you are reading this please don't go there.\""
            ],
            "application/vnd.google.colaboratory.intrinsic+json": {
              "type": "string"
            }
          },
          "metadata": {},
          "execution_count": 21
        }
      ]
    },
    {
      "cell_type": "code",
      "source": [
        "y_test[1]"
      ],
      "metadata": {
        "colab": {
          "base_uri": "https://localhost:8080/"
        },
        "id": "hpaKFxFhpYdK",
        "outputId": "955786db-f28d-4ac6-a656-81e11553d7e6"
      },
      "execution_count": null,
      "outputs": [
        {
          "output_type": "execute_result",
          "data": {
            "text/plain": [
              "0"
            ]
          },
          "metadata": {},
          "execution_count": 22
        }
      ]
    },
    {
      "cell_type": "markdown",
      "source": [
        "**Symulacja procesu EMBEDDING**"
      ],
      "metadata": {
        "id": "dVKJY5isHSO0"
      }
    },
    {
      "cell_type": "code",
      "source": [
        "import numpy as np\n",
        "\n",
        "def create_embedding_matrix(filepath, word_index, embedding_dim):\n",
        "    vocab_size = len(word_index) + 1\n",
        "    # Ponowne dodanie 1 z powodu zarezerwowanego indeksu 0\n",
        "    embedding_matrix = np.zeros((vocab_size, embedding_dim))\n",
        "\n",
        "    with open(filepath) as f:\n",
        "        for line in f:\n",
        "            word, *vector = line.split()\n",
        "            if word in word_index:\n",
        "                idx = word_index[word]\n",
        "                embedding_matrix[idx] = np.array(vector, dtype=np.float32)[:embedding_dim]\n",
        "\n",
        "    return embedding_matrix"
      ],
      "metadata": {
        "id": "RkRifakfi8f4"
      },
      "execution_count": null,
      "outputs": []
    },
    {
      "cell_type": "code",
      "source": [
        "embedding_dim = 50\n",
        "embedding_matrix = create_embedding_matrix('/content/drive/MyDrive/dane/sentiment/glove.6B.50d.txt',\n",
        "                                            tokenizer.word_index,\n",
        "                                            embedding_dim)\n"
      ],
      "metadata": {
        "id": "kgkqNLs5jZcd"
      },
      "execution_count": null,
      "outputs": []
    },
    {
      "cell_type": "code",
      "source": [
        "embedding_matrix.shape"
      ],
      "metadata": {
        "id": "ZOR8PbyLFLNt",
        "outputId": "a0ab2704-493d-47a0-dae2-e17eb2eccf95",
        "colab": {
          "base_uri": "https://localhost:8080/"
        }
      },
      "execution_count": null,
      "outputs": [
        {
          "output_type": "execute_result",
          "data": {
            "text/plain": [
              "(1747, 50)"
            ]
          },
          "metadata": {},
          "execution_count": 31
        }
      ]
    },
    {
      "cell_type": "code",
      "source": [
        "embedding_matrix[:5]"
      ],
      "metadata": {
        "id": "_DiJoVDdFSI8",
        "outputId": "efa24300-4c68-4e0d-aa6d-7fcaf4bd78ae",
        "colab": {
          "base_uri": "https://localhost:8080/"
        }
      },
      "execution_count": null,
      "outputs": [
        {
          "output_type": "execute_result",
          "data": {
            "text/plain": [
              "array([[ 0.00000000e+00,  0.00000000e+00,  0.00000000e+00,\n",
              "         0.00000000e+00,  0.00000000e+00,  0.00000000e+00,\n",
              "         0.00000000e+00,  0.00000000e+00,  0.00000000e+00,\n",
              "         0.00000000e+00,  0.00000000e+00,  0.00000000e+00,\n",
              "         0.00000000e+00,  0.00000000e+00,  0.00000000e+00,\n",
              "         0.00000000e+00,  0.00000000e+00,  0.00000000e+00,\n",
              "         0.00000000e+00,  0.00000000e+00,  0.00000000e+00,\n",
              "         0.00000000e+00,  0.00000000e+00,  0.00000000e+00,\n",
              "         0.00000000e+00,  0.00000000e+00,  0.00000000e+00,\n",
              "         0.00000000e+00,  0.00000000e+00,  0.00000000e+00,\n",
              "         0.00000000e+00,  0.00000000e+00,  0.00000000e+00,\n",
              "         0.00000000e+00,  0.00000000e+00,  0.00000000e+00,\n",
              "         0.00000000e+00,  0.00000000e+00,  0.00000000e+00,\n",
              "         0.00000000e+00,  0.00000000e+00,  0.00000000e+00,\n",
              "         0.00000000e+00,  0.00000000e+00,  0.00000000e+00,\n",
              "         0.00000000e+00,  0.00000000e+00,  0.00000000e+00,\n",
              "         0.00000000e+00,  0.00000000e+00],\n",
              "       [ 4.18000013e-01,  2.49679998e-01, -4.12420005e-01,\n",
              "         1.21699996e-01,  3.45270008e-01, -4.44569997e-02,\n",
              "        -4.96879995e-01, -1.78619996e-01, -6.60229998e-04,\n",
              "        -6.56599998e-01,  2.78430015e-01, -1.47670001e-01,\n",
              "        -5.56770027e-01,  1.46579996e-01, -9.50950012e-03,\n",
              "         1.16579998e-02,  1.02040000e-01, -1.27920002e-01,\n",
              "        -8.44299972e-01, -1.21809997e-01, -1.68009996e-02,\n",
              "        -3.32789987e-01, -1.55200005e-01, -2.31309995e-01,\n",
              "        -1.91809997e-01, -1.88230002e+00, -7.67459989e-01,\n",
              "         9.90509987e-02, -4.21249986e-01, -1.95260003e-01,\n",
              "         4.00710011e+00, -1.85939997e-01, -5.22870004e-01,\n",
              "        -3.16810012e-01,  5.92130003e-04,  7.44489999e-03,\n",
              "         1.77780002e-01, -1.58969998e-01,  1.20409997e-02,\n",
              "        -5.42230010e-02, -2.98709989e-01, -1.57490000e-01,\n",
              "        -3.47579986e-01, -4.56370004e-02, -4.42510009e-01,\n",
              "         1.87849998e-01,  2.78489990e-03, -1.84110001e-01,\n",
              "        -1.15139998e-01, -7.85809994e-01],\n",
              "       [ 2.68180013e-01,  1.43460006e-01, -2.78770000e-01,\n",
              "         1.62569992e-02,  1.13839999e-01,  6.99230015e-01,\n",
              "        -5.13320029e-01, -4.73679990e-01, -3.30749989e-01,\n",
              "        -1.38339996e-01,  2.70200014e-01,  3.09379995e-01,\n",
              "        -4.50120002e-01, -4.12699997e-01, -9.93200019e-02,\n",
              "         3.80849987e-02,  2.97490004e-02,  1.00759998e-01,\n",
              "        -2.50580013e-01, -5.18180013e-01,  3.45580012e-01,\n",
              "         4.49220002e-01,  4.87910002e-01, -8.08660015e-02,\n",
              "        -1.01209998e-01, -1.37769997e+00, -1.08659998e-01,\n",
              "        -2.32010007e-01,  1.28389997e-02, -4.65079993e-01,\n",
              "         3.84629989e+00,  3.13620001e-01,  1.36429995e-01,\n",
              "        -5.22440016e-01,  3.30199987e-01,  3.37069988e-01,\n",
              "        -3.56009990e-01,  3.24310005e-01,  1.20410003e-01,\n",
              "         3.51200014e-01, -6.90430030e-02,  3.68849993e-01,\n",
              "         2.51679987e-01, -2.45169997e-01,  2.53809988e-01,\n",
              "         1.36700004e-01, -3.11780006e-01, -6.32099986e-01,\n",
              "        -2.50279993e-01, -3.80970001e-01],\n",
              "       [ 8.68880004e-02, -1.94159999e-01, -2.42670000e-01,\n",
              "        -3.33909988e-01,  5.67309976e-01,  3.97830009e-01,\n",
              "        -9.78089988e-01,  3.15899998e-02, -6.14690006e-01,\n",
              "        -3.14060003e-01,  5.61450005e-01,  1.28859997e-01,\n",
              "        -8.41929972e-01, -4.69920009e-01,  4.70970005e-01,\n",
              "         2.30119992e-02, -5.96090019e-01,  2.22910002e-01,\n",
              "        -1.16139996e+00,  3.86500001e-01,  6.74119964e-02,\n",
              "         4.48830009e-01,  1.73940003e-01, -5.35740018e-01,\n",
              "         1.79089993e-01, -2.16470003e+00, -1.28270000e-01,\n",
              "         2.90360004e-01, -1.50610000e-01,  3.52420002e-01,\n",
              "         3.12400007e+00, -9.00849998e-01, -2.56699994e-02,\n",
              "        -4.17089999e-01,  4.05649990e-01, -2.27029994e-01,\n",
              "         7.68289983e-01,  6.09820008e-01,  7.00680017e-02,\n",
              "        -1.32709995e-01, -1.20099999e-01,  9.61320028e-02,\n",
              "        -4.39980000e-01, -4.85309988e-01, -5.18800020e-01,\n",
              "        -3.07700008e-01, -7.50280023e-01, -7.69999981e-01,\n",
              "         3.94499987e-01, -1.69369996e-01],\n",
              "       [ 1.18910000e-01,  1.52549997e-01, -8.20730031e-02,\n",
              "        -7.41439998e-01,  7.59169996e-01, -4.83280003e-01,\n",
              "        -3.10090005e-01,  5.14760017e-01, -9.87079978e-01,\n",
              "         6.17570011e-04, -1.50429994e-01,  8.37700009e-01,\n",
              "        -1.07969999e+00, -5.14599979e-01,  1.31879997e+00,\n",
              "         6.20069981e-01,  1.37789994e-01,  4.71080005e-01,\n",
              "        -7.28740022e-02, -7.26750016e-01, -7.41159976e-01,\n",
              "         7.52629995e-01,  8.81799996e-01,  2.95610011e-01,\n",
              "         1.35479999e+00, -2.57010007e+00, -1.35230005e+00,\n",
              "         4.58799988e-01,  1.00680006e+00, -1.18560004e+00,\n",
              "         3.47370005e+00,  7.78980017e-01, -7.29290009e-01,\n",
              "         2.51020014e-01, -2.61559993e-01, -3.46839994e-01,\n",
              "         5.58409989e-01,  7.50980020e-01,  4.98299986e-01,\n",
              "        -2.68229991e-01, -2.74430006e-03, -1.82980001e-02,\n",
              "        -2.80959994e-01,  5.53179979e-01,  3.77059989e-02,\n",
              "         1.85550004e-01, -1.50250003e-01, -5.75119972e-01,\n",
              "        -2.66710013e-01,  9.21209991e-01]])"
            ]
          },
          "metadata": {},
          "execution_count": 32
        }
      ]
    },
    {
      "cell_type": "markdown",
      "source": [
        "**Budowa modelu**\n",
        "\n",
        "Warstwa Embedding() zastępuje działania symulowane powyżej"
      ],
      "metadata": {
        "id": "eTqI7cvuHcuo"
      }
    },
    {
      "cell_type": "code",
      "source": [
        "from keras.models import Sequential\n",
        "from keras import layers\n"
      ],
      "metadata": {
        "id": "ek1No4-2ncLW"
      },
      "execution_count": null,
      "outputs": []
    },
    {
      "cell_type": "code",
      "source": [
        "embedding_dim = 100\n",
        "\n",
        "model = Sequential()\n",
        "model.add(layers.Embedding(vocab_size, embedding_dim, input_length=maxlen))\n",
        "model.add(layers.Conv1D(128, 5, activation='relu'))\n",
        "model.add(layers.GlobalMaxPooling1D())\n",
        "model.add(layers.Dense(10, activation='relu'))\n",
        "model.add(layers.Dense(1, activation='sigmoid'))\n",
        "model.compile(optimizer='adam',\n",
        "              loss='binary_crossentropy',\n",
        "              metrics=['accuracy'])\n"
      ],
      "metadata": {
        "id": "Ae4LQUStnaz7"
      },
      "execution_count": null,
      "outputs": []
    },
    {
      "cell_type": "code",
      "source": [
        "model.summary()"
      ],
      "metadata": {
        "colab": {
          "base_uri": "https://localhost:8080/"
        },
        "id": "rbvAn9rGnsFV",
        "outputId": "1a57044f-27a3-40e9-a8e8-9857333d50a0"
      },
      "execution_count": null,
      "outputs": [
        {
          "output_type": "stream",
          "name": "stdout",
          "text": [
            "Model: \"sequential\"\n",
            "_________________________________________________________________\n",
            " Layer (type)                Output Shape              Param #   \n",
            "=================================================================\n",
            " embedding (Embedding)       (None, 100, 100)          174700    \n",
            "                                                                 \n",
            " conv1d (Conv1D)             (None, 96, 128)           64128     \n",
            "                                                                 \n",
            " global_max_pooling1d (Glob  (None, 128)               0         \n",
            " alMaxPooling1D)                                                 \n",
            "                                                                 \n",
            " dense (Dense)               (None, 10)                1290      \n",
            "                                                                 \n",
            " dense_1 (Dense)             (None, 1)                 11        \n",
            "                                                                 \n",
            "=================================================================\n",
            "Total params: 240129 (938.00 KB)\n",
            "Trainable params: 240129 (938.00 KB)\n",
            "Non-trainable params: 0 (0.00 Byte)\n",
            "_________________________________________________________________\n"
          ]
        }
      ]
    },
    {
      "cell_type": "code",
      "source": [
        "history = model.fit(X_train, y_train,\n",
        "                    epochs=10,\n",
        "                    validation_data=(X_test, y_test),\n",
        "                    batch_size=10)"
      ],
      "metadata": {
        "colab": {
          "base_uri": "https://localhost:8080/"
        },
        "id": "bzZ_kZo7nspx",
        "outputId": "53da273a-758f-4230-9b3f-5b4b6e82f80b"
      },
      "execution_count": null,
      "outputs": [
        {
          "output_type": "stream",
          "name": "stdout",
          "text": [
            "Epoch 1/10\n",
            "75/75 [==============================] - 7s 66ms/step - loss: 0.6805 - accuracy: 0.5733 - val_loss: 0.6571 - val_accuracy: 0.6640\n",
            "Epoch 2/10\n",
            "75/75 [==============================] - 3s 40ms/step - loss: 0.4822 - accuracy: 0.8547 - val_loss: 0.4995 - val_accuracy: 0.7840\n",
            "Epoch 3/10\n",
            "75/75 [==============================] - 4s 49ms/step - loss: 0.1650 - accuracy: 0.9627 - val_loss: 0.4701 - val_accuracy: 0.7960\n",
            "Epoch 4/10\n",
            "75/75 [==============================] - 4s 41ms/step - loss: 0.0405 - accuracy: 0.9933 - val_loss: 0.5195 - val_accuracy: 0.7920\n",
            "Epoch 5/10\n",
            "75/75 [==============================] - 2s 28ms/step - loss: 0.0108 - accuracy: 0.9987 - val_loss: 0.5693 - val_accuracy: 0.7720\n",
            "Epoch 6/10\n",
            "75/75 [==============================] - 4s 50ms/step - loss: 0.0046 - accuracy: 1.0000 - val_loss: 0.5904 - val_accuracy: 0.7760\n",
            "Epoch 7/10\n",
            "75/75 [==============================] - 5s 67ms/step - loss: 0.0025 - accuracy: 1.0000 - val_loss: 0.6385 - val_accuracy: 0.7760\n",
            "Epoch 8/10\n",
            "75/75 [==============================] - 2s 26ms/step - loss: 0.0017 - accuracy: 1.0000 - val_loss: 0.6493 - val_accuracy: 0.7680\n",
            "Epoch 9/10\n",
            "75/75 [==============================] - 2s 25ms/step - loss: 0.0013 - accuracy: 1.0000 - val_loss: 0.6789 - val_accuracy: 0.7680\n",
            "Epoch 10/10\n",
            "75/75 [==============================] - 2s 32ms/step - loss: 9.7506e-04 - accuracy: 1.0000 - val_loss: 0.6992 - val_accuracy: 0.7680\n"
          ]
        }
      ]
    },
    {
      "cell_type": "code",
      "source": [
        "import matplotlib.pyplot as plt\n",
        "%matplotlib inline\n",
        "\n",
        "plt.plot(history.history['accuracy'])\n",
        "plt.plot(history.history['val_accuracy'])\n",
        "plt.title('Model accuracy')\n",
        "plt.ylabel('Accuracy')\n",
        "plt.xlabel('Epoch')\n",
        "plt.legend(['Train', 'Validation'], loc='upper left')\n",
        "plt.show()"
      ],
      "metadata": {
        "colab": {
          "base_uri": "https://localhost:8080/",
          "height": 472
        },
        "id": "t8TAZGmWof4p",
        "outputId": "cddeacb3-4ad9-41d3-b024-31f7aecee490"
      },
      "execution_count": null,
      "outputs": [
        {
          "output_type": "display_data",
          "data": {
            "text/plain": [
              "<Figure size 640x480 with 1 Axes>"
            ],
            "image/png": "[encoded data removed]"
          },
          "metadata": {}
        }
      ]
    },
    {
      "cell_type": "code",
      "source": [
        "# predykcja dla całego zbioru testowego\n",
        "Y_pred = model.predict(X_test)"
      ],
      "metadata": {
        "id": "qYo1vdddIC96",
        "outputId": "569da471-8bd3-4c50-ea39-fecf5ec98351",
        "colab": {
          "base_uri": "https://localhost:8080/"
        }
      },
      "execution_count": null,
      "outputs": [
        {
          "output_type": "stream",
          "name": "stdout",
          "text": [
            "8/8 [==============================] - 1s 33ms/step\n"
          ]
        }
      ]
    },
    {
      "cell_type": "code",
      "source": [
        "print(Y_pred[:15],y_test[:15])"
      ],
      "metadata": {
        "id": "Kk68vbHvLgFs",
        "outputId": "3b3d2fbf-404b-428b-a2eb-61bd5645c0d7",
        "colab": {
          "base_uri": "https://localhost:8080/"
        }
      },
      "execution_count": null,
      "outputs": [
        {
          "output_type": "stream",
          "name": "stdout",
          "text": [
            "[[5.6103738e-03]\n",
            " [1.2457233e-03]\n",
            " [9.6530383e-03]\n",
            " [5.0268762e-02]\n",
            " [5.6872123e-01]\n",
            " [6.7895126e-01]\n",
            " [4.9583009e-03]\n",
            " [9.9977136e-01]\n",
            " [1.0570609e-02]\n",
            " [9.9946308e-01]\n",
            " [1.5064624e-04]\n",
            " [3.6588019e-01]\n",
            " [7.2595978e-01]\n",
            " [3.6783438e-02]\n",
            " [9.2840910e-01]] [0 0 0 0 0 1 0 1 0 1 0 0 0 0 1]\n"
          ]
        }
      ]
    },
    {
      "cell_type": "code",
      "source": [
        "yy=Y_pred.round()"
      ],
      "metadata": {
        "id": "zUwddoCTMEzk"
      },
      "execution_count": null,
      "outputs": []
    },
    {
      "cell_type": "code",
      "source": [
        "yy[:15]"
      ],
      "metadata": {
        "id": "k4lyDSMDML-M",
        "outputId": "e054ecd2-05da-4f92-f8b9-3836978c1b2a",
        "colab": {
          "base_uri": "https://localhost:8080/"
        }
      },
      "execution_count": null,
      "outputs": [
        {
          "output_type": "execute_result",
          "data": {
            "text/plain": [
              "array([[0.],\n",
              "       [0.],\n",
              "       [0.],\n",
              "       [0.],\n",
              "       [1.],\n",
              "       [1.],\n",
              "       [0.],\n",
              "       [1.],\n",
              "       [0.],\n",
              "       [1.],\n",
              "       [0.],\n",
              "       [0.],\n",
              "       [1.],\n",
              "       [0.],\n",
              "       [1.]], dtype=float32)"
            ]
          },
          "metadata": {},
          "execution_count": 57
        }
      ]
    },
    {
      "cell_type": "code",
      "source": [
        "# Raport klasyfikacji\n",
        "from sklearn.metrics import classification_report\n",
        "print(classification_report(y_test, yy))"
      ],
      "metadata": {
        "id": "C-8yylJxMpIM",
        "outputId": "bd340197-6a84-4009-a0a8-ff7dfbdb1e47",
        "colab": {
          "base_uri": "https://localhost:8080/"
        }
      },
      "execution_count": null,
      "outputs": [
        {
          "output_type": "stream",
          "name": "stdout",
          "text": [
            "              precision    recall  f1-score   support\n",
            "\n",
            "           0       0.73      0.81      0.77       120\n",
            "           1       0.81      0.73      0.77       130\n",
            "\n",
            "    accuracy                           0.77       250\n",
            "   macro avg       0.77      0.77      0.77       250\n",
            "weighted avg       0.77      0.77      0.77       250\n",
            "\n"
          ]
        }
      ]
    }
  ]
}